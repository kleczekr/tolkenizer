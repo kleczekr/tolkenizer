{
  "nbformat": 4,
  "nbformat_minor": 0,
  "metadata": {
    "colab": {
      "name": "regex_challenge_4.ipynb",
      "provenance": [],
      "authorship_tag": "ABX9TyMVZ306GVipan/YFpLPmcRU",
      "include_colab_link": true
    },
    "kernelspec": {
      "name": "python3",
      "display_name": "Python 3"
    }
  },
  "cells": [
    {
      "cell_type": "markdown",
      "metadata": {
        "id": "view-in-github",
        "colab_type": "text"
      },
      "source": [
        "<a href=\"https://colab.research.google.com/github/kleczekr/tolkenizer/blob/master/regex_challenge_4.ipynb\" target=\"_parent\"><img src=\"https://colab.research.google.com/assets/colab-badge.svg\" alt=\"Open In Colab\"/></a>"
      ]
    },
    {
      "cell_type": "code",
      "metadata": {
        "id": "L4QkSXhjBSDf",
        "colab_type": "code",
        "colab": {}
      },
      "source": [
        "import re\n",
        "# !pip install syllapy\n",
        "import syllapy\n",
        "import random\n",
        "from tabulate import tabulate\n",
        "# !pip install english-words\n",
        "from english_words import english_words_set\n",
        "from itertools import zip_longest"
      ],
      "execution_count": 17,
      "outputs": []
    },
    {
      "cell_type": "code",
      "metadata": {
        "id": "NLqlgl1tM0rf",
        "colab_type": "code",
        "colab": {}
      },
      "source": [
        "vw = re.compile(r'[aeiouyAEIOU]')\n",
        "nvw = re.compile(r'[^aeiouyAEIOU]')\n",
        "slb = re.compile(r'[^aeiouyAEIOU]?[aeiouyAEIOU]+')"
      ],
      "execution_count": 3,
      "outputs": []
    },
    {
      "cell_type": "code",
      "metadata": {
        "id": "53ZUndWpM99R",
        "colab_type": "code",
        "colab": {}
      },
      "source": [
        "list_words = random.sample(english_words_set, 500)"
      ],
      "execution_count": 5,
      "outputs": []
    },
    {
      "cell_type": "code",
      "metadata": {
        "id": "0GQ2wAdFS1QA",
        "colab_type": "code",
        "colab": {
          "base_uri": "https://localhost:8080/",
          "height": 382
        },
        "outputId": "eebc3422-804d-4ce4-f86c-9f5cb4278b36"
      },
      "source": [
        "def find_syllables(word):\n",
        "  if (re.search('(h|H|b)e$', word) is None) and (re.search('[^aeiouy]le$', word) is None) and (word[-1] == 'e'):\n",
        "    syl_word = re.findall(slb, word[:-1])\n",
        "  else:\n",
        "    syl_word = re.findall(slb, word)\n",
        "  len_word = len(syl_word)\n",
        "  return len_word\n",
        "\n",
        "words_and_syllables = []\n",
        "for word in list_words:\n",
        "  words_and_syllables.append([word, find_syllables(word), syllapy.count(word)])\n",
        "\n",
        "headers = ['word', 'syllables_regex', 'syllables_syllapy']\n",
        "\n",
        "list_miscalc_words = [entry for entry in words_and_syllables if entry[1] != entry[2]]\n",
        "\n",
        "print(tabulate(list_miscalc_words, headers))\n",
        "\n",
        "print(f'Number of words: {len(list_words)}\\nNumber of misclassified words: '\n",
        "f'{len(list_miscalc_words)}\\nProportion of misclassified words: {len(list_miscalc_words)/len(list_words):.4f}')"
      ],
      "execution_count": 10,
      "outputs": [
        {
          "output_type": "stream",
          "text": [
            "word           syllables_regex    syllables_syllapy\n",
            "-----------  -----------------  -------------------\n",
            "Durkee                       2                    1\n",
            "diagram                      2                    3\n",
            "soiree                       2                    1\n",
            "camaraderie                  5                    4\n",
            "b                            0                    1\n",
            "retiree                      3                    2\n",
            "being                        1                    2\n",
            "rupee                        2                    1\n",
            "Bessie                       2                    1\n",
            "masque                       2                    1\n",
            "ideal                        2                    3\n",
            "diet                         1                    2\n",
            "beastie                      2                    1\n",
            "Cleveland                    3                    2\n",
            "Mycenae                      3                    2\n",
            "niche                        2                    1\n",
            "Number of words: 500\n",
            "Number of misclassified words: 16\n",
            "Proportion of misclassified words: 0.0320\n"
          ],
          "name": "stdout"
        }
      ]
    },
    {
      "cell_type": "code",
      "metadata": {
        "id": "Q6csXxXFNQXl",
        "colab_type": "code",
        "colab": {
          "base_uri": "https://localhost:8080/",
          "height": 364
        },
        "outputId": "bd3bdf7e-ed21-470f-d90b-25a3b5f2533d"
      },
      "source": [
        "def find_syllables(word):\n",
        "  if (re.search('^(h|H|b)e$', word) is None) and (re.search('[^aeiouy]le$', word) is None) and (word[-1] == 'e'):\n",
        "    syl_word = re.findall(slb, word[:-1])\n",
        "  else:\n",
        "    syl_word = re.findall(slb, word)\n",
        "  len_word = len(syl_word)\n",
        "  return len_word\n",
        "\n",
        "words_and_syllables = []\n",
        "for word in list_words:\n",
        "  words_and_syllables.append([word, find_syllables(word), syllapy.count(word)])\n",
        "\n",
        "headers = ['word', 'syllables_regex', 'syllables_syllapy']\n",
        "\n",
        "list_miscalc_words = [entry for entry in words_and_syllables if entry[1] != entry[2]]\n",
        "\n",
        "print(tabulate(list_miscalc_words, headers))\n",
        "\n",
        "print(f'Number of words: {len(list_words)}\\nNumber of misclassified words: '\n",
        "f'{len(list_miscalc_words)}\\nProportion of misclassified words: {len(list_miscalc_words)/len(list_words):.4f}')"
      ],
      "execution_count": 12,
      "outputs": [
        {
          "output_type": "stream",
          "text": [
            "word           syllables_regex    syllables_syllapy\n",
            "-----------  -----------------  -------------------\n",
            "Durkee                       2                    1\n",
            "diagram                      2                    3\n",
            "soiree                       2                    1\n",
            "camaraderie                  5                    4\n",
            "b                            0                    1\n",
            "retiree                      3                    2\n",
            "being                        1                    2\n",
            "rupee                        2                    1\n",
            "Bessie                       2                    1\n",
            "masque                       2                    1\n",
            "ideal                        2                    3\n",
            "diet                         1                    2\n",
            "beastie                      2                    1\n",
            "Cleveland                    3                    2\n",
            "Mycenae                      3                    2\n",
            "Number of words: 500\n",
            "Number of misclassified words: 15\n",
            "Proportion of misclassified words: 0.0300\n"
          ],
          "name": "stdout"
        }
      ]
    },
    {
      "cell_type": "code",
      "metadata": {
        "id": "Wpt7dRaPSDrf",
        "colab_type": "code",
        "colab": {}
      },
      "source": [
        "def find_syllables(word):\n",
        "  if (re.search('^(h|H|b)e$', word) is None) and (re.search('[^aeiouy]le$', word) is None) and (word[-1] == 'e'):\n",
        "    syl_word = re.findall(slb, word[:-1])\n",
        "  else:\n",
        "    syl_word = re.findall(slb, word)\n",
        "  len_word = len(syl_word)\n",
        "  return len_word\n",
        "\n",
        "words_and_syllables = []\n",
        "for word in list_words:\n",
        "  words_and_syllables.append([word, find_syllables(word), syllapy.count(word)])\n",
        "\n",
        "headers = ['word', 'syllables_regex', 'syllables_syllapy']\n",
        "\n",
        "list_miscalc_words = [entry for entry in words_and_syllables if entry[1] != entry[2]]\n",
        "\n",
        "print(tabulate(list_miscalc_words, headers))\n",
        "\n",
        "print(f'Number of words: {len(list_words)}\\nNumber of misclassified words: '\n",
        "f'{len(list_miscalc_words)}\\nProportion of misclassified words: {len(list_miscalc_words)/len(list_words):.4f}')"
      ],
      "execution_count": null,
      "outputs": []
    },
    {
      "cell_type": "code",
      "metadata": {
        "id": "HmsPB2gsZjEk",
        "colab_type": "code",
        "colab": {}
      },
      "source": [
        "list_words_bigger = random.sample(english_words_set, 1500)"
      ],
      "execution_count": 15,
      "outputs": []
    },
    {
      "cell_type": "code",
      "metadata": {
        "id": "UIAdzcPFZma5",
        "colab_type": "code",
        "colab": {}
      },
      "source": [
        "ia_words = []\n",
        "ei_words = []\n",
        "ea_words = []\n",
        "ie_words = []\n",
        "\n",
        "for word in list_words_bigger:\n",
        "  if 'ia' in word:\n",
        "    ia_words.append(word)\n",
        "  if 'ei' in word:\n",
        "    ei_words.append(word)\n",
        "  if 'ea' in word:\n",
        "    ea_words.append(word)\n",
        "  if 'ie' in word:\n",
        "    ie_words.append(word)"
      ],
      "execution_count": 23,
      "outputs": []
    },
    {
      "cell_type": "code",
      "metadata": {
        "id": "9rx2nP7waR-p",
        "colab_type": "code",
        "colab": {}
      },
      "source": [
        "list_combined = zip_longest(ia_words, ei_words, ea_words, ie_words, fillvalue=' ')"
      ],
      "execution_count": 24,
      "outputs": []
    },
    {
      "cell_type": "code",
      "metadata": {
        "id": "FaeZVkBzauJ4",
        "colab_type": "code",
        "colab": {}
      },
      "source": [
        "list_combined = [list(stuff) for stuff in list_combined]"
      ],
      "execution_count": 25,
      "outputs": []
    },
    {
      "cell_type": "code",
      "metadata": {
        "id": "Zo2mR70Ra6fT",
        "colab_type": "code",
        "colab": {
          "base_uri": "https://localhost:8080/",
          "height": 1000
        },
        "outputId": "37b6e3cf-e6b6-4e51-a3bc-c2f098cf0f20"
      },
      "source": [
        "headers = ['ia', 'ei', 'ea', 'ie']\n",
        "print(tabulate(list_combined, headers))"
      ],
      "execution_count": 26,
      "outputs": [
        {
          "output_type": "stream",
          "text": [
            "ia               ei             ea            ie\n",
            "---------------  -------------  ------------  -------------\n",
            "maniac           reindeer       epiphyseal    thieving\n",
            "maniacal         Perseid        glean         ebullient\n",
            "Gandhian         receive        ear           Willie\n",
            "ambrosia         rein           lighthearted  satiety\n",
            "sentential       Poseidon       beat          brief\n",
            "residential      Heinz          preachy       Friesland\n",
            "Triassic         Heidegger      wingbeat      transient\n",
            "ambiance         Bernstein      headstone     apiece\n",
            "adiabatic        edelweiss      arrowhead     ancient\n",
            "Giacomo          Liechtenstein  Indoeuropean  dietary\n",
            "valiant          Einsteinian    treadmill     Algiers\n",
            "renunciate       deity          creamy        Lottie\n",
            "dissociate       eightfold      Peachtree     series\n",
            "diamond          Deimos         plea          gaiety\n",
            "bivariate                       heart         quietus\n",
            "Hegelian                        Augean        Berniece\n",
            "parliamentarian                 earthen       societal\n",
            "differential                    traceable     lieutenant\n",
            "triad                           gleam         pie\n",
            "satiate                         eastbound     calorie\n",
            "valedictorian                   Galatea       auntie\n",
            "conspiratorial                  Andean        Brie\n",
            "circumstantial                  whereabout    brassiere\n",
            "curia                           guinea        Liechtenstein\n",
            "enthusiasm                      earth         Dietrich\n",
            "ciliate                         strikebreak   concierge\n",
            "diagnostician                   cleanse       inalienable\n",
            "Iranian                         shear         dixieland\n",
            "cornucopia                      eagle         Priestley\n",
            "aeolian                         seasonal      genie\n",
            "Amelia                          Pearson       interviewee\n",
            "irradiate                       exchangeable  cavalier\n",
            "Gaussian                        bequeath      Leslie\n",
            "pianoforte                      leach         hayfield\n",
            "inappreciable                   zeal          chevalier\n",
            "symposia                        yesteryear    yield\n",
            "hernia                          defeat\n",
            "equilibria                      coldhearted\n",
            "connubial                       urea\n",
            "subsidiary                      hearty\n",
            "piano                           curvilinear\n",
            "invariant                       Dairylea\n",
            "Parthia                         beadle\n",
            "Eurasia                         beaver\n",
            "differentiable                  mileage\n",
            "sial                            railhead\n",
            "dictatorial                     pleasure\n",
            "iambic                          wreathe\n",
            "bilharziasis                    tea\n",
            "Peruvian                        treadle\n",
            "clinician                       hearten\n",
            "depreciable                     peat\n",
            "Galatia\n",
            "marginalia\n",
            "aviary\n",
            "matrimonial\n",
            "Einsteinian\n",
            "ruffian\n",
            "unchristian\n",
            "unitarian\n",
            "Nubia\n",
            "historian\n",
            "racial\n",
            "commissariat\n",
            "euthanasia\n",
            "crocodilian\n"
          ],
          "name": "stdout"
        }
      ]
    }
  ]
}