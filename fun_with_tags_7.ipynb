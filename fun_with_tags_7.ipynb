{
  "nbformat": 4,
  "nbformat_minor": 0,
  "metadata": {
    "colab": {
      "name": "fun_with_tags_7.ipynb",
      "provenance": [],
      "authorship_tag": "ABX9TyN+r6o7LUEkQevTIPgJnzHL",
      "include_colab_link": true
    },
    "kernelspec": {
      "name": "python3",
      "display_name": "Python 3"
    }
  },
  "cells": [
    {
      "cell_type": "markdown",
      "metadata": {
        "id": "view-in-github",
        "colab_type": "text"
      },
      "source": [
        "<a href=\"https://colab.research.google.com/github/kleczekr/tolkenizer/blob/master/fun_with_tags_7.ipynb\" target=\"_parent\"><img src=\"https://colab.research.google.com/assets/colab-badge.svg\" alt=\"Open In Colab\"/></a>"
      ]
    },
    {
      "cell_type": "code",
      "metadata": {
        "id": "P_afYMDaJCwc",
        "colab_type": "code",
        "colab": {}
      },
      "source": [
        "from bs4 import BeautifulSoup\n",
        "import urllib.request"
      ],
      "execution_count": 1,
      "outputs": []
    },
    {
      "cell_type": "code",
      "metadata": {
        "id": "MvywoMqEJH_S",
        "colab_type": "code",
        "colab": {}
      },
      "source": [
        "link = 'http://gretil.sub.uni-goettingen.de/gretil.html'\n",
        "# read the HTML with urllib.request\n",
        "page = urllib.request.urlopen(link)\n",
        "# now, parse the HTML with soup\n",
        "soup = BeautifulSoup(page, 'html.parser')"
      ],
      "execution_count": 2,
      "outputs": []
    },
    {
      "cell_type": "code",
      "metadata": {
        "id": "JStYXDuZKfi4",
        "colab_type": "code",
        "colab": {
          "base_uri": "https://localhost:8080/",
          "height": 1000
        },
        "outputId": "108f8fcd-e5b2-4593-eafe-6f2ff4c20bad"
      },
      "source": [
        "for divider in soup.find_all('div'):\n",
        "  if divider.get('id') == 'text-GrhyaS':\n",
        "    counter = 0\n",
        "    for child in divider.ol.find_all('li'):\n",
        "      print('Child number {}'.format(counter))\n",
        "      print(str(child)[4:].split('<')[0])\n",
        "      print('-*-*-*-*-*-*-*-*-*-*-*-*-*-*-*-*-*-*-*-*-*-')\n",
        "      counter += 1"
      ],
      "execution_count": 3,
      "outputs": [
        {
          "output_type": "stream",
          "text": [
            "Child number 0\n",
            "Agnivesya | Apastamba\n",
            "\n",
            "-*-*-*-*-*-*-*-*-*-*-*-*-*-*-*-*-*-*-*-*-*-\n",
            "Child number 1\n",
            "Restricted download / proprietary format from \n",
            "-*-*-*-*-*-*-*-*-*-*-*-*-*-*-*-*-*-*-*-*-*-\n",
            "Child number 2\n",
            "Converted file(s) not available at present\n",
            "-*-*-*-*-*-*-*-*-*-*-*-*-*-*-*-*-*-*-*-*-*-\n",
            "Child number 3\n",
            "Apastamba-Grhyasutra, with Haradatta's Anakula and Sudarsana's Tatparyadarsana (input by members of the Sansknet project) \n",
            "-*-*-*-*-*-*-*-*-*-*-*-*-*-*-*-*-*-*-*-*-*-\n",
            "Child number 4\n",
            "Download from \n",
            "-*-*-*-*-*-*-*-*-*-*-*-*-*-*-*-*-*-*-*-*-*-\n",
            "Child number 5\n",
            "\n",
            "-*-*-*-*-*-*-*-*-*-*-*-*-*-*-*-*-*-*-*-*-*-\n",
            "Child number 6\n",
            "Asvalayana-Grhyasutra (input by Muneo Tokunaga) \n",
            "-*-*-*-*-*-*-*-*-*-*-*-*-*-*-*-*-*-*-*-*-*-\n",
            "Child number 7\n",
            "\n",
            "-*-*-*-*-*-*-*-*-*-*-*-*-*-*-*-*-*-*-*-*-*-\n",
            "Child number 8\n",
            "For other formats / encodings see: \n",
            "-*-*-*-*-*-*-*-*-*-*-*-*-*-*-*-*-*-*-*-*-*-\n",
            "Child number 9\n",
            "Baudhayana | Bharadvaja | Gobhila | Hiranyakesi (Satyasadha)\n",
            "\n",
            "-*-*-*-*-*-*-*-*-*-*-*-*-*-*-*-*-*-*-*-*-*-\n",
            "Child number 10\n",
            "Restricted download / proprietary format from \n",
            "-*-*-*-*-*-*-*-*-*-*-*-*-*-*-*-*-*-*-*-*-*-\n",
            "Child number 11\n",
            "Converted file(s) not available at present\n",
            "-*-*-*-*-*-*-*-*-*-*-*-*-*-*-*-*-*-*-*-*-*-\n",
            "Child number 12\n",
            "Jaimini-Grhyasutra (input by members of the Sansknet project) \n",
            "-*-*-*-*-*-*-*-*-*-*-*-*-*-*-*-*-*-*-*-*-*-\n",
            "Child number 13\n",
            "Download from \n",
            "-*-*-*-*-*-*-*-*-*-*-*-*-*-*-*-*-*-*-*-*-*-\n",
            "Child number 14\n",
            "\n",
            "-*-*-*-*-*-*-*-*-*-*-*-*-*-*-*-*-*-*-*-*-*-\n",
            "Child number 15\n",
            "Kathaka_(Laugaksi)\n",
            "\n",
            "-*-*-*-*-*-*-*-*-*-*-*-*-*-*-*-*-*-*-*-*-*-\n",
            "Child number 16\n",
            "Restricted download / proprietary format from \n",
            "-*-*-*-*-*-*-*-*-*-*-*-*-*-*-*-*-*-*-*-*-*-\n",
            "Child number 17\n",
            "Converted file(s) not available at present\n",
            "-*-*-*-*-*-*-*-*-*-*-*-*-*-*-*-*-*-*-*-*-*-\n",
            "Child number 18\n",
            "Kausika-Sutra (input by Arlo Griffiths) \n",
            "-*-*-*-*-*-*-*-*-*-*-*-*-*-*-*-*-*-*-*-*-*-\n",
            "Child number 19\n",
            "Download from \n",
            "-*-*-*-*-*-*-*-*-*-*-*-*-*-*-*-*-*-*-*-*-*-\n",
            "Child number 20\n",
            "\n",
            "-*-*-*-*-*-*-*-*-*-*-*-*-*-*-*-*-*-*-*-*-*-\n",
            "Child number 21\n",
            "For other formats / encodings see: \n",
            "-*-*-*-*-*-*-*-*-*-*-*-*-*-*-*-*-*-*-*-*-*-\n",
            "Child number 22\n",
            "Kausikapaddhati, by Kesava (input by Ketaki Gokhale [in coop. w. A. Griffiths &amp; M. Kobayashi]) \n",
            "-*-*-*-*-*-*-*-*-*-*-*-*-*-*-*-*-*-*-*-*-*-\n",
            "Child number 23\n",
            "\n",
            "-*-*-*-*-*-*-*-*-*-*-*-*-*-*-*-*-*-*-*-*-*-\n",
            "Child number 24\n",
            "Kauthuma-Grhyasutra (input by Ms. Jaya S. Nair) \n",
            "-*-*-*-*-*-*-*-*-*-*-*-*-*-*-*-*-*-*-*-*-*-\n",
            "Child number 25\n",
            "Download from \n",
            "-*-*-*-*-*-*-*-*-*-*-*-*-*-*-*-*-*-*-*-*-*-\n",
            "Child number 26\n",
            "\n",
            "-*-*-*-*-*-*-*-*-*-*-*-*-*-*-*-*-*-*-*-*-*-\n",
            "Child number 27\n",
            "Khadira (Drahyayana) | Manava\n",
            "\n",
            "-*-*-*-*-*-*-*-*-*-*-*-*-*-*-*-*-*-*-*-*-*-\n",
            "Child number 28\n",
            "Restricted download / proprietary format from \n",
            "-*-*-*-*-*-*-*-*-*-*-*-*-*-*-*-*-*-*-*-*-*-\n",
            "Child number 29\n",
            "Converted file(s) not available at present\n",
            "-*-*-*-*-*-*-*-*-*-*-*-*-*-*-*-*-*-*-*-*-*-\n",
            "Child number 30\n",
            "Manava-Grhyasutra [ = Maitrayaniyamanava-Grhyasutra] (input by members of the Sansknet project) \n",
            "-*-*-*-*-*-*-*-*-*-*-*-*-*-*-*-*-*-*-*-*-*-\n",
            "Child number 31\n",
            "Download from \n",
            "-*-*-*-*-*-*-*-*-*-*-*-*-*-*-*-*-*-*-*-*-*-\n",
            "Child number 32\n",
            "\n",
            "-*-*-*-*-*-*-*-*-*-*-*-*-*-*-*-*-*-*-*-*-*-\n",
            "Child number 33\n",
            "Sankhayana-Grhyasutra (input by Muneo Tokunaga) \n",
            "-*-*-*-*-*-*-*-*-*-*-*-*-*-*-*-*-*-*-*-*-*-\n",
            "Child number 34\n",
            "\n",
            "-*-*-*-*-*-*-*-*-*-*-*-*-*-*-*-*-*-*-*-*-*-\n",
            "Child number 35\n",
            "For other formats / encodings see: \n",
            "-*-*-*-*-*-*-*-*-*-*-*-*-*-*-*-*-*-*-*-*-*-\n",
            "Child number 36\n",
            "Vadhula | Vaikhanasa\n",
            "\n",
            "-*-*-*-*-*-*-*-*-*-*-*-*-*-*-*-*-*-*-*-*-*-\n",
            "Child number 37\n",
            "Restricted download / proprietary format from \n",
            "-*-*-*-*-*-*-*-*-*-*-*-*-*-*-*-*-*-*-*-*-*-\n",
            "Child number 38\n",
            "Converted file(s) not available at present\n",
            "-*-*-*-*-*-*-*-*-*-*-*-*-*-*-*-*-*-*-*-*-*-\n",
            "Child number 39\n",
            "Varaha-Grhyasutra (input by Oliver Hellwig) \n",
            "-*-*-*-*-*-*-*-*-*-*-*-*-*-*-*-*-*-*-*-*-*-\n",
            "Child number 40\n",
            "\n",
            "-*-*-*-*-*-*-*-*-*-*-*-*-*-*-*-*-*-*-*-*-*-\n",
            "Child number 41\n",
            "For other formats / encodings see: \n",
            "-*-*-*-*-*-*-*-*-*-*-*-*-*-*-*-*-*-*-*-*-*-\n"
          ],
          "name": "stdout"
        }
      ]
    },
    {
      "cell_type": "code",
      "metadata": {
        "id": "9ayH2SuCJJ9F",
        "colab_type": "code",
        "colab": {
          "base_uri": "https://localhost:8080/",
          "height": 347
        },
        "outputId": "4e305cdd-afa8-4dfd-ab28-272ef63d0a6e"
      },
      "source": [
        "for divider in soup.find_all('div'):\n",
        "  if divider.get('id') == 'text-GrhyaS':\n",
        "    counter = 0\n",
        "    list_of_lines = [0, 3, 6, 9, 12, 15, 18, 22, 24, 27, 30, 33, 36, 39]\n",
        "    for child in divider.ol.find_all('li'):\n",
        "      if counter in list_of_lines:\n",
        "        print(str(child)[4:].split('<')[0])\n",
        "        counter += 1\n",
        "      else:\n",
        "        counter += 1"
      ],
      "execution_count": 4,
      "outputs": [
        {
          "output_type": "stream",
          "text": [
            "Agnivesya | Apastamba\n",
            "\n",
            "Apastamba-Grhyasutra, with Haradatta's Anakula and Sudarsana's Tatparyadarsana (input by members of the Sansknet project) \n",
            "Asvalayana-Grhyasutra (input by Muneo Tokunaga) \n",
            "Baudhayana | Bharadvaja | Gobhila | Hiranyakesi (Satyasadha)\n",
            "\n",
            "Jaimini-Grhyasutra (input by members of the Sansknet project) \n",
            "Kathaka_(Laugaksi)\n",
            "\n",
            "Kausika-Sutra (input by Arlo Griffiths) \n",
            "Kausikapaddhati, by Kesava (input by Ketaki Gokhale [in coop. w. A. Griffiths &amp; M. Kobayashi]) \n",
            "Kauthuma-Grhyasutra (input by Ms. Jaya S. Nair) \n",
            "Khadira (Drahyayana) | Manava\n",
            "\n",
            "Manava-Grhyasutra [ = Maitrayaniyamanava-Grhyasutra] (input by members of the Sansknet project) \n",
            "Sankhayana-Grhyasutra (input by Muneo Tokunaga) \n",
            "Vadhula | Vaikhanasa\n",
            "\n",
            "Varaha-Grhyasutra (input by Oliver Hellwig) \n"
          ],
          "name": "stdout"
        }
      ]
    }
  ]
}