{
  "nbformat": 4,
  "nbformat_minor": 0,
  "metadata": {
    "colab": {
      "name": "sunday_beautiful_soup.ipynb",
      "provenance": [],
      "authorship_tag": "ABX9TyOs+AMOvPx2u0/Q5hB9IdIQ",
      "include_colab_link": true
    },
    "kernelspec": {
      "name": "python3",
      "display_name": "Python 3"
    }
  },
  "cells": [
    {
      "cell_type": "markdown",
      "metadata": {
        "id": "view-in-github",
        "colab_type": "text"
      },
      "source": [
        "<a href=\"https://colab.research.google.com/github/kleczekr/tolkenizer/blob/master/sunday_beautiful_soup.ipynb\" target=\"_parent\"><img src=\"https://colab.research.google.com/assets/colab-badge.svg\" alt=\"Open In Colab\"/></a>"
      ]
    },
    {
      "cell_type": "code",
      "metadata": {
        "id": "6flP_VMo-ryV",
        "colab_type": "code",
        "colab": {}
      },
      "source": [
        "from bs4 import BeautifulSoup\n",
        "import urllib.request\n",
        "import pandas as pd"
      ],
      "execution_count": 1,
      "outputs": []
    },
    {
      "cell_type": "code",
      "metadata": {
        "id": "PJTZDSEe-ChO",
        "colab_type": "code",
        "colab": {}
      },
      "source": [
        "link = 'https://www.satp.org/datasheet-terrorist-attack/fatalities/srilanka'\n",
        "# read the HTML with urllib.request\n",
        "page = urllib.request.urlopen(link)\n",
        "# now, parse the HTML with soup\n",
        "soup = BeautifulSoup(page, 'html.parser')"
      ],
      "execution_count": 2,
      "outputs": []
    },
    {
      "cell_type": "code",
      "metadata": {
        "id": "fswvIFXY7XEZ",
        "colab_type": "code",
        "colab": {}
      },
      "source": [
        "table = soup.find('table', id='ctl00_ContentPlaceHolder1_gvFatalities')\n",
        "table_headers = table.find_all('th')\n",
        "table_rows = table.find_all('tr')"
      ],
      "execution_count": 3,
      "outputs": []
    },
    {
      "cell_type": "code",
      "metadata": {
        "id": "lzr14Tf17n7C",
        "colab_type": "code",
        "colab": {}
      },
      "source": [
        "# table"
      ],
      "execution_count": 4,
      "outputs": []
    },
    {
      "cell_type": "code",
      "metadata": {
        "id": "NAbhIDgL7pwe",
        "colab_type": "code",
        "colab": {
          "base_uri": "https://localhost:8080/",
          "height": 139
        },
        "outputId": "4d314170-5b2f-4eef-e473-d4245c42b6f3"
      },
      "source": [
        "table_headers"
      ],
      "execution_count": 5,
      "outputs": [
        {
          "output_type": "execute_result",
          "data": {
            "text/plain": [
              "[<th scope=\"col\">Year</th>,\n",
              " <th scope=\"col\">Incidents of Killing</th>,\n",
              " <th scope=\"col\">Civilians</th>,\n",
              " <th scope=\"col\">Security Forces</th>,\n",
              " <th scope=\"col\">Terrorists/Insurgents/Extremists</th>,\n",
              " <th scope=\"col\">Not Specified</th>,\n",
              " <th scope=\"col\">Total</th>]"
            ]
          },
          "metadata": {
            "tags": []
          },
          "execution_count": 5
        }
      ]
    },
    {
      "cell_type": "code",
      "metadata": {
        "id": "HnpqFNq07vAu",
        "colab_type": "code",
        "colab": {}
      },
      "source": [
        "# table_rows"
      ],
      "execution_count": 6,
      "outputs": []
    },
    {
      "cell_type": "code",
      "metadata": {
        "id": "NtuhPNbO7v84",
        "colab_type": "code",
        "colab": {}
      },
      "source": [
        "h = []\n",
        "for header in table_headers:\n",
        "  header = header.text\n",
        "  h.append(header)"
      ],
      "execution_count": 7,
      "outputs": []
    },
    {
      "cell_type": "code",
      "metadata": {
        "id": "H_F6Bou38o3M",
        "colab_type": "code",
        "colab": {
          "base_uri": "https://localhost:8080/",
          "height": 139
        },
        "outputId": "d0497490-e59e-4e0e-f95a-5e78d5b41a57"
      },
      "source": [
        "h"
      ],
      "execution_count": 8,
      "outputs": [
        {
          "output_type": "execute_result",
          "data": {
            "text/plain": [
              "['Year',\n",
              " 'Incidents of Killing',\n",
              " 'Civilians',\n",
              " 'Security Forces',\n",
              " 'Terrorists/Insurgents/Extremists',\n",
              " 'Not Specified',\n",
              " 'Total']"
            ]
          },
          "metadata": {
            "tags": []
          },
          "execution_count": 8
        }
      ]
    },
    {
      "cell_type": "code",
      "metadata": {
        "id": "s_j_nB528DXa",
        "colab_type": "code",
        "colab": {}
      },
      "source": [
        "l = []\n",
        "for tr in table_rows:\n",
        "    td = tr.find_all('td')\n",
        "    row = [tr.text.strip() for tr in td]\n",
        "    l.append(row)"
      ],
      "execution_count": 9,
      "outputs": []
    },
    {
      "cell_type": "code",
      "metadata": {
        "id": "hHxvuvDg9gf4",
        "colab_type": "code",
        "colab": {
          "base_uri": "https://localhost:8080/",
          "height": 416
        },
        "outputId": "b55ba179-8dcd-43a4-9e75-66d9a2982f11"
      },
      "source": [
        "l"
      ],
      "execution_count": 10,
      "outputs": [
        {
          "output_type": "execute_result",
          "data": {
            "text/plain": [
              "[[],\n",
              " ['2000*', '603', '244', '826', '2851', '6', '3927'],\n",
              " ['2001', '543', '136', '438', '1170', '6', '1750'],\n",
              " ['2002', '13', '20', '2', '0', '8', '30'],\n",
              " ['2003', '26', '20', '6', '25', '4', '55'],\n",
              " ['2004', '50', '26', '8', '44', '3', '81'],\n",
              " ['2005', '208', '139', '85', '89', '12', '325'],\n",
              " ['2006', '903', '691', '878', '2297', '427', '4293'],\n",
              " ['2007', '1230', '406', '527', '3223', '131', '4287'],\n",
              " ['2008', '2666', '317', '1444', '9171', '132', '11064'],\n",
              " ['2009', '531', '10258', '1297', '3371', '594', '15520'],\n",
              " ['2010', '0', '0', '0', '0', '0', '0'],\n",
              " ['2011', '0', '0', '0', '0', '0', '0'],\n",
              " ['2012', '0', '0', '0', '0', '0', '0'],\n",
              " ['2013', '0', '0', '0', '0', '0', '0'],\n",
              " ['2014', '1', '0', '1', '3', '0', '4'],\n",
              " ['2015', '0', '0', '0', '0', '0', '0'],\n",
              " ['2016', '0', '0', '0', '0', '0', '0'],\n",
              " ['2017', '0', '0', '0', '0', '0', '0'],\n",
              " ['2018', '0', '0', '0', '0', '0', '0'],\n",
              " ['2019', '10', '262', '4', '12', '0', '278'],\n",
              " ['2020', '1', '0', '0', '1', '0', '1'],\n",
              " ['Total**', '6785', '12519', '5516', '22257', '1323', '41615']]"
            ]
          },
          "metadata": {
            "tags": []
          },
          "execution_count": 10
        }
      ]
    },
    {
      "cell_type": "code",
      "metadata": {
        "id": "nt5h0uNB9g-y",
        "colab_type": "code",
        "colab": {}
      },
      "source": [
        "df = pd.DataFrame(l[1:], columns=h)"
      ],
      "execution_count": 13,
      "outputs": []
    },
    {
      "cell_type": "code",
      "metadata": {
        "id": "LR3_v4Ku-JB3",
        "colab_type": "code",
        "colab": {
          "base_uri": "https://localhost:8080/",
          "height": 739
        },
        "outputId": "dbd4d473-9e76-468c-e395-564ff0fee30a"
      },
      "source": [
        "df"
      ],
      "execution_count": 14,
      "outputs": [
        {
          "output_type": "execute_result",
          "data": {
            "text/html": [
              "<div>\n",
              "<style scoped>\n",
              "    .dataframe tbody tr th:only-of-type {\n",
              "        vertical-align: middle;\n",
              "    }\n",
              "\n",
              "    .dataframe tbody tr th {\n",
              "        vertical-align: top;\n",
              "    }\n",
              "\n",
              "    .dataframe thead th {\n",
              "        text-align: right;\n",
              "    }\n",
              "</style>\n",
              "<table border=\"1\" class=\"dataframe\">\n",
              "  <thead>\n",
              "    <tr style=\"text-align: right;\">\n",
              "      <th></th>\n",
              "      <th>Year</th>\n",
              "      <th>Incidents of Killing</th>\n",
              "      <th>Civilians</th>\n",
              "      <th>Security Forces</th>\n",
              "      <th>Terrorists/Insurgents/Extremists</th>\n",
              "      <th>Not Specified</th>\n",
              "      <th>Total</th>\n",
              "    </tr>\n",
              "  </thead>\n",
              "  <tbody>\n",
              "    <tr>\n",
              "      <th>0</th>\n",
              "      <td>2000*</td>\n",
              "      <td>603</td>\n",
              "      <td>244</td>\n",
              "      <td>826</td>\n",
              "      <td>2851</td>\n",
              "      <td>6</td>\n",
              "      <td>3927</td>\n",
              "    </tr>\n",
              "    <tr>\n",
              "      <th>1</th>\n",
              "      <td>2001</td>\n",
              "      <td>543</td>\n",
              "      <td>136</td>\n",
              "      <td>438</td>\n",
              "      <td>1170</td>\n",
              "      <td>6</td>\n",
              "      <td>1750</td>\n",
              "    </tr>\n",
              "    <tr>\n",
              "      <th>2</th>\n",
              "      <td>2002</td>\n",
              "      <td>13</td>\n",
              "      <td>20</td>\n",
              "      <td>2</td>\n",
              "      <td>0</td>\n",
              "      <td>8</td>\n",
              "      <td>30</td>\n",
              "    </tr>\n",
              "    <tr>\n",
              "      <th>3</th>\n",
              "      <td>2003</td>\n",
              "      <td>26</td>\n",
              "      <td>20</td>\n",
              "      <td>6</td>\n",
              "      <td>25</td>\n",
              "      <td>4</td>\n",
              "      <td>55</td>\n",
              "    </tr>\n",
              "    <tr>\n",
              "      <th>4</th>\n",
              "      <td>2004</td>\n",
              "      <td>50</td>\n",
              "      <td>26</td>\n",
              "      <td>8</td>\n",
              "      <td>44</td>\n",
              "      <td>3</td>\n",
              "      <td>81</td>\n",
              "    </tr>\n",
              "    <tr>\n",
              "      <th>5</th>\n",
              "      <td>2005</td>\n",
              "      <td>208</td>\n",
              "      <td>139</td>\n",
              "      <td>85</td>\n",
              "      <td>89</td>\n",
              "      <td>12</td>\n",
              "      <td>325</td>\n",
              "    </tr>\n",
              "    <tr>\n",
              "      <th>6</th>\n",
              "      <td>2006</td>\n",
              "      <td>903</td>\n",
              "      <td>691</td>\n",
              "      <td>878</td>\n",
              "      <td>2297</td>\n",
              "      <td>427</td>\n",
              "      <td>4293</td>\n",
              "    </tr>\n",
              "    <tr>\n",
              "      <th>7</th>\n",
              "      <td>2007</td>\n",
              "      <td>1230</td>\n",
              "      <td>406</td>\n",
              "      <td>527</td>\n",
              "      <td>3223</td>\n",
              "      <td>131</td>\n",
              "      <td>4287</td>\n",
              "    </tr>\n",
              "    <tr>\n",
              "      <th>8</th>\n",
              "      <td>2008</td>\n",
              "      <td>2666</td>\n",
              "      <td>317</td>\n",
              "      <td>1444</td>\n",
              "      <td>9171</td>\n",
              "      <td>132</td>\n",
              "      <td>11064</td>\n",
              "    </tr>\n",
              "    <tr>\n",
              "      <th>9</th>\n",
              "      <td>2009</td>\n",
              "      <td>531</td>\n",
              "      <td>10258</td>\n",
              "      <td>1297</td>\n",
              "      <td>3371</td>\n",
              "      <td>594</td>\n",
              "      <td>15520</td>\n",
              "    </tr>\n",
              "    <tr>\n",
              "      <th>10</th>\n",
              "      <td>2010</td>\n",
              "      <td>0</td>\n",
              "      <td>0</td>\n",
              "      <td>0</td>\n",
              "      <td>0</td>\n",
              "      <td>0</td>\n",
              "      <td>0</td>\n",
              "    </tr>\n",
              "    <tr>\n",
              "      <th>11</th>\n",
              "      <td>2011</td>\n",
              "      <td>0</td>\n",
              "      <td>0</td>\n",
              "      <td>0</td>\n",
              "      <td>0</td>\n",
              "      <td>0</td>\n",
              "      <td>0</td>\n",
              "    </tr>\n",
              "    <tr>\n",
              "      <th>12</th>\n",
              "      <td>2012</td>\n",
              "      <td>0</td>\n",
              "      <td>0</td>\n",
              "      <td>0</td>\n",
              "      <td>0</td>\n",
              "      <td>0</td>\n",
              "      <td>0</td>\n",
              "    </tr>\n",
              "    <tr>\n",
              "      <th>13</th>\n",
              "      <td>2013</td>\n",
              "      <td>0</td>\n",
              "      <td>0</td>\n",
              "      <td>0</td>\n",
              "      <td>0</td>\n",
              "      <td>0</td>\n",
              "      <td>0</td>\n",
              "    </tr>\n",
              "    <tr>\n",
              "      <th>14</th>\n",
              "      <td>2014</td>\n",
              "      <td>1</td>\n",
              "      <td>0</td>\n",
              "      <td>1</td>\n",
              "      <td>3</td>\n",
              "      <td>0</td>\n",
              "      <td>4</td>\n",
              "    </tr>\n",
              "    <tr>\n",
              "      <th>15</th>\n",
              "      <td>2015</td>\n",
              "      <td>0</td>\n",
              "      <td>0</td>\n",
              "      <td>0</td>\n",
              "      <td>0</td>\n",
              "      <td>0</td>\n",
              "      <td>0</td>\n",
              "    </tr>\n",
              "    <tr>\n",
              "      <th>16</th>\n",
              "      <td>2016</td>\n",
              "      <td>0</td>\n",
              "      <td>0</td>\n",
              "      <td>0</td>\n",
              "      <td>0</td>\n",
              "      <td>0</td>\n",
              "      <td>0</td>\n",
              "    </tr>\n",
              "    <tr>\n",
              "      <th>17</th>\n",
              "      <td>2017</td>\n",
              "      <td>0</td>\n",
              "      <td>0</td>\n",
              "      <td>0</td>\n",
              "      <td>0</td>\n",
              "      <td>0</td>\n",
              "      <td>0</td>\n",
              "    </tr>\n",
              "    <tr>\n",
              "      <th>18</th>\n",
              "      <td>2018</td>\n",
              "      <td>0</td>\n",
              "      <td>0</td>\n",
              "      <td>0</td>\n",
              "      <td>0</td>\n",
              "      <td>0</td>\n",
              "      <td>0</td>\n",
              "    </tr>\n",
              "    <tr>\n",
              "      <th>19</th>\n",
              "      <td>2019</td>\n",
              "      <td>10</td>\n",
              "      <td>262</td>\n",
              "      <td>4</td>\n",
              "      <td>12</td>\n",
              "      <td>0</td>\n",
              "      <td>278</td>\n",
              "    </tr>\n",
              "    <tr>\n",
              "      <th>20</th>\n",
              "      <td>2020</td>\n",
              "      <td>1</td>\n",
              "      <td>0</td>\n",
              "      <td>0</td>\n",
              "      <td>1</td>\n",
              "      <td>0</td>\n",
              "      <td>1</td>\n",
              "    </tr>\n",
              "    <tr>\n",
              "      <th>21</th>\n",
              "      <td>Total**</td>\n",
              "      <td>6785</td>\n",
              "      <td>12519</td>\n",
              "      <td>5516</td>\n",
              "      <td>22257</td>\n",
              "      <td>1323</td>\n",
              "      <td>41615</td>\n",
              "    </tr>\n",
              "  </tbody>\n",
              "</table>\n",
              "</div>"
            ],
            "text/plain": [
              "       Year Incidents of Killing  ... Not Specified  Total\n",
              "0     2000*                  603  ...             6   3927\n",
              "1      2001                  543  ...             6   1750\n",
              "2      2002                   13  ...             8     30\n",
              "3      2003                   26  ...             4     55\n",
              "4      2004                   50  ...             3     81\n",
              "5      2005                  208  ...            12    325\n",
              "6      2006                  903  ...           427   4293\n",
              "7      2007                 1230  ...           131   4287\n",
              "8      2008                 2666  ...           132  11064\n",
              "9      2009                  531  ...           594  15520\n",
              "10     2010                    0  ...             0      0\n",
              "11     2011                    0  ...             0      0\n",
              "12     2012                    0  ...             0      0\n",
              "13     2013                    0  ...             0      0\n",
              "14     2014                    1  ...             0      4\n",
              "15     2015                    0  ...             0      0\n",
              "16     2016                    0  ...             0      0\n",
              "17     2017                    0  ...             0      0\n",
              "18     2018                    0  ...             0      0\n",
              "19     2019                   10  ...             0    278\n",
              "20     2020                    1  ...             0      1\n",
              "21  Total**                 6785  ...          1323  41615\n",
              "\n",
              "[22 rows x 7 columns]"
            ]
          },
          "metadata": {
            "tags": []
          },
          "execution_count": 14
        }
      ]
    }
  ]
}