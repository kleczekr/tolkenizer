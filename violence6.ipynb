{
  "nbformat": 4,
  "nbformat_minor": 0,
  "metadata": {
    "colab": {
      "name": "violence6.ipynb",
      "provenance": [],
      "authorship_tag": "ABX9TyPfIS+QGSCLY0zGcKMtdARp",
      "include_colab_link": true
    },
    "kernelspec": {
      "name": "python3",
      "display_name": "Python 3"
    }
  },
  "cells": [
    {
      "cell_type": "markdown",
      "metadata": {
        "id": "view-in-github",
        "colab_type": "text"
      },
      "source": [
        "<a href=\"https://colab.research.google.com/github/kleczekr/tolkenizer/blob/master/violence6.ipynb\" target=\"_parent\"><img src=\"https://colab.research.google.com/assets/colab-badge.svg\" alt=\"Open In Colab\"/></a>"
      ]
    },
    {
      "cell_type": "code",
      "metadata": {
        "id": "5a6ATBgGnLI_",
        "colab_type": "code",
        "colab": {}
      },
      "source": [
        "%matplotlib inline \n",
        "\n",
        "import pandas as pd\n",
        "import matplotlib as mpl\n",
        "import matplotlib.pyplot as plt\n",
        "import matplotlib.patches as mpatches # needed for waffle Charts\n",
        "# import seaborn as sns\n",
        "import numpy as np"
      ],
      "execution_count": 28,
      "outputs": []
    },
    {
      "cell_type": "code",
      "metadata": {
        "id": "0skcUQYluz6n",
        "colab_type": "code",
        "colab": {}
      },
      "source": [
        "mpl.style.use(['ggplot'])"
      ],
      "execution_count": 2,
      "outputs": []
    },
    {
      "cell_type": "code",
      "metadata": {
        "id": "RL0Y-FcTnQj0",
        "colab_type": "code",
        "colab": {
          "base_uri": "https://localhost:8080/",
          "height": 124
        },
        "outputId": "0f612e10-fa5d-445e-af9f-364e306e8c3e"
      },
      "source": [
        "# This cell is meant to accommodate the Google Colab way of dealing with reading \n",
        "# files from Google Drive; feel free to ignore it if you are running the notebook\n",
        "# on your local machine\n",
        "from google.colab import drive\n",
        "drive.mount('/content/drive')"
      ],
      "execution_count": 3,
      "outputs": [
        {
          "output_type": "stream",
          "text": [
            "Go to this URL in a browser: https://accounts.google.com/o/oauth2/auth?client_id=947318989803-6bn6qk8qdgf4n4g3pfee6491hc0brc4i.apps.googleusercontent.com&redirect_uri=urn%3aietf%3awg%3aoauth%3a2.0%3aoob&scope=email%20https%3a%2f%2fwww.googleapis.com%2fauth%2fdocs.test%20https%3a%2f%2fwww.googleapis.com%2fauth%2fdrive%20https%3a%2f%2fwww.googleapis.com%2fauth%2fdrive.photos.readonly%20https%3a%2f%2fwww.googleapis.com%2fauth%2fpeopleapi.readonly&response_type=code\n",
            "\n",
            "Enter your authorization code:\n",
            "··········\n",
            "Mounted at /content/drive\n"
          ],
          "name": "stdout"
        }
      ]
    },
    {
      "cell_type": "code",
      "metadata": {
        "id": "DsMEr4V8nSKD",
        "colab_type": "code",
        "colab": {}
      },
      "source": [
        "df = pd.read_excel('/content/drive/My Drive/ethnic_violence/globalterrorismdb_0919dist.xlsx')"
      ],
      "execution_count": 4,
      "outputs": []
    },
    {
      "cell_type": "code",
      "metadata": {
        "id": "wHDegoxnP8H4",
        "colab_type": "code",
        "colab": {}
      },
      "source": [
        "condition = df.country_txt.isin(['India', 'Pakistan', 'Bangladesh', 'Bhutan', 'Sri Lanka'])\n",
        "df_sa = df[condition]"
      ],
      "execution_count": 5,
      "outputs": []
    },
    {
      "cell_type": "code",
      "metadata": {
        "id": "K0tncjwyQyf2",
        "colab_type": "code",
        "colab": {
          "base_uri": "https://localhost:8080/",
          "height": 481
        },
        "outputId": "2700c79a-c0ef-4877-e5a0-29cd4ff1aa97"
      },
      "source": [
        "df_sa.head()"
      ],
      "execution_count": 6,
      "outputs": [
        {
          "output_type": "execute_result",
          "data": {
            "text/html": [
              "<div>\n",
              "<style scoped>\n",
              "    .dataframe tbody tr th:only-of-type {\n",
              "        vertical-align: middle;\n",
              "    }\n",
              "\n",
              "    .dataframe tbody tr th {\n",
              "        vertical-align: top;\n",
              "    }\n",
              "\n",
              "    .dataframe thead th {\n",
              "        text-align: right;\n",
              "    }\n",
              "</style>\n",
              "<table border=\"1\" class=\"dataframe\">\n",
              "  <thead>\n",
              "    <tr style=\"text-align: right;\">\n",
              "      <th></th>\n",
              "      <th>eventid</th>\n",
              "      <th>iyear</th>\n",
              "      <th>imonth</th>\n",
              "      <th>iday</th>\n",
              "      <th>approxdate</th>\n",
              "      <th>extended</th>\n",
              "      <th>resolution</th>\n",
              "      <th>country</th>\n",
              "      <th>country_txt</th>\n",
              "      <th>region</th>\n",
              "      <th>region_txt</th>\n",
              "      <th>provstate</th>\n",
              "      <th>city</th>\n",
              "      <th>latitude</th>\n",
              "      <th>longitude</th>\n",
              "      <th>specificity</th>\n",
              "      <th>vicinity</th>\n",
              "      <th>location</th>\n",
              "      <th>summary</th>\n",
              "      <th>crit1</th>\n",
              "      <th>crit2</th>\n",
              "      <th>crit3</th>\n",
              "      <th>doubtterr</th>\n",
              "      <th>alternative</th>\n",
              "      <th>alternative_txt</th>\n",
              "      <th>multiple</th>\n",
              "      <th>success</th>\n",
              "      <th>suicide</th>\n",
              "      <th>attacktype1</th>\n",
              "      <th>attacktype1_txt</th>\n",
              "      <th>attacktype2</th>\n",
              "      <th>attacktype2_txt</th>\n",
              "      <th>attacktype3</th>\n",
              "      <th>attacktype3_txt</th>\n",
              "      <th>targtype1</th>\n",
              "      <th>targtype1_txt</th>\n",
              "      <th>targsubtype1</th>\n",
              "      <th>targsubtype1_txt</th>\n",
              "      <th>corp1</th>\n",
              "      <th>target1</th>\n",
              "      <th>...</th>\n",
              "      <th>weapsubtype4</th>\n",
              "      <th>weapsubtype4_txt</th>\n",
              "      <th>weapdetail</th>\n",
              "      <th>nkill</th>\n",
              "      <th>nkillus</th>\n",
              "      <th>nkillter</th>\n",
              "      <th>nwound</th>\n",
              "      <th>nwoundus</th>\n",
              "      <th>nwoundte</th>\n",
              "      <th>property</th>\n",
              "      <th>propextent</th>\n",
              "      <th>propextent_txt</th>\n",
              "      <th>propvalue</th>\n",
              "      <th>propcomment</th>\n",
              "      <th>ishostkid</th>\n",
              "      <th>nhostkid</th>\n",
              "      <th>nhostkidus</th>\n",
              "      <th>nhours</th>\n",
              "      <th>ndays</th>\n",
              "      <th>divert</th>\n",
              "      <th>kidhijcountry</th>\n",
              "      <th>ransom</th>\n",
              "      <th>ransomamt</th>\n",
              "      <th>ransomamtus</th>\n",
              "      <th>ransompaid</th>\n",
              "      <th>ransompaidus</th>\n",
              "      <th>ransomnote</th>\n",
              "      <th>hostkidoutcome</th>\n",
              "      <th>hostkidoutcome_txt</th>\n",
              "      <th>nreleased</th>\n",
              "      <th>addnotes</th>\n",
              "      <th>scite1</th>\n",
              "      <th>scite2</th>\n",
              "      <th>scite3</th>\n",
              "      <th>dbsource</th>\n",
              "      <th>INT_LOG</th>\n",
              "      <th>INT_IDEO</th>\n",
              "      <th>INT_MISC</th>\n",
              "      <th>INT_ANY</th>\n",
              "      <th>related</th>\n",
              "    </tr>\n",
              "  </thead>\n",
              "  <tbody>\n",
              "    <tr>\n",
              "      <th>585</th>\n",
              "      <td>197011010001</td>\n",
              "      <td>1970</td>\n",
              "      <td>11</td>\n",
              "      <td>1</td>\n",
              "      <td>NaN</td>\n",
              "      <td>0</td>\n",
              "      <td>NaT</td>\n",
              "      <td>153</td>\n",
              "      <td>Pakistan</td>\n",
              "      <td>6</td>\n",
              "      <td>South Asia</td>\n",
              "      <td>Sindh</td>\n",
              "      <td>Karachi</td>\n",
              "      <td>24.891115</td>\n",
              "      <td>67.143311</td>\n",
              "      <td>1.0</td>\n",
              "      <td>0</td>\n",
              "      <td>NaN</td>\n",
              "      <td>NaN</td>\n",
              "      <td>1</td>\n",
              "      <td>1</td>\n",
              "      <td>1</td>\n",
              "      <td>0</td>\n",
              "      <td>NaN</td>\n",
              "      <td>NaN</td>\n",
              "      <td>0</td>\n",
              "      <td>1</td>\n",
              "      <td>0</td>\n",
              "      <td>1</td>\n",
              "      <td>Assassination</td>\n",
              "      <td>NaN</td>\n",
              "      <td>NaN</td>\n",
              "      <td>NaN</td>\n",
              "      <td>NaN</td>\n",
              "      <td>7</td>\n",
              "      <td>Government (Diplomatic)</td>\n",
              "      <td>45.0</td>\n",
              "      <td>Diplomatic Personnel (outside of embassy, cons...</td>\n",
              "      <td>Polish Ministry of Foreign Affairs</td>\n",
              "      <td>Deputy Foreign Minister: Zygfryd Wolniak</td>\n",
              "      <td>...</td>\n",
              "      <td>NaN</td>\n",
              "      <td>NaN</td>\n",
              "      <td>Run down by car</td>\n",
              "      <td>4.0</td>\n",
              "      <td>0.0</td>\n",
              "      <td>0.0</td>\n",
              "      <td>20.0</td>\n",
              "      <td>0.0</td>\n",
              "      <td>0.0</td>\n",
              "      <td>0</td>\n",
              "      <td>NaN</td>\n",
              "      <td>NaN</td>\n",
              "      <td>NaN</td>\n",
              "      <td>NaN</td>\n",
              "      <td>0.0</td>\n",
              "      <td>NaN</td>\n",
              "      <td>NaN</td>\n",
              "      <td>NaN</td>\n",
              "      <td>NaN</td>\n",
              "      <td>NaN</td>\n",
              "      <td>NaN</td>\n",
              "      <td>0.0</td>\n",
              "      <td>NaN</td>\n",
              "      <td>NaN</td>\n",
              "      <td>NaN</td>\n",
              "      <td>NaN</td>\n",
              "      <td>NaN</td>\n",
              "      <td>NaN</td>\n",
              "      <td>NaN</td>\n",
              "      <td>NaN</td>\n",
              "      <td>NaN</td>\n",
              "      <td>NaN</td>\n",
              "      <td>NaN</td>\n",
              "      <td>NaN</td>\n",
              "      <td>PGIS</td>\n",
              "      <td>-9</td>\n",
              "      <td>-9</td>\n",
              "      <td>1</td>\n",
              "      <td>1</td>\n",
              "      <td>NaN</td>\n",
              "    </tr>\n",
              "    <tr>\n",
              "      <th>1186</th>\n",
              "      <td>197202220004</td>\n",
              "      <td>1972</td>\n",
              "      <td>2</td>\n",
              "      <td>22</td>\n",
              "      <td>NaN</td>\n",
              "      <td>0</td>\n",
              "      <td>NaT</td>\n",
              "      <td>92</td>\n",
              "      <td>India</td>\n",
              "      <td>6</td>\n",
              "      <td>South Asia</td>\n",
              "      <td>Delhi</td>\n",
              "      <td>New Delhi</td>\n",
              "      <td>28.585836</td>\n",
              "      <td>77.153336</td>\n",
              "      <td>1.0</td>\n",
              "      <td>0</td>\n",
              "      <td>NaN</td>\n",
              "      <td>NaN</td>\n",
              "      <td>1</td>\n",
              "      <td>1</td>\n",
              "      <td>1</td>\n",
              "      <td>0</td>\n",
              "      <td>NaN</td>\n",
              "      <td>NaN</td>\n",
              "      <td>0</td>\n",
              "      <td>1</td>\n",
              "      <td>0</td>\n",
              "      <td>4</td>\n",
              "      <td>Hijacking</td>\n",
              "      <td>NaN</td>\n",
              "      <td>NaN</td>\n",
              "      <td>NaN</td>\n",
              "      <td>NaN</td>\n",
              "      <td>6</td>\n",
              "      <td>Airports &amp; Aircraft</td>\n",
              "      <td>42.0</td>\n",
              "      <td>Aircraft (not at an airport)</td>\n",
              "      <td>Lufthansa</td>\n",
              "      <td>B-747</td>\n",
              "      <td>...</td>\n",
              "      <td>NaN</td>\n",
              "      <td>NaN</td>\n",
              "      <td>Explosives</td>\n",
              "      <td>0.0</td>\n",
              "      <td>0.0</td>\n",
              "      <td>0.0</td>\n",
              "      <td>0.0</td>\n",
              "      <td>0.0</td>\n",
              "      <td>0.0</td>\n",
              "      <td>0</td>\n",
              "      <td>NaN</td>\n",
              "      <td>NaN</td>\n",
              "      <td>NaN</td>\n",
              "      <td>NaN</td>\n",
              "      <td>1.0</td>\n",
              "      <td>187.0</td>\n",
              "      <td>0.0</td>\n",
              "      <td>NaN</td>\n",
              "      <td>NaN</td>\n",
              "      <td>Yemen</td>\n",
              "      <td>Yemen</td>\n",
              "      <td>1.0</td>\n",
              "      <td>5000000.0</td>\n",
              "      <td>NaN</td>\n",
              "      <td>NaN</td>\n",
              "      <td>NaN</td>\n",
              "      <td>NaN</td>\n",
              "      <td>2.0</td>\n",
              "      <td>Hostage(s) released by perpetrators</td>\n",
              "      <td>187.0</td>\n",
              "      <td>NaN</td>\n",
              "      <td>NaN</td>\n",
              "      <td>NaN</td>\n",
              "      <td>NaN</td>\n",
              "      <td>Hijacking DB</td>\n",
              "      <td>1</td>\n",
              "      <td>1</td>\n",
              "      <td>1</td>\n",
              "      <td>1</td>\n",
              "      <td>NaN</td>\n",
              "    </tr>\n",
              "    <tr>\n",
              "      <th>2217</th>\n",
              "      <td>197402020001</td>\n",
              "      <td>1974</td>\n",
              "      <td>2</td>\n",
              "      <td>2</td>\n",
              "      <td>NaN</td>\n",
              "      <td>1</td>\n",
              "      <td>1974-02-03</td>\n",
              "      <td>153</td>\n",
              "      <td>Pakistan</td>\n",
              "      <td>6</td>\n",
              "      <td>South Asia</td>\n",
              "      <td>Sindh</td>\n",
              "      <td>Karachi</td>\n",
              "      <td>24.891115</td>\n",
              "      <td>67.143311</td>\n",
              "      <td>1.0</td>\n",
              "      <td>0</td>\n",
              "      <td>NaN</td>\n",
              "      <td>NaN</td>\n",
              "      <td>1</td>\n",
              "      <td>1</td>\n",
              "      <td>1</td>\n",
              "      <td>0</td>\n",
              "      <td>NaN</td>\n",
              "      <td>NaN</td>\n",
              "      <td>0</td>\n",
              "      <td>1</td>\n",
              "      <td>0</td>\n",
              "      <td>3</td>\n",
              "      <td>Bombing/Explosion</td>\n",
              "      <td>NaN</td>\n",
              "      <td>NaN</td>\n",
              "      <td>NaN</td>\n",
              "      <td>NaN</td>\n",
              "      <td>11</td>\n",
              "      <td>Maritime</td>\n",
              "      <td>58.0</td>\n",
              "      <td>Commercial Maritime</td>\n",
              "      <td>NaN</td>\n",
              "      <td>Greek Freighter in Karachi</td>\n",
              "      <td>...</td>\n",
              "      <td>NaN</td>\n",
              "      <td>NaN</td>\n",
              "      <td>Automatic firearms; Explosive</td>\n",
              "      <td>0.0</td>\n",
              "      <td>NaN</td>\n",
              "      <td>NaN</td>\n",
              "      <td>0.0</td>\n",
              "      <td>NaN</td>\n",
              "      <td>NaN</td>\n",
              "      <td>0</td>\n",
              "      <td>NaN</td>\n",
              "      <td>NaN</td>\n",
              "      <td>NaN</td>\n",
              "      <td>NaN</td>\n",
              "      <td>1.0</td>\n",
              "      <td>2.0</td>\n",
              "      <td>0.0</td>\n",
              "      <td>0.0</td>\n",
              "      <td>1.0</td>\n",
              "      <td>NaN</td>\n",
              "      <td>NaN</td>\n",
              "      <td>0.0</td>\n",
              "      <td>NaN</td>\n",
              "      <td>NaN</td>\n",
              "      <td>NaN</td>\n",
              "      <td>NaN</td>\n",
              "      <td>NaN</td>\n",
              "      <td>2.0</td>\n",
              "      <td>Hostage(s) released by perpetrators</td>\n",
              "      <td>NaN</td>\n",
              "      <td>NaN</td>\n",
              "      <td>NaN</td>\n",
              "      <td>NaN</td>\n",
              "      <td>NaN</td>\n",
              "      <td>PGIS</td>\n",
              "      <td>-9</td>\n",
              "      <td>-9</td>\n",
              "      <td>1</td>\n",
              "      <td>1</td>\n",
              "      <td>NaN</td>\n",
              "    </tr>\n",
              "    <tr>\n",
              "      <th>2705</th>\n",
              "      <td>197412090001</td>\n",
              "      <td>1974</td>\n",
              "      <td>12</td>\n",
              "      <td>9</td>\n",
              "      <td>NaN</td>\n",
              "      <td>0</td>\n",
              "      <td>NaT</td>\n",
              "      <td>153</td>\n",
              "      <td>Pakistan</td>\n",
              "      <td>6</td>\n",
              "      <td>South Asia</td>\n",
              "      <td>North-West Frontier Province</td>\n",
              "      <td>Peshawar</td>\n",
              "      <td>34.006004</td>\n",
              "      <td>71.537430</td>\n",
              "      <td>1.0</td>\n",
              "      <td>0</td>\n",
              "      <td>NaN</td>\n",
              "      <td>NaN</td>\n",
              "      <td>1</td>\n",
              "      <td>1</td>\n",
              "      <td>1</td>\n",
              "      <td>0</td>\n",
              "      <td>NaN</td>\n",
              "      <td>NaN</td>\n",
              "      <td>0</td>\n",
              "      <td>1</td>\n",
              "      <td>0</td>\n",
              "      <td>3</td>\n",
              "      <td>Bombing/Explosion</td>\n",
              "      <td>NaN</td>\n",
              "      <td>NaN</td>\n",
              "      <td>NaN</td>\n",
              "      <td>NaN</td>\n",
              "      <td>7</td>\n",
              "      <td>Government (Diplomatic)</td>\n",
              "      <td>46.0</td>\n",
              "      <td>Embassy/Consulate</td>\n",
              "      <td>NaN</td>\n",
              "      <td>USIS Center</td>\n",
              "      <td>...</td>\n",
              "      <td>NaN</td>\n",
              "      <td>NaN</td>\n",
              "      <td>Explosive</td>\n",
              "      <td>0.0</td>\n",
              "      <td>0.0</td>\n",
              "      <td>NaN</td>\n",
              "      <td>2.0</td>\n",
              "      <td>2.0</td>\n",
              "      <td>NaN</td>\n",
              "      <td>1</td>\n",
              "      <td>3.0</td>\n",
              "      <td>Minor (likely &lt; $1 million)</td>\n",
              "      <td>130000.0</td>\n",
              "      <td>NaN</td>\n",
              "      <td>0.0</td>\n",
              "      <td>NaN</td>\n",
              "      <td>NaN</td>\n",
              "      <td>NaN</td>\n",
              "      <td>NaN</td>\n",
              "      <td>NaN</td>\n",
              "      <td>NaN</td>\n",
              "      <td>0.0</td>\n",
              "      <td>NaN</td>\n",
              "      <td>NaN</td>\n",
              "      <td>NaN</td>\n",
              "      <td>NaN</td>\n",
              "      <td>NaN</td>\n",
              "      <td>NaN</td>\n",
              "      <td>NaN</td>\n",
              "      <td>NaN</td>\n",
              "      <td>NaN</td>\n",
              "      <td>NaN</td>\n",
              "      <td>NaN</td>\n",
              "      <td>NaN</td>\n",
              "      <td>PGIS</td>\n",
              "      <td>-9</td>\n",
              "      <td>-9</td>\n",
              "      <td>1</td>\n",
              "      <td>1</td>\n",
              "      <td>NaN</td>\n",
              "    </tr>\n",
              "    <tr>\n",
              "      <th>2744</th>\n",
              "      <td>197500000001</td>\n",
              "      <td>1975</td>\n",
              "      <td>0</td>\n",
              "      <td>0</td>\n",
              "      <td>NaN</td>\n",
              "      <td>0</td>\n",
              "      <td>NaT</td>\n",
              "      <td>153</td>\n",
              "      <td>Pakistan</td>\n",
              "      <td>6</td>\n",
              "      <td>South Asia</td>\n",
              "      <td>Punjab</td>\n",
              "      <td>Rawalpindi</td>\n",
              "      <td>33.594013</td>\n",
              "      <td>73.069077</td>\n",
              "      <td>1.0</td>\n",
              "      <td>0</td>\n",
              "      <td>NaN</td>\n",
              "      <td>NaN</td>\n",
              "      <td>1</td>\n",
              "      <td>1</td>\n",
              "      <td>1</td>\n",
              "      <td>0</td>\n",
              "      <td>NaN</td>\n",
              "      <td>NaN</td>\n",
              "      <td>0</td>\n",
              "      <td>1</td>\n",
              "      <td>0</td>\n",
              "      <td>3</td>\n",
              "      <td>Bombing/Explosion</td>\n",
              "      <td>NaN</td>\n",
              "      <td>NaN</td>\n",
              "      <td>NaN</td>\n",
              "      <td>NaN</td>\n",
              "      <td>6</td>\n",
              "      <td>Airports &amp; Aircraft</td>\n",
              "      <td>42.0</td>\n",
              "      <td>Aircraft (not at an airport)</td>\n",
              "      <td>NaN</td>\n",
              "      <td>Pakistan Airlines Boeing 707</td>\n",
              "      <td>...</td>\n",
              "      <td>NaN</td>\n",
              "      <td>NaN</td>\n",
              "      <td>Explosive</td>\n",
              "      <td>NaN</td>\n",
              "      <td>NaN</td>\n",
              "      <td>NaN</td>\n",
              "      <td>NaN</td>\n",
              "      <td>NaN</td>\n",
              "      <td>NaN</td>\n",
              "      <td>1</td>\n",
              "      <td>4.0</td>\n",
              "      <td>Unknown</td>\n",
              "      <td>NaN</td>\n",
              "      <td>NaN</td>\n",
              "      <td>0.0</td>\n",
              "      <td>NaN</td>\n",
              "      <td>NaN</td>\n",
              "      <td>NaN</td>\n",
              "      <td>NaN</td>\n",
              "      <td>NaN</td>\n",
              "      <td>NaN</td>\n",
              "      <td>0.0</td>\n",
              "      <td>NaN</td>\n",
              "      <td>NaN</td>\n",
              "      <td>NaN</td>\n",
              "      <td>NaN</td>\n",
              "      <td>NaN</td>\n",
              "      <td>NaN</td>\n",
              "      <td>NaN</td>\n",
              "      <td>NaN</td>\n",
              "      <td>NaN</td>\n",
              "      <td>NaN</td>\n",
              "      <td>NaN</td>\n",
              "      <td>NaN</td>\n",
              "      <td>PGIS</td>\n",
              "      <td>-9</td>\n",
              "      <td>-9</td>\n",
              "      <td>0</td>\n",
              "      <td>-9</td>\n",
              "      <td>NaN</td>\n",
              "    </tr>\n",
              "  </tbody>\n",
              "</table>\n",
              "<p>5 rows × 135 columns</p>\n",
              "</div>"
            ],
            "text/plain": [
              "           eventid  iyear  imonth  iday  ... INT_IDEO  INT_MISC INT_ANY  related\n",
              "585   197011010001   1970      11     1  ...       -9         1       1      NaN\n",
              "1186  197202220004   1972       2    22  ...        1         1       1      NaN\n",
              "2217  197402020001   1974       2     2  ...       -9         1       1      NaN\n",
              "2705  197412090001   1974      12     9  ...       -9         1       1      NaN\n",
              "2744  197500000001   1975       0     0  ...       -9         0      -9      NaN\n",
              "\n",
              "[5 rows x 135 columns]"
            ]
          },
          "metadata": {
            "tags": []
          },
          "execution_count": 6
        }
      ]
    },
    {
      "cell_type": "code",
      "metadata": {
        "id": "8-MwnvhHGnQ2",
        "colab_type": "code",
        "colab": {}
      },
      "source": [
        "sa_ctr = df_sa.groupby(['iyear', 'country_txt']).nkill.sum()"
      ],
      "execution_count": 8,
      "outputs": []
    },
    {
      "cell_type": "code",
      "metadata": {
        "id": "HQHCKAeoLdbC",
        "colab_type": "code",
        "colab": {}
      },
      "source": [
        "df_sa_ctr = sa_ctr.unstack(level=1).reset_index()"
      ],
      "execution_count": 9,
      "outputs": []
    },
    {
      "cell_type": "code",
      "metadata": {
        "id": "-ASDAHQVLhl5",
        "colab_type": "code",
        "colab": {
          "base_uri": "https://localhost:8080/",
          "height": 206
        },
        "outputId": "d60ac87b-4027-474a-9d4d-20734913c594"
      },
      "source": [
        "df_sa_ctr.head()"
      ],
      "execution_count": 10,
      "outputs": [
        {
          "output_type": "execute_result",
          "data": {
            "text/html": [
              "<div>\n",
              "<style scoped>\n",
              "    .dataframe tbody tr th:only-of-type {\n",
              "        vertical-align: middle;\n",
              "    }\n",
              "\n",
              "    .dataframe tbody tr th {\n",
              "        vertical-align: top;\n",
              "    }\n",
              "\n",
              "    .dataframe thead th {\n",
              "        text-align: right;\n",
              "    }\n",
              "</style>\n",
              "<table border=\"1\" class=\"dataframe\">\n",
              "  <thead>\n",
              "    <tr style=\"text-align: right;\">\n",
              "      <th>country_txt</th>\n",
              "      <th>iyear</th>\n",
              "      <th>Bangladesh</th>\n",
              "      <th>Bhutan</th>\n",
              "      <th>India</th>\n",
              "      <th>Pakistan</th>\n",
              "      <th>Sri Lanka</th>\n",
              "    </tr>\n",
              "  </thead>\n",
              "  <tbody>\n",
              "    <tr>\n",
              "      <th>0</th>\n",
              "      <td>1970</td>\n",
              "      <td>NaN</td>\n",
              "      <td>NaN</td>\n",
              "      <td>NaN</td>\n",
              "      <td>4.0</td>\n",
              "      <td>NaN</td>\n",
              "    </tr>\n",
              "    <tr>\n",
              "      <th>1</th>\n",
              "      <td>1972</td>\n",
              "      <td>NaN</td>\n",
              "      <td>NaN</td>\n",
              "      <td>0.0</td>\n",
              "      <td>NaN</td>\n",
              "      <td>NaN</td>\n",
              "    </tr>\n",
              "    <tr>\n",
              "      <th>2</th>\n",
              "      <td>1974</td>\n",
              "      <td>NaN</td>\n",
              "      <td>NaN</td>\n",
              "      <td>NaN</td>\n",
              "      <td>0.0</td>\n",
              "      <td>NaN</td>\n",
              "    </tr>\n",
              "    <tr>\n",
              "      <th>3</th>\n",
              "      <td>1975</td>\n",
              "      <td>NaN</td>\n",
              "      <td>NaN</td>\n",
              "      <td>4.0</td>\n",
              "      <td>1.0</td>\n",
              "      <td>1.0</td>\n",
              "    </tr>\n",
              "    <tr>\n",
              "      <th>4</th>\n",
              "      <td>1976</td>\n",
              "      <td>NaN</td>\n",
              "      <td>NaN</td>\n",
              "      <td>0.0</td>\n",
              "      <td>1.0</td>\n",
              "      <td>NaN</td>\n",
              "    </tr>\n",
              "  </tbody>\n",
              "</table>\n",
              "</div>"
            ],
            "text/plain": [
              "country_txt  iyear  Bangladesh  Bhutan  India  Pakistan  Sri Lanka\n",
              "0             1970         NaN     NaN    NaN       4.0        NaN\n",
              "1             1972         NaN     NaN    0.0       NaN        NaN\n",
              "2             1974         NaN     NaN    NaN       0.0        NaN\n",
              "3             1975         NaN     NaN    4.0       1.0        1.0\n",
              "4             1976         NaN     NaN    0.0       1.0        NaN"
            ]
          },
          "metadata": {
            "tags": []
          },
          "execution_count": 10
        }
      ]
    },
    {
      "cell_type": "code",
      "metadata": {
        "id": "r9N2ZQcRLj3-",
        "colab_type": "code",
        "colab": {}
      },
      "source": [
        "df_sa_ctr = df_sa_ctr.fillna(0)"
      ],
      "execution_count": 11,
      "outputs": []
    },
    {
      "cell_type": "code",
      "metadata": {
        "id": "000cB-KpLqNu",
        "colab_type": "code",
        "colab": {
          "base_uri": "https://localhost:8080/",
          "height": 139
        },
        "outputId": "5cc76436-6754-4951-dc8f-b89e7e215887"
      },
      "source": [
        "sa_ctr_sum = df_sa_ctr.iloc[:, 1:].sum(axis = 0, skipna = True) \n",
        "sa_ctr_sum"
      ],
      "execution_count": 15,
      "outputs": [
        {
          "output_type": "execute_result",
          "data": {
            "text/plain": [
              "country_txt\n",
              "Bangladesh     1257.0\n",
              "Bhutan            9.0\n",
              "India         19753.0\n",
              "Pakistan      24520.0\n",
              "Sri Lanka     15533.0\n",
              "dtype: float64"
            ]
          },
          "metadata": {
            "tags": []
          },
          "execution_count": 15
        }
      ]
    },
    {
      "cell_type": "code",
      "metadata": {
        "id": "cFd_LYNsMA4Z",
        "colab_type": "code",
        "colab": {}
      },
      "source": [
        "total_values = sum(sa_ctr_sum)\n",
        "category_proportions = [(float(value) / total_values) for value in sa_ctr_sum]"
      ],
      "execution_count": 17,
      "outputs": []
    },
    {
      "cell_type": "code",
      "metadata": {
        "id": "jS6C6KGzMphx",
        "colab_type": "code",
        "colab": {
          "base_uri": "https://localhost:8080/",
          "height": 52
        },
        "outputId": "01f37c0f-3d1d-4008-9159-7b46358e8ec5"
      },
      "source": [
        "print('total: {}\\nproportions: {}'.format(total_values, category_proportions))"
      ],
      "execution_count": 18,
      "outputs": [
        {
          "output_type": "stream",
          "text": [
            "total: 61072.0\n",
            "proportions: [0.02058226355776788, 0.0001473670421797223, 0.32343790935289496, 0.4014933193607545, 0.25433914068640295]\n"
          ],
          "name": "stdout"
        }
      ]
    },
    {
      "cell_type": "code",
      "metadata": {
        "id": "a35dPvL-NZtq",
        "colab_type": "code",
        "colab": {
          "base_uri": "https://localhost:8080/",
          "height": 34
        },
        "outputId": "172244a4-f857-46e6-af6f-782a63829cb3"
      },
      "source": [
        "width = 40 # width of chart\n",
        "height = 10 # height of chart\n",
        "\n",
        "total_num_tiles = width * height # total number of tiles\n",
        "\n",
        "print ('Total number of tiles is ', total_num_tiles)"
      ],
      "execution_count": 19,
      "outputs": [
        {
          "output_type": "stream",
          "text": [
            "Total number of tiles is  400\n"
          ],
          "name": "stdout"
        }
      ]
    },
    {
      "cell_type": "code",
      "metadata": {
        "id": "6XND9MaDNr8V",
        "colab_type": "code",
        "colab": {
          "base_uri": "https://localhost:8080/",
          "height": 104
        },
        "outputId": "3d035305-0b70-417e-dea7-da3820808de5"
      },
      "source": [
        "# compute the number of tiles for each catagory\n",
        "tiles_per_category = [round(proportion * total_num_tiles) for proportion in category_proportions]\n",
        "\n",
        "# print out number of tiles per category\n",
        "for i, tiles in enumerate(tiles_per_category):\n",
        "    print (sa_ctr_sum.index[i] + ': ' + str(tiles))"
      ],
      "execution_count": 20,
      "outputs": [
        {
          "output_type": "stream",
          "text": [
            "Bangladesh: 8\n",
            "Bhutan: 0\n",
            "India: 129\n",
            "Pakistan: 161\n",
            "Sri Lanka: 102\n"
          ],
          "name": "stdout"
        }
      ]
    },
    {
      "cell_type": "code",
      "metadata": {
        "id": "2dbEteIhOE0l",
        "colab_type": "code",
        "colab": {
          "base_uri": "https://localhost:8080/",
          "height": 34
        },
        "outputId": "54055130-8d2e-423f-cfd0-4f6fbb3278fd"
      },
      "source": [
        "# initialize the waffle chart as an empty matrix\n",
        "waffle_chart = np.zeros((height, width))\n",
        "\n",
        "# define indices to loop through waffle chart\n",
        "category_index = 0\n",
        "tile_index = 0\n",
        "\n",
        "# populate the waffle chart\n",
        "for col in range(width):\n",
        "    for row in range(height):\n",
        "        tile_index += 1\n",
        "\n",
        "        # if the number of tiles populated for the current category is equal to its corresponding allocated tiles...\n",
        "        if tile_index > sum(tiles_per_category[0:category_index]):\n",
        "            # ...proceed to the next category\n",
        "            category_index += 1       \n",
        "            \n",
        "        # set the class value to an integer, which increases with class\n",
        "        waffle_chart[row, col] = category_index\n",
        "        \n",
        "print ('Waffle chart populated!')"
      ],
      "execution_count": 23,
      "outputs": [
        {
          "output_type": "stream",
          "text": [
            "Waffle chart populated!\n"
          ],
          "name": "stdout"
        }
      ]
    },
    {
      "cell_type": "code",
      "metadata": {
        "id": "sXy7knJhOKnD",
        "colab_type": "code",
        "colab": {
          "base_uri": "https://localhost:8080/",
          "height": 538
        },
        "outputId": "9a299cdb-defc-4df4-8ff6-d9857393d269"
      },
      "source": [
        "waffle_chart"
      ],
      "execution_count": 24,
      "outputs": [
        {
          "output_type": "execute_result",
          "data": {
            "text/plain": [
              "array([[1., 3., 3., 3., 3., 3., 3., 3., 3., 3., 3., 3., 3., 3., 4., 4.,\n",
              "        4., 4., 4., 4., 4., 4., 4., 4., 4., 4., 4., 4., 4., 4., 5., 5.,\n",
              "        5., 5., 5., 5., 5., 5., 5., 5.],\n",
              "       [1., 3., 3., 3., 3., 3., 3., 3., 3., 3., 3., 3., 3., 3., 4., 4.,\n",
              "        4., 4., 4., 4., 4., 4., 4., 4., 4., 4., 4., 4., 4., 4., 5., 5.,\n",
              "        5., 5., 5., 5., 5., 5., 5., 5.],\n",
              "       [1., 3., 3., 3., 3., 3., 3., 3., 3., 3., 3., 3., 3., 3., 4., 4.,\n",
              "        4., 4., 4., 4., 4., 4., 4., 4., 4., 4., 4., 4., 4., 4., 5., 5.,\n",
              "        5., 5., 5., 5., 5., 5., 5., 5.],\n",
              "       [1., 3., 3., 3., 3., 3., 3., 3., 3., 3., 3., 3., 3., 3., 4., 4.,\n",
              "        4., 4., 4., 4., 4., 4., 4., 4., 4., 4., 4., 4., 4., 4., 5., 5.,\n",
              "        5., 5., 5., 5., 5., 5., 5., 5.],\n",
              "       [1., 3., 3., 3., 3., 3., 3., 3., 3., 3., 3., 3., 3., 3., 4., 4.,\n",
              "        4., 4., 4., 4., 4., 4., 4., 4., 4., 4., 4., 4., 4., 4., 5., 5.,\n",
              "        5., 5., 5., 5., 5., 5., 5., 5.],\n",
              "       [1., 3., 3., 3., 3., 3., 3., 3., 3., 3., 3., 3., 3., 3., 4., 4.,\n",
              "        4., 4., 4., 4., 4., 4., 4., 4., 4., 4., 4., 4., 4., 4., 5., 5.,\n",
              "        5., 5., 5., 5., 5., 5., 5., 5.],\n",
              "       [1., 3., 3., 3., 3., 3., 3., 3., 3., 3., 3., 3., 3., 3., 4., 4.,\n",
              "        4., 4., 4., 4., 4., 4., 4., 4., 4., 4., 4., 4., 4., 4., 5., 5.,\n",
              "        5., 5., 5., 5., 5., 5., 5., 5.],\n",
              "       [1., 3., 3., 3., 3., 3., 3., 3., 3., 3., 3., 3., 3., 4., 4., 4.,\n",
              "        4., 4., 4., 4., 4., 4., 4., 4., 4., 4., 4., 4., 4., 4., 5., 5.,\n",
              "        5., 5., 5., 5., 5., 5., 5., 5.],\n",
              "       [2., 3., 3., 3., 3., 3., 3., 3., 3., 3., 3., 3., 3., 4., 4., 4.,\n",
              "        4., 4., 4., 4., 4., 4., 4., 4., 4., 4., 4., 4., 4., 5., 5., 5.,\n",
              "        5., 5., 5., 5., 5., 5., 5., 5.],\n",
              "       [3., 3., 3., 3., 3., 3., 3., 3., 3., 3., 3., 3., 3., 4., 4., 4.,\n",
              "        4., 4., 4., 4., 4., 4., 4., 4., 4., 4., 4., 4., 4., 5., 5., 5.,\n",
              "        5., 5., 5., 5., 5., 5., 5., 5.]])"
            ]
          },
          "metadata": {
            "tags": []
          },
          "execution_count": 24
        }
      ]
    },
    {
      "cell_type": "code",
      "metadata": {
        "id": "3iDg3ZfOORUa",
        "colab_type": "code",
        "colab": {
          "base_uri": "https://localhost:8080/",
          "height": 299
        },
        "outputId": "0d0a424b-9bc9-4c8f-e3b9-86ea2fae26ce"
      },
      "source": [
        "# instantiate a new figure object\n",
        "fig = plt.figure()\n",
        "\n",
        "# use matshow to display the waffle chart\n",
        "colormap = plt.cm.coolwarm\n",
        "plt.matshow(waffle_chart, cmap=colormap)\n",
        "plt.colorbar()"
      ],
      "execution_count": 25,
      "outputs": [
        {
          "output_type": "execute_result",
          "data": {
            "text/plain": [
              "<matplotlib.colorbar.Colorbar at 0x7fe767abdd30>"
            ]
          },
          "metadata": {
            "tags": []
          },
          "execution_count": 25
        },
        {
          "output_type": "display_data",
          "data": {
            "text/plain": [
              "<Figure size 432x288 with 0 Axes>"
            ]
          },
          "metadata": {
            "tags": []
          }
        },
        {
          "output_type": "display_data",
          "data": {
            "image/png": "[encoded data removed]",
            "text/plain": [
              "<Figure size 1152x288 with 2 Axes>"
            ]
          },
          "metadata": {
            "tags": [],
            "needs_background": "light"
          }
        }
      ]
    },
    {
      "cell_type": "code",
      "metadata": {
        "id": "OB2ZJMBnOVCx",
        "colab_type": "code",
        "colab": {
          "base_uri": "https://localhost:8080/",
          "height": 299
        },
        "outputId": "ec49212d-f8a6-41d1-b715-b312835696a0"
      },
      "source": [
        "# instantiate a new figure object\n",
        "fig = plt.figure()\n",
        "\n",
        "# use matshow to display the waffle chart\n",
        "colormap = plt.cm.coolwarm\n",
        "plt.matshow(waffle_chart, cmap=colormap)\n",
        "plt.colorbar()\n",
        "\n",
        "# get the axis\n",
        "ax = plt.gca()\n",
        "\n",
        "# set minor ticks\n",
        "ax.set_xticks(np.arange(-.5, (width), 1), minor=True)\n",
        "ax.set_yticks(np.arange(-.5, (height), 1), minor=True)\n",
        "    \n",
        "# add gridlines based on minor ticks\n",
        "ax.grid(which='minor', color='w', linestyle='-', linewidth=2)\n",
        "\n",
        "plt.xticks([])\n",
        "plt.yticks([])"
      ],
      "execution_count": 26,
      "outputs": [
        {
          "output_type": "execute_result",
          "data": {
            "text/plain": [
              "([], <a list of 0 Text major ticklabel objects>)"
            ]
          },
          "metadata": {
            "tags": []
          },
          "execution_count": 26
        },
        {
          "output_type": "display_data",
          "data": {
            "text/plain": [
              "<Figure size 432x288 with 0 Axes>"
            ]
          },
          "metadata": {
            "tags": []
          }
        },
        {
          "output_type": "display_data",
          "data": {
            "image/png": "[encoded data removed]",
            "text/plain": [
              "<Figure size 1152x288 with 2 Axes>"
            ]
          },
          "metadata": {
            "tags": [],
            "needs_background": "light"
          }
        }
      ]
    },
    {
      "cell_type": "code",
      "metadata": {
        "id": "UIHk1HgQOaEn",
        "colab_type": "code",
        "colab": {
          "base_uri": "https://localhost:8080/",
          "height": 301
        },
        "outputId": "e64f574d-6250-424f-e98e-e1677f2944cc"
      },
      "source": [
        "# instantiate a new figure object\n",
        "fig = plt.figure()\n",
        "\n",
        "# use matshow to display the waffle chart\n",
        "colormap = plt.cm.coolwarm\n",
        "plt.matshow(waffle_chart, cmap=colormap)\n",
        "plt.colorbar()\n",
        "\n",
        "# get the axis\n",
        "ax = plt.gca()\n",
        "\n",
        "# set minor ticks\n",
        "ax.set_xticks(np.arange(-.5, (width), 1), minor=True)\n",
        "ax.set_yticks(np.arange(-.5, (height), 1), minor=True)\n",
        "    \n",
        "# add gridlines based on minor ticks\n",
        "ax.grid(which='minor', color='w', linestyle='-', linewidth=2)\n",
        "\n",
        "plt.xticks([])\n",
        "plt.yticks([])\n",
        "\n",
        "# compute cumulative sum of individual categories to match color schemes between chart and legend\n",
        "values_cumsum = np.cumsum(sa_ctr_sum)\n",
        "total_values = values_cumsum[len(values_cumsum) - 1]\n",
        "\n",
        "# create legend\n",
        "legend_handles = []\n",
        "for i, category in enumerate(sa_ctr_sum.index):\n",
        "    label_str = category + ' (' + str(sa_ctr_sum[i]) + ')'\n",
        "    color_val = colormap(float(values_cumsum[i])/total_values)\n",
        "    legend_handles.append(mpatches.Patch(color=color_val, label=label_str))\n",
        "\n",
        "# add legend to chart\n",
        "plt.legend(handles=legend_handles,\n",
        "           loc='lower center', \n",
        "           ncol=len(sa_ctr_sum.index),\n",
        "           bbox_to_anchor=(0., -0.2, 0.95, .1)\n",
        "          )"
      ],
      "execution_count": 30,
      "outputs": [
        {
          "output_type": "execute_result",
          "data": {
            "text/plain": [
              "<matplotlib.legend.Legend at 0x7fe767157668>"
            ]
          },
          "metadata": {
            "tags": []
          },
          "execution_count": 30
        },
        {
          "output_type": "display_data",
          "data": {
            "text/plain": [
              "<Figure size 432x288 with 0 Axes>"
            ]
          },
          "metadata": {
            "tags": []
          }
        },
        {
          "output_type": "display_data",
          "data": {
            "image/png": "[encoded data removed]",
            "text/plain": [
              "<Figure size 1152x288 with 2 Axes>"
            ]
          },
          "metadata": {
            "tags": [],
            "needs_background": "light"
          }
        }
      ]
    },
    {
      "cell_type": "markdown",
      "metadata": {
        "id": "Vf-2PTYcQJ9h",
        "colab_type": "text"
      },
      "source": [
        "Problem: the legend. Bhutan indeed should be colour blue, since the low number of casualties in this country does not translate to even a single tile. But India is represented by colour gray. Should we dispose of Bhutan? It might solve the issue, since the presence of a country not assigned a single tile disrupts the visualization."
      ]
    },
    {
      "cell_type": "code",
      "metadata": {
        "id": "2tFz3XCRPIZR",
        "colab_type": "code",
        "colab": {
          "base_uri": "https://localhost:8080/",
          "height": 121
        },
        "outputId": "16326458-279a-45a7-f1ae-f4e1e181f203"
      },
      "source": [
        "sa_ctr_sum = sa_ctr_sum.drop('Bhutan')\n",
        "sa_ctr_sum"
      ],
      "execution_count": 31,
      "outputs": [
        {
          "output_type": "execute_result",
          "data": {
            "text/plain": [
              "country_txt\n",
              "Bangladesh     1257.0\n",
              "India         19753.0\n",
              "Pakistan      24520.0\n",
              "Sri Lanka     15533.0\n",
              "dtype: float64"
            ]
          },
          "metadata": {
            "tags": []
          },
          "execution_count": 31
        }
      ]
    },
    {
      "cell_type": "code",
      "metadata": {
        "colab_type": "code",
        "id": "WFqBj_SYQ6CH",
        "colab": {}
      },
      "source": [
        "total_values = sum(sa_ctr_sum)\n",
        "category_proportions = [(float(value) / total_values) for value in sa_ctr_sum]"
      ],
      "execution_count": 32,
      "outputs": []
    },
    {
      "cell_type": "code",
      "metadata": {
        "colab_type": "code",
        "id": "t8O0Z1hPQ6Cf",
        "colab": {
          "base_uri": "https://localhost:8080/",
          "height": 52
        },
        "outputId": "a26ee553-d77a-46d7-a2c9-024962982a9c"
      },
      "source": [
        "print('total: {}\\nproportions: {}'.format(total_values, category_proportions))"
      ],
      "execution_count": 33,
      "outputs": [
        {
          "output_type": "stream",
          "text": [
            "total: 61063.0\n",
            "proportions: [0.020585297152121578, 0.323485580466076, 0.4015524949642173, 0.2543766274175851]\n"
          ],
          "name": "stdout"
        }
      ]
    },
    {
      "cell_type": "code",
      "metadata": {
        "colab_type": "code",
        "id": "5gwob5b5Q6Cu",
        "colab": {
          "base_uri": "https://localhost:8080/",
          "height": 34
        },
        "outputId": "797635bf-aa8e-4a10-f54c-03d79add9722"
      },
      "source": [
        "width = 40 # width of chart\n",
        "height = 10 # height of chart\n",
        "\n",
        "total_num_tiles = width * height # total number of tiles\n",
        "\n",
        "print ('Total number of tiles is ', total_num_tiles)"
      ],
      "execution_count": 34,
      "outputs": [
        {
          "output_type": "stream",
          "text": [
            "Total number of tiles is  400\n"
          ],
          "name": "stdout"
        }
      ]
    },
    {
      "cell_type": "code",
      "metadata": {
        "colab_type": "code",
        "id": "b_GC0pHMQ6C5",
        "colab": {
          "base_uri": "https://localhost:8080/",
          "height": 86
        },
        "outputId": "d1c4e551-d9b2-41e3-975d-6a41db812ac6"
      },
      "source": [
        "# compute the number of tiles for each catagory\n",
        "tiles_per_category = [round(proportion * total_num_tiles) for proportion in category_proportions]\n",
        "\n",
        "# print out number of tiles per category\n",
        "for i, tiles in enumerate(tiles_per_category):\n",
        "    print (sa_ctr_sum.index[i] + ': ' + str(tiles))"
      ],
      "execution_count": 35,
      "outputs": [
        {
          "output_type": "stream",
          "text": [
            "Bangladesh: 8\n",
            "India: 129\n",
            "Pakistan: 161\n",
            "Sri Lanka: 102\n"
          ],
          "name": "stdout"
        }
      ]
    },
    {
      "cell_type": "code",
      "metadata": {
        "colab_type": "code",
        "id": "UFdo-4NnQ6DD",
        "colab": {
          "base_uri": "https://localhost:8080/",
          "height": 34
        },
        "outputId": "7f55e790-b235-4ae1-b4ef-7ed54ffb4d8d"
      },
      "source": [
        "# initialize the waffle chart as an empty matrix\n",
        "waffle_chart = np.zeros((height, width))\n",
        "\n",
        "# define indices to loop through waffle chart\n",
        "category_index = 0\n",
        "tile_index = 0\n",
        "\n",
        "# populate the waffle chart\n",
        "for col in range(width):\n",
        "    for row in range(height):\n",
        "        tile_index += 1\n",
        "\n",
        "        # if the number of tiles populated for the current category is equal to its corresponding allocated tiles...\n",
        "        if tile_index > sum(tiles_per_category[0:category_index]):\n",
        "            # ...proceed to the next category\n",
        "            category_index += 1       \n",
        "            \n",
        "        # set the class value to an integer, which increases with class\n",
        "        waffle_chart[row, col] = category_index\n",
        "        \n",
        "print ('Waffle chart populated!')"
      ],
      "execution_count": 36,
      "outputs": [
        {
          "output_type": "stream",
          "text": [
            "Waffle chart populated!\n"
          ],
          "name": "stdout"
        }
      ]
    },
    {
      "cell_type": "code",
      "metadata": {
        "colab_type": "code",
        "id": "k915Q_nmQ6DR",
        "colab": {
          "base_uri": "https://localhost:8080/",
          "height": 538
        },
        "outputId": "7d8615d5-b317-43d2-f280-47d75a5abdf5"
      },
      "source": [
        "waffle_chart"
      ],
      "execution_count": 37,
      "outputs": [
        {
          "output_type": "execute_result",
          "data": {
            "text/plain": [
              "array([[1., 2., 2., 2., 2., 2., 2., 2., 2., 2., 2., 2., 2., 2., 3., 3.,\n",
              "        3., 3., 3., 3., 3., 3., 3., 3., 3., 3., 3., 3., 3., 3., 4., 4.,\n",
              "        4., 4., 4., 4., 4., 4., 4., 4.],\n",
              "       [1., 2., 2., 2., 2., 2., 2., 2., 2., 2., 2., 2., 2., 2., 3., 3.,\n",
              "        3., 3., 3., 3., 3., 3., 3., 3., 3., 3., 3., 3., 3., 3., 4., 4.,\n",
              "        4., 4., 4., 4., 4., 4., 4., 4.],\n",
              "       [1., 2., 2., 2., 2., 2., 2., 2., 2., 2., 2., 2., 2., 2., 3., 3.,\n",
              "        3., 3., 3., 3., 3., 3., 3., 3., 3., 3., 3., 3., 3., 3., 4., 4.,\n",
              "        4., 4., 4., 4., 4., 4., 4., 4.],\n",
              "       [1., 2., 2., 2., 2., 2., 2., 2., 2., 2., 2., 2., 2., 2., 3., 3.,\n",
              "        3., 3., 3., 3., 3., 3., 3., 3., 3., 3., 3., 3., 3., 3., 4., 4.,\n",
              "        4., 4., 4., 4., 4., 4., 4., 4.],\n",
              "       [1., 2., 2., 2., 2., 2., 2., 2., 2., 2., 2., 2., 2., 2., 3., 3.,\n",
              "        3., 3., 3., 3., 3., 3., 3., 3., 3., 3., 3., 3., 3., 3., 4., 4.,\n",
              "        4., 4., 4., 4., 4., 4., 4., 4.],\n",
              "       [1., 2., 2., 2., 2., 2., 2., 2., 2., 2., 2., 2., 2., 2., 3., 3.,\n",
              "        3., 3., 3., 3., 3., 3., 3., 3., 3., 3., 3., 3., 3., 3., 4., 4.,\n",
              "        4., 4., 4., 4., 4., 4., 4., 4.],\n",
              "       [1., 2., 2., 2., 2., 2., 2., 2., 2., 2., 2., 2., 2., 2., 3., 3.,\n",
              "        3., 3., 3., 3., 3., 3., 3., 3., 3., 3., 3., 3., 3., 3., 4., 4.,\n",
              "        4., 4., 4., 4., 4., 4., 4., 4.],\n",
              "       [1., 2., 2., 2., 2., 2., 2., 2., 2., 2., 2., 2., 2., 3., 3., 3.,\n",
              "        3., 3., 3., 3., 3., 3., 3., 3., 3., 3., 3., 3., 3., 3., 4., 4.,\n",
              "        4., 4., 4., 4., 4., 4., 4., 4.],\n",
              "       [2., 2., 2., 2., 2., 2., 2., 2., 2., 2., 2., 2., 2., 3., 3., 3.,\n",
              "        3., 3., 3., 3., 3., 3., 3., 3., 3., 3., 3., 3., 3., 4., 4., 4.,\n",
              "        4., 4., 4., 4., 4., 4., 4., 4.],\n",
              "       [2., 2., 2., 2., 2., 2., 2., 2., 2., 2., 2., 2., 2., 3., 3., 3.,\n",
              "        3., 3., 3., 3., 3., 3., 3., 3., 3., 3., 3., 3., 3., 4., 4., 4.,\n",
              "        4., 4., 4., 4., 4., 4., 4., 4.]])"
            ]
          },
          "metadata": {
            "tags": []
          },
          "execution_count": 37
        }
      ]
    },
    {
      "cell_type": "code",
      "metadata": {
        "colab_type": "code",
        "id": "T2tRmAAVQ6Db",
        "colab": {
          "base_uri": "https://localhost:8080/",
          "height": 299
        },
        "outputId": "0b4ee4a8-af4f-4949-abae-d698bd1dd1ec"
      },
      "source": [
        "# instantiate a new figure object\n",
        "fig = plt.figure()\n",
        "\n",
        "# use matshow to display the waffle chart\n",
        "colormap = plt.cm.coolwarm\n",
        "plt.matshow(waffle_chart, cmap=colormap)\n",
        "plt.colorbar()"
      ],
      "execution_count": 38,
      "outputs": [
        {
          "output_type": "execute_result",
          "data": {
            "text/plain": [
              "<matplotlib.colorbar.Colorbar at 0x7fe767217198>"
            ]
          },
          "metadata": {
            "tags": []
          },
          "execution_count": 38
        },
        {
          "output_type": "display_data",
          "data": {
            "text/plain": [
              "<Figure size 432x288 with 0 Axes>"
            ]
          },
          "metadata": {
            "tags": []
          }
        },
        {
          "output_type": "display_data",
          "data": {
            "image/png": "[encoded data removed]",
            "text/plain": [
              "<Figure size 1152x288 with 2 Axes>"
            ]
          },
          "metadata": {
            "tags": [],
            "needs_background": "light"
          }
        }
      ]
    },
    {
      "cell_type": "code",
      "metadata": {
        "colab_type": "code",
        "id": "cxb4maFcQ6Dm",
        "colab": {
          "base_uri": "https://localhost:8080/",
          "height": 299
        },
        "outputId": "1baa958c-d11d-4fb5-ccf9-e267922294b6"
      },
      "source": [
        "# instantiate a new figure object\n",
        "fig = plt.figure()\n",
        "\n",
        "# use matshow to display the waffle chart\n",
        "colormap = plt.cm.coolwarm\n",
        "plt.matshow(waffle_chart, cmap=colormap)\n",
        "plt.colorbar()\n",
        "\n",
        "# get the axis\n",
        "ax = plt.gca()\n",
        "\n",
        "# set minor ticks\n",
        "ax.set_xticks(np.arange(-.5, (width), 1), minor=True)\n",
        "ax.set_yticks(np.arange(-.5, (height), 1), minor=True)\n",
        "    \n",
        "# add gridlines based on minor ticks\n",
        "ax.grid(which='minor', color='w', linestyle='-', linewidth=2)\n",
        "\n",
        "plt.xticks([])\n",
        "plt.yticks([])"
      ],
      "execution_count": 39,
      "outputs": [
        {
          "output_type": "execute_result",
          "data": {
            "text/plain": [
              "([], <a list of 0 Text major ticklabel objects>)"
            ]
          },
          "metadata": {
            "tags": []
          },
          "execution_count": 39
        },
        {
          "output_type": "display_data",
          "data": {
            "text/plain": [
              "<Figure size 432x288 with 0 Axes>"
            ]
          },
          "metadata": {
            "tags": []
          }
        },
        {
          "output_type": "display_data",
          "data": {
            "image/png": "[encoded data removed]",
            "text/plain": [
              "<Figure size 1152x288 with 2 Axes>"
            ]
          },
          "metadata": {
            "tags": [],
            "needs_background": "light"
          }
        }
      ]
    },
    {
      "cell_type": "code",
      "metadata": {
        "colab_type": "code",
        "id": "HOcJQ_rKQ6Dt",
        "colab": {
          "base_uri": "https://localhost:8080/",
          "height": 301
        },
        "outputId": "0afda327-cf48-429f-ca70-4b237c290dbf"
      },
      "source": [
        "# instantiate a new figure object\n",
        "fig = plt.figure()\n",
        "\n",
        "# use matshow to display the waffle chart\n",
        "colormap = plt.cm.coolwarm\n",
        "plt.matshow(waffle_chart, cmap=colormap)\n",
        "plt.colorbar()\n",
        "\n",
        "# get the axis\n",
        "ax = plt.gca()\n",
        "\n",
        "# set minor ticks\n",
        "ax.set_xticks(np.arange(-.5, (width), 1), minor=True)\n",
        "ax.set_yticks(np.arange(-.5, (height), 1), minor=True)\n",
        "    \n",
        "# add gridlines based on minor ticks\n",
        "ax.grid(which='minor', color='w', linestyle='-', linewidth=2)\n",
        "\n",
        "plt.xticks([])\n",
        "plt.yticks([])\n",
        "\n",
        "# compute cumulative sum of individual categories to match color schemes between chart and legend\n",
        "values_cumsum = np.cumsum(sa_ctr_sum)\n",
        "total_values = values_cumsum[len(values_cumsum) - 1]\n",
        "\n",
        "# create legend\n",
        "legend_handles = []\n",
        "for i, category in enumerate(sa_ctr_sum.index):\n",
        "    label_str = category + ' (' + str(sa_ctr_sum[i]) + ')'\n",
        "    color_val = colormap(float(values_cumsum[i])/total_values)\n",
        "    legend_handles.append(mpatches.Patch(color=color_val, label=label_str))\n",
        "\n",
        "# add legend to chart\n",
        "plt.legend(handles=legend_handles,\n",
        "           loc='lower center', \n",
        "           ncol=len(sa_ctr_sum.index),\n",
        "           bbox_to_anchor=(0., -0.2, 0.95, .1)\n",
        "          )"
      ],
      "execution_count": 40,
      "outputs": [
        {
          "output_type": "execute_result",
          "data": {
            "text/plain": [
              "<matplotlib.legend.Legend at 0x7fe76715d550>"
            ]
          },
          "metadata": {
            "tags": []
          },
          "execution_count": 40
        },
        {
          "output_type": "display_data",
          "data": {
            "text/plain": [
              "<Figure size 432x288 with 0 Axes>"
            ]
          },
          "metadata": {
            "tags": []
          }
        },
        {
          "output_type": "display_data",
          "data": {
            "image/png": "[encoded data removed]",
            "text/plain": [
              "<Figure size 1152x288 with 2 Axes>"
            ]
          },
          "metadata": {
            "tags": [],
            "needs_background": "light"
          }
        }
      ]
    },
    {
      "cell_type": "markdown",
      "metadata": {
        "id": "BQV9SfcRRCAh",
        "colab_type": "text"
      },
      "source": [
        "This has indeed fixed the problem."
      ]
    }
  ]
}