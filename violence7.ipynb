{
  "nbformat": 4,
  "nbformat_minor": 0,
  "metadata": {
    "colab": {
      "name": "violence7.ipynb",
      "provenance": [],
      "authorship_tag": "ABX9TyOSOAGAe87+xZ4Sxran4A7i",
      "include_colab_link": true
    },
    "kernelspec": {
      "name": "python3",
      "display_name": "Python 3"
    }
  },
  "cells": [
    {
      "cell_type": "markdown",
      "metadata": {
        "id": "view-in-github",
        "colab_type": "text"
      },
      "source": [
        "<a href=\"https://colab.research.google.com/github/kleczekr/tolkenizer/blob/master/violence7.ipynb\" target=\"_parent\"><img src=\"https://colab.research.google.com/assets/colab-badge.svg\" alt=\"Open In Colab\"/></a>"
      ]
    },
    {
      "cell_type": "code",
      "metadata": {
        "id": "5a6ATBgGnLI_",
        "colab_type": "code",
        "colab": {}
      },
      "source": [
        "%matplotlib inline \n",
        "\n",
        "import pandas as pd\n",
        "import matplotlib as mpl\n",
        "import matplotlib.pyplot as plt\n",
        "import matplotlib.patches as mpatches # needed for waffle Charts\n",
        "# import seaborn as sns\n",
        "import numpy as np"
      ],
      "execution_count": 1,
      "outputs": []
    },
    {
      "cell_type": "code",
      "metadata": {
        "id": "0skcUQYluz6n",
        "colab_type": "code",
        "colab": {}
      },
      "source": [
        "mpl.style.use(['ggplot'])"
      ],
      "execution_count": 2,
      "outputs": []
    },
    {
      "cell_type": "code",
      "metadata": {
        "id": "RL0Y-FcTnQj0",
        "colab_type": "code",
        "colab": {
          "base_uri": "https://localhost:8080/",
          "height": 124
        },
        "outputId": "317475db-66b8-498f-ebde-c3a31c686e6d"
      },
      "source": [
        "# This cell is meant to accommodate the Google Colab way of dealing with reading \n",
        "# files from Google Drive; feel free to ignore it if you are running the notebook\n",
        "# on your local machine\n",
        "from google.colab import drive\n",
        "drive.mount('/content/drive')"
      ],
      "execution_count": 3,
      "outputs": [
        {
          "output_type": "stream",
          "text": [
            "Go to this URL in a browser: https://accounts.google.com/o/oauth2/auth?client_id=947318989803-6bn6qk8qdgf4n4g3pfee6491hc0brc4i.apps.googleusercontent.com&redirect_uri=urn%3aietf%3awg%3aoauth%3a2.0%3aoob&scope=email%20https%3a%2f%2fwww.googleapis.com%2fauth%2fdocs.test%20https%3a%2f%2fwww.googleapis.com%2fauth%2fdrive%20https%3a%2f%2fwww.googleapis.com%2fauth%2fdrive.photos.readonly%20https%3a%2f%2fwww.googleapis.com%2fauth%2fpeopleapi.readonly&response_type=code\n",
            "\n",
            "Enter your authorization code:\n",
            "··········\n",
            "Mounted at /content/drive\n"
          ],
          "name": "stdout"
        }
      ]
    },
    {
      "cell_type": "code",
      "metadata": {
        "id": "DsMEr4V8nSKD",
        "colab_type": "code",
        "colab": {}
      },
      "source": [
        "df = pd.read_excel('/content/drive/My Drive/ethnic_violence/globalterrorismdb_0919dist.xlsx')"
      ],
      "execution_count": 4,
      "outputs": []
    },
    {
      "cell_type": "code",
      "metadata": {
        "id": "wHDegoxnP8H4",
        "colab_type": "code",
        "colab": {}
      },
      "source": [
        "condition = df.country_txt.isin(['India', 'Pakistan', 'Bangladesh', 'Sri Lanka'])\n",
        "df_sa = df[condition]"
      ],
      "execution_count": 5,
      "outputs": []
    },
    {
      "cell_type": "code",
      "metadata": {
        "id": "8-MwnvhHGnQ2",
        "colab_type": "code",
        "colab": {}
      },
      "source": [
        "sa_ctr = df_sa.groupby(['iyear', 'country_txt']).nkill.sum()"
      ],
      "execution_count": 6,
      "outputs": []
    },
    {
      "cell_type": "code",
      "metadata": {
        "id": "HQHCKAeoLdbC",
        "colab_type": "code",
        "colab": {}
      },
      "source": [
        "df_sa_ctr = sa_ctr.unstack(level=1).reset_index()"
      ],
      "execution_count": 7,
      "outputs": []
    },
    {
      "cell_type": "code",
      "metadata": {
        "id": "r9N2ZQcRLj3-",
        "colab_type": "code",
        "colab": {}
      },
      "source": [
        "df_sa_ctr = df_sa_ctr.fillna(0)"
      ],
      "execution_count": 8,
      "outputs": []
    },
    {
      "cell_type": "code",
      "metadata": {
        "id": "000cB-KpLqNu",
        "colab_type": "code",
        "colab": {
          "base_uri": "https://localhost:8080/",
          "height": 121
        },
        "outputId": "30ad3e8d-36ca-4ffe-a172-7058d181c9ec"
      },
      "source": [
        "sa_ctr_sum = df_sa_ctr.iloc[:, 1:].sum(axis = 0, skipna = True) \n",
        "sa_ctr_sum"
      ],
      "execution_count": 9,
      "outputs": [
        {
          "output_type": "execute_result",
          "data": {
            "text/plain": [
              "country_txt\n",
              "Bangladesh     1257.0\n",
              "India         19753.0\n",
              "Pakistan      24520.0\n",
              "Sri Lanka     15533.0\n",
              "dtype: float64"
            ]
          },
          "metadata": {
            "tags": []
          },
          "execution_count": 9
        }
      ]
    },
    {
      "cell_type": "code",
      "metadata": {
        "id": "cFd_LYNsMA4Z",
        "colab_type": "code",
        "colab": {}
      },
      "source": [
        "total_values = sum(sa_ctr_sum)\n",
        "category_proportions = [(float(value) / total_values) for value in sa_ctr_sum]"
      ],
      "execution_count": 10,
      "outputs": []
    },
    {
      "cell_type": "code",
      "metadata": {
        "id": "jS6C6KGzMphx",
        "colab_type": "code",
        "colab": {
          "base_uri": "https://localhost:8080/",
          "height": 52
        },
        "outputId": "5497f72b-44d6-414e-8cdb-335d82185e02"
      },
      "source": [
        "print('total: {}\\nproportions: {}'.format(total_values, category_proportions))"
      ],
      "execution_count": 11,
      "outputs": [
        {
          "output_type": "stream",
          "text": [
            "total: 61063.0\n",
            "proportions: [0.020585297152121578, 0.323485580466076, 0.4015524949642173, 0.2543766274175851]\n"
          ],
          "name": "stdout"
        }
      ]
    },
    {
      "cell_type": "code",
      "metadata": {
        "id": "_aIy1otDjQpe",
        "colab_type": "code",
        "colab": {}
      },
      "source": [
        "def create_waffle_chart(categories, values, height, width, colormap, value_sign=''):\n",
        "\n",
        "    # compute the proportion of each category with respect to the total\n",
        "    total_values = sum(values)\n",
        "    category_proportions = [(float(value) / total_values) for value in values]\n",
        "\n",
        "    # compute the total number of tiles\n",
        "    total_num_tiles = width * height # total number of tiles\n",
        "    print ('Total number of tiles is', total_num_tiles)\n",
        "    \n",
        "    # compute the number of tiles for each catagory\n",
        "    tiles_per_category = [round(proportion * total_num_tiles) for proportion in category_proportions]\n",
        "\n",
        "    # print out number of tiles per category\n",
        "    for i, tiles in enumerate(tiles_per_category):\n",
        "        print (categories[i] + ': ' + str(tiles))\n",
        "    \n",
        "    # initialize the waffle chart as an empty matrix\n",
        "    waffle_chart = np.zeros((height, width))\n",
        "\n",
        "    # define indices to loop through waffle chart\n",
        "    category_index = 0\n",
        "    tile_index = 0\n",
        "\n",
        "    # populate the waffle chart\n",
        "    for col in range(width):\n",
        "        for row in range(height):\n",
        "            tile_index += 1\n",
        "\n",
        "            # if the number of tiles populated for the current category \n",
        "            # is equal to its corresponding allocated tiles...\n",
        "            if tile_index > sum(tiles_per_category[0:category_index]):\n",
        "                # ...proceed to the next category\n",
        "                category_index += 1       \n",
        "            \n",
        "            # set the class value to an integer, which increases with class\n",
        "            waffle_chart[row, col] = category_index\n",
        "    \n",
        "    # instantiate a new figure object\n",
        "    fig = plt.figure()\n",
        "\n",
        "    # use matshow to display the waffle chart\n",
        "    colormap = plt.cm.coolwarm\n",
        "    plt.matshow(waffle_chart, cmap=colormap)\n",
        "    plt.colorbar()\n",
        "\n",
        "    # get the axis\n",
        "    ax = plt.gca()\n",
        "\n",
        "    # set minor ticks\n",
        "    ax.set_xticks(np.arange(-.5, (width), 1), minor=True)\n",
        "    ax.set_yticks(np.arange(-.5, (height), 1), minor=True)\n",
        "    \n",
        "    # add dridlines based on minor ticks\n",
        "    ax.grid(which='minor', color='w', linestyle='-', linewidth=2)\n",
        "\n",
        "    plt.xticks([])\n",
        "    plt.yticks([])\n",
        "\n",
        "    # compute cumulative sum of individual categories to match color schemes between chart and legend\n",
        "    values_cumsum = np.cumsum(values)\n",
        "    total_values = values_cumsum[len(values_cumsum) - 1]\n",
        "\n",
        "    # create legend\n",
        "    legend_handles = []\n",
        "    for i, category in enumerate(categories):\n",
        "        if value_sign == '%':\n",
        "            label_str = category + ' (' + str(values[i]) + value_sign + ')'\n",
        "        else:\n",
        "            label_str = category + ' (' + value_sign + str(values[i]) + ')'\n",
        "            \n",
        "        color_val = colormap(float(values_cumsum[i])/total_values)\n",
        "        legend_handles.append(mpatches.Patch(color=color_val, label=label_str))\n",
        "\n",
        "    # add legend to chart\n",
        "    plt.legend(\n",
        "        handles=legend_handles,\n",
        "        loc='lower center', \n",
        "        ncol=len(categories),\n",
        "        bbox_to_anchor=(0., -0.2, 0.95, .1)\n",
        "    )"
      ],
      "execution_count": 22,
      "outputs": []
    },
    {
      "cell_type": "code",
      "metadata": {
        "id": "2DpDIpYJjQiN",
        "colab_type": "code",
        "colab": {}
      },
      "source": [
        "width = 40 # width of chart\n",
        "height = 10 # height of chart\n",
        "\n",
        "categories = sa_ctr_sum.index.values # categories\n",
        "values = sa_ctr_sum\n",
        "\n",
        "colormap = plt.cm.coolwarm # color map class"
      ],
      "execution_count": 23,
      "outputs": []
    },
    {
      "cell_type": "code",
      "metadata": {
        "id": "oTvooe2jjQO8",
        "colab_type": "code",
        "colab": {
          "base_uri": "https://localhost:8080/",
          "height": 370
        },
        "outputId": "ecc443c3-0114-4ac6-dbea-fb89d7fdc3a1"
      },
      "source": [
        "create_waffle_chart(categories, values, height, width, colormap)"
      ],
      "execution_count": 24,
      "outputs": [
        {
          "output_type": "stream",
          "text": [
            "Total number of tiles is 400\n",
            "Bangladesh: 8\n",
            "India: 129\n",
            "Pakistan: 161\n",
            "Sri Lanka: 102\n"
          ],
          "name": "stdout"
        },
        {
          "output_type": "display_data",
          "data": {
            "text/plain": [
              "<Figure size 432x288 with 0 Axes>"
            ]
          },
          "metadata": {
            "tags": []
          }
        },
        {
          "output_type": "display_data",
          "data": {
            "image/png": "[encoded data removed]",
            "text/plain": [
              "<Figure size 1152x288 with 2 Axes>"
            ]
          },
          "metadata": {
            "tags": []
          }
        }
      ]
    },
    {
      "cell_type": "code",
      "metadata": {
        "id": "v6umJ-eEoDcf",
        "colab_type": "code",
        "colab": {
          "base_uri": "https://localhost:8080/",
          "height": 245
        },
        "outputId": "a91c5874-d919-4854-d240-3103195503cd"
      },
      "source": [
        "!pip install pywaffle\n",
        "from pywaffle import Waffle"
      ],
      "execution_count": 27,
      "outputs": [
        {
          "output_type": "stream",
          "text": [
            "Collecting pywaffle\n",
            "\u001b[?25l  Downloading https://files.pythonhosted.org/packages/e2/93/9a1e014fef383149b0f6dccdb8b2f2126d8827d4d48f2884949d6f8769ea/pywaffle-0.6.1-py2.py3-none-any.whl (526kB)\n",
            "\r\u001b[K     |▋                               | 10kB 14.3MB/s eta 0:00:01\r\u001b[K     |█▎                              | 20kB 2.4MB/s eta 0:00:01\r\u001b[K     |█▉                              | 30kB 3.2MB/s eta 0:00:01\r\u001b[K     |██▌                             | 40kB 3.3MB/s eta 0:00:01\r\u001b[K     |███                             | 51kB 3.3MB/s eta 0:00:01\r\u001b[K     |███▊                            | 61kB 3.7MB/s eta 0:00:01\r\u001b[K     |████▍                           | 71kB 3.9MB/s eta 0:00:01\r\u001b[K     |█████                           | 81kB 4.3MB/s eta 0:00:01\r\u001b[K     |█████▋                          | 92kB 4.1MB/s eta 0:00:01\r\u001b[K     |██████▏                         | 102kB 4.4MB/s eta 0:00:01\r\u001b[K     |██████▉                         | 112kB 4.4MB/s eta 0:00:01\r\u001b[K     |███████▌                        | 122kB 4.4MB/s eta 0:00:01\r\u001b[K     |████████                        | 133kB 4.4MB/s eta 0:00:01\r\u001b[K     |████████▊                       | 143kB 4.4MB/s eta 0:00:01\r\u001b[K     |█████████▎                      | 153kB 4.4MB/s eta 0:00:01\r\u001b[K     |██████████                      | 163kB 4.4MB/s eta 0:00:01\r\u001b[K     |██████████▋                     | 174kB 4.4MB/s eta 0:00:01\r\u001b[K     |███████████▏                    | 184kB 4.4MB/s eta 0:00:01\r\u001b[K     |███████████▉                    | 194kB 4.4MB/s eta 0:00:01\r\u001b[K     |████████████▍                   | 204kB 4.4MB/s eta 0:00:01\r\u001b[K     |█████████████                   | 215kB 4.4MB/s eta 0:00:01\r\u001b[K     |█████████████▊                  | 225kB 4.4MB/s eta 0:00:01\r\u001b[K     |██████████████▎                 | 235kB 4.4MB/s eta 0:00:01\r\u001b[K     |███████████████                 | 245kB 4.4MB/s eta 0:00:01\r\u001b[K     |███████████████▌                | 256kB 4.4MB/s eta 0:00:01\r\u001b[K     |████████████████▏               | 266kB 4.4MB/s eta 0:00:01\r\u001b[K     |████████████████▉               | 276kB 4.4MB/s eta 0:00:01\r\u001b[K     |█████████████████▍              | 286kB 4.4MB/s eta 0:00:01\r\u001b[K     |██████████████████              | 296kB 4.4MB/s eta 0:00:01\r\u001b[K     |██████████████████▋             | 307kB 4.4MB/s eta 0:00:01\r\u001b[K     |███████████████████▎            | 317kB 4.4MB/s eta 0:00:01\r\u001b[K     |████████████████████            | 327kB 4.4MB/s eta 0:00:01\r\u001b[K     |████████████████████▌           | 337kB 4.4MB/s eta 0:00:01\r\u001b[K     |█████████████████████▏          | 348kB 4.4MB/s eta 0:00:01\r\u001b[K     |█████████████████████▊          | 358kB 4.4MB/s eta 0:00:01\r\u001b[K     |██████████████████████▍         | 368kB 4.4MB/s eta 0:00:01\r\u001b[K     |███████████████████████         | 378kB 4.4MB/s eta 0:00:01\r\u001b[K     |███████████████████████▋        | 389kB 4.4MB/s eta 0:00:01\r\u001b[K     |████████████████████████▎       | 399kB 4.4MB/s eta 0:00:01\r\u001b[K     |████████████████████████▉       | 409kB 4.4MB/s eta 0:00:01\r\u001b[K     |█████████████████████████▌      | 419kB 4.4MB/s eta 0:00:01\r\u001b[K     |██████████████████████████▏     | 430kB 4.4MB/s eta 0:00:01\r\u001b[K     |██████████████████████████▊     | 440kB 4.4MB/s eta 0:00:01\r\u001b[K     |███████████████████████████▍    | 450kB 4.4MB/s eta 0:00:01\r\u001b[K     |████████████████████████████    | 460kB 4.4MB/s eta 0:00:01\r\u001b[K     |████████████████████████████▋   | 471kB 4.4MB/s eta 0:00:01\r\u001b[K     |█████████████████████████████▎  | 481kB 4.4MB/s eta 0:00:01\r\u001b[K     |█████████████████████████████▉  | 491kB 4.4MB/s eta 0:00:01\r\u001b[K     |██████████████████████████████▌ | 501kB 4.4MB/s eta 0:00:01\r\u001b[K     |███████████████████████████████ | 512kB 4.4MB/s eta 0:00:01\r\u001b[K     |███████████████████████████████▊| 522kB 4.4MB/s eta 0:00:01\r\u001b[K     |████████████████████████████████| 532kB 4.4MB/s \n",
            "\u001b[?25hRequirement already satisfied: matplotlib in /usr/local/lib/python3.6/dist-packages (from pywaffle) (3.2.2)\n",
            "Requirement already satisfied: python-dateutil>=2.1 in /usr/local/lib/python3.6/dist-packages (from matplotlib->pywaffle) (2.8.1)\n",
            "Requirement already satisfied: pyparsing!=2.0.4,!=2.1.2,!=2.1.6,>=2.0.1 in /usr/local/lib/python3.6/dist-packages (from matplotlib->pywaffle) (2.4.7)\n",
            "Requirement already satisfied: kiwisolver>=1.0.1 in /usr/local/lib/python3.6/dist-packages (from matplotlib->pywaffle) (1.2.0)\n",
            "Requirement already satisfied: numpy>=1.11 in /usr/local/lib/python3.6/dist-packages (from matplotlib->pywaffle) (1.18.5)\n",
            "Requirement already satisfied: cycler>=0.10 in /usr/local/lib/python3.6/dist-packages (from matplotlib->pywaffle) (0.10.0)\n",
            "Requirement already satisfied: six>=1.5 in /usr/local/lib/python3.6/dist-packages (from python-dateutil>=2.1->matplotlib->pywaffle) (1.15.0)\n",
            "Installing collected packages: pywaffle\n",
            "Successfully installed pywaffle-0.6.1\n"
          ],
          "name": "stdout"
        }
      ]
    },
    {
      "cell_type": "code",
      "metadata": {
        "id": "wZ-Ln6QhomI_",
        "colab_type": "code",
        "colab": {
          "base_uri": "https://localhost:8080/",
          "height": 292
        },
        "outputId": "089fbeab-46ee-4488-87f0-58a1c57e45e2"
      },
      "source": [
        "fig = plt.figure(\n",
        "    FigureClass=Waffle, \n",
        "    rows=10, \n",
        "    columns=40, \n",
        "    values=sa_ctr_sum,\n",
        "    figsize=(15,8)\n",
        ")\n",
        "plt.show()"
      ],
      "execution_count": 30,
      "outputs": [
        {
          "output_type": "display_data",
          "data": {
            "image/png": "[encoded data removed]",
            "text/plain": [
              "<Waffle size 1080x576 with 1 Axes>"
            ]
          },
          "metadata": {
            "tags": []
          }
        }
      ]
    },
    {
      "cell_type": "code",
      "metadata": {
        "id": "ZD1NuEP1ol_W",
        "colab_type": "code",
        "colab": {
          "base_uri": "https://localhost:8080/",
          "height": 292
        },
        "outputId": "3812808c-5538-4631-acc4-b990293a630c"
      },
      "source": [
        "fig = plt.figure(\n",
        "    FigureClass=Waffle, \n",
        "    rows=10,\n",
        "    columns = 40,\n",
        "    values=sa_ctr_sum, \n",
        "    legend={'loc': 'upper left', 'bbox_to_anchor': (1.1, 1)},\n",
        "    figsize=(15,6)\n",
        ")\n",
        "plt.show()"
      ],
      "execution_count": 31,
      "outputs": [
        {
          "output_type": "display_data",
          "data": {
            "image/png": "[encoded data removed]",
            "text/plain": [
              "<Waffle size 1080x432 with 1 Axes>"
            ]
          },
          "metadata": {
            "tags": []
          }
        }
      ]
    },
    {
      "cell_type": "code",
      "metadata": {
        "id": "HeEuK85Bol1u",
        "colab_type": "code",
        "colab": {}
      },
      "source": [
        "# no legend? let's convert the series to a dictionary:\n",
        "sa_dict = sa_ctr_sum.to_dict()"
      ],
      "execution_count": 32,
      "outputs": []
    },
    {
      "cell_type": "code",
      "metadata": {
        "id": "N7YZSxtholeV",
        "colab_type": "code",
        "colab": {
          "base_uri": "https://localhost:8080/",
          "height": 247
        },
        "outputId": "7dc6a9de-6de0-41ef-eee1-154168835141"
      },
      "source": [
        "fig = plt.figure(\n",
        "    FigureClass=Waffle, \n",
        "    rows=10,\n",
        "    columns = 40,\n",
        "    values=sa_dict,\n",
        "    colors=[\"#E27D60\", \"#55BCC9\", \"#E8A87C\", \"#C38D9E\"],\n",
        "    legend={'loc': 'upper left', 'bbox_to_anchor': (1.1, 1)},\n",
        "    figsize=(15,6)\n",
        ")\n",
        "plt.show()"
      ],
      "execution_count": 42,
      "outputs": [
        {
          "output_type": "display_data",
          "data": {
            "image/png": "[encoded data removed]",
            "text/plain": [
              "<Waffle size 1080x432 with 1 Axes>"
            ]
          },
          "metadata": {
            "tags": []
          }
        }
      ]
    },
    {
      "cell_type": "code",
      "metadata": {
        "id": "fa-qBKWMolVF",
        "colab_type": "code",
        "colab": {
          "base_uri": "https://localhost:8080/",
          "height": 270
        },
        "outputId": "28177a56-8d0c-429d-bef4-6754d6f0cf19"
      },
      "source": [
        "fig = plt.figure(\n",
        "    FigureClass=Waffle, \n",
        "    rows=10,\n",
        "    columns=40, \n",
        "    values=sa_dict,\n",
        "    colors=[\"#E27D60\", \"#55BCC9\", \"#E8A87C\", \"#C38D9E\"],\n",
        "    legend={'loc': 'upper left', 'bbox_to_anchor': (1, 1)},\n",
        "    icons='skull-crossbones', \n",
        "    font_size=22, \n",
        "    icon_legend=True,\n",
        "    figsize=(15,6)\n",
        ")\n",
        "plt.show()"
      ],
      "execution_count": 43,
      "outputs": [
        {
          "output_type": "display_data",
          "data": {
            "image/png": "[encoded data removed]",
            "text/plain": [
              "<Waffle size 1080x432 with 1 Axes>"
            ]
          },
          "metadata": {
            "tags": []
          }
        }
      ]
    }
  ]
}