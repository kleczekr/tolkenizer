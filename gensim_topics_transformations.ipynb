{
  "nbformat": 4,
  "nbformat_minor": 0,
  "metadata": {
    "colab": {
      "name": "gensim_topics_transformations.ipynb",
      "provenance": [],
      "authorship_tag": "ABX9TyM6SSWe9THVl/TOzLXfkVQi",
      "include_colab_link": true
    },
    "kernelspec": {
      "name": "python3",
      "display_name": "Python 3"
    }
  },
  "cells": [
    {
      "cell_type": "markdown",
      "metadata": {
        "id": "view-in-github",
        "colab_type": "text"
      },
      "source": [
        "<a href=\"https://colab.research.google.com/github/kleczekr/tolkenizer/blob/master/gensim_topics_transformations.ipynb\" target=\"_parent\"><img src=\"https://colab.research.google.com/assets/colab-badge.svg\" alt=\"Open In Colab\"/></a>"
      ]
    },
    {
      "cell_type": "code",
      "metadata": {
        "id": "n1qGz74VJsoQ",
        "colab_type": "code",
        "colab": {}
      },
      "source": [
        "import logging\n",
        "from collections import defaultdict\n",
        "from gensim import corpora\n",
        "from gensim import models\n",
        "import os\n",
        "import tempfile\n",
        "%matplotlib inline"
      ],
      "execution_count": 1,
      "outputs": []
    },
    {
      "cell_type": "code",
      "metadata": {
        "id": "W31DDDvrKqup",
        "colab_type": "code",
        "colab": {}
      },
      "source": [
        "logging.basicConfig(format='%(asctime)s : %(levelname)s : %(message)s', level=logging.INFO)"
      ],
      "execution_count": 2,
      "outputs": []
    },
    {
      "cell_type": "code",
      "metadata": {
        "id": "fsA45zzdKqsD",
        "colab_type": "code",
        "colab": {
          "base_uri": "https://localhost:8080/",
          "height": 72
        },
        "outputId": "f6c2c49d-0387-4ec0-d4d5-15f3a66ed0c8"
      },
      "source": [
        "documents = [\n",
        "    \"Human machine interface for lab abc computer applications\",\n",
        "    \"A survey of user opinion of computer system response time\",\n",
        "    \"The EPS user interface management system\",\n",
        "    \"System and human system engineering testing of EPS\",\n",
        "    \"Relation of user perceived response time to error measurement\",\n",
        "    \"The generation of random binary unordered trees\",\n",
        "    \"The intersection graph of paths in trees\",\n",
        "    \"Graph minors IV Widths of trees and well quasi ordering\",\n",
        "    \"Graph minors A survey\",\n",
        "]\n",
        "# remove common words and tokenize\n",
        "stoplist = set('for a of the and to in'.split())\n",
        "texts = [\n",
        "    [word for word in document.lower().split() if word not in stoplist]\n",
        "    for document in documents\n",
        "]\n",
        "\n",
        "# remove words that appear only once\n",
        "frequency = defaultdict(int)\n",
        "for text in texts:\n",
        "    for token in text:\n",
        "        frequency[token] += 1\n",
        "\n",
        "texts = [\n",
        "    [token for token in text if frequency[token] > 1]\n",
        "    for text in texts\n",
        "]\n",
        "\n",
        "dictionary = corpora.Dictionary(texts)\n",
        "corpus = [dictionary.doc2bow(text) for text in texts]"
      ],
      "execution_count": 3,
      "outputs": [
        {
          "output_type": "stream",
          "text": [
            "2020-07-27 22:02:38,143 : INFO : adding document #0 to Dictionary(0 unique tokens: [])\n",
            "2020-07-27 22:02:38,152 : INFO : built Dictionary(12 unique tokens: ['computer', 'human', 'interface', 'response', 'survey']...) from 9 documents (total 29 corpus positions)\n"
          ],
          "name": "stderr"
        }
      ]
    },
    {
      "cell_type": "code",
      "metadata": {
        "id": "gPXtgfjbKqoO",
        "colab_type": "code",
        "colab": {
          "base_uri": "https://localhost:8080/",
          "height": 69
        },
        "outputId": "811a9b1f-d861-4b5e-ca04-b02adbcc2177"
      },
      "source": [
        "tfidf = models.TfidfModel(corpus)  # step 1 -- initialize a model"
      ],
      "execution_count": 4,
      "outputs": [
        {
          "output_type": "stream",
          "text": [
            "2020-07-27 22:02:38,162 : INFO : collecting document frequencies\n",
            "2020-07-27 22:02:38,163 : INFO : PROGRESS: processing document #0\n",
            "2020-07-27 22:02:38,165 : INFO : calculating IDF weights for 9 documents and 11 features (28 matrix non-zeros)\n"
          ],
          "name": "stderr"
        }
      ]
    },
    {
      "cell_type": "code",
      "metadata": {
        "id": "MFOa6qCQKqkT",
        "colab_type": "code",
        "colab": {
          "base_uri": "https://localhost:8080/",
          "height": 34
        },
        "outputId": "c8301ade-1a6c-4a5e-cc50-18d04192d9be"
      },
      "source": [
        "doc_bow = [(0, 1), (1, 1)]\n",
        "print(tfidf[doc_bow])  # step 2 -- use the model to transform vectors"
      ],
      "execution_count": 5,
      "outputs": [
        {
          "output_type": "stream",
          "text": [
            "[(0, 0.7071067811865476), (1, 0.7071067811865476)]\n"
          ],
          "name": "stdout"
        }
      ]
    },
    {
      "cell_type": "code",
      "metadata": {
        "id": "I7bNFc8JKqhc",
        "colab_type": "code",
        "colab": {
          "base_uri": "https://localhost:8080/",
          "height": 173
        },
        "outputId": "f20c4267-5aae-4462-c3b3-ee9afe8bbea7"
      },
      "source": [
        "# transform the entire corpus; conversions are done on-the fly, during subsequent iteration\n",
        "corpus_tfidf = tfidf[corpus]\n",
        "for doc in corpus_tfidf:\n",
        "    print(doc)"
      ],
      "execution_count": 6,
      "outputs": [
        {
          "output_type": "stream",
          "text": [
            "[(0, 0.5773502691896257), (1, 0.5773502691896257), (2, 0.5773502691896257)]\n",
            "[(0, 0.44424552527467476), (3, 0.44424552527467476), (4, 0.44424552527467476), (5, 0.3244870206138555), (6, 0.44424552527467476), (7, 0.3244870206138555)]\n",
            "[(2, 0.5710059809418182), (5, 0.4170757362022777), (7, 0.4170757362022777), (8, 0.5710059809418182)]\n",
            "[(1, 0.49182558987264147), (5, 0.7184811607083769), (8, 0.49182558987264147)]\n",
            "[(3, 0.6282580468670046), (6, 0.6282580468670046), (7, 0.45889394536615247)]\n",
            "[(9, 1.0)]\n",
            "[(9, 0.7071067811865475), (10, 0.7071067811865475)]\n",
            "[(9, 0.5080429008916749), (10, 0.5080429008916749), (11, 0.695546419520037)]\n",
            "[(4, 0.6282580468670046), (10, 0.45889394536615247), (11, 0.6282580468670046)]\n"
          ],
          "name": "stdout"
        }
      ]
    },
    {
      "cell_type": "code",
      "metadata": {
        "id": "Yx0v7oSsKqfl",
        "colab_type": "code",
        "colab": {
          "base_uri": "https://localhost:8080/",
          "height": 245
        },
        "outputId": "04e55f19-c0c6-42fd-dd60-da61a7a999bc"
      },
      "source": [
        "# the following serializes transformations---one on top of the other\n",
        "lsi_model = models.LsiModel(corpus_tfidf, id2word=dictionary, num_topics=2)  # initialize an LSI transformation\n",
        "corpus_lsi = lsi_model[corpus_tfidf]  # create a double wrapper over the original corpus: bow->tfidf->fold-in-lsi"
      ],
      "execution_count": 7,
      "outputs": [
        {
          "output_type": "stream",
          "text": [
            "2020-07-27 22:02:38,197 : INFO : using serial LSI version on this node\n",
            "2020-07-27 22:02:38,198 : INFO : updating model with new documents\n",
            "2020-07-27 22:02:38,200 : INFO : preparing a new chunk of documents\n",
            "2020-07-27 22:02:38,201 : INFO : using 100 extra samples and 2 power iterations\n",
            "2020-07-27 22:02:38,203 : INFO : 1st phase: constructing (12, 102) action matrix\n",
            "2020-07-27 22:02:38,205 : INFO : orthonormalizing (12, 102) action matrix\n",
            "2020-07-27 22:02:38,208 : INFO : 2nd phase: running dense svd on (12, 9) matrix\n",
            "2020-07-27 22:02:38,209 : INFO : computing the final decomposition\n",
            "2020-07-27 22:02:38,211 : INFO : keeping 2 factors (discarding 47.565% of energy spectrum)\n",
            "2020-07-27 22:02:38,212 : INFO : processed documents up to #9\n",
            "2020-07-27 22:02:38,214 : INFO : topic #0(1.594): 0.703*\"trees\" + 0.538*\"graph\" + 0.402*\"minors\" + 0.187*\"survey\" + 0.061*\"system\" + 0.060*\"response\" + 0.060*\"time\" + 0.058*\"user\" + 0.049*\"computer\" + 0.035*\"interface\"\n",
            "2020-07-27 22:02:38,215 : INFO : topic #1(1.476): -0.460*\"system\" + -0.373*\"user\" + -0.332*\"eps\" + -0.328*\"interface\" + -0.320*\"time\" + -0.320*\"response\" + -0.293*\"computer\" + -0.280*\"human\" + -0.171*\"survey\" + 0.161*\"trees\"\n"
          ],
          "name": "stderr"
        }
      ]
    },
    {
      "cell_type": "code",
      "metadata": {
        "id": "1F6ixN7GKqd0",
        "colab_type": "code",
        "colab": {
          "base_uri": "https://localhost:8080/",
          "height": 141
        },
        "outputId": "acc0f6c3-ec2b-4200-ffdb-d843f60a11d4"
      },
      "source": [
        "lsi_model.print_topics(2)"
      ],
      "execution_count": 8,
      "outputs": [
        {
          "output_type": "stream",
          "text": [
            "2020-07-27 22:02:38,224 : INFO : topic #0(1.594): 0.703*\"trees\" + 0.538*\"graph\" + 0.402*\"minors\" + 0.187*\"survey\" + 0.061*\"system\" + 0.060*\"response\" + 0.060*\"time\" + 0.058*\"user\" + 0.049*\"computer\" + 0.035*\"interface\"\n",
            "2020-07-27 22:02:38,227 : INFO : topic #1(1.476): -0.460*\"system\" + -0.373*\"user\" + -0.332*\"eps\" + -0.328*\"interface\" + -0.320*\"time\" + -0.320*\"response\" + -0.293*\"computer\" + -0.280*\"human\" + -0.171*\"survey\" + 0.161*\"trees\"\n"
          ],
          "name": "stderr"
        },
        {
          "output_type": "execute_result",
          "data": {
            "text/plain": [
              "[(0,\n",
              "  '0.703*\"trees\" + 0.538*\"graph\" + 0.402*\"minors\" + 0.187*\"survey\" + 0.061*\"system\" + 0.060*\"response\" + 0.060*\"time\" + 0.058*\"user\" + 0.049*\"computer\" + 0.035*\"interface\"'),\n",
              " (1,\n",
              "  '-0.460*\"system\" + -0.373*\"user\" + -0.332*\"eps\" + -0.328*\"interface\" + -0.320*\"time\" + -0.320*\"response\" + -0.293*\"computer\" + -0.280*\"human\" + -0.171*\"survey\" + 0.161*\"trees\"')]"
            ]
          },
          "metadata": {
            "tags": []
          },
          "execution_count": 8
        }
      ]
    },
    {
      "cell_type": "code",
      "metadata": {
        "id": "KCBU6b7lKqZY",
        "colab_type": "code",
        "colab": {
          "base_uri": "https://localhost:8080/",
          "height": 173
        },
        "outputId": "d58675d7-c050-405a-b75e-b8886bdd1908"
      },
      "source": [
        "# both bow->tfidf and tfidf->lsi transformations are actually executed here, on the fly\n",
        "for doc, as_text in zip(corpus_lsi, documents):\n",
        "    print(doc, as_text)"
      ],
      "execution_count": 9,
      "outputs": [
        {
          "output_type": "stream",
          "text": [
            "[(0, 0.06600783396090391), (1, -0.520070330636185)] Human machine interface for lab abc computer applications\n",
            "[(0, 0.19667592859142505), (1, -0.7609563167700043)] A survey of user opinion of computer system response time\n",
            "[(0, 0.08992639972446373), (1, -0.7241860626752509)] The EPS user interface management system\n",
            "[(0, 0.0758584765217807), (1, -0.632055158600343)] System and human system engineering testing of EPS\n",
            "[(0, 0.10150299184980106), (1, -0.5737308483002952)] Relation of user perceived response time to error measurement\n",
            "[(0, 0.7032108939378315), (1, 0.1611518021402575)] The generation of random binary unordered trees\n",
            "[(0, 0.8774787673119836), (1, 0.16758906864659368)] The intersection graph of paths in trees\n",
            "[(0, 0.9098624686818582), (1, 0.14086553628718976)] Graph minors IV Widths of trees and well quasi ordering\n",
            "[(0, 0.6165825350569285), (1, -0.053929075663893745)] Graph minors A survey\n"
          ],
          "name": "stdout"
        }
      ]
    },
    {
      "cell_type": "code",
      "metadata": {
        "id": "ayuBFTtLKqX0",
        "colab_type": "code",
        "colab": {
          "base_uri": "https://localhost:8080/",
          "height": 298
        },
        "outputId": "5132940c-b2d9-4e9a-bd86-e230e0e27b4f"
      },
      "source": [
        "with tempfile.NamedTemporaryFile(prefix='model-', suffix='.lsi', delete=False) as tmp:\n",
        "    lsi_model.save(tmp.name)  # same for tfidf, lda, ...\n",
        "\n",
        "loaded_lsi_model = models.LsiModel.load(tmp.name)\n",
        "\n",
        "os.unlink(tmp.name)"
      ],
      "execution_count": 10,
      "outputs": [
        {
          "output_type": "stream",
          "text": [
            "2020-07-27 22:02:38,255 : INFO : saving Projection object under /tmp/model-15xjtn1l.lsi.projection, separately None\n",
            "/usr/local/lib/python3.6/dist-packages/smart_open/smart_open_lib.py:254: UserWarning: This function is deprecated, use smart_open.open instead. See the migration notes for details: https://github.com/RaRe-Technologies/smart_open/blob/master/README.rst#migrating-to-the-new-open-function\n",
            "  'See the migration notes for details: %s' % _MIGRATION_NOTES_URL\n",
            "2020-07-27 22:02:38,259 : INFO : saved /tmp/model-15xjtn1l.lsi.projection\n",
            "2020-07-27 22:02:38,260 : INFO : saving LsiModel object under /tmp/model-15xjtn1l.lsi, separately None\n",
            "2020-07-27 22:02:38,261 : INFO : not storing attribute projection\n",
            "2020-07-27 22:02:38,262 : INFO : not storing attribute dispatcher\n",
            "2020-07-27 22:02:38,264 : INFO : saved /tmp/model-15xjtn1l.lsi\n",
            "2020-07-27 22:02:38,266 : INFO : loading LsiModel object from /tmp/model-15xjtn1l.lsi\n",
            "2020-07-27 22:02:38,267 : INFO : loading id2word recursively from /tmp/model-15xjtn1l.lsi.id2word.* with mmap=None\n",
            "2020-07-27 22:02:38,269 : INFO : setting ignored attribute projection to None\n",
            "2020-07-27 22:02:38,270 : INFO : setting ignored attribute dispatcher to None\n",
            "2020-07-27 22:02:38,271 : INFO : loaded /tmp/model-15xjtn1l.lsi\n",
            "2020-07-27 22:02:38,272 : INFO : loading LsiModel object from /tmp/model-15xjtn1l.lsi.projection\n",
            "2020-07-27 22:02:38,274 : INFO : loaded /tmp/model-15xjtn1l.lsi.projection\n"
          ],
          "name": "stderr"
        }
      ]
    },
    {
      "cell_type": "markdown",
      "metadata": {
        "id": "fr0z8cOBPYfD",
        "colab_type": "text"
      },
      "source": [
        "Available transformations:"
      ]
    },
    {
      "cell_type": "code",
      "metadata": {
        "id": "tdu7YIfFPXq0",
        "colab_type": "code",
        "colab": {
          "base_uri": "https://localhost:8080/",
          "height": 69
        },
        "outputId": "e82a9eb4-c430-4af0-fc9e-153e98bc61e2"
      },
      "source": [
        "# tf-ldf:\n",
        "model = models.TfidfModel(corpus, normalize=True)"
      ],
      "execution_count": 11,
      "outputs": [
        {
          "output_type": "stream",
          "text": [
            "2020-07-27 22:02:38,281 : INFO : collecting document frequencies\n",
            "2020-07-27 22:02:38,283 : INFO : PROGRESS: processing document #0\n",
            "2020-07-27 22:02:38,284 : INFO : calculating IDF weights for 9 documents and 11 features (28 matrix non-zeros)\n"
          ],
          "name": "stderr"
        }
      ]
    },
    {
      "cell_type": "code",
      "metadata": {
        "id": "bKipx7EsPXhl",
        "colab_type": "code",
        "colab": {}
      },
      "source": [
        "# latent semantic indexing\n",
        "#model = models.LsiModel(tfidf_corpus, id2word=dictionary, num_topics=300)"
      ],
      "execution_count": 12,
      "outputs": []
    },
    {
      "cell_type": "code",
      "metadata": {
        "id": "xIaiCzBNPXYv",
        "colab_type": "code",
        "colab": {}
      },
      "source": [
        "#model.add_documents(another_tfidf_corpus)  # now LSI has been trained on tfidf_corpus + another_tfidf_corpus\n",
        "#lsi_vec = model[tfidf_vec]  # convert some new document into the LSI space, without affecting the model\n",
        "\n",
        "#model.add_documents(more_documents)  # tfidf_corpus + another_tfidf_corpus + more_documents\n",
        "#lsi_vec = model[tfidf_vec]"
      ],
      "execution_count": 13,
      "outputs": []
    },
    {
      "cell_type": "code",
      "metadata": {
        "id": "w-55so49PXPZ",
        "colab_type": "code",
        "colab": {}
      },
      "source": [
        "# random projections\n",
        "#model = models.RpModel(tfidf_corpus, num_topics=500)"
      ],
      "execution_count": 14,
      "outputs": []
    },
    {
      "cell_type": "code",
      "metadata": {
        "id": "J1EC1kO3PXHa",
        "colab_type": "code",
        "colab": {}
      },
      "source": [
        "# latent dirichlet allocation\n",
        "#model = models.LdaModel(corpus, id2word=dictionary, num_topics=100)"
      ],
      "execution_count": 15,
      "outputs": []
    },
    {
      "cell_type": "code",
      "metadata": {
        "id": "MROpOaVjPW65",
        "colab_type": "code",
        "colab": {}
      },
      "source": [
        "# hierarchical dirichlet process\n",
        "#model = models.HdpModel(corpus, id2word=dictionary)"
      ],
      "execution_count": 16,
      "outputs": []
    }
  ]
}