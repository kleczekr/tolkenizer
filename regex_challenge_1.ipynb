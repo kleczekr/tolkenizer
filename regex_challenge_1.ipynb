{
  "nbformat": 4,
  "nbformat_minor": 0,
  "metadata": {
    "colab": {
      "name": "regex_challenge_1.ipynb",
      "provenance": [],
      "authorship_tag": "ABX9TyMHLH3E3xUs1hZ8ntL/Hwhp",
      "include_colab_link": true
    },
    "kernelspec": {
      "name": "python3",
      "display_name": "Python 3"
    }
  },
  "cells": [
    {
      "cell_type": "markdown",
      "metadata": {
        "id": "view-in-github",
        "colab_type": "text"
      },
      "source": [
        "<a href=\"https://colab.research.google.com/github/kleczekr/tolkenizer/blob/master/regex_challenge_1.ipynb\" target=\"_parent\"><img src=\"https://colab.research.google.com/assets/colab-badge.svg\" alt=\"Open In Colab\"/></a>"
      ]
    },
    {
      "cell_type": "code",
      "metadata": {
        "id": "bJvWAMlKkWSp",
        "colab_type": "code",
        "colab": {}
      },
      "source": [
        "import re"
      ],
      "execution_count": 1,
      "outputs": []
    },
    {
      "cell_type": "code",
      "metadata": {
        "id": "UmSMiQ9ykbp3",
        "colab_type": "code",
        "colab": {}
      },
      "source": [
        "vw = re.compile(r'[aeiouyAEIOU]')\n",
        "nvw = re.compile(r'[^aeiouyAEIOU]')\n",
        "slb = re.compile(r'[^aeiouyAEIOU]?[aeiouyAEIOU]+')"
      ],
      "execution_count": 2,
      "outputs": []
    },
    {
      "cell_type": "code",
      "metadata": {
        "id": "DGqfNn3cy-1l",
        "colab_type": "code",
        "colab": {}
      },
      "source": [
        "haikus_maybe = ['I pound my flat chest Seeming is not believing And return to hell',\n",
        "'No, legally it\\'s sexual assault. The rape charges were dismissed.',\n",
        "'It\\'s a little weird. I think \"kids these days\" are more needy in general.',\n",
        "'land on campus? plus would you know who the discord character would be',\n",
        "'Its too late. Deli is going to be fucking the nuclear throne.',\n",
        "'But has he learned how to dribble on the drive? That is the true question.',\n",
        "'Your honor, are you actually wearing any pants behind that desk?',\n",
        "'Most teams have some form of this either during games or after the games',\n",
        "'That is the \"class name\". Its literally called super novice, not novice.',\n",
        "'Is this your new shtick now? Following me around like a lost puppy...',\n",
        "'can i just say that about every one of my players that retires?',\n",
        "'He could have drawn the flaming dude with a beer in his hand. So lazy.']"
      ],
      "execution_count": 3,
      "outputs": []
    },
    {
      "cell_type": "code",
      "metadata": {
        "id": "J6QF8Vgx7q9C",
        "colab_type": "code",
        "colab": {}
      },
      "source": [
        "def haiku_findemizer(potential_find):\n",
        "  count = 0\n",
        "  for word in potential_find.split():\n",
        "    if (re.search('(h|H|b)e$', word) is None) and (word[-1] == 'e'):\n",
        "      syl_word = re.findall(slb, word[:-1])\n",
        "    else:\n",
        "      syl_word = re.findall(slb, word)\n",
        "    # print(syl_word)\n",
        "    count += len(syl_word)\n",
        "  print(count)"
      ],
      "execution_count": 4,
      "outputs": []
    },
    {
      "cell_type": "code",
      "metadata": {
        "id": "665ytjK9nDCQ",
        "colab_type": "code",
        "colab": {}
      },
      "source": [
        "# count = 0\n",
        "# for word in potential_haiku_8.split():\n",
        "#   if (re.search('(h|H|b)e$', word) is None) and (word[-1] == 'e'):\n",
        "#     syl_word = re.findall(slb, word[:-1])\n",
        "#   else:\n",
        "#     syl_word = re.findall(slb, word)\n",
        "#   print(syl_word)\n",
        "#   count += len(syl_word)\n",
        "# print(count)"
      ],
      "execution_count": 5,
      "outputs": []
    },
    {
      "cell_type": "code",
      "metadata": {
        "id": "u1zczf8OzdSj",
        "colab_type": "code",
        "colab": {
          "base_uri": "https://localhost:8080/",
          "height": 225
        },
        "outputId": "8ae98373-8c49-4b78-cadb-4642f6280a8e"
      },
      "source": [
        "for thing in haikus_maybe:\n",
        "  haiku_findemizer(thing)"
      ],
      "execution_count": 6,
      "outputs": [
        {
          "output_type": "stream",
          "text": [
            "17\n",
            "17\n",
            "17\n",
            "17\n",
            "17\n",
            "18\n",
            "17\n",
            "19\n",
            "22\n",
            "16\n",
            "18\n",
            "17\n"
          ],
          "name": "stdout"
        }
      ]
    }
  ]
}