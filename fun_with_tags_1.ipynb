{
  "nbformat": 4,
  "nbformat_minor": 0,
  "metadata": {
    "colab": {
      "name": "fun_with_tags_1.ipynb",
      "provenance": [],
      "authorship_tag": "ABX9TyM9ObW5EUplvTXUh0ks1HS4",
      "include_colab_link": true
    },
    "kernelspec": {
      "name": "python3",
      "display_name": "Python 3"
    }
  },
  "cells": [
    {
      "cell_type": "markdown",
      "metadata": {
        "id": "view-in-github",
        "colab_type": "text"
      },
      "source": [
        "<a href=\"https://colab.research.google.com/github/kleczekr/tolkenizer/blob/master/fun_with_tags_1.ipynb\" target=\"_parent\"><img src=\"https://colab.research.google.com/assets/colab-badge.svg\" alt=\"Open In Colab\"/></a>"
      ]
    },
    {
      "cell_type": "code",
      "metadata": {
        "id": "cFwDF0un_Rhd",
        "colab_type": "code",
        "colab": {}
      },
      "source": [
        "import xml.etree.ElementTree as ET"
      ],
      "execution_count": 1,
      "outputs": []
    },
    {
      "cell_type": "code",
      "metadata": {
        "id": "AvCz4xCDCEhS",
        "colab_type": "code",
        "colab": {
          "base_uri": "https://localhost:8080/",
          "height": 34
        },
        "outputId": "7158c31a-05de-4f71-8dbe-ef75dfb5c599"
      },
      "source": [
        "# This cell is meant to accommodate the Google Colab way of dealing with reading \n",
        "# files from Google Drive; feel free to ignore it if you are running the notebook\n",
        "# on your local machine\n",
        "from google.colab import drive\n",
        "drive.mount('/content/drive')"
      ],
      "execution_count": 2,
      "outputs": [
        {
          "output_type": "stream",
          "text": [
            "Drive already mounted at /content/drive; to attempt to forcibly remount, call drive.mount(\"/content/drive\", force_remount=True).\n"
          ],
          "name": "stdout"
        }
      ]
    },
    {
      "cell_type": "code",
      "metadata": {
        "id": "vNF8AJKvCIDG",
        "colab_type": "code",
        "colab": {}
      },
      "source": [
        "# import the data by reading from a file:\n",
        "tree = ET.parse('/content/drive/My Drive/elementTree/books.xml')\n",
        "# the line below establishes the root of the document\n",
        "root = tree.getroot()"
      ],
      "execution_count": 3,
      "outputs": []
    },
    {
      "cell_type": "code",
      "metadata": {
        "id": "dxCqlAPDCOdX",
        "colab_type": "code",
        "colab": {
          "base_uri": "https://localhost:8080/",
          "height": 1000
        },
        "outputId": "c63b9910-9fc7-4f6d-d9cd-f3d9add9f8a7"
      },
      "source": [
        "[elem.tag for elem in root.iter()]"
      ],
      "execution_count": 4,
      "outputs": [
        {
          "output_type": "execute_result",
          "data": {
            "text/plain": [
              "['catalog',\n",
              " 'book',\n",
              " 'author',\n",
              " 'title',\n",
              " 'genre',\n",
              " 'price',\n",
              " 'publish_date',\n",
              " 'description',\n",
              " 'book',\n",
              " 'author',\n",
              " 'title',\n",
              " 'genre',\n",
              " 'price',\n",
              " 'publish_date',\n",
              " 'description',\n",
              " 'book',\n",
              " 'author',\n",
              " 'title',\n",
              " 'genre',\n",
              " 'price',\n",
              " 'publish_date',\n",
              " 'description',\n",
              " 'book',\n",
              " 'author',\n",
              " 'title',\n",
              " 'genre',\n",
              " 'price',\n",
              " 'publish_date',\n",
              " 'description',\n",
              " 'book',\n",
              " 'author',\n",
              " 'title',\n",
              " 'genre',\n",
              " 'price',\n",
              " 'publish_date',\n",
              " 'description',\n",
              " 'book',\n",
              " 'author',\n",
              " 'title',\n",
              " 'genre',\n",
              " 'price',\n",
              " 'publish_date',\n",
              " 'description',\n",
              " 'book',\n",
              " 'author',\n",
              " 'title',\n",
              " 'genre',\n",
              " 'price',\n",
              " 'publish_date',\n",
              " 'description',\n",
              " 'book',\n",
              " 'author',\n",
              " 'title',\n",
              " 'genre',\n",
              " 'price',\n",
              " 'publish_date',\n",
              " 'description',\n",
              " 'book',\n",
              " 'author',\n",
              " 'title',\n",
              " 'genre',\n",
              " 'price',\n",
              " 'publish_date',\n",
              " 'description',\n",
              " 'book',\n",
              " 'author',\n",
              " 'title',\n",
              " 'genre',\n",
              " 'price',\n",
              " 'publish_date',\n",
              " 'description',\n",
              " 'book',\n",
              " 'author',\n",
              " 'title',\n",
              " 'genre',\n",
              " 'price',\n",
              " 'publish_date',\n",
              " 'description',\n",
              " 'book',\n",
              " 'author',\n",
              " 'title',\n",
              " 'genre',\n",
              " 'price',\n",
              " 'publish_date',\n",
              " 'description']"
            ]
          },
          "metadata": {
            "tags": []
          },
          "execution_count": 4
        }
      ]
    },
    {
      "cell_type": "code",
      "metadata": {
        "id": "vL6Xcvh9COTo",
        "colab_type": "code",
        "colab": {}
      },
      "source": [
        "# import numpy for handy list operations\n",
        "import numpy as np \n",
        "# take a list and return unique values\n",
        "def unique(a_list): \n",
        "    x = np.array(a_list) \n",
        "    print(np.unique(x)) "
      ],
      "execution_count": 5,
      "outputs": []
    },
    {
      "cell_type": "code",
      "metadata": {
        "id": "mrkTMIvVCOLx",
        "colab_type": "code",
        "colab": {
          "base_uri": "https://localhost:8080/",
          "height": 52
        },
        "outputId": "70c419ac-f74d-42dc-ef48-96cc1db734d5"
      },
      "source": [
        "unique([elem.tag for elem in root.iter()])"
      ],
      "execution_count": 6,
      "outputs": [
        {
          "output_type": "stream",
          "text": [
            "['author' 'book' 'catalog' 'description' 'genre' 'price' 'publish_date'\n",
            " 'title']\n"
          ],
          "name": "stdout"
        }
      ]
    },
    {
      "cell_type": "code",
      "metadata": {
        "id": "FgCzwCczCOJB",
        "colab_type": "code",
        "colab": {
          "base_uri": "https://localhost:8080/",
          "height": 225
        },
        "outputId": "34f54274-64cb-4c02-aae7-c291ded170f8"
      },
      "source": [
        "for title in root.iter('title'):\n",
        "    print(title.text)"
      ],
      "execution_count": 7,
      "outputs": [
        {
          "output_type": "stream",
          "text": [
            "XML Developer's Guide\n",
            "Midnight Rain\n",
            "Maeve Ascendant\n",
            "Oberon's Legacy\n",
            "The Sundered Grail\n",
            "Lover Birds\n",
            "Splish Splash\n",
            "Creepy Crawlies\n",
            "Paradox Lost\n",
            "Microsoft .NET: The Programming Bible\n",
            "MSXML3: A Comprehensive Guide\n",
            "Visual Studio 7: A Comprehensive Guide\n"
          ],
          "name": "stdout"
        }
      ]
    },
    {
      "cell_type": "code",
      "metadata": {
        "id": "BXHUaBroCOGO",
        "colab_type": "code",
        "colab": {
          "base_uri": "https://localhost:8080/",
          "height": 225
        },
        "outputId": "7afcb114-5b76-4802-92ed-9380c9b7f4bd"
      },
      "source": [
        "# why 'title.text'?\n",
        "for title in root.iter('title'):\n",
        "    print(title)"
      ],
      "execution_count": 8,
      "outputs": [
        {
          "output_type": "stream",
          "text": [
            "<Element 'title' at 0x7f64a6671458>\n",
            "<Element 'title' at 0x7f64a6671688>\n",
            "<Element 'title' at 0x7f64a66718b8>\n",
            "<Element 'title' at 0x7f64a6671ae8>\n",
            "<Element 'title' at 0x7f64a6671d68>\n",
            "<Element 'title' at 0x7f64a6671f98>\n",
            "<Element 'title' at 0x7f64a6675228>\n",
            "<Element 'title' at 0x7f64a6675458>\n",
            "<Element 'title' at 0x7f64a6675688>\n",
            "<Element 'title' at 0x7f64a66758b8>\n",
            "<Element 'title' at 0x7f64a6675ae8>\n",
            "<Element 'title' at 0x7f64a6675d68>\n"
          ],
          "name": "stdout"
        }
      ]
    }
  ]
}