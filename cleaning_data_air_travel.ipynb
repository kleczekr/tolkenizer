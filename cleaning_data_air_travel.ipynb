{
  "nbformat": 4,
  "nbformat_minor": 0,
  "metadata": {
    "colab": {
      "name": "cleaning_data_air_travel.ipynb",
      "provenance": [],
      "collapsed_sections": [],
      "authorship_tag": "ABX9TyNpJdFiISehD4AWhq0WyBFE",
      "include_colab_link": true
    },
    "kernelspec": {
      "display_name": "Python 3",
      "name": "python3"
    },
    "language_info": {
      "name": "python"
    }
  },
  "cells": [
    {
      "cell_type": "markdown",
      "metadata": {
        "id": "view-in-github",
        "colab_type": "text"
      },
      "source": [
        "<a href=\"https://colab.research.google.com/github/kleczekr/tolkenizer/blob/master/cleaning_data_air_travel.ipynb\" target=\"_parent\"><img src=\"https://colab.research.google.com/assets/colab-badge.svg\" alt=\"Open In Colab\"/></a>"
      ]
    },
    {
      "cell_type": "markdown",
      "metadata": {
        "id": "tteBBsNt8016"
      },
      "source": [
        "## Exploring and cleaning the air travel file\n",
        "### Coursera Tableau project"
      ]
    },
    {
      "cell_type": "code",
      "metadata": {
        "id": "vo5quphF7OrY"
      },
      "source": [
        "import pandas as pd"
      ],
      "execution_count": 1,
      "outputs": []
    },
    {
      "cell_type": "code",
      "metadata": {
        "id": "FRgRCQq78YHZ"
      },
      "source": [
        "df = pd.read_csv('/content/US Monthly Air Passengers.csv')"
      ],
      "execution_count": 2,
      "outputs": []
    },
    {
      "cell_type": "code",
      "metadata": {
        "colab": {
          "base_uri": "https://localhost:8080/"
        },
        "id": "aQeGuSdC8k27",
        "outputId": "3346a5e8-9389-43a6-94f1-03e531203ca4"
      },
      "source": [
        "df.shape"
      ],
      "execution_count": 3,
      "outputs": [
        {
          "output_type": "execute_result",
          "data": {
            "text/plain": [
              "(392820, 17)"
            ]
          },
          "metadata": {
            "tags": []
          },
          "execution_count": 3
        }
      ]
    },
    {
      "cell_type": "markdown",
      "metadata": {
        "id": "zphsJnKB8vOa"
      },
      "source": [
        "The data has 271336 lines, grouped in 17 columns."
      ]
    },
    {
      "cell_type": "code",
      "metadata": {
        "colab": {
          "base_uri": "https://localhost:8080/"
        },
        "id": "-jHLay348_Cf",
        "outputId": "42cd49bf-59a2-469e-fac3-406f3eb4b92f"
      },
      "source": [
        "df.columns"
      ],
      "execution_count": 4,
      "outputs": [
        {
          "output_type": "execute_result",
          "data": {
            "text/plain": [
              "Index(['Sum_PASSENGERS', 'AIRLINE_ID', 'CARRIER_NAME', 'ORIGIN',\n",
              "       'ORIGIN_CITY_NAME', 'ORIGIN_STATE_ABR', 'ORIGIN_STATE_NM',\n",
              "       'ORIGIN_COUNTRY', 'ORIGIN_COUNTRY_NAME', 'DEST', 'DEST_CITY_NAME',\n",
              "       'DEST_STATE_ABR', 'DEST_STATE_NM', 'DEST_COUNTRY', 'DEST_COUNTRY_NAME',\n",
              "       'YEAR', 'MONTH'],\n",
              "      dtype='object')"
            ]
          },
          "metadata": {
            "tags": []
          },
          "execution_count": 4
        }
      ]
    },
    {
      "cell_type": "markdown",
      "metadata": {
        "id": "3TkUCQWb9Otb"
      },
      "source": [
        "Let's count empty values:"
      ]
    },
    {
      "cell_type": "code",
      "metadata": {
        "colab": {
          "base_uri": "https://localhost:8080/"
        },
        "id": "-Dxep8xT9A4k",
        "outputId": "2de6fb04-0964-4bae-e078-44c84d7d41a3"
      },
      "source": [
        "df.isnull().sum()"
      ],
      "execution_count": 5,
      "outputs": [
        {
          "output_type": "execute_result",
          "data": {
            "text/plain": [
              "Sum_PASSENGERS             0\n",
              "AIRLINE_ID               448\n",
              "CARRIER_NAME             448\n",
              "ORIGIN                     0\n",
              "ORIGIN_CITY_NAME           0\n",
              "ORIGIN_STATE_ABR        9986\n",
              "ORIGIN_STATE_NM         9986\n",
              "ORIGIN_COUNTRY             0\n",
              "ORIGIN_COUNTRY_NAME        0\n",
              "DEST                       0\n",
              "DEST_CITY_NAME             0\n",
              "DEST_STATE_ABR         11429\n",
              "DEST_STATE_NM          11429\n",
              "DEST_COUNTRY               1\n",
              "DEST_COUNTRY_NAME          1\n",
              "YEAR                       1\n",
              "MONTH                      1\n",
              "dtype: int64"
            ]
          },
          "metadata": {
            "tags": []
          },
          "execution_count": 5
        }
      ]
    },
    {
      "cell_type": "markdown",
      "metadata": {
        "id": "a9qLdzanYGvw"
      },
      "source": [
        "The following combinations of null values seem to be apparent: AIRLINE_ID with CARRIER_NAME, ORIGIN_STATE_ABR with ORIGIN_STATE_NM, DEST_STATE_ABR with DEST_STATE_NM. The following columns have each a single null value: DEST_CITY_NAME, DEST_COUNTRY, DEST_COUNTRY_NAME, YEAR and MONTH.\n",
        "\n",
        "I will first deal with the pairs of clusters of missing values and see if I can detect any patterns among them."
      ]
    },
    {
      "cell_type": "code",
      "metadata": {
        "colab": {
          "base_uri": "https://localhost:8080/",
          "height": 244
        },
        "id": "lyfhuFrJ9Q_u",
        "outputId": "5cd7e849-3924-4e69-da88-090c63e5e6da"
      },
      "source": [
        "df[df.AIRLINE_ID.isnull()].head()"
      ],
      "execution_count": 6,
      "outputs": [
        {
          "output_type": "execute_result",
          "data": {
            "text/html": [
              "<div>\n",
              "<style scoped>\n",
              "    .dataframe tbody tr th:only-of-type {\n",
              "        vertical-align: middle;\n",
              "    }\n",
              "\n",
              "    .dataframe tbody tr th {\n",
              "        vertical-align: top;\n",
              "    }\n",
              "\n",
              "    .dataframe thead th {\n",
              "        text-align: right;\n",
              "    }\n",
              "</style>\n",
              "<table border=\"1\" class=\"dataframe\">\n",
              "  <thead>\n",
              "    <tr style=\"text-align: right;\">\n",
              "      <th></th>\n",
              "      <th>Sum_PASSENGERS</th>\n",
              "      <th>AIRLINE_ID</th>\n",
              "      <th>CARRIER_NAME</th>\n",
              "      <th>ORIGIN</th>\n",
              "      <th>ORIGIN_CITY_NAME</th>\n",
              "      <th>ORIGIN_STATE_ABR</th>\n",
              "      <th>ORIGIN_STATE_NM</th>\n",
              "      <th>ORIGIN_COUNTRY</th>\n",
              "      <th>ORIGIN_COUNTRY_NAME</th>\n",
              "      <th>DEST</th>\n",
              "      <th>DEST_CITY_NAME</th>\n",
              "      <th>DEST_STATE_ABR</th>\n",
              "      <th>DEST_STATE_NM</th>\n",
              "      <th>DEST_COUNTRY</th>\n",
              "      <th>DEST_COUNTRY_NAME</th>\n",
              "      <th>YEAR</th>\n",
              "      <th>MONTH</th>\n",
              "    </tr>\n",
              "  </thead>\n",
              "  <tbody>\n",
              "    <tr>\n",
              "      <th>0</th>\n",
              "      <td>0</td>\n",
              "      <td>NaN</td>\n",
              "      <td>NaN</td>\n",
              "      <td>AEX</td>\n",
              "      <td>Alexandria, LA</td>\n",
              "      <td>LA</td>\n",
              "      <td>Louisiana</td>\n",
              "      <td>US</td>\n",
              "      <td>United States</td>\n",
              "      <td>AEX</td>\n",
              "      <td>Alexandria, LA</td>\n",
              "      <td>LA</td>\n",
              "      <td>Louisiana</td>\n",
              "      <td>US</td>\n",
              "      <td>United States</td>\n",
              "      <td>2015.0</td>\n",
              "      <td>3.0</td>\n",
              "    </tr>\n",
              "    <tr>\n",
              "      <th>1</th>\n",
              "      <td>0</td>\n",
              "      <td>NaN</td>\n",
              "      <td>NaN</td>\n",
              "      <td>AEX</td>\n",
              "      <td>Alexandria, LA</td>\n",
              "      <td>LA</td>\n",
              "      <td>Louisiana</td>\n",
              "      <td>US</td>\n",
              "      <td>United States</td>\n",
              "      <td>AFW</td>\n",
              "      <td>Dallas/Fort Worth, TX</td>\n",
              "      <td>TX</td>\n",
              "      <td>Texas</td>\n",
              "      <td>US</td>\n",
              "      <td>United States</td>\n",
              "      <td>2015.0</td>\n",
              "      <td>4.0</td>\n",
              "    </tr>\n",
              "    <tr>\n",
              "      <th>2</th>\n",
              "      <td>0</td>\n",
              "      <td>NaN</td>\n",
              "      <td>NaN</td>\n",
              "      <td>AEX</td>\n",
              "      <td>Alexandria, LA</td>\n",
              "      <td>LA</td>\n",
              "      <td>Louisiana</td>\n",
              "      <td>US</td>\n",
              "      <td>United States</td>\n",
              "      <td>ATL</td>\n",
              "      <td>Atlanta, GA</td>\n",
              "      <td>GA</td>\n",
              "      <td>Georgia</td>\n",
              "      <td>US</td>\n",
              "      <td>United States</td>\n",
              "      <td>2015.0</td>\n",
              "      <td>3.0</td>\n",
              "    </tr>\n",
              "    <tr>\n",
              "      <th>3</th>\n",
              "      <td>89</td>\n",
              "      <td>NaN</td>\n",
              "      <td>NaN</td>\n",
              "      <td>AEX</td>\n",
              "      <td>Alexandria, LA</td>\n",
              "      <td>LA</td>\n",
              "      <td>Louisiana</td>\n",
              "      <td>US</td>\n",
              "      <td>United States</td>\n",
              "      <td>BOG</td>\n",
              "      <td>Bogota, Colombia</td>\n",
              "      <td>NaN</td>\n",
              "      <td>NaN</td>\n",
              "      <td>CO</td>\n",
              "      <td>Colombia</td>\n",
              "      <td>2015.0</td>\n",
              "      <td>1.0</td>\n",
              "    </tr>\n",
              "    <tr>\n",
              "      <th>4</th>\n",
              "      <td>108</td>\n",
              "      <td>NaN</td>\n",
              "      <td>NaN</td>\n",
              "      <td>AEX</td>\n",
              "      <td>Alexandria, LA</td>\n",
              "      <td>LA</td>\n",
              "      <td>Louisiana</td>\n",
              "      <td>US</td>\n",
              "      <td>United States</td>\n",
              "      <td>BOG</td>\n",
              "      <td>Bogota, Colombia</td>\n",
              "      <td>NaN</td>\n",
              "      <td>NaN</td>\n",
              "      <td>CO</td>\n",
              "      <td>Colombia</td>\n",
              "      <td>2015.0</td>\n",
              "      <td>3.0</td>\n",
              "    </tr>\n",
              "  </tbody>\n",
              "</table>\n",
              "</div>"
            ],
            "text/plain": [
              "   Sum_PASSENGERS  AIRLINE_ID CARRIER_NAME  ... DEST_COUNTRY_NAME    YEAR MONTH\n",
              "0               0         NaN          NaN  ...     United States  2015.0   3.0\n",
              "1               0         NaN          NaN  ...     United States  2015.0   4.0\n",
              "2               0         NaN          NaN  ...     United States  2015.0   3.0\n",
              "3              89         NaN          NaN  ...          Colombia  2015.0   1.0\n",
              "4             108         NaN          NaN  ...          Colombia  2015.0   3.0\n",
              "\n",
              "[5 rows x 17 columns]"
            ]
          },
          "metadata": {
            "tags": []
          },
          "execution_count": 6
        }
      ]
    },
    {
      "cell_type": "code",
      "metadata": {
        "colab": {
          "base_uri": "https://localhost:8080/",
          "height": 226
        },
        "id": "Dgx9COd5YuWz",
        "outputId": "8f946692-2ea1-439b-97dd-63a06004f385"
      },
      "source": [
        "df[df.AIRLINE_ID.isnull()].tail()"
      ],
      "execution_count": 7,
      "outputs": [
        {
          "output_type": "execute_result",
          "data": {
            "text/html": [
              "<div>\n",
              "<style scoped>\n",
              "    .dataframe tbody tr th:only-of-type {\n",
              "        vertical-align: middle;\n",
              "    }\n",
              "\n",
              "    .dataframe tbody tr th {\n",
              "        vertical-align: top;\n",
              "    }\n",
              "\n",
              "    .dataframe thead th {\n",
              "        text-align: right;\n",
              "    }\n",
              "</style>\n",
              "<table border=\"1\" class=\"dataframe\">\n",
              "  <thead>\n",
              "    <tr style=\"text-align: right;\">\n",
              "      <th></th>\n",
              "      <th>Sum_PASSENGERS</th>\n",
              "      <th>AIRLINE_ID</th>\n",
              "      <th>CARRIER_NAME</th>\n",
              "      <th>ORIGIN</th>\n",
              "      <th>ORIGIN_CITY_NAME</th>\n",
              "      <th>ORIGIN_STATE_ABR</th>\n",
              "      <th>ORIGIN_STATE_NM</th>\n",
              "      <th>ORIGIN_COUNTRY</th>\n",
              "      <th>ORIGIN_COUNTRY_NAME</th>\n",
              "      <th>DEST</th>\n",
              "      <th>DEST_CITY_NAME</th>\n",
              "      <th>DEST_STATE_ABR</th>\n",
              "      <th>DEST_STATE_NM</th>\n",
              "      <th>DEST_COUNTRY</th>\n",
              "      <th>DEST_COUNTRY_NAME</th>\n",
              "      <th>YEAR</th>\n",
              "      <th>MONTH</th>\n",
              "    </tr>\n",
              "  </thead>\n",
              "  <tbody>\n",
              "    <tr>\n",
              "      <th>443</th>\n",
              "      <td>0</td>\n",
              "      <td>NaN</td>\n",
              "      <td>NaN</td>\n",
              "      <td>YIP</td>\n",
              "      <td>Detroit, MI</td>\n",
              "      <td>MI</td>\n",
              "      <td>Michigan</td>\n",
              "      <td>US</td>\n",
              "      <td>United States</td>\n",
              "      <td>YIP</td>\n",
              "      <td>Detroit, MI</td>\n",
              "      <td>MI</td>\n",
              "      <td>Michigan</td>\n",
              "      <td>US</td>\n",
              "      <td>United States</td>\n",
              "      <td>2000.0</td>\n",
              "      <td>6.0</td>\n",
              "    </tr>\n",
              "    <tr>\n",
              "      <th>444</th>\n",
              "      <td>174</td>\n",
              "      <td>NaN</td>\n",
              "      <td>NaN</td>\n",
              "      <td>YOW</td>\n",
              "      <td>Ottawa, Canada</td>\n",
              "      <td>ON</td>\n",
              "      <td>Ontario</td>\n",
              "      <td>CA</td>\n",
              "      <td>Canada</td>\n",
              "      <td>LAS</td>\n",
              "      <td>Las Vegas, NV</td>\n",
              "      <td>NV</td>\n",
              "      <td>Nevada</td>\n",
              "      <td>US</td>\n",
              "      <td>United States</td>\n",
              "      <td>2006.0</td>\n",
              "      <td>11.0</td>\n",
              "    </tr>\n",
              "    <tr>\n",
              "      <th>445</th>\n",
              "      <td>1416</td>\n",
              "      <td>NaN</td>\n",
              "      <td>NaN</td>\n",
              "      <td>YVR</td>\n",
              "      <td>Vancouver, Canada</td>\n",
              "      <td>BC</td>\n",
              "      <td>British Columbia</td>\n",
              "      <td>CA</td>\n",
              "      <td>Canada</td>\n",
              "      <td>PDX</td>\n",
              "      <td>Portland, OR</td>\n",
              "      <td>OR</td>\n",
              "      <td>Oregon</td>\n",
              "      <td>US</td>\n",
              "      <td>United States</td>\n",
              "      <td>2000.0</td>\n",
              "      <td>6.0</td>\n",
              "    </tr>\n",
              "    <tr>\n",
              "      <th>446</th>\n",
              "      <td>1274</td>\n",
              "      <td>NaN</td>\n",
              "      <td>NaN</td>\n",
              "      <td>YVR</td>\n",
              "      <td>Vancouver, Canada</td>\n",
              "      <td>BC</td>\n",
              "      <td>British Columbia</td>\n",
              "      <td>CA</td>\n",
              "      <td>Canada</td>\n",
              "      <td>SLC</td>\n",
              "      <td>Salt Lake City, UT</td>\n",
              "      <td>UT</td>\n",
              "      <td>Utah</td>\n",
              "      <td>US</td>\n",
              "      <td>United States</td>\n",
              "      <td>2000.0</td>\n",
              "      <td>6.0</td>\n",
              "    </tr>\n",
              "    <tr>\n",
              "      <th>447</th>\n",
              "      <td>1227</td>\n",
              "      <td>NaN</td>\n",
              "      <td>NaN</td>\n",
              "      <td>YYZ</td>\n",
              "      <td>Toronto, Canada</td>\n",
              "      <td>ON</td>\n",
              "      <td>Ontario</td>\n",
              "      <td>CA</td>\n",
              "      <td>Canada</td>\n",
              "      <td>LAS</td>\n",
              "      <td>Las Vegas, NV</td>\n",
              "      <td>NV</td>\n",
              "      <td>Nevada</td>\n",
              "      <td>US</td>\n",
              "      <td>United States</td>\n",
              "      <td>2006.0</td>\n",
              "      <td>11.0</td>\n",
              "    </tr>\n",
              "  </tbody>\n",
              "</table>\n",
              "</div>"
            ],
            "text/plain": [
              "     Sum_PASSENGERS  AIRLINE_ID CARRIER_NAME  ... DEST_COUNTRY_NAME    YEAR MONTH\n",
              "443               0         NaN          NaN  ...     United States  2000.0   6.0\n",
              "444             174         NaN          NaN  ...     United States  2006.0  11.0\n",
              "445            1416         NaN          NaN  ...     United States  2000.0   6.0\n",
              "446            1274         NaN          NaN  ...     United States  2000.0   6.0\n",
              "447            1227         NaN          NaN  ...     United States  2006.0  11.0\n",
              "\n",
              "[5 rows x 17 columns]"
            ]
          },
          "metadata": {
            "tags": []
          },
          "execution_count": 7
        }
      ]
    },
    {
      "cell_type": "markdown",
      "metadata": {
        "id": "dsfFwnJdYq3Q"
      },
      "source": [
        "I can't see a detectable pattern in the rows which lack the AIRLINE_ID and CARRIER_NAME. Still, since these columns are not the most important, I am not going to delete these rows---I will rather fill the null values there with the string 'undefined'."
      ]
    },
    {
      "cell_type": "code",
      "metadata": {
        "id": "nq9EonwSaZ8x"
      },
      "source": [
        "df.AIRLINE_ID = df.AIRLINE_ID.fillna('undefined')\n",
        "df.CARRIER_NAME = df.CARRIER_NAME.fillna('undefined')"
      ],
      "execution_count": 8,
      "outputs": []
    },
    {
      "cell_type": "markdown",
      "metadata": {
        "id": "Ii94DtW9auuU"
      },
      "source": [
        "Let's now turn to origin and destination states."
      ]
    },
    {
      "cell_type": "code",
      "metadata": {
        "colab": {
          "base_uri": "https://localhost:8080/",
          "height": 261
        },
        "id": "EfNjX10p_nTE",
        "outputId": "07eda44f-61e6-42c3-88a6-08919ffa277d"
      },
      "source": [
        "df[df.DEST_STATE_ABR.isnull()].head()"
      ],
      "execution_count": 9,
      "outputs": [
        {
          "output_type": "execute_result",
          "data": {
            "text/html": [
              "<div>\n",
              "<style scoped>\n",
              "    .dataframe tbody tr th:only-of-type {\n",
              "        vertical-align: middle;\n",
              "    }\n",
              "\n",
              "    .dataframe tbody tr th {\n",
              "        vertical-align: top;\n",
              "    }\n",
              "\n",
              "    .dataframe thead th {\n",
              "        text-align: right;\n",
              "    }\n",
              "</style>\n",
              "<table border=\"1\" class=\"dataframe\">\n",
              "  <thead>\n",
              "    <tr style=\"text-align: right;\">\n",
              "      <th></th>\n",
              "      <th>Sum_PASSENGERS</th>\n",
              "      <th>AIRLINE_ID</th>\n",
              "      <th>CARRIER_NAME</th>\n",
              "      <th>ORIGIN</th>\n",
              "      <th>ORIGIN_CITY_NAME</th>\n",
              "      <th>ORIGIN_STATE_ABR</th>\n",
              "      <th>ORIGIN_STATE_NM</th>\n",
              "      <th>ORIGIN_COUNTRY</th>\n",
              "      <th>ORIGIN_COUNTRY_NAME</th>\n",
              "      <th>DEST</th>\n",
              "      <th>DEST_CITY_NAME</th>\n",
              "      <th>DEST_STATE_ABR</th>\n",
              "      <th>DEST_STATE_NM</th>\n",
              "      <th>DEST_COUNTRY</th>\n",
              "      <th>DEST_COUNTRY_NAME</th>\n",
              "      <th>YEAR</th>\n",
              "      <th>MONTH</th>\n",
              "    </tr>\n",
              "  </thead>\n",
              "  <tbody>\n",
              "    <tr>\n",
              "      <th>3</th>\n",
              "      <td>89</td>\n",
              "      <td>undefined</td>\n",
              "      <td>undefined</td>\n",
              "      <td>AEX</td>\n",
              "      <td>Alexandria, LA</td>\n",
              "      <td>LA</td>\n",
              "      <td>Louisiana</td>\n",
              "      <td>US</td>\n",
              "      <td>United States</td>\n",
              "      <td>BOG</td>\n",
              "      <td>Bogota, Colombia</td>\n",
              "      <td>NaN</td>\n",
              "      <td>NaN</td>\n",
              "      <td>CO</td>\n",
              "      <td>Colombia</td>\n",
              "      <td>2015.0</td>\n",
              "      <td>1.0</td>\n",
              "    </tr>\n",
              "    <tr>\n",
              "      <th>4</th>\n",
              "      <td>108</td>\n",
              "      <td>undefined</td>\n",
              "      <td>undefined</td>\n",
              "      <td>AEX</td>\n",
              "      <td>Alexandria, LA</td>\n",
              "      <td>LA</td>\n",
              "      <td>Louisiana</td>\n",
              "      <td>US</td>\n",
              "      <td>United States</td>\n",
              "      <td>BOG</td>\n",
              "      <td>Bogota, Colombia</td>\n",
              "      <td>NaN</td>\n",
              "      <td>NaN</td>\n",
              "      <td>CO</td>\n",
              "      <td>Colombia</td>\n",
              "      <td>2015.0</td>\n",
              "      <td>3.0</td>\n",
              "    </tr>\n",
              "    <tr>\n",
              "      <th>5</th>\n",
              "      <td>83</td>\n",
              "      <td>undefined</td>\n",
              "      <td>undefined</td>\n",
              "      <td>AEX</td>\n",
              "      <td>Alexandria, LA</td>\n",
              "      <td>LA</td>\n",
              "      <td>Louisiana</td>\n",
              "      <td>US</td>\n",
              "      <td>United States</td>\n",
              "      <td>BOG</td>\n",
              "      <td>Bogota, Colombia</td>\n",
              "      <td>NaN</td>\n",
              "      <td>NaN</td>\n",
              "      <td>CO</td>\n",
              "      <td>Colombia</td>\n",
              "      <td>2015.0</td>\n",
              "      <td>4.0</td>\n",
              "    </tr>\n",
              "    <tr>\n",
              "      <th>27</th>\n",
              "      <td>90</td>\n",
              "      <td>undefined</td>\n",
              "      <td>undefined</td>\n",
              "      <td>AEX</td>\n",
              "      <td>Alexandria, LA</td>\n",
              "      <td>LA</td>\n",
              "      <td>Louisiana</td>\n",
              "      <td>US</td>\n",
              "      <td>United States</td>\n",
              "      <td>GUA</td>\n",
              "      <td>Guatemala City, Guatemala</td>\n",
              "      <td>NaN</td>\n",
              "      <td>NaN</td>\n",
              "      <td>GT</td>\n",
              "      <td>Guatemala</td>\n",
              "      <td>2015.0</td>\n",
              "      <td>1.0</td>\n",
              "    </tr>\n",
              "    <tr>\n",
              "      <th>28</th>\n",
              "      <td>217</td>\n",
              "      <td>undefined</td>\n",
              "      <td>undefined</td>\n",
              "      <td>AEX</td>\n",
              "      <td>Alexandria, LA</td>\n",
              "      <td>LA</td>\n",
              "      <td>Louisiana</td>\n",
              "      <td>US</td>\n",
              "      <td>United States</td>\n",
              "      <td>GUA</td>\n",
              "      <td>Guatemala City, Guatemala</td>\n",
              "      <td>NaN</td>\n",
              "      <td>NaN</td>\n",
              "      <td>GT</td>\n",
              "      <td>Guatemala</td>\n",
              "      <td>2015.0</td>\n",
              "      <td>2.0</td>\n",
              "    </tr>\n",
              "  </tbody>\n",
              "</table>\n",
              "</div>"
            ],
            "text/plain": [
              "    Sum_PASSENGERS AIRLINE_ID CARRIER_NAME  ... DEST_COUNTRY_NAME    YEAR MONTH\n",
              "3               89  undefined    undefined  ...          Colombia  2015.0   1.0\n",
              "4              108  undefined    undefined  ...          Colombia  2015.0   3.0\n",
              "5               83  undefined    undefined  ...          Colombia  2015.0   4.0\n",
              "27              90  undefined    undefined  ...         Guatemala  2015.0   1.0\n",
              "28             217  undefined    undefined  ...         Guatemala  2015.0   2.0\n",
              "\n",
              "[5 rows x 17 columns]"
            ]
          },
          "metadata": {
            "tags": []
          },
          "execution_count": 9
        }
      ]
    },
    {
      "cell_type": "markdown",
      "metadata": {
        "id": "kymV3ijf912U"
      },
      "source": [
        "It seems that the rows with missing DEST_STATE_ABR and DEST_STATE_NM are simply travels to countries other than United States."
      ]
    },
    {
      "cell_type": "code",
      "metadata": {
        "colab": {
          "base_uri": "https://localhost:8080/",
          "height": 261
        },
        "id": "2LMOsS5u-CZu",
        "outputId": "4652a18b-ac2c-44ac-82a2-56bec9c10ef2"
      },
      "source": [
        "df[df.ORIGIN_STATE_ABR.isnull()].head()"
      ],
      "execution_count": 10,
      "outputs": [
        {
          "output_type": "execute_result",
          "data": {
            "text/html": [
              "<div>\n",
              "<style scoped>\n",
              "    .dataframe tbody tr th:only-of-type {\n",
              "        vertical-align: middle;\n",
              "    }\n",
              "\n",
              "    .dataframe tbody tr th {\n",
              "        vertical-align: top;\n",
              "    }\n",
              "\n",
              "    .dataframe thead th {\n",
              "        text-align: right;\n",
              "    }\n",
              "</style>\n",
              "<table border=\"1\" class=\"dataframe\">\n",
              "  <thead>\n",
              "    <tr style=\"text-align: right;\">\n",
              "      <th></th>\n",
              "      <th>Sum_PASSENGERS</th>\n",
              "      <th>AIRLINE_ID</th>\n",
              "      <th>CARRIER_NAME</th>\n",
              "      <th>ORIGIN</th>\n",
              "      <th>ORIGIN_CITY_NAME</th>\n",
              "      <th>ORIGIN_STATE_ABR</th>\n",
              "      <th>ORIGIN_STATE_NM</th>\n",
              "      <th>ORIGIN_COUNTRY</th>\n",
              "      <th>ORIGIN_COUNTRY_NAME</th>\n",
              "      <th>DEST</th>\n",
              "      <th>DEST_CITY_NAME</th>\n",
              "      <th>DEST_STATE_ABR</th>\n",
              "      <th>DEST_STATE_NM</th>\n",
              "      <th>DEST_COUNTRY</th>\n",
              "      <th>DEST_COUNTRY_NAME</th>\n",
              "      <th>YEAR</th>\n",
              "      <th>MONTH</th>\n",
              "    </tr>\n",
              "  </thead>\n",
              "  <tbody>\n",
              "    <tr>\n",
              "      <th>70</th>\n",
              "      <td>787</td>\n",
              "      <td>undefined</td>\n",
              "      <td>undefined</td>\n",
              "      <td>AMS</td>\n",
              "      <td>Amsterdam, Netherlands</td>\n",
              "      <td>NaN</td>\n",
              "      <td>NaN</td>\n",
              "      <td>NL</td>\n",
              "      <td>Netherlands</td>\n",
              "      <td>JFK</td>\n",
              "      <td>New York, NY</td>\n",
              "      <td>NY</td>\n",
              "      <td>New York</td>\n",
              "      <td>US</td>\n",
              "      <td>United States</td>\n",
              "      <td>2009.0</td>\n",
              "      <td>5.0</td>\n",
              "    </tr>\n",
              "    <tr>\n",
              "      <th>71</th>\n",
              "      <td>1036</td>\n",
              "      <td>undefined</td>\n",
              "      <td>undefined</td>\n",
              "      <td>AMS</td>\n",
              "      <td>Amsterdam, Netherlands</td>\n",
              "      <td>NaN</td>\n",
              "      <td>NaN</td>\n",
              "      <td>NL</td>\n",
              "      <td>Netherlands</td>\n",
              "      <td>JFK</td>\n",
              "      <td>New York, NY</td>\n",
              "      <td>NY</td>\n",
              "      <td>New York</td>\n",
              "      <td>US</td>\n",
              "      <td>United States</td>\n",
              "      <td>2009.0</td>\n",
              "      <td>7.0</td>\n",
              "    </tr>\n",
              "    <tr>\n",
              "      <th>72</th>\n",
              "      <td>1026</td>\n",
              "      <td>undefined</td>\n",
              "      <td>undefined</td>\n",
              "      <td>ARN</td>\n",
              "      <td>Stockholm, Sweden</td>\n",
              "      <td>NaN</td>\n",
              "      <td>NaN</td>\n",
              "      <td>SE</td>\n",
              "      <td>Sweden</td>\n",
              "      <td>MIA</td>\n",
              "      <td>Miami, FL</td>\n",
              "      <td>FL</td>\n",
              "      <td>Florida</td>\n",
              "      <td>US</td>\n",
              "      <td>United States</td>\n",
              "      <td>2000.0</td>\n",
              "      <td>1.0</td>\n",
              "    </tr>\n",
              "    <tr>\n",
              "      <th>73</th>\n",
              "      <td>703</td>\n",
              "      <td>undefined</td>\n",
              "      <td>undefined</td>\n",
              "      <td>ARN</td>\n",
              "      <td>Stockholm, Sweden</td>\n",
              "      <td>NaN</td>\n",
              "      <td>NaN</td>\n",
              "      <td>SE</td>\n",
              "      <td>Sweden</td>\n",
              "      <td>MIA</td>\n",
              "      <td>Miami, FL</td>\n",
              "      <td>FL</td>\n",
              "      <td>Florida</td>\n",
              "      <td>US</td>\n",
              "      <td>United States</td>\n",
              "      <td>2000.0</td>\n",
              "      <td>2.0</td>\n",
              "    </tr>\n",
              "    <tr>\n",
              "      <th>74</th>\n",
              "      <td>707</td>\n",
              "      <td>undefined</td>\n",
              "      <td>undefined</td>\n",
              "      <td>ARN</td>\n",
              "      <td>Stockholm, Sweden</td>\n",
              "      <td>NaN</td>\n",
              "      <td>NaN</td>\n",
              "      <td>SE</td>\n",
              "      <td>Sweden</td>\n",
              "      <td>MIA</td>\n",
              "      <td>Miami, FL</td>\n",
              "      <td>FL</td>\n",
              "      <td>Florida</td>\n",
              "      <td>US</td>\n",
              "      <td>United States</td>\n",
              "      <td>2000.0</td>\n",
              "      <td>3.0</td>\n",
              "    </tr>\n",
              "  </tbody>\n",
              "</table>\n",
              "</div>"
            ],
            "text/plain": [
              "    Sum_PASSENGERS AIRLINE_ID CARRIER_NAME  ... DEST_COUNTRY_NAME    YEAR MONTH\n",
              "70             787  undefined    undefined  ...     United States  2009.0   5.0\n",
              "71            1036  undefined    undefined  ...     United States  2009.0   7.0\n",
              "72            1026  undefined    undefined  ...     United States  2000.0   1.0\n",
              "73             703  undefined    undefined  ...     United States  2000.0   2.0\n",
              "74             707  undefined    undefined  ...     United States  2000.0   3.0\n",
              "\n",
              "[5 rows x 17 columns]"
            ]
          },
          "metadata": {
            "tags": []
          },
          "execution_count": 10
        }
      ]
    },
    {
      "cell_type": "markdown",
      "metadata": {
        "id": "oejFSp1B_yFy"
      },
      "source": [
        "Likewise, the rows with null values in ORIGIN_STATE_ABR and ORIGIN_STATE_NM are the flights which originate outside of United States.\n",
        "\n",
        "It makes sense to group all these rows by filling the missing values as 'Non-USA'."
      ]
    },
    {
      "cell_type": "code",
      "metadata": {
        "id": "o8IUA7Gia3Aa"
      },
      "source": [
        "df.ORIGIN_STATE_ABR = df.ORIGIN_STATE_ABR.fillna('Non-USA')\n",
        "df.ORIGIN_STATE_NM = df.ORIGIN_STATE_NM.fillna('Non-USA')\n",
        "df.DEST_STATE_ABR = df.DEST_STATE_ABR.fillna('Non-USA')\n",
        "df.DEST_STATE_NM = df.DEST_STATE_NM.fillna('Non-USA')"
      ],
      "execution_count": 11,
      "outputs": []
    },
    {
      "cell_type": "markdown",
      "metadata": {
        "id": "4AZ6dZJ_a3m-"
      },
      "source": [
        "\n",
        "Let's now consider the rows with single missing values."
      ]
    },
    {
      "cell_type": "code",
      "metadata": {
        "id": "UBm3D82x-Uq9",
        "colab": {
          "base_uri": "https://localhost:8080/",
          "height": 118
        },
        "outputId": "6824f818-d479-4872-e03a-af21ab68dcc1"
      },
      "source": [
        "df[df.DEST_COUNTRY_NAME.isnull()].head()"
      ],
      "execution_count": 16,
      "outputs": [
        {
          "output_type": "execute_result",
          "data": {
            "text/html": [
              "<div>\n",
              "<style scoped>\n",
              "    .dataframe tbody tr th:only-of-type {\n",
              "        vertical-align: middle;\n",
              "    }\n",
              "\n",
              "    .dataframe tbody tr th {\n",
              "        vertical-align: top;\n",
              "    }\n",
              "\n",
              "    .dataframe thead th {\n",
              "        text-align: right;\n",
              "    }\n",
              "</style>\n",
              "<table border=\"1\" class=\"dataframe\">\n",
              "  <thead>\n",
              "    <tr style=\"text-align: right;\">\n",
              "      <th></th>\n",
              "      <th>Sum_PASSENGERS</th>\n",
              "      <th>AIRLINE_ID</th>\n",
              "      <th>CARRIER_NAME</th>\n",
              "      <th>ORIGIN</th>\n",
              "      <th>ORIGIN_CITY_NAME</th>\n",
              "      <th>ORIGIN_STATE_ABR</th>\n",
              "      <th>ORIGIN_STATE_NM</th>\n",
              "      <th>ORIGIN_COUNTRY</th>\n",
              "      <th>ORIGIN_COUNTRY_NAME</th>\n",
              "      <th>DEST</th>\n",
              "      <th>DEST_CITY_NAME</th>\n",
              "      <th>DEST_STATE_ABR</th>\n",
              "      <th>DEST_STATE_NM</th>\n",
              "      <th>DEST_COUNTRY</th>\n",
              "      <th>DEST_COUNTRY_NAME</th>\n",
              "      <th>YEAR</th>\n",
              "      <th>MONTH</th>\n",
              "    </tr>\n",
              "  </thead>\n",
              "  <tbody>\n",
              "    <tr>\n",
              "      <th>392819</th>\n",
              "      <td>8707</td>\n",
              "      <td>19393</td>\n",
              "      <td>Southwest Airlines Co.</td>\n",
              "      <td>LAS</td>\n",
              "      <td>Las Vegas, NV</td>\n",
              "      <td>NV</td>\n",
              "      <td>Nevada</td>\n",
              "      <td>US</td>\n",
              "      <td>United States</td>\n",
              "      <td>GEG</td>\n",
              "      <td>Spokane, WA</td>\n",
              "      <td>WA</td>\n",
              "      <td>Washingto</td>\n",
              "      <td>NaN</td>\n",
              "      <td>NaN</td>\n",
              "      <td>NaN</td>\n",
              "      <td>NaN</td>\n",
              "    </tr>\n",
              "  </tbody>\n",
              "</table>\n",
              "</div>"
            ],
            "text/plain": [
              "        Sum_PASSENGERS AIRLINE_ID  ... YEAR MONTH\n",
              "392819            8707      19393  ...  NaN   NaN\n",
              "\n",
              "[1 rows x 17 columns]"
            ]
          },
          "metadata": {
            "tags": []
          },
          "execution_count": 16
        }
      ]
    },
    {
      "cell_type": "markdown",
      "metadata": {
        "id": "ZvfLy71aZsaN"
      },
      "source": [
        "It seems that there was a single flight with all these columns missing---the Southwest Airlines Co. originating in Dallas. As this row lacks even date of the flight, it only makes sense to remove it."
      ]
    },
    {
      "cell_type": "code",
      "metadata": {
        "id": "wGo_Ov6baJ8E"
      },
      "source": [
        "df = df[df.DEST_COUNTRY_NAME.notna()]"
      ],
      "execution_count": 17,
      "outputs": []
    },
    {
      "cell_type": "markdown",
      "metadata": {
        "id": "UlYAl4VfcBnF"
      },
      "source": [
        "Finally, let's take a look if we have any missing values left:"
      ]
    },
    {
      "cell_type": "code",
      "metadata": {
        "colab": {
          "base_uri": "https://localhost:8080/"
        },
        "id": "V5-pcaFdcFx_",
        "outputId": "22cb9bec-344c-4c78-b193-e56fd1b323d3"
      },
      "source": [
        "df.isnull().sum()"
      ],
      "execution_count": 18,
      "outputs": [
        {
          "output_type": "execute_result",
          "data": {
            "text/plain": [
              "Sum_PASSENGERS         0\n",
              "AIRLINE_ID             0\n",
              "CARRIER_NAME           0\n",
              "ORIGIN                 0\n",
              "ORIGIN_CITY_NAME       0\n",
              "ORIGIN_STATE_ABR       0\n",
              "ORIGIN_STATE_NM        0\n",
              "ORIGIN_COUNTRY         0\n",
              "ORIGIN_COUNTRY_NAME    0\n",
              "DEST                   0\n",
              "DEST_CITY_NAME         0\n",
              "DEST_STATE_ABR         0\n",
              "DEST_STATE_NM          0\n",
              "DEST_COUNTRY           0\n",
              "DEST_COUNTRY_NAME      0\n",
              "YEAR                   0\n",
              "MONTH                  0\n",
              "dtype: int64"
            ]
          },
          "metadata": {
            "tags": []
          },
          "execution_count": 18
        }
      ]
    },
    {
      "cell_type": "markdown",
      "metadata": {
        "id": "0FH6AXD3cRSc"
      },
      "source": [
        "Success!"
      ]
    },
    {
      "cell_type": "code",
      "metadata": {
        "id": "unfd14UxcS94"
      },
      "source": [
        "from google.colab import files\n",
        "df.to_csv('monthly_air_passengers.csv', index=False)"
      ],
      "execution_count": 15,
      "outputs": []
    }
  ]
}