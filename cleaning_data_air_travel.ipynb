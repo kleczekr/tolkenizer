{
  "nbformat": 4,
  "nbformat_minor": 0,
  "metadata": {
    "colab": {
      "name": "cleaning_data_air_travel.ipynb",
      "provenance": [],
      "collapsed_sections": [],
      "authorship_tag": "ABX9TyPf6fa2yNK9tGjKY29OcUDv",
      "include_colab_link": true
    },
    "kernelspec": {
      "display_name": "Python 3",
      "name": "python3"
    },
    "language_info": {
      "name": "python"
    }
  },
  "cells": [
    {
      "cell_type": "markdown",
      "metadata": {
        "id": "view-in-github",
        "colab_type": "text"
      },
      "source": [
        "<a href=\"https://colab.research.google.com/github/kleczekr/tolkenizer/blob/master/cleaning_data_air_travel.ipynb\" target=\"_parent\"><img src=\"https://colab.research.google.com/assets/colab-badge.svg\" alt=\"Open In Colab\"/></a>"
      ]
    },
    {
      "cell_type": "markdown",
      "metadata": {
        "id": "tteBBsNt8016"
      },
      "source": [
        "## Exploring and cleaning the air travel file\n",
        "### Coursera Tableau project"
      ]
    },
    {
      "cell_type": "code",
      "metadata": {
        "id": "vo5quphF7OrY"
      },
      "source": [
        "import pandas as pd"
      ],
      "execution_count": 2,
      "outputs": []
    },
    {
      "cell_type": "code",
      "metadata": {
        "id": "FRgRCQq78YHZ"
      },
      "source": [
        "df = pd.read_csv('/content/US Monthly Air Passengers.csv')"
      ],
      "execution_count": 3,
      "outputs": []
    },
    {
      "cell_type": "code",
      "metadata": {
        "colab": {
          "base_uri": "https://localhost:8080/"
        },
        "id": "aQeGuSdC8k27",
        "outputId": "3347dc1b-3bca-4e88-890c-7674e26fdf95"
      },
      "source": [
        "df.shape"
      ],
      "execution_count": 4,
      "outputs": [
        {
          "output_type": "execute_result",
          "data": {
            "text/plain": [
              "(271336, 17)"
            ]
          },
          "metadata": {
            "tags": []
          },
          "execution_count": 4
        }
      ]
    },
    {
      "cell_type": "markdown",
      "metadata": {
        "id": "zphsJnKB8vOa"
      },
      "source": [
        "The data has 271336 lines, grouped in 17 columns."
      ]
    },
    {
      "cell_type": "code",
      "metadata": {
        "colab": {
          "base_uri": "https://localhost:8080/"
        },
        "id": "-jHLay348_Cf",
        "outputId": "a369dcc5-d8e2-47b5-eec8-36f10cf94cf5"
      },
      "source": [
        "df.columns"
      ],
      "execution_count": 5,
      "outputs": [
        {
          "output_type": "execute_result",
          "data": {
            "text/plain": [
              "Index(['Sum_PASSENGERS', 'AIRLINE_ID', 'CARRIER_NAME', 'ORIGIN',\n",
              "       'ORIGIN_CITY_NAME', 'ORIGIN_STATE_ABR', 'ORIGIN_STATE_NM',\n",
              "       'ORIGIN_COUNTRY', 'ORIGIN_COUNTRY_NAME', 'DEST', 'DEST_CITY_NAME',\n",
              "       'DEST_STATE_ABR', 'DEST_STATE_NM', 'DEST_COUNTRY', 'DEST_COUNTRY_NAME',\n",
              "       'YEAR', 'MONTH'],\n",
              "      dtype='object')"
            ]
          },
          "metadata": {
            "tags": []
          },
          "execution_count": 5
        }
      ]
    },
    {
      "cell_type": "markdown",
      "metadata": {
        "id": "3TkUCQWb9Otb"
      },
      "source": [
        "Let's count empty values:"
      ]
    },
    {
      "cell_type": "code",
      "metadata": {
        "colab": {
          "base_uri": "https://localhost:8080/"
        },
        "id": "-Dxep8xT9A4k",
        "outputId": "f33ffedc-4a69-420a-9a5e-c5a51f6f8e4a"
      },
      "source": [
        "df.isnull().sum()"
      ],
      "execution_count": 6,
      "outputs": [
        {
          "output_type": "execute_result",
          "data": {
            "text/plain": [
              "Sum_PASSENGERS             0\n",
              "AIRLINE_ID               448\n",
              "CARRIER_NAME             448\n",
              "ORIGIN                     0\n",
              "ORIGIN_CITY_NAME           0\n",
              "ORIGIN_STATE_ABR        9857\n",
              "ORIGIN_STATE_NM         9857\n",
              "ORIGIN_COUNTRY             0\n",
              "ORIGIN_COUNTRY_NAME        0\n",
              "DEST                       0\n",
              "DEST_CITY_NAME             1\n",
              "DEST_STATE_ABR         10351\n",
              "DEST_STATE_NM          10351\n",
              "DEST_COUNTRY               1\n",
              "DEST_COUNTRY_NAME          1\n",
              "YEAR                       1\n",
              "MONTH                      1\n",
              "dtype: int64"
            ]
          },
          "metadata": {
            "tags": []
          },
          "execution_count": 6
        }
      ]
    },
    {
      "cell_type": "markdown",
      "metadata": {
        "id": "a9qLdzanYGvw"
      },
      "source": [
        "The following combinations of null values seem to be apparent: AIRLINE_ID with CARRIER_NAME, ORIGIN_STATE_ABR with ORIGIN_STATE_NM, DEST_STATE_ABR with DEST_STATE_NM. The following columns have each a single null value: DEST_CITY_NAME, DEST_COUNTRY, DEST_COUNTRY_NAME, YEAR and MONTH.\n",
        "\n",
        "I will first deal with the pairs of clusters of missing values and see if I can detect any patterns among them."
      ]
    },
    {
      "cell_type": "code",
      "metadata": {
        "colab": {
          "base_uri": "https://localhost:8080/",
          "height": 69
        },
        "id": "lyfhuFrJ9Q_u",
        "outputId": "108e7e5f-92e2-4596-fb25-ee009cea47f8"
      },
      "source": [
        "df[df.AIRLINE_ID.isnull()].head()"
      ],
      "execution_count": 17,
      "outputs": [
        {
          "output_type": "execute_result",
          "data": {
            "text/html": [
              "<div>\n",
              "<style scoped>\n",
              "    .dataframe tbody tr th:only-of-type {\n",
              "        vertical-align: middle;\n",
              "    }\n",
              "\n",
              "    .dataframe tbody tr th {\n",
              "        vertical-align: top;\n",
              "    }\n",
              "\n",
              "    .dataframe thead th {\n",
              "        text-align: right;\n",
              "    }\n",
              "</style>\n",
              "<table border=\"1\" class=\"dataframe\">\n",
              "  <thead>\n",
              "    <tr style=\"text-align: right;\">\n",
              "      <th></th>\n",
              "      <th>Sum_PASSENGERS</th>\n",
              "      <th>AIRLINE_ID</th>\n",
              "      <th>CARRIER_NAME</th>\n",
              "      <th>ORIGIN</th>\n",
              "      <th>ORIGIN_CITY_NAME</th>\n",
              "      <th>ORIGIN_STATE_ABR</th>\n",
              "      <th>ORIGIN_STATE_NM</th>\n",
              "      <th>ORIGIN_COUNTRY</th>\n",
              "      <th>ORIGIN_COUNTRY_NAME</th>\n",
              "      <th>DEST</th>\n",
              "      <th>DEST_CITY_NAME</th>\n",
              "      <th>DEST_STATE_ABR</th>\n",
              "      <th>DEST_STATE_NM</th>\n",
              "      <th>DEST_COUNTRY</th>\n",
              "      <th>DEST_COUNTRY_NAME</th>\n",
              "      <th>YEAR</th>\n",
              "      <th>MONTH</th>\n",
              "    </tr>\n",
              "  </thead>\n",
              "  <tbody>\n",
              "  </tbody>\n",
              "</table>\n",
              "</div>"
            ],
            "text/plain": [
              "Empty DataFrame\n",
              "Columns: [Sum_PASSENGERS, AIRLINE_ID, CARRIER_NAME, ORIGIN, ORIGIN_CITY_NAME, ORIGIN_STATE_ABR, ORIGIN_STATE_NM, ORIGIN_COUNTRY, ORIGIN_COUNTRY_NAME, DEST, DEST_CITY_NAME, DEST_STATE_ABR, DEST_STATE_NM, DEST_COUNTRY, DEST_COUNTRY_NAME, YEAR, MONTH]\n",
              "Index: []"
            ]
          },
          "metadata": {
            "tags": []
          },
          "execution_count": 17
        }
      ]
    },
    {
      "cell_type": "code",
      "metadata": {
        "colab": {
          "base_uri": "https://localhost:8080/",
          "height": 69
        },
        "id": "Dgx9COd5YuWz",
        "outputId": "d237e271-32f9-456f-e162-3f1244f040a9"
      },
      "source": [
        "df[df.AIRLINE_ID.isnull()].tail()"
      ],
      "execution_count": 16,
      "outputs": [
        {
          "output_type": "execute_result",
          "data": {
            "text/html": [
              "<div>\n",
              "<style scoped>\n",
              "    .dataframe tbody tr th:only-of-type {\n",
              "        vertical-align: middle;\n",
              "    }\n",
              "\n",
              "    .dataframe tbody tr th {\n",
              "        vertical-align: top;\n",
              "    }\n",
              "\n",
              "    .dataframe thead th {\n",
              "        text-align: right;\n",
              "    }\n",
              "</style>\n",
              "<table border=\"1\" class=\"dataframe\">\n",
              "  <thead>\n",
              "    <tr style=\"text-align: right;\">\n",
              "      <th></th>\n",
              "      <th>Sum_PASSENGERS</th>\n",
              "      <th>AIRLINE_ID</th>\n",
              "      <th>CARRIER_NAME</th>\n",
              "      <th>ORIGIN</th>\n",
              "      <th>ORIGIN_CITY_NAME</th>\n",
              "      <th>ORIGIN_STATE_ABR</th>\n",
              "      <th>ORIGIN_STATE_NM</th>\n",
              "      <th>ORIGIN_COUNTRY</th>\n",
              "      <th>ORIGIN_COUNTRY_NAME</th>\n",
              "      <th>DEST</th>\n",
              "      <th>DEST_CITY_NAME</th>\n",
              "      <th>DEST_STATE_ABR</th>\n",
              "      <th>DEST_STATE_NM</th>\n",
              "      <th>DEST_COUNTRY</th>\n",
              "      <th>DEST_COUNTRY_NAME</th>\n",
              "      <th>YEAR</th>\n",
              "      <th>MONTH</th>\n",
              "    </tr>\n",
              "  </thead>\n",
              "  <tbody>\n",
              "  </tbody>\n",
              "</table>\n",
              "</div>"
            ],
            "text/plain": [
              "Empty DataFrame\n",
              "Columns: [Sum_PASSENGERS, AIRLINE_ID, CARRIER_NAME, ORIGIN, ORIGIN_CITY_NAME, ORIGIN_STATE_ABR, ORIGIN_STATE_NM, ORIGIN_COUNTRY, ORIGIN_COUNTRY_NAME, DEST, DEST_CITY_NAME, DEST_STATE_ABR, DEST_STATE_NM, DEST_COUNTRY, DEST_COUNTRY_NAME, YEAR, MONTH]\n",
              "Index: []"
            ]
          },
          "metadata": {
            "tags": []
          },
          "execution_count": 16
        }
      ]
    },
    {
      "cell_type": "markdown",
      "metadata": {
        "id": "dsfFwnJdYq3Q"
      },
      "source": [
        "I can't see a detectable pattern in the rows which lack the AIRLINE_ID and CARRIER_NAME. Still, since these columns are not the most important, I am not going to delete these rows---I will rather fill the null values there with the string 'undefined'."
      ]
    },
    {
      "cell_type": "code",
      "metadata": {
        "colab": {
          "base_uri": "https://localhost:8080/"
        },
        "id": "nq9EonwSaZ8x",
        "outputId": "de37b1d7-e401-409c-94cd-d57805b1bb41"
      },
      "source": [
        "df.AIRLINE_ID = df.AIRLINE_ID.fillna('undefined')\n",
        "df.CARRIER_NAME = df.CARRIER_NAME.fillna('undefined')"
      ],
      "execution_count": 25,
      "outputs": [
        {
          "output_type": "stream",
          "text": [
            "/usr/local/lib/python3.7/dist-packages/pandas/core/generic.py:5170: SettingWithCopyWarning: \n",
            "A value is trying to be set on a copy of a slice from a DataFrame.\n",
            "Try using .loc[row_indexer,col_indexer] = value instead\n",
            "\n",
            "See the caveats in the documentation: https://pandas.pydata.org/pandas-docs/stable/user_guide/indexing.html#returning-a-view-versus-a-copy\n",
            "  self[name] = value\n"
          ],
          "name": "stderr"
        }
      ]
    },
    {
      "cell_type": "markdown",
      "metadata": {
        "id": "Ii94DtW9auuU"
      },
      "source": [
        "Let's now turn to origin and destination states."
      ]
    },
    {
      "cell_type": "code",
      "metadata": {
        "colab": {
          "base_uri": "https://localhost:8080/",
          "height": 69
        },
        "id": "EfNjX10p_nTE",
        "outputId": "eb82a76e-9b41-4550-d0a5-a4d5c83ff9cc"
      },
      "source": [
        "df[df.DEST_STATE_ABR.isnull()].head()"
      ],
      "execution_count": 20,
      "outputs": [
        {
          "output_type": "execute_result",
          "data": {
            "text/html": [
              "<div>\n",
              "<style scoped>\n",
              "    .dataframe tbody tr th:only-of-type {\n",
              "        vertical-align: middle;\n",
              "    }\n",
              "\n",
              "    .dataframe tbody tr th {\n",
              "        vertical-align: top;\n",
              "    }\n",
              "\n",
              "    .dataframe thead th {\n",
              "        text-align: right;\n",
              "    }\n",
              "</style>\n",
              "<table border=\"1\" class=\"dataframe\">\n",
              "  <thead>\n",
              "    <tr style=\"text-align: right;\">\n",
              "      <th></th>\n",
              "      <th>Sum_PASSENGERS</th>\n",
              "      <th>AIRLINE_ID</th>\n",
              "      <th>CARRIER_NAME</th>\n",
              "      <th>ORIGIN</th>\n",
              "      <th>ORIGIN_CITY_NAME</th>\n",
              "      <th>ORIGIN_STATE_ABR</th>\n",
              "      <th>ORIGIN_STATE_NM</th>\n",
              "      <th>ORIGIN_COUNTRY</th>\n",
              "      <th>ORIGIN_COUNTRY_NAME</th>\n",
              "      <th>DEST</th>\n",
              "      <th>DEST_CITY_NAME</th>\n",
              "      <th>DEST_STATE_ABR</th>\n",
              "      <th>DEST_STATE_NM</th>\n",
              "      <th>DEST_COUNTRY</th>\n",
              "      <th>DEST_COUNTRY_NAME</th>\n",
              "      <th>YEAR</th>\n",
              "      <th>MONTH</th>\n",
              "    </tr>\n",
              "  </thead>\n",
              "  <tbody>\n",
              "  </tbody>\n",
              "</table>\n",
              "</div>"
            ],
            "text/plain": [
              "Empty DataFrame\n",
              "Columns: [Sum_PASSENGERS, AIRLINE_ID, CARRIER_NAME, ORIGIN, ORIGIN_CITY_NAME, ORIGIN_STATE_ABR, ORIGIN_STATE_NM, ORIGIN_COUNTRY, ORIGIN_COUNTRY_NAME, DEST, DEST_CITY_NAME, DEST_STATE_ABR, DEST_STATE_NM, DEST_COUNTRY, DEST_COUNTRY_NAME, YEAR, MONTH]\n",
              "Index: []"
            ]
          },
          "metadata": {
            "tags": []
          },
          "execution_count": 20
        }
      ]
    },
    {
      "cell_type": "markdown",
      "metadata": {
        "id": "kymV3ijf912U"
      },
      "source": [
        "It seems that the rows with missing DEST_STATE_ABR and DEST_STATE_NM are simply travels to countries other than United States."
      ]
    },
    {
      "cell_type": "code",
      "metadata": {
        "colab": {
          "base_uri": "https://localhost:8080/",
          "height": 69
        },
        "id": "2LMOsS5u-CZu",
        "outputId": "cc7e61c4-8e9a-4f4a-cc3c-bf74e23f4f5c"
      },
      "source": [
        "df[df.ORIGIN_STATE_ABR.isnull()].head()"
      ],
      "execution_count": 21,
      "outputs": [
        {
          "output_type": "execute_result",
          "data": {
            "text/html": [
              "<div>\n",
              "<style scoped>\n",
              "    .dataframe tbody tr th:only-of-type {\n",
              "        vertical-align: middle;\n",
              "    }\n",
              "\n",
              "    .dataframe tbody tr th {\n",
              "        vertical-align: top;\n",
              "    }\n",
              "\n",
              "    .dataframe thead th {\n",
              "        text-align: right;\n",
              "    }\n",
              "</style>\n",
              "<table border=\"1\" class=\"dataframe\">\n",
              "  <thead>\n",
              "    <tr style=\"text-align: right;\">\n",
              "      <th></th>\n",
              "      <th>Sum_PASSENGERS</th>\n",
              "      <th>AIRLINE_ID</th>\n",
              "      <th>CARRIER_NAME</th>\n",
              "      <th>ORIGIN</th>\n",
              "      <th>ORIGIN_CITY_NAME</th>\n",
              "      <th>ORIGIN_STATE_ABR</th>\n",
              "      <th>ORIGIN_STATE_NM</th>\n",
              "      <th>ORIGIN_COUNTRY</th>\n",
              "      <th>ORIGIN_COUNTRY_NAME</th>\n",
              "      <th>DEST</th>\n",
              "      <th>DEST_CITY_NAME</th>\n",
              "      <th>DEST_STATE_ABR</th>\n",
              "      <th>DEST_STATE_NM</th>\n",
              "      <th>DEST_COUNTRY</th>\n",
              "      <th>DEST_COUNTRY_NAME</th>\n",
              "      <th>YEAR</th>\n",
              "      <th>MONTH</th>\n",
              "    </tr>\n",
              "  </thead>\n",
              "  <tbody>\n",
              "  </tbody>\n",
              "</table>\n",
              "</div>"
            ],
            "text/plain": [
              "Empty DataFrame\n",
              "Columns: [Sum_PASSENGERS, AIRLINE_ID, CARRIER_NAME, ORIGIN, ORIGIN_CITY_NAME, ORIGIN_STATE_ABR, ORIGIN_STATE_NM, ORIGIN_COUNTRY, ORIGIN_COUNTRY_NAME, DEST, DEST_CITY_NAME, DEST_STATE_ABR, DEST_STATE_NM, DEST_COUNTRY, DEST_COUNTRY_NAME, YEAR, MONTH]\n",
              "Index: []"
            ]
          },
          "metadata": {
            "tags": []
          },
          "execution_count": 21
        }
      ]
    },
    {
      "cell_type": "markdown",
      "metadata": {
        "id": "oejFSp1B_yFy"
      },
      "source": [
        "Likewise, the rows with null values in ORIGIN_STATE_ABR and ORIGIN_STATE_NM are the flights which originate outside of United States.\n",
        "\n",
        "It makes sense to group all these rows by filling the missing values as 'Non-USA'."
      ]
    },
    {
      "cell_type": "code",
      "metadata": {
        "id": "o8IUA7Gia3Aa"
      },
      "source": [
        "df.ORIGIN_STATE_ABR = df.ORIGIN_STATE_ABR.fillna('Non-USA')\n",
        "df.ORIGIN_STATE_NM = df.ORIGIN_STATE_NM.fillna('Non-USA')\n",
        "df.DEST_STATE_ABR = df.DEST_STATE_ABR.fillna('Non-USA')\n",
        "df.DEST_STATE_NM = df.DEST_STATE_NM.fillna('Non-USA')"
      ],
      "execution_count": 19,
      "outputs": []
    },
    {
      "cell_type": "markdown",
      "metadata": {
        "id": "4AZ6dZJ_a3m-"
      },
      "source": [
        "\n",
        "Let's now consider the rows with single missing values."
      ]
    },
    {
      "cell_type": "code",
      "metadata": {
        "id": "UBm3D82x-Uq9",
        "colab": {
          "base_uri": "https://localhost:8080/",
          "height": 118
        },
        "outputId": "f9017f7e-8a8d-46a6-c2d3-c59646540d4c"
      },
      "source": [
        "df[df.DEST_CITY_NAME.isnull()].head()"
      ],
      "execution_count": 22,
      "outputs": [
        {
          "output_type": "execute_result",
          "data": {
            "text/html": [
              "<div>\n",
              "<style scoped>\n",
              "    .dataframe tbody tr th:only-of-type {\n",
              "        vertical-align: middle;\n",
              "    }\n",
              "\n",
              "    .dataframe tbody tr th {\n",
              "        vertical-align: top;\n",
              "    }\n",
              "\n",
              "    .dataframe thead th {\n",
              "        text-align: right;\n",
              "    }\n",
              "</style>\n",
              "<table border=\"1\" class=\"dataframe\">\n",
              "  <thead>\n",
              "    <tr style=\"text-align: right;\">\n",
              "      <th></th>\n",
              "      <th>Sum_PASSENGERS</th>\n",
              "      <th>AIRLINE_ID</th>\n",
              "      <th>CARRIER_NAME</th>\n",
              "      <th>ORIGIN</th>\n",
              "      <th>ORIGIN_CITY_NAME</th>\n",
              "      <th>ORIGIN_STATE_ABR</th>\n",
              "      <th>ORIGIN_STATE_NM</th>\n",
              "      <th>ORIGIN_COUNTRY</th>\n",
              "      <th>ORIGIN_COUNTRY_NAME</th>\n",
              "      <th>DEST</th>\n",
              "      <th>DEST_CITY_NAME</th>\n",
              "      <th>DEST_STATE_ABR</th>\n",
              "      <th>DEST_STATE_NM</th>\n",
              "      <th>DEST_COUNTRY</th>\n",
              "      <th>DEST_COUNTRY_NAME</th>\n",
              "      <th>YEAR</th>\n",
              "      <th>MONTH</th>\n",
              "    </tr>\n",
              "  </thead>\n",
              "  <tbody>\n",
              "    <tr>\n",
              "      <th>271335</th>\n",
              "      <td>3591</td>\n",
              "      <td>19393</td>\n",
              "      <td>Southwest Airlines Co.</td>\n",
              "      <td>DAL</td>\n",
              "      <td>Dallas, TX</td>\n",
              "      <td>TX</td>\n",
              "      <td>Texas</td>\n",
              "      <td>US</td>\n",
              "      <td>United States</td>\n",
              "      <td>BWI</td>\n",
              "      <td>NaN</td>\n",
              "      <td>Non-USA</td>\n",
              "      <td>Non-USA</td>\n",
              "      <td>NaN</td>\n",
              "      <td>NaN</td>\n",
              "      <td>NaN</td>\n",
              "      <td>NaN</td>\n",
              "    </tr>\n",
              "  </tbody>\n",
              "</table>\n",
              "</div>"
            ],
            "text/plain": [
              "        Sum_PASSENGERS AIRLINE_ID  ... YEAR MONTH\n",
              "271335            3591      19393  ...  NaN   NaN\n",
              "\n",
              "[1 rows x 17 columns]"
            ]
          },
          "metadata": {
            "tags": []
          },
          "execution_count": 22
        }
      ]
    },
    {
      "cell_type": "markdown",
      "metadata": {
        "id": "ZvfLy71aZsaN"
      },
      "source": [
        "It seems that there was a single flight with all these columns missing---the Southwest Airlines Co. originating in Dallas. As this row lacks even date of the flight, it only makes sense to remove it."
      ]
    },
    {
      "cell_type": "code",
      "metadata": {
        "id": "wGo_Ov6baJ8E"
      },
      "source": [
        "df = df[df.DEST_CITY_NAME.notna()]"
      ],
      "execution_count": 23,
      "outputs": []
    },
    {
      "cell_type": "markdown",
      "metadata": {
        "id": "UlYAl4VfcBnF"
      },
      "source": [
        "Finally, let's take a look if we have any missing values left:"
      ]
    },
    {
      "cell_type": "code",
      "metadata": {
        "colab": {
          "base_uri": "https://localhost:8080/"
        },
        "id": "V5-pcaFdcFx_",
        "outputId": "d9482bdf-82ca-400b-f450-d9de16aa5cd3"
      },
      "source": [
        "df.isnull().sum()"
      ],
      "execution_count": 26,
      "outputs": [
        {
          "output_type": "execute_result",
          "data": {
            "text/plain": [
              "Sum_PASSENGERS         0\n",
              "AIRLINE_ID             0\n",
              "CARRIER_NAME           0\n",
              "ORIGIN                 0\n",
              "ORIGIN_CITY_NAME       0\n",
              "ORIGIN_STATE_ABR       0\n",
              "ORIGIN_STATE_NM        0\n",
              "ORIGIN_COUNTRY         0\n",
              "ORIGIN_COUNTRY_NAME    0\n",
              "DEST                   0\n",
              "DEST_CITY_NAME         0\n",
              "DEST_STATE_ABR         0\n",
              "DEST_STATE_NM          0\n",
              "DEST_COUNTRY           0\n",
              "DEST_COUNTRY_NAME      0\n",
              "YEAR                   0\n",
              "MONTH                  0\n",
              "dtype: int64"
            ]
          },
          "metadata": {
            "tags": []
          },
          "execution_count": 26
        }
      ]
    },
    {
      "cell_type": "markdown",
      "metadata": {
        "id": "0FH6AXD3cRSc"
      },
      "source": [
        "Success!"
      ]
    },
    {
      "cell_type": "code",
      "metadata": {
        "id": "unfd14UxcS94"
      },
      "source": [
        "from google.colab import files\n",
        "df.to_csv('monthly_air_passengers.csv', index=False)"
      ],
      "execution_count": 27,
      "outputs": []
    }
  ]
}