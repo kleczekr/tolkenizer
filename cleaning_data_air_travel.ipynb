{
  "nbformat": 4,
  "nbformat_minor": 0,
  "metadata": {
    "colab": {
      "name": "cleaning_data_air_travel.ipynb",
      "provenance": [],
      "collapsed_sections": [],
      "mount_file_id": "1KdDGZVvP8XwR0pKVMQ_ls4-Je5d3SHWO",
      "authorship_tag": "ABX9TyPfcXTY7APGRyjV23khSFuR",
      "include_colab_link": true
    },
    "kernelspec": {
      "display_name": "Python 3",
      "name": "python3"
    },
    "language_info": {
      "name": "python"
    }
  },
  "cells": [
    {
      "cell_type": "markdown",
      "metadata": {
        "id": "view-in-github",
        "colab_type": "text"
      },
      "source": [
        "<a href=\"https://colab.research.google.com/github/kleczekr/tolkenizer/blob/master/cleaning_data_air_travel.ipynb\" target=\"_parent\"><img src=\"https://colab.research.google.com/assets/colab-badge.svg\" alt=\"Open In Colab\"/></a>"
      ]
    },
    {
      "cell_type": "markdown",
      "metadata": {
        "id": "tteBBsNt8016"
      },
      "source": [
        "## Exploring and cleaning the air travel file\n",
        "### Coursera Tableau project"
      ]
    },
    {
      "cell_type": "code",
      "metadata": {
        "id": "vo5quphF7OrY"
      },
      "source": [
        "import pandas as pd"
      ],
      "execution_count": 1,
      "outputs": []
    },
    {
      "cell_type": "code",
      "metadata": {
        "colab": {
          "base_uri": "https://localhost:8080/"
        },
        "id": "Sfj0TSTsuMVd",
        "outputId": "df68d51f-931f-4899-8ce9-5062739d575a"
      },
      "source": [
        "from google.colab import drive\n",
        "drive.mount('drive')"
      ],
      "execution_count": 2,
      "outputs": [
        {
          "output_type": "stream",
          "text": [
            "Drive already mounted at drive; to attempt to forcibly remount, call drive.mount(\"drive\", force_remount=True).\n"
          ],
          "name": "stdout"
        }
      ]
    },
    {
      "cell_type": "code",
      "metadata": {
        "id": "FRgRCQq78YHZ"
      },
      "source": [
        "df = pd.read_csv('/content/drive/MyDrive/deite/us_monthly_air_passengers.csv')"
      ],
      "execution_count": 3,
      "outputs": []
    },
    {
      "cell_type": "code",
      "metadata": {
        "colab": {
          "base_uri": "https://localhost:8080/"
        },
        "id": "aQeGuSdC8k27",
        "outputId": "7ac1208e-2b51-49ec-f593-0649e0bd2a10"
      },
      "source": [
        "df.shape"
      ],
      "execution_count": 4,
      "outputs": [
        {
          "output_type": "execute_result",
          "data": {
            "text/plain": [
              "(6278820, 18)"
            ]
          },
          "metadata": {
            "tags": []
          },
          "execution_count": 4
        }
      ]
    },
    {
      "cell_type": "markdown",
      "metadata": {
        "id": "zphsJnKB8vOa"
      },
      "source": [
        "The data has 6278820 lines, grouped in 18 columns."
      ]
    },
    {
      "cell_type": "code",
      "metadata": {
        "colab": {
          "base_uri": "https://localhost:8080/"
        },
        "id": "-jHLay348_Cf",
        "outputId": "05b05ed6-7d96-4c58-8886-437dff36366b"
      },
      "source": [
        "df.columns"
      ],
      "execution_count": 5,
      "outputs": [
        {
          "output_type": "execute_result",
          "data": {
            "text/plain": [
              "Index(['passengers', 'airline_id', 'carrier_name', 'origin',\n",
              "       'origin_city_name', 'origin_state_abr', 'origin_state_nm',\n",
              "       'origin_country', 'origin_country_name', 'dest', 'dest_city_name',\n",
              "       'dest_state_abr', 'dest_state_nm', 'dest_country', 'dest_country_name',\n",
              "       'year', 'month', 'yearmonth'],\n",
              "      dtype='object')"
            ]
          },
          "metadata": {
            "tags": []
          },
          "execution_count": 5
        }
      ]
    },
    {
      "cell_type": "markdown",
      "metadata": {
        "id": "3TkUCQWb9Otb"
      },
      "source": [
        "Let's count empty values:"
      ]
    },
    {
      "cell_type": "code",
      "metadata": {
        "colab": {
          "base_uri": "https://localhost:8080/"
        },
        "id": "-Dxep8xT9A4k",
        "outputId": "c7b9a140-1dd4-4632-bcaa-40590e14e22a"
      },
      "source": [
        "df.isnull().sum()"
      ],
      "execution_count": 6,
      "outputs": [
        {
          "output_type": "execute_result",
          "data": {
            "text/plain": [
              "passengers                  0\n",
              "airline_id                448\n",
              "carrier_name              448\n",
              "origin                      0\n",
              "origin_city_name            0\n",
              "origin_state_abr       561441\n",
              "origin_state_nm        561441\n",
              "origin_country              2\n",
              "origin_country_name         0\n",
              "dest                        0\n",
              "dest_city_name              0\n",
              "dest_state_abr         589465\n",
              "dest_state_nm          589465\n",
              "dest_country                7\n",
              "dest_country_name           0\n",
              "year                        0\n",
              "month                       0\n",
              "yearmonth                   0\n",
              "dtype: int64"
            ]
          },
          "metadata": {
            "tags": []
          },
          "execution_count": 6
        }
      ]
    },
    {
      "cell_type": "markdown",
      "metadata": {
        "id": "a9qLdzanYGvw"
      },
      "source": [
        "The following combinations of null values seem to be apparent: airline_id with carrier_name, origin_state_abr with origin_state_nm, dest_state_abr with dest_state_nm. In addition, two records lack origin_country, and 7 lack dest_country.\n",
        "\n",
        "I will first deal with the pairs of clusters of missing values and see if I can detect any patterns among them."
      ]
    },
    {
      "cell_type": "code",
      "metadata": {
        "colab": {
          "base_uri": "https://localhost:8080/",
          "height": 275
        },
        "id": "lyfhuFrJ9Q_u",
        "outputId": "00dd88d5-ed61-4d8a-921c-9fac67ec0d76"
      },
      "source": [
        "df[df.airline_id.isnull()].head()"
      ],
      "execution_count": 8,
      "outputs": [
        {
          "output_type": "execute_result",
          "data": {
            "text/html": [
              "<div>\n",
              "<style scoped>\n",
              "    .dataframe tbody tr th:only-of-type {\n",
              "        vertical-align: middle;\n",
              "    }\n",
              "\n",
              "    .dataframe tbody tr th {\n",
              "        vertical-align: top;\n",
              "    }\n",
              "\n",
              "    .dataframe thead th {\n",
              "        text-align: right;\n",
              "    }\n",
              "</style>\n",
              "<table border=\"1\" class=\"dataframe\">\n",
              "  <thead>\n",
              "    <tr style=\"text-align: right;\">\n",
              "      <th></th>\n",
              "      <th>passengers</th>\n",
              "      <th>airline_id</th>\n",
              "      <th>carrier_name</th>\n",
              "      <th>origin</th>\n",
              "      <th>origin_city_name</th>\n",
              "      <th>origin_state_abr</th>\n",
              "      <th>origin_state_nm</th>\n",
              "      <th>origin_country</th>\n",
              "      <th>origin_country_name</th>\n",
              "      <th>dest</th>\n",
              "      <th>dest_city_name</th>\n",
              "      <th>dest_state_abr</th>\n",
              "      <th>dest_state_nm</th>\n",
              "      <th>dest_country</th>\n",
              "      <th>dest_country_name</th>\n",
              "      <th>year</th>\n",
              "      <th>month</th>\n",
              "      <th>yearmonth</th>\n",
              "    </tr>\n",
              "  </thead>\n",
              "  <tbody>\n",
              "    <tr>\n",
              "      <th>0</th>\n",
              "      <td>0</td>\n",
              "      <td>NaN</td>\n",
              "      <td>NaN</td>\n",
              "      <td>AEX</td>\n",
              "      <td>Alexandria, LA</td>\n",
              "      <td>LA</td>\n",
              "      <td>Louisiana</td>\n",
              "      <td>US</td>\n",
              "      <td>United States</td>\n",
              "      <td>AEX</td>\n",
              "      <td>Alexandria, LA</td>\n",
              "      <td>LA</td>\n",
              "      <td>Louisiana</td>\n",
              "      <td>US</td>\n",
              "      <td>United States</td>\n",
              "      <td>2015</td>\n",
              "      <td>3</td>\n",
              "      <td>2015-03</td>\n",
              "    </tr>\n",
              "    <tr>\n",
              "      <th>1</th>\n",
              "      <td>0</td>\n",
              "      <td>NaN</td>\n",
              "      <td>NaN</td>\n",
              "      <td>AEX</td>\n",
              "      <td>Alexandria, LA</td>\n",
              "      <td>LA</td>\n",
              "      <td>Louisiana</td>\n",
              "      <td>US</td>\n",
              "      <td>United States</td>\n",
              "      <td>AFW</td>\n",
              "      <td>Dallas/Fort Worth, TX</td>\n",
              "      <td>TX</td>\n",
              "      <td>Texas</td>\n",
              "      <td>US</td>\n",
              "      <td>United States</td>\n",
              "      <td>2015</td>\n",
              "      <td>4</td>\n",
              "      <td>2015-04</td>\n",
              "    </tr>\n",
              "    <tr>\n",
              "      <th>2</th>\n",
              "      <td>0</td>\n",
              "      <td>NaN</td>\n",
              "      <td>NaN</td>\n",
              "      <td>AEX</td>\n",
              "      <td>Alexandria, LA</td>\n",
              "      <td>LA</td>\n",
              "      <td>Louisiana</td>\n",
              "      <td>US</td>\n",
              "      <td>United States</td>\n",
              "      <td>ATL</td>\n",
              "      <td>Atlanta, GA</td>\n",
              "      <td>GA</td>\n",
              "      <td>Georgia</td>\n",
              "      <td>US</td>\n",
              "      <td>United States</td>\n",
              "      <td>2015</td>\n",
              "      <td>3</td>\n",
              "      <td>2015-03</td>\n",
              "    </tr>\n",
              "    <tr>\n",
              "      <th>3</th>\n",
              "      <td>89</td>\n",
              "      <td>NaN</td>\n",
              "      <td>NaN</td>\n",
              "      <td>AEX</td>\n",
              "      <td>Alexandria, LA</td>\n",
              "      <td>LA</td>\n",
              "      <td>Louisiana</td>\n",
              "      <td>US</td>\n",
              "      <td>United States</td>\n",
              "      <td>BOG</td>\n",
              "      <td>Bogota, Colombia</td>\n",
              "      <td>NaN</td>\n",
              "      <td>NaN</td>\n",
              "      <td>CO</td>\n",
              "      <td>Colombia</td>\n",
              "      <td>2015</td>\n",
              "      <td>1</td>\n",
              "      <td>2015-01</td>\n",
              "    </tr>\n",
              "    <tr>\n",
              "      <th>4</th>\n",
              "      <td>108</td>\n",
              "      <td>NaN</td>\n",
              "      <td>NaN</td>\n",
              "      <td>AEX</td>\n",
              "      <td>Alexandria, LA</td>\n",
              "      <td>LA</td>\n",
              "      <td>Louisiana</td>\n",
              "      <td>US</td>\n",
              "      <td>United States</td>\n",
              "      <td>BOG</td>\n",
              "      <td>Bogota, Colombia</td>\n",
              "      <td>NaN</td>\n",
              "      <td>NaN</td>\n",
              "      <td>CO</td>\n",
              "      <td>Colombia</td>\n",
              "      <td>2015</td>\n",
              "      <td>3</td>\n",
              "      <td>2015-03</td>\n",
              "    </tr>\n",
              "  </tbody>\n",
              "</table>\n",
              "</div>"
            ],
            "text/plain": [
              "   passengers  airline_id carrier_name  ...  year month yearmonth\n",
              "0           0         NaN          NaN  ...  2015     3   2015-03\n",
              "1           0         NaN          NaN  ...  2015     4   2015-04\n",
              "2           0         NaN          NaN  ...  2015     3   2015-03\n",
              "3          89         NaN          NaN  ...  2015     1   2015-01\n",
              "4         108         NaN          NaN  ...  2015     3   2015-03\n",
              "\n",
              "[5 rows x 18 columns]"
            ]
          },
          "metadata": {
            "tags": []
          },
          "execution_count": 8
        }
      ]
    },
    {
      "cell_type": "code",
      "metadata": {
        "colab": {
          "base_uri": "https://localhost:8080/",
          "height": 241
        },
        "id": "Dgx9COd5YuWz",
        "outputId": "6c1afdcc-652d-4424-92dc-bf4d198af78c"
      },
      "source": [
        "df[df.airline_id.isnull()].tail()"
      ],
      "execution_count": 9,
      "outputs": [
        {
          "output_type": "execute_result",
          "data": {
            "text/html": [
              "<div>\n",
              "<style scoped>\n",
              "    .dataframe tbody tr th:only-of-type {\n",
              "        vertical-align: middle;\n",
              "    }\n",
              "\n",
              "    .dataframe tbody tr th {\n",
              "        vertical-align: top;\n",
              "    }\n",
              "\n",
              "    .dataframe thead th {\n",
              "        text-align: right;\n",
              "    }\n",
              "</style>\n",
              "<table border=\"1\" class=\"dataframe\">\n",
              "  <thead>\n",
              "    <tr style=\"text-align: right;\">\n",
              "      <th></th>\n",
              "      <th>passengers</th>\n",
              "      <th>airline_id</th>\n",
              "      <th>carrier_name</th>\n",
              "      <th>origin</th>\n",
              "      <th>origin_city_name</th>\n",
              "      <th>origin_state_abr</th>\n",
              "      <th>origin_state_nm</th>\n",
              "      <th>origin_country</th>\n",
              "      <th>origin_country_name</th>\n",
              "      <th>dest</th>\n",
              "      <th>dest_city_name</th>\n",
              "      <th>dest_state_abr</th>\n",
              "      <th>dest_state_nm</th>\n",
              "      <th>dest_country</th>\n",
              "      <th>dest_country_name</th>\n",
              "      <th>year</th>\n",
              "      <th>month</th>\n",
              "      <th>yearmonth</th>\n",
              "    </tr>\n",
              "  </thead>\n",
              "  <tbody>\n",
              "    <tr>\n",
              "      <th>443</th>\n",
              "      <td>0</td>\n",
              "      <td>NaN</td>\n",
              "      <td>NaN</td>\n",
              "      <td>YIP</td>\n",
              "      <td>Detroit, MI</td>\n",
              "      <td>MI</td>\n",
              "      <td>Michigan</td>\n",
              "      <td>US</td>\n",
              "      <td>United States</td>\n",
              "      <td>YIP</td>\n",
              "      <td>Detroit, MI</td>\n",
              "      <td>MI</td>\n",
              "      <td>Michigan</td>\n",
              "      <td>US</td>\n",
              "      <td>United States</td>\n",
              "      <td>2000</td>\n",
              "      <td>6</td>\n",
              "      <td>2000-06</td>\n",
              "    </tr>\n",
              "    <tr>\n",
              "      <th>444</th>\n",
              "      <td>174</td>\n",
              "      <td>NaN</td>\n",
              "      <td>NaN</td>\n",
              "      <td>YOW</td>\n",
              "      <td>Ottawa, Canada</td>\n",
              "      <td>ON</td>\n",
              "      <td>Ontario</td>\n",
              "      <td>CA</td>\n",
              "      <td>Canada</td>\n",
              "      <td>LAS</td>\n",
              "      <td>Las Vegas, NV</td>\n",
              "      <td>NV</td>\n",
              "      <td>Nevada</td>\n",
              "      <td>US</td>\n",
              "      <td>United States</td>\n",
              "      <td>2006</td>\n",
              "      <td>11</td>\n",
              "      <td>2006-11</td>\n",
              "    </tr>\n",
              "    <tr>\n",
              "      <th>445</th>\n",
              "      <td>1416</td>\n",
              "      <td>NaN</td>\n",
              "      <td>NaN</td>\n",
              "      <td>YVR</td>\n",
              "      <td>Vancouver, Canada</td>\n",
              "      <td>BC</td>\n",
              "      <td>British Columbia</td>\n",
              "      <td>CA</td>\n",
              "      <td>Canada</td>\n",
              "      <td>PDX</td>\n",
              "      <td>Portland, OR</td>\n",
              "      <td>OR</td>\n",
              "      <td>Oregon</td>\n",
              "      <td>US</td>\n",
              "      <td>United States</td>\n",
              "      <td>2000</td>\n",
              "      <td>6</td>\n",
              "      <td>2000-06</td>\n",
              "    </tr>\n",
              "    <tr>\n",
              "      <th>446</th>\n",
              "      <td>1274</td>\n",
              "      <td>NaN</td>\n",
              "      <td>NaN</td>\n",
              "      <td>YVR</td>\n",
              "      <td>Vancouver, Canada</td>\n",
              "      <td>BC</td>\n",
              "      <td>British Columbia</td>\n",
              "      <td>CA</td>\n",
              "      <td>Canada</td>\n",
              "      <td>SLC</td>\n",
              "      <td>Salt Lake City, UT</td>\n",
              "      <td>UT</td>\n",
              "      <td>Utah</td>\n",
              "      <td>US</td>\n",
              "      <td>United States</td>\n",
              "      <td>2000</td>\n",
              "      <td>6</td>\n",
              "      <td>2000-06</td>\n",
              "    </tr>\n",
              "    <tr>\n",
              "      <th>447</th>\n",
              "      <td>1227</td>\n",
              "      <td>NaN</td>\n",
              "      <td>NaN</td>\n",
              "      <td>YYZ</td>\n",
              "      <td>Toronto, Canada</td>\n",
              "      <td>ON</td>\n",
              "      <td>Ontario</td>\n",
              "      <td>CA</td>\n",
              "      <td>Canada</td>\n",
              "      <td>LAS</td>\n",
              "      <td>Las Vegas, NV</td>\n",
              "      <td>NV</td>\n",
              "      <td>Nevada</td>\n",
              "      <td>US</td>\n",
              "      <td>United States</td>\n",
              "      <td>2006</td>\n",
              "      <td>11</td>\n",
              "      <td>2006-11</td>\n",
              "    </tr>\n",
              "  </tbody>\n",
              "</table>\n",
              "</div>"
            ],
            "text/plain": [
              "     passengers  airline_id carrier_name  ...  year month yearmonth\n",
              "443           0         NaN          NaN  ...  2000     6   2000-06\n",
              "444         174         NaN          NaN  ...  2006    11   2006-11\n",
              "445        1416         NaN          NaN  ...  2000     6   2000-06\n",
              "446        1274         NaN          NaN  ...  2000     6   2000-06\n",
              "447        1227         NaN          NaN  ...  2006    11   2006-11\n",
              "\n",
              "[5 rows x 18 columns]"
            ]
          },
          "metadata": {
            "tags": []
          },
          "execution_count": 9
        }
      ]
    },
    {
      "cell_type": "markdown",
      "metadata": {
        "id": "dsfFwnJdYq3Q"
      },
      "source": [
        "I can't see a detectable pattern in the rows which lack the AIRLINE_ID and CARRIER_NAME. Still, since these columns are not the most important, I am not going to delete these rows---I will rather fill the null values there with the string 'undefined'."
      ]
    },
    {
      "cell_type": "code",
      "metadata": {
        "id": "nq9EonwSaZ8x"
      },
      "source": [
        "df.airline_id = df.airline_id.fillna('undefined')\n",
        "df.carrier_name = df.carrier_name.fillna('undefined')"
      ],
      "execution_count": 10,
      "outputs": []
    },
    {
      "cell_type": "markdown",
      "metadata": {
        "id": "Ii94DtW9auuU"
      },
      "source": [
        "Let's now turn to origin and destination states."
      ]
    },
    {
      "cell_type": "code",
      "metadata": {
        "colab": {
          "base_uri": "https://localhost:8080/",
          "height": 309
        },
        "id": "EfNjX10p_nTE",
        "outputId": "cba16e10-7092-460d-d217-4961447f8af7"
      },
      "source": [
        "df[df.dest_state_abr.isnull()].head()"
      ],
      "execution_count": 11,
      "outputs": [
        {
          "output_type": "execute_result",
          "data": {
            "text/html": [
              "<div>\n",
              "<style scoped>\n",
              "    .dataframe tbody tr th:only-of-type {\n",
              "        vertical-align: middle;\n",
              "    }\n",
              "\n",
              "    .dataframe tbody tr th {\n",
              "        vertical-align: top;\n",
              "    }\n",
              "\n",
              "    .dataframe thead th {\n",
              "        text-align: right;\n",
              "    }\n",
              "</style>\n",
              "<table border=\"1\" class=\"dataframe\">\n",
              "  <thead>\n",
              "    <tr style=\"text-align: right;\">\n",
              "      <th></th>\n",
              "      <th>passengers</th>\n",
              "      <th>airline_id</th>\n",
              "      <th>carrier_name</th>\n",
              "      <th>origin</th>\n",
              "      <th>origin_city_name</th>\n",
              "      <th>origin_state_abr</th>\n",
              "      <th>origin_state_nm</th>\n",
              "      <th>origin_country</th>\n",
              "      <th>origin_country_name</th>\n",
              "      <th>dest</th>\n",
              "      <th>dest_city_name</th>\n",
              "      <th>dest_state_abr</th>\n",
              "      <th>dest_state_nm</th>\n",
              "      <th>dest_country</th>\n",
              "      <th>dest_country_name</th>\n",
              "      <th>year</th>\n",
              "      <th>month</th>\n",
              "      <th>yearmonth</th>\n",
              "    </tr>\n",
              "  </thead>\n",
              "  <tbody>\n",
              "    <tr>\n",
              "      <th>3</th>\n",
              "      <td>89</td>\n",
              "      <td>undefined</td>\n",
              "      <td>undefined</td>\n",
              "      <td>AEX</td>\n",
              "      <td>Alexandria, LA</td>\n",
              "      <td>LA</td>\n",
              "      <td>Louisiana</td>\n",
              "      <td>US</td>\n",
              "      <td>United States</td>\n",
              "      <td>BOG</td>\n",
              "      <td>Bogota, Colombia</td>\n",
              "      <td>NaN</td>\n",
              "      <td>NaN</td>\n",
              "      <td>CO</td>\n",
              "      <td>Colombia</td>\n",
              "      <td>2015</td>\n",
              "      <td>1</td>\n",
              "      <td>2015-01</td>\n",
              "    </tr>\n",
              "    <tr>\n",
              "      <th>4</th>\n",
              "      <td>108</td>\n",
              "      <td>undefined</td>\n",
              "      <td>undefined</td>\n",
              "      <td>AEX</td>\n",
              "      <td>Alexandria, LA</td>\n",
              "      <td>LA</td>\n",
              "      <td>Louisiana</td>\n",
              "      <td>US</td>\n",
              "      <td>United States</td>\n",
              "      <td>BOG</td>\n",
              "      <td>Bogota, Colombia</td>\n",
              "      <td>NaN</td>\n",
              "      <td>NaN</td>\n",
              "      <td>CO</td>\n",
              "      <td>Colombia</td>\n",
              "      <td>2015</td>\n",
              "      <td>3</td>\n",
              "      <td>2015-03</td>\n",
              "    </tr>\n",
              "    <tr>\n",
              "      <th>5</th>\n",
              "      <td>83</td>\n",
              "      <td>undefined</td>\n",
              "      <td>undefined</td>\n",
              "      <td>AEX</td>\n",
              "      <td>Alexandria, LA</td>\n",
              "      <td>LA</td>\n",
              "      <td>Louisiana</td>\n",
              "      <td>US</td>\n",
              "      <td>United States</td>\n",
              "      <td>BOG</td>\n",
              "      <td>Bogota, Colombia</td>\n",
              "      <td>NaN</td>\n",
              "      <td>NaN</td>\n",
              "      <td>CO</td>\n",
              "      <td>Colombia</td>\n",
              "      <td>2015</td>\n",
              "      <td>4</td>\n",
              "      <td>2015-04</td>\n",
              "    </tr>\n",
              "    <tr>\n",
              "      <th>27</th>\n",
              "      <td>90</td>\n",
              "      <td>undefined</td>\n",
              "      <td>undefined</td>\n",
              "      <td>AEX</td>\n",
              "      <td>Alexandria, LA</td>\n",
              "      <td>LA</td>\n",
              "      <td>Louisiana</td>\n",
              "      <td>US</td>\n",
              "      <td>United States</td>\n",
              "      <td>GUA</td>\n",
              "      <td>Guatemala City, Guatemala</td>\n",
              "      <td>NaN</td>\n",
              "      <td>NaN</td>\n",
              "      <td>GT</td>\n",
              "      <td>Guatemala</td>\n",
              "      <td>2015</td>\n",
              "      <td>1</td>\n",
              "      <td>2015-01</td>\n",
              "    </tr>\n",
              "    <tr>\n",
              "      <th>28</th>\n",
              "      <td>217</td>\n",
              "      <td>undefined</td>\n",
              "      <td>undefined</td>\n",
              "      <td>AEX</td>\n",
              "      <td>Alexandria, LA</td>\n",
              "      <td>LA</td>\n",
              "      <td>Louisiana</td>\n",
              "      <td>US</td>\n",
              "      <td>United States</td>\n",
              "      <td>GUA</td>\n",
              "      <td>Guatemala City, Guatemala</td>\n",
              "      <td>NaN</td>\n",
              "      <td>NaN</td>\n",
              "      <td>GT</td>\n",
              "      <td>Guatemala</td>\n",
              "      <td>2015</td>\n",
              "      <td>2</td>\n",
              "      <td>2015-02</td>\n",
              "    </tr>\n",
              "  </tbody>\n",
              "</table>\n",
              "</div>"
            ],
            "text/plain": [
              "    passengers airline_id carrier_name  ...  year month yearmonth\n",
              "3           89  undefined    undefined  ...  2015     1   2015-01\n",
              "4          108  undefined    undefined  ...  2015     3   2015-03\n",
              "5           83  undefined    undefined  ...  2015     4   2015-04\n",
              "27          90  undefined    undefined  ...  2015     1   2015-01\n",
              "28         217  undefined    undefined  ...  2015     2   2015-02\n",
              "\n",
              "[5 rows x 18 columns]"
            ]
          },
          "metadata": {
            "tags": []
          },
          "execution_count": 11
        }
      ]
    },
    {
      "cell_type": "markdown",
      "metadata": {
        "id": "kymV3ijf912U"
      },
      "source": [
        "It seems that the rows with missing dest_state_abr and dest_state_nm are simply travels to countries other than United States."
      ]
    },
    {
      "cell_type": "code",
      "metadata": {
        "colab": {
          "base_uri": "https://localhost:8080/",
          "height": 258
        },
        "id": "2LMOsS5u-CZu",
        "outputId": "06600aa6-b181-486b-9f00-bfae14703eb6"
      },
      "source": [
        "df[df.origin_state_abr.isnull()].head()"
      ],
      "execution_count": 12,
      "outputs": [
        {
          "output_type": "execute_result",
          "data": {
            "text/html": [
              "<div>\n",
              "<style scoped>\n",
              "    .dataframe tbody tr th:only-of-type {\n",
              "        vertical-align: middle;\n",
              "    }\n",
              "\n",
              "    .dataframe tbody tr th {\n",
              "        vertical-align: top;\n",
              "    }\n",
              "\n",
              "    .dataframe thead th {\n",
              "        text-align: right;\n",
              "    }\n",
              "</style>\n",
              "<table border=\"1\" class=\"dataframe\">\n",
              "  <thead>\n",
              "    <tr style=\"text-align: right;\">\n",
              "      <th></th>\n",
              "      <th>passengers</th>\n",
              "      <th>airline_id</th>\n",
              "      <th>carrier_name</th>\n",
              "      <th>origin</th>\n",
              "      <th>origin_city_name</th>\n",
              "      <th>origin_state_abr</th>\n",
              "      <th>origin_state_nm</th>\n",
              "      <th>origin_country</th>\n",
              "      <th>origin_country_name</th>\n",
              "      <th>dest</th>\n",
              "      <th>dest_city_name</th>\n",
              "      <th>dest_state_abr</th>\n",
              "      <th>dest_state_nm</th>\n",
              "      <th>dest_country</th>\n",
              "      <th>dest_country_name</th>\n",
              "      <th>year</th>\n",
              "      <th>month</th>\n",
              "      <th>yearmonth</th>\n",
              "    </tr>\n",
              "  </thead>\n",
              "  <tbody>\n",
              "    <tr>\n",
              "      <th>70</th>\n",
              "      <td>787</td>\n",
              "      <td>undefined</td>\n",
              "      <td>undefined</td>\n",
              "      <td>AMS</td>\n",
              "      <td>Amsterdam, Netherlands</td>\n",
              "      <td>NaN</td>\n",
              "      <td>NaN</td>\n",
              "      <td>NL</td>\n",
              "      <td>Netherlands</td>\n",
              "      <td>JFK</td>\n",
              "      <td>New York, NY</td>\n",
              "      <td>NY</td>\n",
              "      <td>New York</td>\n",
              "      <td>US</td>\n",
              "      <td>United States</td>\n",
              "      <td>2009</td>\n",
              "      <td>5</td>\n",
              "      <td>2009-05</td>\n",
              "    </tr>\n",
              "    <tr>\n",
              "      <th>71</th>\n",
              "      <td>1036</td>\n",
              "      <td>undefined</td>\n",
              "      <td>undefined</td>\n",
              "      <td>AMS</td>\n",
              "      <td>Amsterdam, Netherlands</td>\n",
              "      <td>NaN</td>\n",
              "      <td>NaN</td>\n",
              "      <td>NL</td>\n",
              "      <td>Netherlands</td>\n",
              "      <td>JFK</td>\n",
              "      <td>New York, NY</td>\n",
              "      <td>NY</td>\n",
              "      <td>New York</td>\n",
              "      <td>US</td>\n",
              "      <td>United States</td>\n",
              "      <td>2009</td>\n",
              "      <td>7</td>\n",
              "      <td>2009-07</td>\n",
              "    </tr>\n",
              "    <tr>\n",
              "      <th>72</th>\n",
              "      <td>1026</td>\n",
              "      <td>undefined</td>\n",
              "      <td>undefined</td>\n",
              "      <td>ARN</td>\n",
              "      <td>Stockholm, Sweden</td>\n",
              "      <td>NaN</td>\n",
              "      <td>NaN</td>\n",
              "      <td>SE</td>\n",
              "      <td>Sweden</td>\n",
              "      <td>MIA</td>\n",
              "      <td>Miami, FL</td>\n",
              "      <td>FL</td>\n",
              "      <td>Florida</td>\n",
              "      <td>US</td>\n",
              "      <td>United States</td>\n",
              "      <td>2000</td>\n",
              "      <td>1</td>\n",
              "      <td>2000-01</td>\n",
              "    </tr>\n",
              "    <tr>\n",
              "      <th>73</th>\n",
              "      <td>703</td>\n",
              "      <td>undefined</td>\n",
              "      <td>undefined</td>\n",
              "      <td>ARN</td>\n",
              "      <td>Stockholm, Sweden</td>\n",
              "      <td>NaN</td>\n",
              "      <td>NaN</td>\n",
              "      <td>SE</td>\n",
              "      <td>Sweden</td>\n",
              "      <td>MIA</td>\n",
              "      <td>Miami, FL</td>\n",
              "      <td>FL</td>\n",
              "      <td>Florida</td>\n",
              "      <td>US</td>\n",
              "      <td>United States</td>\n",
              "      <td>2000</td>\n",
              "      <td>2</td>\n",
              "      <td>2000-02</td>\n",
              "    </tr>\n",
              "    <tr>\n",
              "      <th>74</th>\n",
              "      <td>707</td>\n",
              "      <td>undefined</td>\n",
              "      <td>undefined</td>\n",
              "      <td>ARN</td>\n",
              "      <td>Stockholm, Sweden</td>\n",
              "      <td>NaN</td>\n",
              "      <td>NaN</td>\n",
              "      <td>SE</td>\n",
              "      <td>Sweden</td>\n",
              "      <td>MIA</td>\n",
              "      <td>Miami, FL</td>\n",
              "      <td>FL</td>\n",
              "      <td>Florida</td>\n",
              "      <td>US</td>\n",
              "      <td>United States</td>\n",
              "      <td>2000</td>\n",
              "      <td>3</td>\n",
              "      <td>2000-03</td>\n",
              "    </tr>\n",
              "  </tbody>\n",
              "</table>\n",
              "</div>"
            ],
            "text/plain": [
              "    passengers airline_id carrier_name  ...  year month yearmonth\n",
              "70         787  undefined    undefined  ...  2009     5   2009-05\n",
              "71        1036  undefined    undefined  ...  2009     7   2009-07\n",
              "72        1026  undefined    undefined  ...  2000     1   2000-01\n",
              "73         703  undefined    undefined  ...  2000     2   2000-02\n",
              "74         707  undefined    undefined  ...  2000     3   2000-03\n",
              "\n",
              "[5 rows x 18 columns]"
            ]
          },
          "metadata": {
            "tags": []
          },
          "execution_count": 12
        }
      ]
    },
    {
      "cell_type": "markdown",
      "metadata": {
        "id": "oejFSp1B_yFy"
      },
      "source": [
        "Likewise, the rows with null values in origin_state_abr and origin_state_nm are the flights which originate outside of United States.\n",
        "\n",
        "It makes sense to group all these rows by filling the missing values as 'Non-USA'."
      ]
    },
    {
      "cell_type": "code",
      "metadata": {
        "id": "o8IUA7Gia3Aa"
      },
      "source": [
        "df.origin_state_abr = df.origin_state_abr.fillna('Non-USA')\n",
        "df.origin_state_nm = df.origin_state_nm.fillna('Non-USA')\n",
        "df.dest_state_abr = df.dest_state_abr.fillna('Non-USA')\n",
        "df.dest_state_nm = df.dest_state_nm.fillna('Non-USA')"
      ],
      "execution_count": 14,
      "outputs": []
    },
    {
      "cell_type": "markdown",
      "metadata": {
        "id": "4AZ6dZJ_a3m-"
      },
      "source": [
        "\n",
        "Let's now consider the few other columns with missing values."
      ]
    },
    {
      "cell_type": "code",
      "metadata": {
        "id": "UBm3D82x-Uq9",
        "colab": {
          "base_uri": "https://localhost:8080/",
          "height": 165
        },
        "outputId": "aaeaae3d-c9b1-4a88-8295-8274347e278f"
      },
      "source": [
        "df[df.origin_country.isnull()]"
      ],
      "execution_count": 15,
      "outputs": [
        {
          "output_type": "execute_result",
          "data": {
            "text/html": [
              "<div>\n",
              "<style scoped>\n",
              "    .dataframe tbody tr th:only-of-type {\n",
              "        vertical-align: middle;\n",
              "    }\n",
              "\n",
              "    .dataframe tbody tr th {\n",
              "        vertical-align: top;\n",
              "    }\n",
              "\n",
              "    .dataframe thead th {\n",
              "        text-align: right;\n",
              "    }\n",
              "</style>\n",
              "<table border=\"1\" class=\"dataframe\">\n",
              "  <thead>\n",
              "    <tr style=\"text-align: right;\">\n",
              "      <th></th>\n",
              "      <th>passengers</th>\n",
              "      <th>airline_id</th>\n",
              "      <th>carrier_name</th>\n",
              "      <th>origin</th>\n",
              "      <th>origin_city_name</th>\n",
              "      <th>origin_state_abr</th>\n",
              "      <th>origin_state_nm</th>\n",
              "      <th>origin_country</th>\n",
              "      <th>origin_country_name</th>\n",
              "      <th>dest</th>\n",
              "      <th>dest_city_name</th>\n",
              "      <th>dest_state_abr</th>\n",
              "      <th>dest_state_nm</th>\n",
              "      <th>dest_country</th>\n",
              "      <th>dest_country_name</th>\n",
              "      <th>year</th>\n",
              "      <th>month</th>\n",
              "      <th>yearmonth</th>\n",
              "    </tr>\n",
              "  </thead>\n",
              "  <tbody>\n",
              "    <tr>\n",
              "      <th>6203035</th>\n",
              "      <td>2</td>\n",
              "      <td>21569</td>\n",
              "      <td>Amira Air GmbH</td>\n",
              "      <td>WDH</td>\n",
              "      <td>Windhoek, Namibia</td>\n",
              "      <td>Non-USA</td>\n",
              "      <td>Non-USA</td>\n",
              "      <td>NaN</td>\n",
              "      <td>Namibia</td>\n",
              "      <td>FLL</td>\n",
              "      <td>Fort Lauderdale, FL</td>\n",
              "      <td>FL</td>\n",
              "      <td>Florida</td>\n",
              "      <td>US</td>\n",
              "      <td>United States</td>\n",
              "      <td>2015</td>\n",
              "      <td>4</td>\n",
              "      <td>2015-04</td>\n",
              "    </tr>\n",
              "    <tr>\n",
              "      <th>6232174</th>\n",
              "      <td>48</td>\n",
              "      <td>21630</td>\n",
              "      <td>Comlux Aruba NV</td>\n",
              "      <td>WDH</td>\n",
              "      <td>Windhoek, Namibia</td>\n",
              "      <td>Non-USA</td>\n",
              "      <td>Non-USA</td>\n",
              "      <td>NaN</td>\n",
              "      <td>Namibia</td>\n",
              "      <td>MCO</td>\n",
              "      <td>Orlando, FL</td>\n",
              "      <td>FL</td>\n",
              "      <td>Florida</td>\n",
              "      <td>US</td>\n",
              "      <td>United States</td>\n",
              "      <td>2016</td>\n",
              "      <td>7</td>\n",
              "      <td>2016-07</td>\n",
              "    </tr>\n",
              "  </tbody>\n",
              "</table>\n",
              "</div>"
            ],
            "text/plain": [
              "         passengers airline_id     carrier_name  ...  year month yearmonth\n",
              "6203035           2      21569   Amira Air GmbH  ...  2015     4   2015-04\n",
              "6232174          48      21630  Comlux Aruba NV  ...  2016     7   2016-07\n",
              "\n",
              "[2 rows x 18 columns]"
            ]
          },
          "metadata": {
            "tags": []
          },
          "execution_count": 15
        }
      ]
    },
    {
      "cell_type": "code",
      "metadata": {
        "colab": {
          "base_uri": "https://localhost:8080/",
          "height": 165
        },
        "id": "mcQBFl9S1Sa-",
        "outputId": "605d9aab-46ff-42d5-e3b7-3f3697efac5c"
      },
      "source": [
        "df[df.origin_country_name == 'Namibia']"
      ],
      "execution_count": 16,
      "outputs": [
        {
          "output_type": "execute_result",
          "data": {
            "text/html": [
              "<div>\n",
              "<style scoped>\n",
              "    .dataframe tbody tr th:only-of-type {\n",
              "        vertical-align: middle;\n",
              "    }\n",
              "\n",
              "    .dataframe tbody tr th {\n",
              "        vertical-align: top;\n",
              "    }\n",
              "\n",
              "    .dataframe thead th {\n",
              "        text-align: right;\n",
              "    }\n",
              "</style>\n",
              "<table border=\"1\" class=\"dataframe\">\n",
              "  <thead>\n",
              "    <tr style=\"text-align: right;\">\n",
              "      <th></th>\n",
              "      <th>passengers</th>\n",
              "      <th>airline_id</th>\n",
              "      <th>carrier_name</th>\n",
              "      <th>origin</th>\n",
              "      <th>origin_city_name</th>\n",
              "      <th>origin_state_abr</th>\n",
              "      <th>origin_state_nm</th>\n",
              "      <th>origin_country</th>\n",
              "      <th>origin_country_name</th>\n",
              "      <th>dest</th>\n",
              "      <th>dest_city_name</th>\n",
              "      <th>dest_state_abr</th>\n",
              "      <th>dest_state_nm</th>\n",
              "      <th>dest_country</th>\n",
              "      <th>dest_country_name</th>\n",
              "      <th>year</th>\n",
              "      <th>month</th>\n",
              "      <th>yearmonth</th>\n",
              "    </tr>\n",
              "  </thead>\n",
              "  <tbody>\n",
              "    <tr>\n",
              "      <th>6203035</th>\n",
              "      <td>2</td>\n",
              "      <td>21569</td>\n",
              "      <td>Amira Air GmbH</td>\n",
              "      <td>WDH</td>\n",
              "      <td>Windhoek, Namibia</td>\n",
              "      <td>Non-USA</td>\n",
              "      <td>Non-USA</td>\n",
              "      <td>NaN</td>\n",
              "      <td>Namibia</td>\n",
              "      <td>FLL</td>\n",
              "      <td>Fort Lauderdale, FL</td>\n",
              "      <td>FL</td>\n",
              "      <td>Florida</td>\n",
              "      <td>US</td>\n",
              "      <td>United States</td>\n",
              "      <td>2015</td>\n",
              "      <td>4</td>\n",
              "      <td>2015-04</td>\n",
              "    </tr>\n",
              "    <tr>\n",
              "      <th>6232174</th>\n",
              "      <td>48</td>\n",
              "      <td>21630</td>\n",
              "      <td>Comlux Aruba NV</td>\n",
              "      <td>WDH</td>\n",
              "      <td>Windhoek, Namibia</td>\n",
              "      <td>Non-USA</td>\n",
              "      <td>Non-USA</td>\n",
              "      <td>NaN</td>\n",
              "      <td>Namibia</td>\n",
              "      <td>MCO</td>\n",
              "      <td>Orlando, FL</td>\n",
              "      <td>FL</td>\n",
              "      <td>Florida</td>\n",
              "      <td>US</td>\n",
              "      <td>United States</td>\n",
              "      <td>2016</td>\n",
              "      <td>7</td>\n",
              "      <td>2016-07</td>\n",
              "    </tr>\n",
              "  </tbody>\n",
              "</table>\n",
              "</div>"
            ],
            "text/plain": [
              "         passengers airline_id     carrier_name  ...  year month yearmonth\n",
              "6203035           2      21569   Amira Air GmbH  ...  2015     4   2015-04\n",
              "6232174          48      21630  Comlux Aruba NV  ...  2016     7   2016-07\n",
              "\n",
              "[2 rows x 18 columns]"
            ]
          },
          "metadata": {
            "tags": []
          },
          "execution_count": 16
        }
      ]
    },
    {
      "cell_type": "markdown",
      "metadata": {
        "id": "EPwycBjR1SOB"
      },
      "source": [
        "It seems that Namibia does not have an abbreviation in the present data. Let's see if the abbreviation 'NA' is taken; if not---we'll set it as the abbreviation for Namibia."
      ]
    },
    {
      "cell_type": "code",
      "metadata": {
        "colab": {
          "base_uri": "https://localhost:8080/",
          "height": 69
        },
        "id": "pRLL-kak1Taa",
        "outputId": "f54da87d-a36a-4c36-b1b5-1a1b3a4d4a18"
      },
      "source": [
        "df[df.origin_country == 'NA']"
      ],
      "execution_count": 17,
      "outputs": [
        {
          "output_type": "execute_result",
          "data": {
            "text/html": [
              "<div>\n",
              "<style scoped>\n",
              "    .dataframe tbody tr th:only-of-type {\n",
              "        vertical-align: middle;\n",
              "    }\n",
              "\n",
              "    .dataframe tbody tr th {\n",
              "        vertical-align: top;\n",
              "    }\n",
              "\n",
              "    .dataframe thead th {\n",
              "        text-align: right;\n",
              "    }\n",
              "</style>\n",
              "<table border=\"1\" class=\"dataframe\">\n",
              "  <thead>\n",
              "    <tr style=\"text-align: right;\">\n",
              "      <th></th>\n",
              "      <th>passengers</th>\n",
              "      <th>airline_id</th>\n",
              "      <th>carrier_name</th>\n",
              "      <th>origin</th>\n",
              "      <th>origin_city_name</th>\n",
              "      <th>origin_state_abr</th>\n",
              "      <th>origin_state_nm</th>\n",
              "      <th>origin_country</th>\n",
              "      <th>origin_country_name</th>\n",
              "      <th>dest</th>\n",
              "      <th>dest_city_name</th>\n",
              "      <th>dest_state_abr</th>\n",
              "      <th>dest_state_nm</th>\n",
              "      <th>dest_country</th>\n",
              "      <th>dest_country_name</th>\n",
              "      <th>year</th>\n",
              "      <th>month</th>\n",
              "      <th>yearmonth</th>\n",
              "    </tr>\n",
              "  </thead>\n",
              "  <tbody>\n",
              "  </tbody>\n",
              "</table>\n",
              "</div>"
            ],
            "text/plain": [
              "Empty DataFrame\n",
              "Columns: [passengers, airline_id, carrier_name, origin, origin_city_name, origin_state_abr, origin_state_nm, origin_country, origin_country_name, dest, dest_city_name, dest_state_abr, dest_state_nm, dest_country, dest_country_name, year, month, yearmonth]\n",
              "Index: []"
            ]
          },
          "metadata": {
            "tags": []
          },
          "execution_count": 17
        }
      ]
    },
    {
      "cell_type": "code",
      "metadata": {
        "id": "kov_UC8N1xl3"
      },
      "source": [
        "# it seems we're in the clear\n",
        "df.origin_country = df.origin_country.fillna('NA')"
      ],
      "execution_count": 18,
      "outputs": []
    },
    {
      "cell_type": "markdown",
      "metadata": {
        "id": "ZvfLy71aZsaN"
      },
      "source": [
        "Now let's take a look at the seven flights which lack the two-letter abbreviation in the dest_country column!"
      ]
    },
    {
      "cell_type": "code",
      "metadata": {
        "id": "wGo_Ov6baJ8E",
        "colab": {
          "base_uri": "https://localhost:8080/",
          "height": 405
        },
        "outputId": "9b3be481-efb1-4a85-d460-b5c17f17f9de"
      },
      "source": [
        "df[df.dest_country.isnull()]"
      ],
      "execution_count": 19,
      "outputs": [
        {
          "output_type": "execute_result",
          "data": {
            "text/html": [
              "<div>\n",
              "<style scoped>\n",
              "    .dataframe tbody tr th:only-of-type {\n",
              "        vertical-align: middle;\n",
              "    }\n",
              "\n",
              "    .dataframe tbody tr th {\n",
              "        vertical-align: top;\n",
              "    }\n",
              "\n",
              "    .dataframe thead th {\n",
              "        text-align: right;\n",
              "    }\n",
              "</style>\n",
              "<table border=\"1\" class=\"dataframe\">\n",
              "  <thead>\n",
              "    <tr style=\"text-align: right;\">\n",
              "      <th></th>\n",
              "      <th>passengers</th>\n",
              "      <th>airline_id</th>\n",
              "      <th>carrier_name</th>\n",
              "      <th>origin</th>\n",
              "      <th>origin_city_name</th>\n",
              "      <th>origin_state_abr</th>\n",
              "      <th>origin_state_nm</th>\n",
              "      <th>origin_country</th>\n",
              "      <th>origin_country_name</th>\n",
              "      <th>dest</th>\n",
              "      <th>dest_city_name</th>\n",
              "      <th>dest_state_abr</th>\n",
              "      <th>dest_state_nm</th>\n",
              "      <th>dest_country</th>\n",
              "      <th>dest_country_name</th>\n",
              "      <th>year</th>\n",
              "      <th>month</th>\n",
              "      <th>yearmonth</th>\n",
              "    </tr>\n",
              "  </thead>\n",
              "  <tbody>\n",
              "    <tr>\n",
              "      <th>2620229</th>\n",
              "      <td>0</td>\n",
              "      <td>20095</td>\n",
              "      <td>World Airways Inc.</td>\n",
              "      <td>ATL</td>\n",
              "      <td>Atlanta, GA</td>\n",
              "      <td>GA</td>\n",
              "      <td>Georgia</td>\n",
              "      <td>US</td>\n",
              "      <td>United States</td>\n",
              "      <td>WDH</td>\n",
              "      <td>Windhoek, Namibia</td>\n",
              "      <td>Non-USA</td>\n",
              "      <td>Non-USA</td>\n",
              "      <td>NaN</td>\n",
              "      <td>Namibia</td>\n",
              "      <td>2008</td>\n",
              "      <td>2</td>\n",
              "      <td>2008-02</td>\n",
              "    </tr>\n",
              "    <tr>\n",
              "      <th>2883909</th>\n",
              "      <td>0</td>\n",
              "      <td>20110</td>\n",
              "      <td>Antonov Company</td>\n",
              "      <td>IAH</td>\n",
              "      <td>Houston, TX</td>\n",
              "      <td>TX</td>\n",
              "      <td>Texas</td>\n",
              "      <td>US</td>\n",
              "      <td>United States</td>\n",
              "      <td>WDH</td>\n",
              "      <td>Windhoek, Namibia</td>\n",
              "      <td>Non-USA</td>\n",
              "      <td>Non-USA</td>\n",
              "      <td>NaN</td>\n",
              "      <td>Namibia</td>\n",
              "      <td>2014</td>\n",
              "      <td>4</td>\n",
              "      <td>2014-04</td>\n",
              "    </tr>\n",
              "    <tr>\n",
              "      <th>2914851</th>\n",
              "      <td>0</td>\n",
              "      <td>20151</td>\n",
              "      <td>Amerijet International</td>\n",
              "      <td>MIA</td>\n",
              "      <td>Miami, FL</td>\n",
              "      <td>FL</td>\n",
              "      <td>Florida</td>\n",
              "      <td>US</td>\n",
              "      <td>United States</td>\n",
              "      <td>ERS</td>\n",
              "      <td>Windhoek, Namibia</td>\n",
              "      <td>Non-USA</td>\n",
              "      <td>Non-USA</td>\n",
              "      <td>NaN</td>\n",
              "      <td>Namibia</td>\n",
              "      <td>2013</td>\n",
              "      <td>12</td>\n",
              "      <td>2013-12</td>\n",
              "    </tr>\n",
              "    <tr>\n",
              "      <th>2914852</th>\n",
              "      <td>0</td>\n",
              "      <td>20151</td>\n",
              "      <td>Amerijet International</td>\n",
              "      <td>MIA</td>\n",
              "      <td>Miami, FL</td>\n",
              "      <td>FL</td>\n",
              "      <td>Florida</td>\n",
              "      <td>US</td>\n",
              "      <td>United States</td>\n",
              "      <td>ERS</td>\n",
              "      <td>Windhoek, Namibia</td>\n",
              "      <td>Non-USA</td>\n",
              "      <td>Non-USA</td>\n",
              "      <td>NaN</td>\n",
              "      <td>Namibia</td>\n",
              "      <td>2014</td>\n",
              "      <td>2</td>\n",
              "      <td>2014-02</td>\n",
              "    </tr>\n",
              "    <tr>\n",
              "      <th>3037765</th>\n",
              "      <td>0</td>\n",
              "      <td>20195</td>\n",
              "      <td>Tradewinds Airlines</td>\n",
              "      <td>MIA</td>\n",
              "      <td>Miami, FL</td>\n",
              "      <td>FL</td>\n",
              "      <td>Florida</td>\n",
              "      <td>US</td>\n",
              "      <td>United States</td>\n",
              "      <td>WDH</td>\n",
              "      <td>Windhoek, Namibia</td>\n",
              "      <td>Non-USA</td>\n",
              "      <td>Non-USA</td>\n",
              "      <td>NaN</td>\n",
              "      <td>Namibia</td>\n",
              "      <td>2011</td>\n",
              "      <td>4</td>\n",
              "      <td>2011-04</td>\n",
              "    </tr>\n",
              "    <tr>\n",
              "      <th>5585804</th>\n",
              "      <td>0</td>\n",
              "      <td>20428</td>\n",
              "      <td>Volga-Dnepr Airlines</td>\n",
              "      <td>IAH</td>\n",
              "      <td>Houston, TX</td>\n",
              "      <td>TX</td>\n",
              "      <td>Texas</td>\n",
              "      <td>US</td>\n",
              "      <td>United States</td>\n",
              "      <td>WDH</td>\n",
              "      <td>Windhoek, Namibia</td>\n",
              "      <td>Non-USA</td>\n",
              "      <td>Non-USA</td>\n",
              "      <td>NaN</td>\n",
              "      <td>Namibia</td>\n",
              "      <td>2014</td>\n",
              "      <td>3</td>\n",
              "      <td>2014-03</td>\n",
              "    </tr>\n",
              "    <tr>\n",
              "      <th>5585805</th>\n",
              "      <td>0</td>\n",
              "      <td>20428</td>\n",
              "      <td>Volga-Dnepr Airlines</td>\n",
              "      <td>IAH</td>\n",
              "      <td>Houston, TX</td>\n",
              "      <td>TX</td>\n",
              "      <td>Texas</td>\n",
              "      <td>US</td>\n",
              "      <td>United States</td>\n",
              "      <td>WDH</td>\n",
              "      <td>Windhoek, Namibia</td>\n",
              "      <td>Non-USA</td>\n",
              "      <td>Non-USA</td>\n",
              "      <td>NaN</td>\n",
              "      <td>Namibia</td>\n",
              "      <td>2014</td>\n",
              "      <td>5</td>\n",
              "      <td>2014-05</td>\n",
              "    </tr>\n",
              "  </tbody>\n",
              "</table>\n",
              "</div>"
            ],
            "text/plain": [
              "         passengers airline_id            carrier_name  ...  year month yearmonth\n",
              "2620229           0      20095      World Airways Inc.  ...  2008     2   2008-02\n",
              "2883909           0      20110         Antonov Company  ...  2014     4   2014-04\n",
              "2914851           0      20151  Amerijet International  ...  2013    12   2013-12\n",
              "2914852           0      20151  Amerijet International  ...  2014     2   2014-02\n",
              "3037765           0      20195     Tradewinds Airlines  ...  2011     4   2011-04\n",
              "5585804           0      20428    Volga-Dnepr Airlines  ...  2014     3   2014-03\n",
              "5585805           0      20428    Volga-Dnepr Airlines  ...  2014     5   2014-05\n",
              "\n",
              "[7 rows x 18 columns]"
            ]
          },
          "metadata": {
            "tags": []
          },
          "execution_count": 19
        }
      ]
    },
    {
      "cell_type": "markdown",
      "metadata": {
        "id": "0TRBXKEM2WU4"
      },
      "source": [
        "Again, all the flights are supposed to land in Namibia. We'll fill these."
      ]
    },
    {
      "cell_type": "code",
      "metadata": {
        "id": "jNMC6K-V2bpq"
      },
      "source": [
        "df.dest_country = df.dest_country.fillna('NA')"
      ],
      "execution_count": 20,
      "outputs": []
    },
    {
      "cell_type": "markdown",
      "metadata": {
        "id": "UlYAl4VfcBnF"
      },
      "source": [
        "Finally, let's take a look if we have any missing values left:"
      ]
    },
    {
      "cell_type": "code",
      "metadata": {
        "colab": {
          "base_uri": "https://localhost:8080/"
        },
        "id": "V5-pcaFdcFx_",
        "outputId": "e2d0fd6b-4443-4c69-e7f9-02a10ec801bb"
      },
      "source": [
        "df.isnull().sum()"
      ],
      "execution_count": 21,
      "outputs": [
        {
          "output_type": "execute_result",
          "data": {
            "text/plain": [
              "passengers             0\n",
              "airline_id             0\n",
              "carrier_name           0\n",
              "origin                 0\n",
              "origin_city_name       0\n",
              "origin_state_abr       0\n",
              "origin_state_nm        0\n",
              "origin_country         0\n",
              "origin_country_name    0\n",
              "dest                   0\n",
              "dest_city_name         0\n",
              "dest_state_abr         0\n",
              "dest_state_nm          0\n",
              "dest_country           0\n",
              "dest_country_name      0\n",
              "year                   0\n",
              "month                  0\n",
              "yearmonth              0\n",
              "dtype: int64"
            ]
          },
          "metadata": {
            "tags": []
          },
          "execution_count": 21
        }
      ]
    },
    {
      "cell_type": "markdown",
      "metadata": {
        "id": "0FH6AXD3cRSc"
      },
      "source": [
        "Success!"
      ]
    },
    {
      "cell_type": "code",
      "metadata": {
        "id": "unfd14UxcS94"
      },
      "source": [
        "from google.colab import files\n",
        "df.to_csv('monthly_air_passengers_full_2.csv', index=False)"
      ],
      "execution_count": 22,
      "outputs": []
    }
  ]
}