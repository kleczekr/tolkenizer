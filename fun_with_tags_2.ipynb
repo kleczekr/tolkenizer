{
  "nbformat": 4,
  "nbformat_minor": 0,
  "metadata": {
    "colab": {
      "name": "fun_with_tags_2.ipynb",
      "provenance": [],
      "authorship_tag": "ABX9TyMDfWxcU5Zv/uIuUw0OTdn6",
      "include_colab_link": true
    },
    "kernelspec": {
      "name": "python3",
      "display_name": "Python 3"
    }
  },
  "cells": [
    {
      "cell_type": "markdown",
      "metadata": {
        "id": "view-in-github",
        "colab_type": "text"
      },
      "source": [
        "<a href=\"https://colab.research.google.com/github/kleczekr/tolkenizer/blob/master/fun_with_tags_2.ipynb\" target=\"_parent\"><img src=\"https://colab.research.google.com/assets/colab-badge.svg\" alt=\"Open In Colab\"/></a>"
      ]
    },
    {
      "cell_type": "code",
      "metadata": {
        "id": "6GG5rAm3hvSG",
        "colab_type": "code",
        "colab": {}
      },
      "source": [
        "import xml.etree.ElementTree as ET"
      ],
      "execution_count": 1,
      "outputs": []
    },
    {
      "cell_type": "code",
      "metadata": {
        "id": "9VbryR05h1bj",
        "colab_type": "code",
        "colab": {
          "base_uri": "https://localhost:8080/",
          "height": 34
        },
        "outputId": "4364fbb5-27cd-436b-b3c6-6c35b778e881"
      },
      "source": [
        "# This cell is meant to accommodate the Google Colab way of dealing with reading \n",
        "# files from Google Drive; feel free to ignore it if you are running the notebook\n",
        "# on your local machine\n",
        "from google.colab import drive\n",
        "drive.mount('/content/drive')"
      ],
      "execution_count": 2,
      "outputs": [
        {
          "output_type": "stream",
          "text": [
            "Drive already mounted at /content/drive; to attempt to forcibly remount, call drive.mount(\"/content/drive\", force_remount=True).\n"
          ],
          "name": "stdout"
        }
      ]
    },
    {
      "cell_type": "code",
      "metadata": {
        "id": "YGa0b-60h3X0",
        "colab_type": "code",
        "colab": {}
      },
      "source": [
        "# import the data by reading from a file:\n",
        "tree = ET.parse('/content/drive/My Drive/elementTree/books.xml')\n",
        "# the line below establishes the root of the document\n",
        "root = tree.getroot()"
      ],
      "execution_count": 3,
      "outputs": []
    },
    {
      "cell_type": "code",
      "metadata": {
        "id": "mwcM2IXvh6LN",
        "colab_type": "code",
        "colab": {
          "base_uri": "https://localhost:8080/",
          "height": 225
        },
        "outputId": "891c7a9e-6d47-4348-ff39-89e73b538bec"
      },
      "source": [
        "for book in root.iter('book'):\n",
        "    print(book[2].text)"
      ],
      "execution_count": 4,
      "outputs": [
        {
          "output_type": "stream",
          "text": [
            "Computer\n",
            "Fantasy\n",
            "Fantasy\n",
            "Fantasy\n",
            "Fantasy\n",
            "Romance\n",
            "Romance\n",
            "Horror\n",
            "Science Fiction\n",
            "Computer\n",
            "Computer\n",
            "Computer\n"
          ],
          "name": "stdout"
        }
      ]
    },
    {
      "cell_type": "code",
      "metadata": {
        "id": "kcybNpLmle26",
        "colab_type": "code",
        "colab": {
          "base_uri": "https://localhost:8080/",
          "height": 34
        },
        "outputId": "ddd9f52d-48db-4050-8da4-e1ca41ea428e"
      },
      "source": [
        "print(root[0])"
      ],
      "execution_count": 5,
      "outputs": [
        {
          "output_type": "stream",
          "text": [
            "<Element 'book' at 0x7fc9eef058b8>\n"
          ],
          "name": "stdout"
        }
      ]
    },
    {
      "cell_type": "code",
      "metadata": {
        "id": "rDvGDVN3lqoA",
        "colab_type": "code",
        "colab": {
          "base_uri": "https://localhost:8080/",
          "height": 71
        },
        "outputId": "2b13c5da-a410-452e-bc3e-31dd77448003"
      },
      "source": [
        "ET.tostring(root[0], encoding='utf8').decode('utf8')"
      ],
      "execution_count": 6,
      "outputs": [
        {
          "output_type": "execute_result",
          "data": {
            "application/vnd.google.colaboratory.intrinsic+json": {
              "type": "string"
            },
            "text/plain": [
              "'<?xml version=\\'1.0\\' encoding=\\'utf8\\'?>\\n<book id=\"bk101\">\\n      <author>Gambardella, Matthew</author>\\n      <title>XML Developer\\'s Guide</title>\\n      <genre>Computer</genre>\\n      <price>44.95</price>\\n      <publish_date>2000-10-01</publish_date>\\n      <description>An in-depth look at creating applications \\n      with XML.</description>\\n   </book>\\n   '"
            ]
          },
          "metadata": {
            "tags": []
          },
          "execution_count": 6
        }
      ]
    },
    {
      "cell_type": "code",
      "metadata": {
        "id": "9kG_ojgbh6JI",
        "colab_type": "code",
        "colab": {
          "base_uri": "https://localhost:8080/",
          "height": 225
        },
        "outputId": "c8613fdf-b107-4cfe-8916-96ef6f249e36"
      },
      "source": [
        "for book in root.iter('book'):\n",
        "    print(book[4].text[:4])"
      ],
      "execution_count": 7,
      "outputs": [
        {
          "output_type": "stream",
          "text": [
            "2000\n",
            "2000\n",
            "2000\n",
            "2001\n",
            "2001\n",
            "2000\n",
            "2000\n",
            "2000\n",
            "2000\n",
            "2000\n",
            "2000\n",
            "2001\n"
          ],
          "name": "stdout"
        }
      ]
    },
    {
      "cell_type": "code",
      "metadata": {
        "id": "wQsrm9QHh6Fy",
        "colab_type": "code",
        "colab": {
          "base_uri": "https://localhost:8080/",
          "height": 69
        },
        "outputId": "3097c812-192f-4a35-dfea-49f219ac4c3c"
      },
      "source": [
        "for book in root.iter('book'):\n",
        "  if int(book[4].text[:4]) == 2001:\n",
        "    print('Author: {}, title: \"{}\".'.format(book[0].text, book[1].text))"
      ],
      "execution_count": 8,
      "outputs": [
        {
          "output_type": "stream",
          "text": [
            "Author: Corets, Eva, title: \"Oberon's Legacy\".\n",
            "Author: Corets, Eva, title: \"The Sundered Grail\".\n",
            "Author: Galos, Mike, title: \"Visual Studio 7: A Comprehensive Guide\".\n"
          ],
          "name": "stdout"
        }
      ]
    },
    {
      "cell_type": "code",
      "metadata": {
        "id": "WzWrs936h6DQ",
        "colab_type": "code",
        "colab": {
          "base_uri": "https://localhost:8080/",
          "height": 69
        },
        "outputId": "9bbe3d29-8b56-47fa-955f-0bf8dfe6a9c8"
      },
      "source": [
        "for book in root.iter('book'):\n",
        "  if book[0].text == 'Corets, Eva':\n",
        "    print('Book by Eva Corets, \"{}\", published in the year {}'.format(book[1].text, book[4].text[:4]))"
      ],
      "execution_count": 9,
      "outputs": [
        {
          "output_type": "stream",
          "text": [
            "Book by Eva Corets, \"Maeve Ascendant\", published in the year 2000\n",
            "Book by Eva Corets, \"Oberon's Legacy\", published in the year 2001\n",
            "Book by Eva Corets, \"The Sundered Grail\", published in the year 2001\n"
          ],
          "name": "stdout"
        }
      ]
    },
    {
      "cell_type": "code",
      "metadata": {
        "id": "KXHLNdODh6Aq",
        "colab_type": "code",
        "colab": {
          "base_uri": "https://localhost:8080/",
          "height": 34
        },
        "outputId": "82413915-372c-45f4-c09a-4955d574230f"
      },
      "source": [
        "for book in root.iter('book'):\n",
        "  if book[2].text == 'Science Fiction':\n",
        "    print('A science fiction novel by {}, published in the year {}, title: \\\n",
        "    \"{}\".'.format(book[0].text, book[4].text[:4], book[1].text))"
      ],
      "execution_count": 10,
      "outputs": [
        {
          "output_type": "stream",
          "text": [
            "A science fiction novel by Kress, Peter, published in the year 2000, title:     \"Paradox Lost\".\n"
          ],
          "name": "stdout"
        }
      ]
    }
  ]
}