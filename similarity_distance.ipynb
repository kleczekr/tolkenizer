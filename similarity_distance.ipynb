{
  "nbformat": 4,
  "nbformat_minor": 0,
  "metadata": {
    "colab": {
      "name": "similarity_distance.ipynb",
      "provenance": [],
      "authorship_tag": "ABX9TyNJR3wLfGOArjytgcZJA7CI",
      "include_colab_link": true
    },
    "kernelspec": {
      "name": "python3",
      "display_name": "Python 3"
    }
  },
  "cells": [
    {
      "cell_type": "markdown",
      "metadata": {
        "id": "view-in-github",
        "colab_type": "text"
      },
      "source": [
        "<a href=\"https://colab.research.google.com/github/kleczekr/tolkenizer/blob/master/similarity_distance.ipynb\" target=\"_parent\"><img src=\"https://colab.research.google.com/assets/colab-badge.svg\" alt=\"Open In Colab\"/></a>"
      ]
    },
    {
      "cell_type": "code",
      "metadata": {
        "id": "rskfO5lkX8d9",
        "colab_type": "code",
        "colab": {}
      },
      "source": [
        "import glob\n",
        "import pandas as pd\n",
        "from sklearn.feature_extraction.text import CountVectorizer\n",
        "from scipy.spatial.distance import pdist, squareform"
      ],
      "execution_count": 13,
      "outputs": []
    },
    {
      "cell_type": "code",
      "metadata": {
        "id": "cVprj7CQcx1O",
        "colab_type": "code",
        "colab": {
          "base_uri": "https://localhost:8080/",
          "height": 34
        },
        "outputId": "1bfd7243-bb03-4de4-d9bb-4f9bc0b89d8a"
      },
      "source": [
        "# This cell is meant to accommodate the Google Colab way of dealing with reading \n",
        "# files from Google Drive; feel free to ignore it if you are running the notebook\n",
        "# on your local machine\n",
        "from google.colab import drive\n",
        "drive.mount('/content/drive')"
      ],
      "execution_count": 14,
      "outputs": [
        {
          "output_type": "stream",
          "text": [
            "Drive already mounted at /content/drive; to attempt to forcibly remount, call drive.mount(\"/content/drive\", force_remount=True).\n"
          ],
          "name": "stdout"
        }
      ]
    },
    {
      "cell_type": "code",
      "metadata": {
        "id": "eb4SwMUIb1NV",
        "colab_type": "code",
        "colab": {}
      },
      "source": [
        "# Use the glob library to create a list of file names\n",
        "filenames = glob.glob(\"/content/drive/My Drive/programming_historian/1666_texts/*.txt\")"
      ],
      "execution_count": 15,
      "outputs": []
    },
    {
      "cell_type": "code",
      "metadata": {
        "id": "k5RJESZqfyRp",
        "colab_type": "code",
        "colab": {}
      },
      "source": [
        "# Parse those filenames to create a list of file keys (ID numbers)\n",
        "# You'll use these later on.\n",
        "filekeys = [f.split('/')[-1].split('.')[0] for f in filenames]\n",
        "\n",
        "# Create a CountVectorizer instance with the parameters you need\n",
        "vectorizer = CountVectorizer(input=\"filename\", max_features=1000, max_df=0.7)\n",
        "# Run the vectorizer on your list of filenames to create your wordcounts\n",
        "# Use the toarray() function so that SciPy will accept the results\n",
        "wordcounts = vectorizer.fit_transform(filenames).toarray()"
      ],
      "execution_count": 16,
      "outputs": []
    },
    {
      "cell_type": "code",
      "metadata": {
        "id": "FVmw7mrlXPAm",
        "colab_type": "code",
        "colab": {}
      },
      "source": [
        "# Read the metadata from the separate .csv file\n",
        "metadata = pd.read_csv(\"/content/drive/My Drive/programming_historian/1666_metadata.csv\", index_col=\"TCP ID\")"
      ],
      "execution_count": 17,
      "outputs": []
    },
    {
      "cell_type": "code",
      "metadata": {
        "id": "LE_s_sLZXudS",
        "colab_type": "code",
        "colab": {}
      },
      "source": [
        "# Calculate the euclidean distances for words\n",
        "euclidean_distances = pd.DataFrame(squareform(pdist(wordcounts)), index=filekeys, columns=filekeys)"
      ],
      "execution_count": 18,
      "outputs": []
    },
    {
      "cell_type": "code",
      "metadata": {
        "id": "_v975IUOatjv",
        "colab_type": "code",
        "colab": {}
      },
      "source": [
        "# Fetch the five results with the smallest euclidean distance from the A28989 work,\n",
        "# i.e. Boyle’s ''Hydrostatical paradoxes made out by new experiments''\n",
        "# (six results, since the top result would be the work A28989 itself)\n",
        "top5_euclidean = euclidean_distances.nsmallest(6, 'A28989')['A28989'][1:]"
      ],
      "execution_count": 19,
      "outputs": []
    },
    {
      "cell_type": "code",
      "metadata": {
        "id": "TlDK49YaauTz",
        "colab_type": "code",
        "colab": {
          "base_uri": "https://localhost:8080/",
          "height": 206
        },
        "outputId": "f975e29d-035b-4606-df9e-0ba8b08cad47"
      },
      "source": [
        "# Display the top five works\n",
        "metadata.loc[top5_euclidean.index, ['Author','Title','Keywords']]"
      ],
      "execution_count": 20,
      "outputs": [
        {
          "output_type": "execute_result",
          "data": {
            "text/html": [
              "<div>\n",
              "<style scoped>\n",
              "    .dataframe tbody tr th:only-of-type {\n",
              "        vertical-align: middle;\n",
              "    }\n",
              "\n",
              "    .dataframe tbody tr th {\n",
              "        vertical-align: top;\n",
              "    }\n",
              "\n",
              "    .dataframe thead th {\n",
              "        text-align: right;\n",
              "    }\n",
              "</style>\n",
              "<table border=\"1\" class=\"dataframe\">\n",
              "  <thead>\n",
              "    <tr style=\"text-align: right;\">\n",
              "      <th></th>\n",
              "      <th>Author</th>\n",
              "      <th>Title</th>\n",
              "      <th>Keywords</th>\n",
              "    </tr>\n",
              "  </thead>\n",
              "  <tbody>\n",
              "    <tr>\n",
              "      <th>A62436</th>\n",
              "      <td>Thomson, George, 17th cent.</td>\n",
              "      <td>Loimotomia, or, The pest anatomized in these f...</td>\n",
              "      <td>Hodges, Nathaniel, 1629-1688. -- Vindiciae med...</td>\n",
              "    </tr>\n",
              "    <tr>\n",
              "      <th>A43020</th>\n",
              "      <td>Harvey, Gideon, 1640?-1700?</td>\n",
              "      <td>Morbus anglicus: or, The anatomy of consumptio...</td>\n",
              "      <td>Tuberculosis -- Early works to 1800.</td>\n",
              "    </tr>\n",
              "    <tr>\n",
              "      <th>A29017</th>\n",
              "      <td>Boyle, Robert, 1627-1691.</td>\n",
              "      <td>The origine of formes and qualities, (accordin...</td>\n",
              "      <td>Matter -- Constitution -- Early works to 1800....</td>\n",
              "    </tr>\n",
              "    <tr>\n",
              "      <th>A56390</th>\n",
              "      <td>Parker, Samuel, 1640-1688.</td>\n",
              "      <td>A free and impartial censure of the Platonick ...</td>\n",
              "      <td>Platonists. Empiricism -- Early works to 1800.</td>\n",
              "    </tr>\n",
              "    <tr>\n",
              "      <th>A44061</th>\n",
              "      <td>Hodges, Nathaniel, 1629-1688.</td>\n",
              "      <td>Vindiciæ medicinæ &amp; medicorum: or An apology f...</td>\n",
              "      <td>Medicine -- Early works to 1800. Plague -- Eng...</td>\n",
              "    </tr>\n",
              "  </tbody>\n",
              "</table>\n",
              "</div>"
            ],
            "text/plain": [
              "                               Author  ...                                           Keywords\n",
              "A62436    Thomson, George, 17th cent.  ...  Hodges, Nathaniel, 1629-1688. -- Vindiciae med...\n",
              "A43020    Harvey, Gideon, 1640?-1700?  ...               Tuberculosis -- Early works to 1800.\n",
              "A29017      Boyle, Robert, 1627-1691.  ...  Matter -- Constitution -- Early works to 1800....\n",
              "A56390     Parker, Samuel, 1640-1688.  ...     Platonists. Empiricism -- Early works to 1800.\n",
              "A44061  Hodges, Nathaniel, 1629-1688.  ...  Medicine -- Early works to 1800. Plague -- Eng...\n",
              "\n",
              "[5 rows x 3 columns]"
            ]
          },
          "metadata": {
            "tags": []
          },
          "execution_count": 20
        }
      ]
    },
    {
      "cell_type": "code",
      "metadata": {
        "id": "kffv1apPax20",
        "colab_type": "code",
        "colab": {}
      },
      "source": [
        "# Similarly, calculate the cosine distances and fetch the five works with the \n",
        "# smallest cosine distances.\n",
        "cosine_distances = pd.DataFrame(squareform(pdist(wordcounts, metric='cosine')), \n",
        "                                index=filekeys, columns=filekeys)\n",
        "top5_cosine = cosine_distances.nsmallest(6, 'A28989')['A28989'][1:]"
      ],
      "execution_count": 21,
      "outputs": []
    },
    {
      "cell_type": "code",
      "metadata": {
        "id": "BSCJW7mBbDi3",
        "colab_type": "code",
        "colab": {
          "base_uri": "https://localhost:8080/",
          "height": 206
        },
        "outputId": "032f07f9-b5a0-4a5d-cdc6-c71a84b209b4"
      },
      "source": [
        "metadata.loc[top5_cosine.index, ['Author','Title','Keywords']]"
      ],
      "execution_count": 22,
      "outputs": [
        {
          "output_type": "execute_result",
          "data": {
            "text/html": [
              "<div>\n",
              "<style scoped>\n",
              "    .dataframe tbody tr th:only-of-type {\n",
              "        vertical-align: middle;\n",
              "    }\n",
              "\n",
              "    .dataframe tbody tr th {\n",
              "        vertical-align: top;\n",
              "    }\n",
              "\n",
              "    .dataframe thead th {\n",
              "        text-align: right;\n",
              "    }\n",
              "</style>\n",
              "<table border=\"1\" class=\"dataframe\">\n",
              "  <thead>\n",
              "    <tr style=\"text-align: right;\">\n",
              "      <th></th>\n",
              "      <th>Author</th>\n",
              "      <th>Title</th>\n",
              "      <th>Keywords</th>\n",
              "    </tr>\n",
              "  </thead>\n",
              "  <tbody>\n",
              "    <tr>\n",
              "      <th>A29017</th>\n",
              "      <td>Boyle, Robert, 1627-1691.</td>\n",
              "      <td>The origine of formes and qualities, (accordin...</td>\n",
              "      <td>Matter -- Constitution -- Early works to 1800....</td>\n",
              "    </tr>\n",
              "    <tr>\n",
              "      <th>A43020</th>\n",
              "      <td>Harvey, Gideon, 1640?-1700?</td>\n",
              "      <td>Morbus anglicus: or, The anatomy of consumptio...</td>\n",
              "      <td>Tuberculosis -- Early works to 1800.</td>\n",
              "    </tr>\n",
              "    <tr>\n",
              "      <th>A62436</th>\n",
              "      <td>Thomson, George, 17th cent.</td>\n",
              "      <td>Loimotomia, or, The pest anatomized in these f...</td>\n",
              "      <td>Hodges, Nathaniel, 1629-1688. -- Vindiciae med...</td>\n",
              "    </tr>\n",
              "    <tr>\n",
              "      <th>A57484</th>\n",
              "      <td>Rochefort, César de, b. 1605.</td>\n",
              "      <td>The history of the Caribby-islands, viz, Barba...</td>\n",
              "      <td>Natural history -- West Indies. Carib Indians.</td>\n",
              "    </tr>\n",
              "    <tr>\n",
              "      <th>A60482</th>\n",
              "      <td>Smith, John, 1630-1679.</td>\n",
              "      <td>Gērochomia vasilikē King Solomons portraitur...</td>\n",
              "      <td>Bible. -- O.T. -- Ecclesiastes XII, 1-6 -- Par...</td>\n",
              "    </tr>\n",
              "  </tbody>\n",
              "</table>\n",
              "</div>"
            ],
            "text/plain": [
              "                                Author  ...                                           Keywords\n",
              "A29017       Boyle, Robert, 1627-1691.  ...  Matter -- Constitution -- Early works to 1800....\n",
              "A43020     Harvey, Gideon, 1640?-1700?  ...               Tuberculosis -- Early works to 1800.\n",
              "A62436     Thomson, George, 17th cent.  ...  Hodges, Nathaniel, 1629-1688. -- Vindiciae med...\n",
              "A57484  Rochefort, César de, b. 1605.  ...     Natural history -- West Indies. Carib Indians.\n",
              "A60482         Smith, John, 1630-1679.  ...  Bible. -- O.T. -- Ecclesiastes XII, 1-6 -- Par...\n",
              "\n",
              "[5 rows x 3 columns]"
            ]
          },
          "metadata": {
            "tags": []
          },
          "execution_count": 22
        }
      ]
    },
    {
      "cell_type": "code",
      "metadata": {
        "id": "bLsRckqcimZv",
        "colab_type": "code",
        "colab": {
          "base_uri": "https://localhost:8080/",
          "height": 141
        },
        "outputId": "a6e5702b-8fb9-4e9f-8827-5a32b37e9eb0"
      },
      "source": [
        "# As the titles are abbreviated, we can display them in full with the following:\n",
        "print(metadata.loc[top5_cosine.index, ['Author','Title','Keywords']].to_string())"
      ],
      "execution_count": 23,
      "outputs": [
        {
          "output_type": "stream",
          "text": [
            "                                Author                                                                                                                                                                                                                                                                                                                                                                                                                                                                                                                                                                                                                      Title                                                                                             Keywords\n",
            "A29017       Boyle, Robert, 1627-1691.                                                                                                                                                                                                                                                                                                                                                                                                          The origine of formes and qualities, (according to the corpuscular philosophy) illustrated by considerations and experiments (written formerly by way of notes upon an essay about nitre) by ... Robert Boyle ...  Matter -- Constitution -- Early works to 1800. Light, Corpuscular theory of -- Early works to 1800.\n",
            "A43020     Harvey, Gideon, 1640?-1700?                                                                                     Morbus anglicus: or, The anatomy of consumptions Containing the nature, causes, subject, progress, change, signes, prognosticks, preservatives; and several methods of curing all consumptions, coughs, and spitting of blood. With remarkable observations touching the same diseases. To which are added, some brief discourses of melancholy, madness, and distraction occasioned by love. Together with certain new remarques touching the scurvy and ulcers of the lungs. The like never before published. By Gideon Harvey, M.D.                                                                 Tuberculosis -- Early works to 1800.\n",
            "A62436     Thomson, George, 17th cent.  Loimotomia, or, The pest anatomized in these following particulars, Viz. 1. The material cause of the pest, 2. The efficient cause of the pest, 3. The subject part of the pest, 4. The signs of the pest, 5. An historical account of the dissections of a pestilential body by the author, and the consequences thereof, 6. Reflections and observations on the fore-said dissection, 7. Directions preservative and curative against the pest : together with the authors apology against the calumnies of the Galenists, and a word to Mr. Nath. Hodges, concerning his late Vindiciae medicinae / by George Thomson.                           Hodges, Nathaniel, 1629-1688. -- Vindiciae medicinae et medicorum. Plague.\n",
            "A57484  Rochefort, César de, b. 1605.                                                                                                                                                                          The history of the Caribby-islands, viz, Barbados, St Christophers, St Vincents, Martinico, Dominico, Barbouthos, Monserrat, Mevis, Antego, &c in all XXVIII in two books : the first containing the natural, the second, the moral history of those islands : illustrated with several pieces of sculpture representing the most considerable rarities therein described : with a Caribbian vocabulary / rendred into English by John Davies ...                                                       Natural history -- West Indies. Carib Indians.\n",
            "A60482         Smith, John, 1630-1679.                                                                                                                                                                                                      Gērochomia vasilikē King Solomons portraiture of old age : wherein is contained a sacred anatomy both of soul and body, and a perfect account of the infirmities of age, incident to them both : and all those mystical and ænigmatical symptomes expressed in the six former verses of the 12th chapter of Ecclesiastes, are here paraphrased upon and made plain and easie to a mean capacity / by John Smith ...                                     Bible. -- O.T. -- Ecclesiastes XII, 1-6 -- Paraphrases, English.\n"
          ],
          "name": "stdout"
        }
      ]
    },
    {
      "cell_type": "code",
      "metadata": {
        "id": "4bPa3yBni6Lk",
        "colab_type": "code",
        "colab": {}
      },
      "source": [
        ""
      ],
      "execution_count": null,
      "outputs": []
    }
  ]
}