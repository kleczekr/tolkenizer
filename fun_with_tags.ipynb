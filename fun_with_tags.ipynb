{
  "nbformat": 4,
  "nbformat_minor": 0,
  "metadata": {
    "colab": {
      "name": "fun_with_tags.ipynb",
      "provenance": [],
      "authorship_tag": "ABX9TyM3h1SycfJifhIS3qY+UshF",
      "include_colab_link": true
    },
    "kernelspec": {
      "name": "python3",
      "display_name": "Python 3"
    }
  },
  "cells": [
    {
      "cell_type": "markdown",
      "metadata": {
        "id": "view-in-github",
        "colab_type": "text"
      },
      "source": [
        "<a href=\"https://colab.research.google.com/github/kleczekr/tolkenizer/blob/master/fun_with_tags.ipynb\" target=\"_parent\"><img src=\"https://colab.research.google.com/assets/colab-badge.svg\" alt=\"Open In Colab\"/></a>"
      ]
    },
    {
      "cell_type": "code",
      "metadata": {
        "id": "iZ3Vr1maWUVt",
        "colab_type": "code",
        "colab": {}
      },
      "source": [
        "import xml.etree.ElementTree as ET"
      ],
      "execution_count": 1,
      "outputs": []
    },
    {
      "cell_type": "code",
      "metadata": {
        "id": "kSxXunXfWZ92",
        "colab_type": "code",
        "colab": {
          "base_uri": "https://localhost:8080/",
          "height": 34
        },
        "outputId": "1caf4c3e-e360-46d2-ba70-ec1ec2ddeb2b"
      },
      "source": [
        "# This cell is meant to accommodate the Google Colab way of dealing with reading \n",
        "# files from Google Drive; feel free to ignore it if you are running the notebook\n",
        "# on your local machine\n",
        "from google.colab import drive\n",
        "drive.mount('/content/drive')"
      ],
      "execution_count": 2,
      "outputs": [
        {
          "output_type": "stream",
          "text": [
            "Drive already mounted at /content/drive; to attempt to forcibly remount, call drive.mount(\"/content/drive\", force_remount=True).\n"
          ],
          "name": "stdout"
        }
      ]
    },
    {
      "cell_type": "markdown",
      "metadata": {
        "id": "mh0nyrPZW9fW",
        "colab_type": "text"
      },
      "source": [
        "Below I import data from a file. If you would like to work on the same data, I am using the first file that I found after Google search, \"XML file to play with\". [Here is the file](https://docs.microsoft.com/en-us/previous-versions/windows/desktop/ms762271(v=vs.85))."
      ]
    },
    {
      "cell_type": "code",
      "metadata": {
        "id": "CQJzuZPsWmvz",
        "colab_type": "code",
        "colab": {}
      },
      "source": [
        "# import the data by reading from a file:\n",
        "tree = ET.parse('/content/drive/My Drive/elementTree/books.xml')\n",
        "# the line below establishes the root of the document\n",
        "root = tree.getroot()"
      ],
      "execution_count": 3,
      "outputs": []
    },
    {
      "cell_type": "code",
      "metadata": {
        "id": "w_MJkuE5Xv5e",
        "colab_type": "code",
        "colab": {
          "base_uri": "https://localhost:8080/",
          "height": 36
        },
        "outputId": "6bc1af1a-fba7-4456-90f1-3f132a6bf4cf"
      },
      "source": [
        "# what is the tag of the root?\n",
        "root.tag"
      ],
      "execution_count": 4,
      "outputs": [
        {
          "output_type": "execute_result",
          "data": {
            "application/vnd.google.colaboratory.intrinsic+json": {
              "type": "string"
            },
            "text/plain": [
              "'catalog'"
            ]
          },
          "metadata": {
            "tags": []
          },
          "execution_count": 4
        }
      ]
    },
    {
      "cell_type": "code",
      "metadata": {
        "id": "-xg-Af86Xv2k",
        "colab_type": "code",
        "colab": {
          "base_uri": "https://localhost:8080/",
          "height": 34
        },
        "outputId": "e2b8ea6e-722b-4d7d-c0e3-a7acc0b28a34"
      },
      "source": [
        "# what is the attribute of the root?\n",
        "root.attrib"
      ],
      "execution_count": 5,
      "outputs": [
        {
          "output_type": "execute_result",
          "data": {
            "text/plain": [
              "{}"
            ]
          },
          "metadata": {
            "tags": []
          },
          "execution_count": 5
        }
      ]
    },
    {
      "cell_type": "markdown",
      "metadata": {
        "id": "SQBUIGpSYjB_",
        "colab_type": "text"
      },
      "source": [
        "Apparently, root element---the catalog---has no attribute. It is not surprising. Let us see the tags and attributes of the first-level children of the root element."
      ]
    },
    {
      "cell_type": "code",
      "metadata": {
        "id": "88pEC3p7XvzO",
        "colab_type": "code",
        "colab": {
          "base_uri": "https://localhost:8080/",
          "height": 225
        },
        "outputId": "a487f492-cfba-497e-e70e-026f8d33fb26"
      },
      "source": [
        "for child in root:\n",
        "  print(child.tag, child.attrib)"
      ],
      "execution_count": 6,
      "outputs": [
        {
          "output_type": "stream",
          "text": [
            "book {'id': 'bk101'}\n",
            "book {'id': 'bk102'}\n",
            "book {'id': 'bk103'}\n",
            "book {'id': 'bk104'}\n",
            "book {'id': 'bk105'}\n",
            "book {'id': 'bk106'}\n",
            "book {'id': 'bk107'}\n",
            "book {'id': 'bk108'}\n",
            "book {'id': 'bk109'}\n",
            "book {'id': 'bk110'}\n",
            "book {'id': 'bk111'}\n",
            "book {'id': 'bk112'}\n"
          ],
          "name": "stdout"
        }
      ]
    }
  ]
}