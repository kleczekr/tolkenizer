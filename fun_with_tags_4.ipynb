{
  "nbformat": 4,
  "nbformat_minor": 0,
  "metadata": {
    "colab": {
      "name": "fun_with_tags_4.ipynb",
      "provenance": [],
      "authorship_tag": "ABX9TyPHK0gAABIlwd+Fhqw+xXKB",
      "include_colab_link": true
    },
    "kernelspec": {
      "name": "python3",
      "display_name": "Python 3"
    }
  },
  "cells": [
    {
      "cell_type": "markdown",
      "metadata": {
        "id": "view-in-github",
        "colab_type": "text"
      },
      "source": [
        "<a href=\"https://colab.research.google.com/github/kleczekr/tolkenizer/blob/master/fun_with_tags_4.ipynb\" target=\"_parent\"><img src=\"https://colab.research.google.com/assets/colab-badge.svg\" alt=\"Open In Colab\"/></a>"
      ]
    },
    {
      "cell_type": "code",
      "metadata": {
        "id": "go6cpAkKJ6rB",
        "colab_type": "code",
        "colab": {}
      },
      "source": [
        "import xml.etree.ElementTree as ET"
      ],
      "execution_count": 1,
      "outputs": []
    },
    {
      "cell_type": "code",
      "metadata": {
        "id": "iuwsx3EOKACT",
        "colab_type": "code",
        "colab": {
          "base_uri": "https://localhost:8080/",
          "height": 34
        },
        "outputId": "16ca731e-3a15-4278-ace1-154a97425327"
      },
      "source": [
        "# This cell is meant to accommodate the Google Colab way of dealing with reading \n",
        "# files from Google Drive; feel free to ignore it if you are running the notebook\n",
        "# on your local machine\n",
        "from google.colab import drive\n",
        "drive.mount('/content/drive')"
      ],
      "execution_count": 2,
      "outputs": [
        {
          "output_type": "stream",
          "text": [
            "Drive already mounted at /content/drive; to attempt to forcibly remount, call drive.mount(\"/content/drive\", force_remount=True).\n"
          ],
          "name": "stdout"
        }
      ]
    },
    {
      "cell_type": "code",
      "metadata": {
        "id": "65YLYBdDKAAO",
        "colab_type": "code",
        "colab": {}
      },
      "source": [
        "# import the data by reading from a file:\n",
        "tree = ET.parse('/content/drive/My Drive/elementTree/ToiletmapExport_200702_111356.xml')\n",
        "# the line below establishes the root of the document\n",
        "root = tree.getroot()"
      ],
      "execution_count": 3,
      "outputs": []
    },
    {
      "cell_type": "code",
      "metadata": {
        "id": "ZKb42Du1J_86",
        "colab_type": "code",
        "colab": {
          "base_uri": "https://localhost:8080/",
          "height": 140
        },
        "outputId": "92ce33dc-8485-42e6-915f-87a095940845"
      },
      "source": [
        "ET.tostring(root[100], encoding='utf8').decode('utf8')"
      ],
      "execution_count": 4,
      "outputs": [
        {
          "output_type": "execute_result",
          "data": {
            "application/vnd.google.colaboratory.intrinsic+json": {
              "type": "string"
            },
            "text/plain": [
              "'<?xml version=\\'1.0\\' encoding=\\'utf8\\'?>\\n<ns0:ToiletDetails xmlns:ns0=\"http://toiletmap.gov.au/\" xmlns:xsi=\"http://www.w3.org/2001/XMLSchema-instance\" LastUpdateDate=\"2009-03-24Z\" Latitude=\"-27.76768672\" Longitude=\"153.1051244\" Status=\"Verified\" ToiletURL=\"https://toiletmap.gov.au/toilet/133\" xsi:schemaLocation=\"https://toiletmap.gov.au/ file:./ToiletDetails-V_1_2.xsd\"><ns0:Name>Logan Village Community Centre</ns0:Name><ns0:Address1>River Street</ns0:Address1><ns0:Town>Logan Village</ns0:Town><ns0:State>Queensland</ns0:State><ns0:Postcode>4207</ns0:Postcode><ns0:GeneralDetails><ns0:Male>true</ns0:Male><ns0:Female>true</ns0:Female><ns0:DumpPoint>false</ns0:DumpPoint><ns0:FacilityType>Park or reserve</ns0:FacilityType><ns0:ToiletType>Sewerage</ns0:ToiletType><ns0:AccessLimited>false</ns0:AccessLimited><ns0:PaymentRequired>false</ns0:PaymentRequired><ns0:KeyRequired>false</ns0:KeyRequired><ns0:Parking>true</ns0:Parking></ns0:GeneralDetails><ns0:AccessibilityDetails><ns0:AccessibleMale>true</ns0:AccessibleMale><ns0:AccessibleFemale>true</ns0:AccessibleFemale><ns0:AccessibleUnisex>false</ns0:AccessibleUnisex><ns0:MLAK>false</ns0:MLAK><ns0:ParkingAccessible>true</ns0:ParkingAccessible><ns0:Ambulant>false</ns0:Ambulant><ns0:LHTransfer>false</ns0:LHTransfer><ns0:RHTransfer>false</ns0:RHTransfer><ns0:AdultChange>false</ns0:AdultChange><ns0:ChangingPlaces>false</ns0:ChangingPlaces></ns0:AccessibilityDetails><ns0:OpeningHours><ns0:IsOpen>AllHours</ns0:IsOpen></ns0:OpeningHours><ns0:Features><ns0:BabyChange>false</ns0:BabyChange><ns0:Showers>false</ns0:Showers><ns0:DrinkingWater>false</ns0:DrinkingWater><ns0:SharpsDisposal>false</ns0:SharpsDisposal><ns0:SanitaryDisposal>false</ns0:SanitaryDisposal></ns0:Features><ns0:Icon IconAltText=\"Male and Female, or Unisex (Accessible)\"><ns0:IconURL>https://toiletmap.gov.au/images/icons/mfa.png</ns0:IconURL></ns0:Icon></ns0:ToiletDetails>'"
            ]
          },
          "metadata": {
            "tags": []
          },
          "execution_count": 4
        }
      ]
    },
    {
      "cell_type": "code",
      "metadata": {
        "id": "8sth2bXGJ_59",
        "colab_type": "code",
        "colab": {
          "base_uri": "https://localhost:8080/",
          "height": 140
        },
        "outputId": "4f4e6044-e897-4c83-85df-6f45b9af3b44"
      },
      "source": [
        "ET.tostring(root[10000], encoding='utf8').decode('utf8')"
      ],
      "execution_count": 5,
      "outputs": [
        {
          "output_type": "execute_result",
          "data": {
            "application/vnd.google.colaboratory.intrinsic+json": {
              "type": "string"
            },
            "text/plain": [
              "'<?xml version=\\'1.0\\' encoding=\\'utf8\\'?>\\n<ns0:ToiletDetails xmlns:ns0=\"http://toiletmap.gov.au/\" xmlns:xsi=\"http://www.w3.org/2001/XMLSchema-instance\" LastUpdateDate=\"2018-11-20Z\" Latitude=\"-32.250215\" Longitude=\"148.60078\" Status=\"Verified\" ToiletURL=\"https://toiletmap.gov.au/toilet/17477\" xsi:schemaLocation=\"https://toiletmap.gov.au/ file:./ToiletDetails-V_1_2.xsd\"><ns0:Name>Dubbo Square</ns0:Name><ns0:Address1>177 Macquarie Street</ns0:Address1><ns0:Town>Dubbo</ns0:Town><ns0:State>New South Wales</ns0:State><ns0:Postcode>2830</ns0:Postcode><ns0:GeneralDetails><ns0:Male>true</ns0:Male><ns0:Female>true</ns0:Female><ns0:DumpPoint>false</ns0:DumpPoint><ns0:FacilityType>Shopping centre</ns0:FacilityType><ns0:ToiletType>Sewerage</ns0:ToiletType><ns0:AccessLimited>false</ns0:AccessLimited><ns0:PaymentRequired>false</ns0:PaymentRequired><ns0:KeyRequired>false</ns0:KeyRequired><ns0:AccessNote>Ground floor accessible toilet MLAK locked, key is available from Centre Management office located top floor.</ns0:AccessNote><ns0:Parking>true</ns0:Parking><ns0:ParkingNote>Wheelchair access via ramp to the food court.</ns0:ParkingNote></ns0:GeneralDetails><ns0:AccessibilityDetails><ns0:AccessibleMale>false</ns0:AccessibleMale><ns0:AccessibleFemale>false</ns0:AccessibleFemale><ns0:AccessibleUnisex>true</ns0:AccessibleUnisex><ns0:AccessibleNote>Door is automatic, doorway narrow, cubicle floor space large, grab rails and wash basin.</ns0:AccessibleNote><ns0:MLAK>true</ns0:MLAK><ns0:ParkingAccessible>true</ns0:ParkingAccessible><ns0:AccessibleParkingNote>Wheelchair access via ramp to the food court.</ns0:AccessibleParkingNote><ns0:Ambulant>false</ns0:Ambulant><ns0:LHTransfer>true</ns0:LHTransfer><ns0:RHTransfer>false</ns0:RHTransfer><ns0:AdultChange>false</ns0:AdultChange><ns0:ChangingPlaces>false</ns0:ChangingPlaces></ns0:AccessibilityDetails><ns0:OpeningHours><ns0:IsOpen>Variable</ns0:IsOpen><ns0:OpeningHoursSchedule>Mon-Sat 6am-10pm; Sun 8am-10pm</ns0:OpeningHoursSchedule></ns0:OpeningHours><ns0:Features><ns0:BabyChange>true</ns0:BabyChange><ns0:Showers>false</ns0:Showers><ns0:DrinkingWater>false</ns0:DrinkingWater><ns0:SharpsDisposal>false</ns0:SharpsDisposal><ns0:SanitaryDisposal>true</ns0:SanitaryDisposal></ns0:Features><ns0:Icon IconAltText=\"Male and Female, or Unisex (Accessible)\"><ns0:IconURL>https://toiletmap.gov.au/images/icons/mfa.png</ns0:IconURL></ns0:Icon></ns0:ToiletDetails>'"
            ]
          },
          "metadata": {
            "tags": []
          },
          "execution_count": 5
        }
      ]
    },
    {
      "cell_type": "code",
      "metadata": {
        "id": "vilxbljgJ_3J",
        "colab_type": "code",
        "colab": {}
      },
      "source": [
        "# import numpy for handy list operations\n",
        "import numpy as np \n",
        "# take a list and return unique values\n",
        "def unique(a_list): \n",
        "    x = np.array(a_list) \n",
        "    print(np.unique(x))"
      ],
      "execution_count": 6,
      "outputs": []
    },
    {
      "cell_type": "code",
      "metadata": {
        "id": "LIJNdk1JJ_0D",
        "colab_type": "code",
        "colab": {
          "base_uri": "https://localhost:8080/",
          "height": 729
        },
        "outputId": "29415c2d-1833-42a8-ac36-13477e27a23f"
      },
      "source": [
        "unique([elem.tag for elem in root.iter()])"
      ],
      "execution_count": 7,
      "outputs": [
        {
          "output_type": "stream",
          "text": [
            "['{http://toiletmap.gov.au/}AccessLimited'\n",
            " '{http://toiletmap.gov.au/}AccessNote'\n",
            " '{http://toiletmap.gov.au/}AccessibilityDetails'\n",
            " '{http://toiletmap.gov.au/}AccessibleFemale'\n",
            " '{http://toiletmap.gov.au/}AccessibleMale'\n",
            " '{http://toiletmap.gov.au/}AccessibleNote'\n",
            " '{http://toiletmap.gov.au/}AccessibleParkingNote'\n",
            " '{http://toiletmap.gov.au/}AccessibleUnisex'\n",
            " '{http://toiletmap.gov.au/}Address1'\n",
            " '{http://toiletmap.gov.au/}AddressNote'\n",
            " '{http://toiletmap.gov.au/}AdultChange'\n",
            " '{http://toiletmap.gov.au/}Ambulant'\n",
            " '{http://toiletmap.gov.au/}BabyChange'\n",
            " '{http://toiletmap.gov.au/}ChangingPlaces'\n",
            " '{http://toiletmap.gov.au/}DrinkingWater'\n",
            " '{http://toiletmap.gov.au/}DumpPoint'\n",
            " '{http://toiletmap.gov.au/}FacilityType'\n",
            " '{http://toiletmap.gov.au/}Features' '{http://toiletmap.gov.au/}Female'\n",
            " '{http://toiletmap.gov.au/}GeneralDetails'\n",
            " '{http://toiletmap.gov.au/}Icon' '{http://toiletmap.gov.au/}IconURL'\n",
            " '{http://toiletmap.gov.au/}IsOpen'\n",
            " '{http://toiletmap.gov.au/}KeyRequired'\n",
            " '{http://toiletmap.gov.au/}LHTransfer' '{http://toiletmap.gov.au/}MLAK'\n",
            " '{http://toiletmap.gov.au/}Male' '{http://toiletmap.gov.au/}Name'\n",
            " '{http://toiletmap.gov.au/}Notes'\n",
            " '{http://toiletmap.gov.au/}OpeningHours'\n",
            " '{http://toiletmap.gov.au/}OpeningHoursNote'\n",
            " '{http://toiletmap.gov.au/}OpeningHoursSchedule'\n",
            " '{http://toiletmap.gov.au/}Parking'\n",
            " '{http://toiletmap.gov.au/}ParkingAccessible'\n",
            " '{http://toiletmap.gov.au/}ParkingNote'\n",
            " '{http://toiletmap.gov.au/}PaymentRequired'\n",
            " '{http://toiletmap.gov.au/}Postcode'\n",
            " '{http://toiletmap.gov.au/}RHTransfer'\n",
            " '{http://toiletmap.gov.au/}SanitaryDisposal'\n",
            " '{http://toiletmap.gov.au/}SharpsDisposal'\n",
            " '{http://toiletmap.gov.au/}Showers' '{http://toiletmap.gov.au/}State'\n",
            " '{http://toiletmap.gov.au/}ToiletDetails'\n",
            " '{http://toiletmap.gov.au/}ToiletMapExport'\n",
            " '{http://toiletmap.gov.au/}ToiletType' '{http://toiletmap.gov.au/}Town'\n",
            " '{http://toiletmap.gov.au/}Unisex']\n"
          ],
          "name": "stdout"
        }
      ]
    },
    {
      "cell_type": "code",
      "metadata": {
        "id": "dTLVDh_cJ_w6",
        "colab_type": "code",
        "colab": {}
      },
      "source": [
        "count = 0\n",
        "position_of_note = 0\n",
        "length_of_note = 0\n",
        "for toilet in root.findall('{http://toiletmap.gov.au/}ToiletDetails'):\n",
        "  try:\n",
        "    access_note = toilet.find('{http://toiletmap.gov.au/}AccessNote').text\n",
        "    if len(access_note) > length_of_note:\n",
        "      length_of_note = len(access_note)\n",
        "      position_of_note = count\n",
        "      print(access_note)\n",
        "    count += 1\n",
        "  except:\n",
        "    count += 1"
      ],
      "execution_count": 8,
      "outputs": []
    },
    {
      "cell_type": "code",
      "metadata": {
        "id": "4Ade_QnRvmkv",
        "colab_type": "code",
        "colab": {}
      },
      "source": [
        "count = 0\n",
        "position_of_note = 0\n",
        "length_of_note = 0\n",
        "for toilet in root.iter('{http://toiletmap.gov.au/}ToiletDetails'):\n",
        "  try:\n",
        "    access_note = toilet.find('{http://toiletmap.gov.au/}AccessNote').text\n",
        "    if len(access_note) > length_of_note:\n",
        "      length_of_note = len(access_note)\n",
        "      position_of_note = count\n",
        "      print(access_note)\n",
        "    count += 1\n",
        "  except:\n",
        "    count += 1"
      ],
      "execution_count": 9,
      "outputs": []
    },
    {
      "cell_type": "code",
      "metadata": {
        "id": "jrR9l59Zv3BQ",
        "colab_type": "code",
        "colab": {}
      },
      "source": [
        "count = 0\n",
        "position_of_note = 0\n",
        "length_of_note = 0\n",
        "for toilet in root.iter('{http://toiletmap.gov.au/}ToiletDetails'):\n",
        "  try:\n",
        "    access_note = toilet.find('{http://toiletmap.gov.au/}AccessNote').text\n",
        "    if len(access_note) > length_of_note:\n",
        "      length_of_note = len(access_note)\n",
        "      position_of_note = count\n",
        "      print(access_note)\n",
        "    count += 1\n",
        "  except:\n",
        "    count += 1"
      ],
      "execution_count": 10,
      "outputs": []
    },
    {
      "cell_type": "code",
      "metadata": {
        "id": "T7xO8WzdJ_uB",
        "colab_type": "code",
        "colab": {}
      },
      "source": [
        "#print('The longest Access Note is that of {}, {}. The length of note is {} characters. The note says: \\n\"{}\"'.format(root[position_of_note].find('{http://toiletmap.gov.au/}Address1').text, root[position_of_note].find('{http://toiletmap.gov.au/}Town').text, length_of_note, root[position_of_note].find('{http://toiletmap.gov.au/}GeneralDetails').find('{http://toiletmap.gov.au/}AccessNote').text)"
      ],
      "execution_count": 11,
      "outputs": []
    },
    {
      "cell_type": "code",
      "metadata": {
        "id": "WydzXqYmt8OE",
        "colab_type": "code",
        "colab": {}
      },
      "source": [
        "# print(root[position_of_note].find('{http://toiletmap.gov.au/}AccessNote').text)"
      ],
      "execution_count": 12,
      "outputs": []
    },
    {
      "cell_type": "code",
      "metadata": {
        "id": "pZ0667RAuHKa",
        "colab_type": "code",
        "colab": {
          "base_uri": "https://localhost:8080/",
          "height": 34
        },
        "outputId": "983298c5-14d4-41c2-9e9b-48136deff02e"
      },
      "source": [
        "print(position_of_note)"
      ],
      "execution_count": 13,
      "outputs": [
        {
          "output_type": "stream",
          "text": [
            "0\n"
          ],
          "name": "stdout"
        }
      ]
    },
    {
      "cell_type": "code",
      "metadata": {
        "id": "DsjphEt3v1P0",
        "colab_type": "code",
        "colab": {
          "base_uri": "https://localhost:8080/",
          "height": 34
        },
        "outputId": "9860a1a9-52ed-4336-bb09-c7e19c4a5f9b"
      },
      "source": [
        "count = 0\n",
        "for toilet in root.findall('{http://toiletmap.gov.au/}AccessNote'):\n",
        "  count += 1\n",
        "print(count)"
      ],
      "execution_count": 14,
      "outputs": [
        {
          "output_type": "stream",
          "text": [
            "0\n"
          ],
          "name": "stdout"
        }
      ]
    },
    {
      "cell_type": "code",
      "metadata": {
        "id": "hc4jgrOhwlQj",
        "colab_type": "code",
        "colab": {}
      },
      "source": [
        "#count = 0\n",
        "#for toilet in root.findall('{http://toiletmap.gov.au/}ToiletDetails'):\n",
        "#  try:\n",
        "#    print(toilet.[findall('{http://toiletmap.gov.au/}AccessNote')].text)\n",
        "#    count += 1\n",
        "#  except:\n",
        "#    count += 1\n",
        "#print(count)"
      ],
      "execution_count": 15,
      "outputs": []
    },
    {
      "cell_type": "code",
      "metadata": {
        "id": "dQOf8GSn0QDV",
        "colab_type": "code",
        "colab": {
          "base_uri": "https://localhost:8080/",
          "height": 69
        },
        "outputId": "d22ca8da-06c1-49cd-821b-bb239614943f"
      },
      "source": [
        "toilet_count = 0\n",
        "access_count = 0\n",
        "no_access_count = 0\n",
        "note = ''\n",
        "for toilet in root.findall('{http://toiletmap.gov.au/}ToiletDetails'):\n",
        "  toilet_count += 1\n",
        "  detail = toilet.find('{http://toiletmap.gov.au/}GeneralDetails')\n",
        "  try:\n",
        "    note = detail.find('{http://toiletmap.gov.au/}AccessNote').text\n",
        "    if len(note) != 0:\n",
        "      access_count += 1\n",
        "      note = ''\n",
        "  except:\n",
        "    no_access_count += 1\n",
        "\n",
        "print('Toilet count: {}\\nAccess note count: {}\\nToilets without access notes: {}'.format(toilet_count, access_count, no_access_count))"
      ],
      "execution_count": 16,
      "outputs": [
        {
          "output_type": "stream",
          "text": [
            "Toilet count: 18410\n",
            "Access note count: 1506\n",
            "Toilets without access notes: 16904\n"
          ],
          "name": "stdout"
        }
      ]
    },
    {
      "cell_type": "code",
      "metadata": {
        "id": "6UBppsnt2J4s",
        "colab_type": "code",
        "colab": {}
      },
      "source": [
        "count = 0\n",
        "position_of_note = 0\n",
        "length_of_note = 0\n",
        "for toilet in root.iter('{http://toiletmap.gov.au/}ToiletDetails'):\n",
        "  details = toilet.find('{http://toiletmap.gov.au/}GeneralDetails')\n",
        "  try:\n",
        "    access_note = details.find('{http://toiletmap.gov.au/}AccessNote').text\n",
        "    if len(access_note) > length_of_note:\n",
        "      length_of_note = len(access_note)\n",
        "      position_of_note = count\n",
        "      #print(access_note)\n",
        "    count += 1\n",
        "  except:\n",
        "    count += 1"
      ],
      "execution_count": 17,
      "outputs": []
    },
    {
      "cell_type": "code",
      "metadata": {
        "id": "aOeis0kU8Jtg",
        "colab_type": "code",
        "colab": {
          "base_uri": "https://localhost:8080/",
          "height": 124
        },
        "outputId": "3487b215-089e-45ce-bb05-a602d5c87b42"
      },
      "source": [
        "longest_toilet = root[position_of_note]\n",
        "location_of_longest_toilet = '{}, {}'.format(longest_toilet.find('{http://toiletmap.gov.au/}Address1').text, longest_toilet.find('{http://toiletmap.gov.au/}Town').text)\n",
        "longest_note = longest_toilet.find('{http://toiletmap.gov.au/}GeneralDetails').find('{http://toiletmap.gov.au/}AccessNote').text\n",
        "print(location_of_longest_toilet)\n",
        "print(longest_note)\n",
        "print(position_of_note)\n",
        "print(count)\n",
        "print(length_of_note)"
      ],
      "execution_count": 18,
      "outputs": [
        {
          "output_type": "stream",
          "text": [
            "203 Peats Ferry Road, Hornsby\n",
            "Two accessible toilets available, one with baby change, the other with an adult change table and hoist. Ask pool attendant for assistance if hoist is needed, both toilets located near children's pool.\n",
            "16356\n",
            "18410\n",
            "200\n"
          ],
          "name": "stdout"
        }
      ]
    },
    {
      "cell_type": "code",
      "metadata": {
        "id": "-3uKxxHQ7QFV",
        "colab_type": "code",
        "colab": {
          "base_uri": "https://localhost:8080/",
          "height": 72
        },
        "outputId": "84fcdfec-7620-4fe6-8bdd-ccd0a7359330"
      },
      "source": [
        "print('The longest Access Note is that of {}. The length of note is {} characters. The note says: \\n\"{}\"'.format(location_of_longest_toilet, length_of_note, longest_note))"
      ],
      "execution_count": 19,
      "outputs": [
        {
          "output_type": "stream",
          "text": [
            "The longest Access Note is that of 203 Peats Ferry Road, Hornsby. The length of note is 200 characters. The note says: \n",
            "\"Two accessible toilets available, one with baby change, the other with an adult change table and hoist. Ask pool attendant for assistance if hoist is needed, both toilets located near children's pool.\"\n"
          ],
          "name": "stdout"
        }
      ]
    }
  ]
}