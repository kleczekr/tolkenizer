{
  "nbformat": 4,
  "nbformat_minor": 0,
  "metadata": {
    "colab": {
      "name": "wordy_trials_1.ipynb",
      "provenance": [],
      "authorship_tag": "ABX9TyP4PA580uX5Wl/drqL9pog2",
      "include_colab_link": true
    },
    "kernelspec": {
      "name": "python3",
      "display_name": "Python 3"
    }
  },
  "cells": [
    {
      "cell_type": "markdown",
      "metadata": {
        "id": "view-in-github",
        "colab_type": "text"
      },
      "source": [
        "<a href=\"https://colab.research.google.com/github/kleczekr/tolkenizer/blob/master/wordy_trials_1.ipynb\" target=\"_parent\"><img src=\"https://colab.research.google.com/assets/colab-badge.svg\" alt=\"Open In Colab\"/></a>"
      ]
    },
    {
      "cell_type": "code",
      "metadata": {
        "id": "MA7ZIXGxRo5v",
        "colab_type": "code",
        "colab": {}
      },
      "source": [
        "import spacy"
      ],
      "execution_count": 1,
      "outputs": []
    },
    {
      "cell_type": "code",
      "metadata": {
        "id": "vTxL_TC8RvyT",
        "colab_type": "code",
        "colab": {}
      },
      "source": [
        "nlp = spacy.load('en_core_web_sm')\n",
        "doc = nlp('Modern yurts may be permanently built on a wooden platform; they may use modern materials such as steam-bent wooden framing or metal framing, canvas or tarpaulin, Plexiglas dome, wire rope, or radiant insulation. ')"
      ],
      "execution_count": 2,
      "outputs": []
    },
    {
      "cell_type": "code",
      "metadata": {
        "id": "4y9CeCaVSBHv",
        "colab_type": "code",
        "colab": {
          "base_uri": "https://localhost:8080/",
          "height": 766
        },
        "outputId": "a604198d-64e7-4564-92ae-aedb27e29ec7"
      },
      "source": [
        "print('token\\t\\tlemma\\t\\tPOS\\t\\ttag\\t\\tdependency\\t\\tshape\\t\\tis it alpha\\t\\tis it stop')\n",
        "for token in doc:\n",
        "    print(f'{token.text}\\t\\t{token.lemma_}\\t\\t{token.pos_}\\t\\t{token.tag_}\\t\\t{token.dep_}\\t\\t\\\n",
        "    {token.shape_}\\t\\t{token.is_alpha}\\t\\t{token.is_stop}')"
      ],
      "execution_count": 4,
      "outputs": [
        {
          "output_type": "stream",
          "text": [
            "token\t\tlemma\t\tPOS\t\ttag\t\tdependency\t\tshape\t\tis it alpha\t\tis it stop\n",
            "Modern\t\tmodern\t\tADJ\t\tJJ\t\tamod\t\t    Xxxxx\t\tTrue\t\tFalse\n",
            "yurts\t\tyurt\t\tNOUN\t\tNNS\t\tnsubjpass\t\t    xxxx\t\tTrue\t\tFalse\n",
            "may\t\tmay\t\tVERB\t\tMD\t\taux\t\t    xxx\t\tTrue\t\tTrue\n",
            "be\t\tbe\t\tAUX\t\tVB\t\tauxpass\t\t    xx\t\tTrue\t\tTrue\n",
            "permanently\t\tpermanently\t\tADV\t\tRB\t\tadvmod\t\t    xxxx\t\tTrue\t\tFalse\n",
            "built\t\tbuild\t\tVERB\t\tVBN\t\tccomp\t\t    xxxx\t\tTrue\t\tFalse\n",
            "on\t\ton\t\tADP\t\tIN\t\tprep\t\t    xx\t\tTrue\t\tTrue\n",
            "a\t\ta\t\tDET\t\tDT\t\tdet\t\t    x\t\tTrue\t\tTrue\n",
            "wooden\t\twooden\t\tADJ\t\tJJ\t\tamod\t\t    xxxx\t\tTrue\t\tFalse\n",
            "platform\t\tplatform\t\tNOUN\t\tNN\t\tpobj\t\t    xxxx\t\tTrue\t\tFalse\n",
            ";\t\t;\t\tPUNCT\t\t:\t\tpunct\t\t    ;\t\tFalse\t\tFalse\n",
            "they\t\t-PRON-\t\tPRON\t\tPRP\t\tnsubj\t\t    xxxx\t\tTrue\t\tTrue\n",
            "may\t\tmay\t\tVERB\t\tMD\t\taux\t\t    xxx\t\tTrue\t\tTrue\n",
            "use\t\tuse\t\tVERB\t\tVB\t\tROOT\t\t    xxx\t\tTrue\t\tFalse\n",
            "modern\t\tmodern\t\tADJ\t\tJJ\t\tamod\t\t    xxxx\t\tTrue\t\tFalse\n",
            "materials\t\tmaterial\t\tNOUN\t\tNNS\t\tdobj\t\t    xxxx\t\tTrue\t\tFalse\n",
            "such\t\tsuch\t\tADJ\t\tJJ\t\tamod\t\t    xxxx\t\tTrue\t\tTrue\n",
            "as\t\tas\t\tSCONJ\t\tIN\t\tprep\t\t    xx\t\tTrue\t\tTrue\n",
            "steam\t\tsteam\t\tNOUN\t\tNN\t\tnpadvmod\t\t    xxxx\t\tTrue\t\tFalse\n",
            "-\t\t-\t\tPUNCT\t\tHYPH\t\tpunct\t\t    -\t\tFalse\t\tFalse\n",
            "bent\t\tbent\t\tADJ\t\tJJ\t\tamod\t\t    xxxx\t\tTrue\t\tFalse\n",
            "wooden\t\twooden\t\tADJ\t\tJJ\t\tamod\t\t    xxxx\t\tTrue\t\tFalse\n",
            "framing\t\tframing\t\tNOUN\t\tNN\t\tpobj\t\t    xxxx\t\tTrue\t\tFalse\n",
            "or\t\tor\t\tCCONJ\t\tCC\t\tcc\t\t    xx\t\tTrue\t\tTrue\n",
            "metal\t\tmetal\t\tNOUN\t\tNN\t\tconj\t\t    xxxx\t\tTrue\t\tFalse\n",
            "framing\t\tframing\t\tNOUN\t\tNN\t\tconj\t\t    xxxx\t\tTrue\t\tFalse\n",
            ",\t\t,\t\tPUNCT\t\t,\t\tpunct\t\t    ,\t\tFalse\t\tFalse\n",
            "canvas\t\tcanvas\t\tNOUN\t\tNN\t\tconj\t\t    xxxx\t\tTrue\t\tFalse\n",
            "or\t\tor\t\tCCONJ\t\tCC\t\tcc\t\t    xx\t\tTrue\t\tTrue\n",
            "tarpaulin\t\ttarpaulin\t\tNOUN\t\tNN\t\tconj\t\t    xxxx\t\tTrue\t\tFalse\n",
            ",\t\t,\t\tPUNCT\t\t,\t\tpunct\t\t    ,\t\tFalse\t\tFalse\n",
            "Plexiglas\t\tPlexiglas\t\tPROPN\t\tNNP\t\tcompound\t\t    Xxxxx\t\tTrue\t\tFalse\n",
            "dome\t\tdome\t\tVERB\t\tVBP\t\tROOT\t\t    xxxx\t\tTrue\t\tFalse\n",
            ",\t\t,\t\tPUNCT\t\t,\t\tpunct\t\t    ,\t\tFalse\t\tFalse\n",
            "wire\t\twire\t\tNOUN\t\tNN\t\tcompound\t\t    xxxx\t\tTrue\t\tFalse\n",
            "rope\t\trope\t\tNOUN\t\tNN\t\tconj\t\t    xxxx\t\tTrue\t\tFalse\n",
            ",\t\t,\t\tPUNCT\t\t,\t\tpunct\t\t    ,\t\tFalse\t\tFalse\n",
            "or\t\tor\t\tCCONJ\t\tCC\t\tcc\t\t    xx\t\tTrue\t\tTrue\n",
            "radiant\t\tradiant\t\tADJ\t\tJJ\t\tamod\t\t    xxxx\t\tTrue\t\tFalse\n",
            "insulation\t\tinsulation\t\tNOUN\t\tNN\t\tconj\t\t    xxxx\t\tTrue\t\tFalse\n",
            ".\t\t.\t\tPUNCT\t\t.\t\tpunct\t\t    .\t\tFalse\t\tFalse\n"
          ],
          "name": "stdout"
        }
      ]
    },
    {
      "cell_type": "code",
      "metadata": {
        "id": "ZtUEbv5tT8ag",
        "colab_type": "code",
        "colab": {}
      },
      "source": [
        "from tabulate import tabulate"
      ],
      "execution_count": 10,
      "outputs": []
    },
    {
      "cell_type": "code",
      "metadata": {
        "id": "3jbtJLpeUeZq",
        "colab_type": "code",
        "colab": {}
      },
      "source": [
        "headers = ['token', 'lemma', 'POS', 'tag', 'dependency', 'shape', 'is it alpha', 'is it stop']\n",
        "list_of_rows = [[token.text, token.lemma_, token.pos_, token.tag_, token.dep_, token.shape_, token.is_alpha, token.is_stop] for token in doc]"
      ],
      "execution_count": 11,
      "outputs": []
    },
    {
      "cell_type": "code",
      "metadata": {
        "id": "M8nRc49hVOV3",
        "colab_type": "code",
        "colab": {
          "base_uri": "https://localhost:8080/",
          "height": 729
        },
        "outputId": "69961d1f-843d-4384-fa60-bc9548313031"
      },
      "source": [
        "list_of_rows"
      ],
      "execution_count": 12,
      "outputs": [
        {
          "output_type": "execute_result",
          "data": {
            "text/plain": [
              "[['Modern', 'modern', 'ADJ', 'JJ', 'amod', 'Xxxxx', True, False],\n",
              " ['yurts', 'yurt', 'NOUN', 'NNS', 'nsubjpass', 'xxxx', True, False],\n",
              " ['may', 'may', 'VERB', 'MD', 'aux', 'xxx', True, True],\n",
              " ['be', 'be', 'AUX', 'VB', 'auxpass', 'xx', True, True],\n",
              " ['permanently', 'permanently', 'ADV', 'RB', 'advmod', 'xxxx', True, False],\n",
              " ['built', 'build', 'VERB', 'VBN', 'ccomp', 'xxxx', True, False],\n",
              " ['on', 'on', 'ADP', 'IN', 'prep', 'xx', True, True],\n",
              " ['a', 'a', 'DET', 'DT', 'det', 'x', True, True],\n",
              " ['wooden', 'wooden', 'ADJ', 'JJ', 'amod', 'xxxx', True, False],\n",
              " ['platform', 'platform', 'NOUN', 'NN', 'pobj', 'xxxx', True, False],\n",
              " [';', ';', 'PUNCT', ':', 'punct', ';', False, False],\n",
              " ['they', '-PRON-', 'PRON', 'PRP', 'nsubj', 'xxxx', True, True],\n",
              " ['may', 'may', 'VERB', 'MD', 'aux', 'xxx', True, True],\n",
              " ['use', 'use', 'VERB', 'VB', 'ROOT', 'xxx', True, False],\n",
              " ['modern', 'modern', 'ADJ', 'JJ', 'amod', 'xxxx', True, False],\n",
              " ['materials', 'material', 'NOUN', 'NNS', 'dobj', 'xxxx', True, False],\n",
              " ['such', 'such', 'ADJ', 'JJ', 'amod', 'xxxx', True, True],\n",
              " ['as', 'as', 'SCONJ', 'IN', 'prep', 'xx', True, True],\n",
              " ['steam', 'steam', 'NOUN', 'NN', 'npadvmod', 'xxxx', True, False],\n",
              " ['-', '-', 'PUNCT', 'HYPH', 'punct', '-', False, False],\n",
              " ['bent', 'bent', 'ADJ', 'JJ', 'amod', 'xxxx', True, False],\n",
              " ['wooden', 'wooden', 'ADJ', 'JJ', 'amod', 'xxxx', True, False],\n",
              " ['framing', 'framing', 'NOUN', 'NN', 'pobj', 'xxxx', True, False],\n",
              " ['or', 'or', 'CCONJ', 'CC', 'cc', 'xx', True, True],\n",
              " ['metal', 'metal', 'NOUN', 'NN', 'conj', 'xxxx', True, False],\n",
              " ['framing', 'framing', 'NOUN', 'NN', 'conj', 'xxxx', True, False],\n",
              " [',', ',', 'PUNCT', ',', 'punct', ',', False, False],\n",
              " ['canvas', 'canvas', 'NOUN', 'NN', 'conj', 'xxxx', True, False],\n",
              " ['or', 'or', 'CCONJ', 'CC', 'cc', 'xx', True, True],\n",
              " ['tarpaulin', 'tarpaulin', 'NOUN', 'NN', 'conj', 'xxxx', True, False],\n",
              " [',', ',', 'PUNCT', ',', 'punct', ',', False, False],\n",
              " ['Plexiglas', 'Plexiglas', 'PROPN', 'NNP', 'compound', 'Xxxxx', True, False],\n",
              " ['dome', 'dome', 'VERB', 'VBP', 'ROOT', 'xxxx', True, False],\n",
              " [',', ',', 'PUNCT', ',', 'punct', ',', False, False],\n",
              " ['wire', 'wire', 'NOUN', 'NN', 'compound', 'xxxx', True, False],\n",
              " ['rope', 'rope', 'NOUN', 'NN', 'conj', 'xxxx', True, False],\n",
              " [',', ',', 'PUNCT', ',', 'punct', ',', False, False],\n",
              " ['or', 'or', 'CCONJ', 'CC', 'cc', 'xx', True, True],\n",
              " ['radiant', 'radiant', 'ADJ', 'JJ', 'amod', 'xxxx', True, False],\n",
              " ['insulation', 'insulation', 'NOUN', 'NN', 'conj', 'xxxx', True, False],\n",
              " ['.', '.', 'PUNCT', '.', 'punct', '.', False, False]]"
            ]
          },
          "metadata": {
            "tags": []
          },
          "execution_count": 12
        }
      ]
    },
    {
      "cell_type": "code",
      "metadata": {
        "id": "bKnmli1CVQMu",
        "colab_type": "code",
        "colab": {
          "base_uri": "https://localhost:8080/",
          "height": 764
        },
        "outputId": "b4cb59ca-5012-44b6-ef5a-faa38477fbc3"
      },
      "source": [
        "print(tabulate(list_of_rows, headers))"
      ],
      "execution_count": 13,
      "outputs": [
        {
          "output_type": "stream",
          "text": [
            "token        lemma        POS    tag    dependency    shape    is it alpha    is it stop\n",
            "-----------  -----------  -----  -----  ------------  -------  -------------  ------------\n",
            "Modern       modern       ADJ    JJ     amod          Xxxxx    True           False\n",
            "yurts        yurt         NOUN   NNS    nsubjpass     xxxx     True           False\n",
            "may          may          VERB   MD     aux           xxx      True           True\n",
            "be           be           AUX    VB     auxpass       xx       True           True\n",
            "permanently  permanently  ADV    RB     advmod        xxxx     True           False\n",
            "built        build        VERB   VBN    ccomp         xxxx     True           False\n",
            "on           on           ADP    IN     prep          xx       True           True\n",
            "a            a            DET    DT     det           x        True           True\n",
            "wooden       wooden       ADJ    JJ     amod          xxxx     True           False\n",
            "platform     platform     NOUN   NN     pobj          xxxx     True           False\n",
            ";            ;            PUNCT  :      punct         ;        False          False\n",
            "they         -PRON-       PRON   PRP    nsubj         xxxx     True           True\n",
            "may          may          VERB   MD     aux           xxx      True           True\n",
            "use          use          VERB   VB     ROOT          xxx      True           False\n",
            "modern       modern       ADJ    JJ     amod          xxxx     True           False\n",
            "materials    material     NOUN   NNS    dobj          xxxx     True           False\n",
            "such         such         ADJ    JJ     amod          xxxx     True           True\n",
            "as           as           SCONJ  IN     prep          xx       True           True\n",
            "steam        steam        NOUN   NN     npadvmod      xxxx     True           False\n",
            "-            -            PUNCT  HYPH   punct         -        False          False\n",
            "bent         bent         ADJ    JJ     amod          xxxx     True           False\n",
            "wooden       wooden       ADJ    JJ     amod          xxxx     True           False\n",
            "framing      framing      NOUN   NN     pobj          xxxx     True           False\n",
            "or           or           CCONJ  CC     cc            xx       True           True\n",
            "metal        metal        NOUN   NN     conj          xxxx     True           False\n",
            "framing      framing      NOUN   NN     conj          xxxx     True           False\n",
            ",            ,            PUNCT  ,      punct         ,        False          False\n",
            "canvas       canvas       NOUN   NN     conj          xxxx     True           False\n",
            "or           or           CCONJ  CC     cc            xx       True           True\n",
            "tarpaulin    tarpaulin    NOUN   NN     conj          xxxx     True           False\n",
            ",            ,            PUNCT  ,      punct         ,        False          False\n",
            "Plexiglas    Plexiglas    PROPN  NNP    compound      Xxxxx    True           False\n",
            "dome         dome         VERB   VBP    ROOT          xxxx     True           False\n",
            ",            ,            PUNCT  ,      punct         ,        False          False\n",
            "wire         wire         NOUN   NN     compound      xxxx     True           False\n",
            "rope         rope         NOUN   NN     conj          xxxx     True           False\n",
            ",            ,            PUNCT  ,      punct         ,        False          False\n",
            "or           or           CCONJ  CC     cc            xx       True           True\n",
            "radiant      radiant      ADJ    JJ     amod          xxxx     True           False\n",
            "insulation   insulation   NOUN   NN     conj          xxxx     True           False\n",
            ".            .            PUNCT  .      punct         .        False          False\n"
          ],
          "name": "stdout"
        }
      ]
    },
    {
      "cell_type": "code",
      "metadata": {
        "id": "zgsAszipVdoM",
        "colab_type": "code",
        "colab": {
          "base_uri": "https://localhost:8080/",
          "height": 764
        },
        "outputId": "bd515e8d-e80f-4a8c-f45d-7477e39af8c4"
      },
      "source": [
        "print(tabulate(list_of_rows, headers, tablefmt='github'))"
      ],
      "execution_count": 14,
      "outputs": [
        {
          "output_type": "stream",
          "text": [
            "| token       | lemma       | POS   | tag   | dependency   | shape   | is it alpha   | is it stop   |\n",
            "|-------------|-------------|-------|-------|--------------|---------|---------------|--------------|\n",
            "| Modern      | modern      | ADJ   | JJ    | amod         | Xxxxx   | True          | False        |\n",
            "| yurts       | yurt        | NOUN  | NNS   | nsubjpass    | xxxx    | True          | False        |\n",
            "| may         | may         | VERB  | MD    | aux          | xxx     | True          | True         |\n",
            "| be          | be          | AUX   | VB    | auxpass      | xx      | True          | True         |\n",
            "| permanently | permanently | ADV   | RB    | advmod       | xxxx    | True          | False        |\n",
            "| built       | build       | VERB  | VBN   | ccomp        | xxxx    | True          | False        |\n",
            "| on          | on          | ADP   | IN    | prep         | xx      | True          | True         |\n",
            "| a           | a           | DET   | DT    | det          | x       | True          | True         |\n",
            "| wooden      | wooden      | ADJ   | JJ    | amod         | xxxx    | True          | False        |\n",
            "| platform    | platform    | NOUN  | NN    | pobj         | xxxx    | True          | False        |\n",
            "| ;           | ;           | PUNCT | :     | punct        | ;       | False         | False        |\n",
            "| they        | -PRON-      | PRON  | PRP   | nsubj        | xxxx    | True          | True         |\n",
            "| may         | may         | VERB  | MD    | aux          | xxx     | True          | True         |\n",
            "| use         | use         | VERB  | VB    | ROOT         | xxx     | True          | False        |\n",
            "| modern      | modern      | ADJ   | JJ    | amod         | xxxx    | True          | False        |\n",
            "| materials   | material    | NOUN  | NNS   | dobj         | xxxx    | True          | False        |\n",
            "| such        | such        | ADJ   | JJ    | amod         | xxxx    | True          | True         |\n",
            "| as          | as          | SCONJ | IN    | prep         | xx      | True          | True         |\n",
            "| steam       | steam       | NOUN  | NN    | npadvmod     | xxxx    | True          | False        |\n",
            "| -           | -           | PUNCT | HYPH  | punct        | -       | False         | False        |\n",
            "| bent        | bent        | ADJ   | JJ    | amod         | xxxx    | True          | False        |\n",
            "| wooden      | wooden      | ADJ   | JJ    | amod         | xxxx    | True          | False        |\n",
            "| framing     | framing     | NOUN  | NN    | pobj         | xxxx    | True          | False        |\n",
            "| or          | or          | CCONJ | CC    | cc           | xx      | True          | True         |\n",
            "| metal       | metal       | NOUN  | NN    | conj         | xxxx    | True          | False        |\n",
            "| framing     | framing     | NOUN  | NN    | conj         | xxxx    | True          | False        |\n",
            "| ,           | ,           | PUNCT | ,     | punct        | ,       | False         | False        |\n",
            "| canvas      | canvas      | NOUN  | NN    | conj         | xxxx    | True          | False        |\n",
            "| or          | or          | CCONJ | CC    | cc           | xx      | True          | True         |\n",
            "| tarpaulin   | tarpaulin   | NOUN  | NN    | conj         | xxxx    | True          | False        |\n",
            "| ,           | ,           | PUNCT | ,     | punct        | ,       | False         | False        |\n",
            "| Plexiglas   | Plexiglas   | PROPN | NNP   | compound     | Xxxxx   | True          | False        |\n",
            "| dome        | dome        | VERB  | VBP   | ROOT         | xxxx    | True          | False        |\n",
            "| ,           | ,           | PUNCT | ,     | punct        | ,       | False         | False        |\n",
            "| wire        | wire        | NOUN  | NN    | compound     | xxxx    | True          | False        |\n",
            "| rope        | rope        | NOUN  | NN    | conj         | xxxx    | True          | False        |\n",
            "| ,           | ,           | PUNCT | ,     | punct        | ,       | False         | False        |\n",
            "| or          | or          | CCONJ | CC    | cc           | xx      | True          | True         |\n",
            "| radiant     | radiant     | ADJ   | JJ    | amod         | xxxx    | True          | False        |\n",
            "| insulation  | insulation  | NOUN  | NN    | conj         | xxxx    | True          | False        |\n",
            "| .           | .           | PUNCT | .     | punct        | .       | False         | False        |\n"
          ],
          "name": "stdout"
        }
      ]
    },
    {
      "cell_type": "code",
      "metadata": {
        "id": "-Hhq4UsSVp43",
        "colab_type": "code",
        "colab": {
          "base_uri": "https://localhost:8080/",
          "height": 1000
        },
        "outputId": "ab51a94f-8089-4d34-e15f-b3a8dcfefb4e"
      },
      "source": [
        "print(tabulate(list_of_rows, headers, tablefmt='grid'))"
      ],
      "execution_count": 15,
      "outputs": [
        {
          "output_type": "stream",
          "text": [
            "+-------------+-------------+-------+-------+--------------+---------+---------------+--------------+\n",
            "| token       | lemma       | POS   | tag   | dependency   | shape   | is it alpha   | is it stop   |\n",
            "+=============+=============+=======+=======+==============+=========+===============+==============+\n",
            "| Modern      | modern      | ADJ   | JJ    | amod         | Xxxxx   | True          | False        |\n",
            "+-------------+-------------+-------+-------+--------------+---------+---------------+--------------+\n",
            "| yurts       | yurt        | NOUN  | NNS   | nsubjpass    | xxxx    | True          | False        |\n",
            "+-------------+-------------+-------+-------+--------------+---------+---------------+--------------+\n",
            "| may         | may         | VERB  | MD    | aux          | xxx     | True          | True         |\n",
            "+-------------+-------------+-------+-------+--------------+---------+---------------+--------------+\n",
            "| be          | be          | AUX   | VB    | auxpass      | xx      | True          | True         |\n",
            "+-------------+-------------+-------+-------+--------------+---------+---------------+--------------+\n",
            "| permanently | permanently | ADV   | RB    | advmod       | xxxx    | True          | False        |\n",
            "+-------------+-------------+-------+-------+--------------+---------+---------------+--------------+\n",
            "| built       | build       | VERB  | VBN   | ccomp        | xxxx    | True          | False        |\n",
            "+-------------+-------------+-------+-------+--------------+---------+---------------+--------------+\n",
            "| on          | on          | ADP   | IN    | prep         | xx      | True          | True         |\n",
            "+-------------+-------------+-------+-------+--------------+---------+---------------+--------------+\n",
            "| a           | a           | DET   | DT    | det          | x       | True          | True         |\n",
            "+-------------+-------------+-------+-------+--------------+---------+---------------+--------------+\n",
            "| wooden      | wooden      | ADJ   | JJ    | amod         | xxxx    | True          | False        |\n",
            "+-------------+-------------+-------+-------+--------------+---------+---------------+--------------+\n",
            "| platform    | platform    | NOUN  | NN    | pobj         | xxxx    | True          | False        |\n",
            "+-------------+-------------+-------+-------+--------------+---------+---------------+--------------+\n",
            "| ;           | ;           | PUNCT | :     | punct        | ;       | False         | False        |\n",
            "+-------------+-------------+-------+-------+--------------+---------+---------------+--------------+\n",
            "| they        | -PRON-      | PRON  | PRP   | nsubj        | xxxx    | True          | True         |\n",
            "+-------------+-------------+-------+-------+--------------+---------+---------------+--------------+\n",
            "| may         | may         | VERB  | MD    | aux          | xxx     | True          | True         |\n",
            "+-------------+-------------+-------+-------+--------------+---------+---------------+--------------+\n",
            "| use         | use         | VERB  | VB    | ROOT         | xxx     | True          | False        |\n",
            "+-------------+-------------+-------+-------+--------------+---------+---------------+--------------+\n",
            "| modern      | modern      | ADJ   | JJ    | amod         | xxxx    | True          | False        |\n",
            "+-------------+-------------+-------+-------+--------------+---------+---------------+--------------+\n",
            "| materials   | material    | NOUN  | NNS   | dobj         | xxxx    | True          | False        |\n",
            "+-------------+-------------+-------+-------+--------------+---------+---------------+--------------+\n",
            "| such        | such        | ADJ   | JJ    | amod         | xxxx    | True          | True         |\n",
            "+-------------+-------------+-------+-------+--------------+---------+---------------+--------------+\n",
            "| as          | as          | SCONJ | IN    | prep         | xx      | True          | True         |\n",
            "+-------------+-------------+-------+-------+--------------+---------+---------------+--------------+\n",
            "| steam       | steam       | NOUN  | NN    | npadvmod     | xxxx    | True          | False        |\n",
            "+-------------+-------------+-------+-------+--------------+---------+---------------+--------------+\n",
            "| -           | -           | PUNCT | HYPH  | punct        | -       | False         | False        |\n",
            "+-------------+-------------+-------+-------+--------------+---------+---------------+--------------+\n",
            "| bent        | bent        | ADJ   | JJ    | amod         | xxxx    | True          | False        |\n",
            "+-------------+-------------+-------+-------+--------------+---------+---------------+--------------+\n",
            "| wooden      | wooden      | ADJ   | JJ    | amod         | xxxx    | True          | False        |\n",
            "+-------------+-------------+-------+-------+--------------+---------+---------------+--------------+\n",
            "| framing     | framing     | NOUN  | NN    | pobj         | xxxx    | True          | False        |\n",
            "+-------------+-------------+-------+-------+--------------+---------+---------------+--------------+\n",
            "| or          | or          | CCONJ | CC    | cc           | xx      | True          | True         |\n",
            "+-------------+-------------+-------+-------+--------------+---------+---------------+--------------+\n",
            "| metal       | metal       | NOUN  | NN    | conj         | xxxx    | True          | False        |\n",
            "+-------------+-------------+-------+-------+--------------+---------+---------------+--------------+\n",
            "| framing     | framing     | NOUN  | NN    | conj         | xxxx    | True          | False        |\n",
            "+-------------+-------------+-------+-------+--------------+---------+---------------+--------------+\n",
            "| ,           | ,           | PUNCT | ,     | punct        | ,       | False         | False        |\n",
            "+-------------+-------------+-------+-------+--------------+---------+---------------+--------------+\n",
            "| canvas      | canvas      | NOUN  | NN    | conj         | xxxx    | True          | False        |\n",
            "+-------------+-------------+-------+-------+--------------+---------+---------------+--------------+\n",
            "| or          | or          | CCONJ | CC    | cc           | xx      | True          | True         |\n",
            "+-------------+-------------+-------+-------+--------------+---------+---------------+--------------+\n",
            "| tarpaulin   | tarpaulin   | NOUN  | NN    | conj         | xxxx    | True          | False        |\n",
            "+-------------+-------------+-------+-------+--------------+---------+---------------+--------------+\n",
            "| ,           | ,           | PUNCT | ,     | punct        | ,       | False         | False        |\n",
            "+-------------+-------------+-------+-------+--------------+---------+---------------+--------------+\n",
            "| Plexiglas   | Plexiglas   | PROPN | NNP   | compound     | Xxxxx   | True          | False        |\n",
            "+-------------+-------------+-------+-------+--------------+---------+---------------+--------------+\n",
            "| dome        | dome        | VERB  | VBP   | ROOT         | xxxx    | True          | False        |\n",
            "+-------------+-------------+-------+-------+--------------+---------+---------------+--------------+\n",
            "| ,           | ,           | PUNCT | ,     | punct        | ,       | False         | False        |\n",
            "+-------------+-------------+-------+-------+--------------+---------+---------------+--------------+\n",
            "| wire        | wire        | NOUN  | NN    | compound     | xxxx    | True          | False        |\n",
            "+-------------+-------------+-------+-------+--------------+---------+---------------+--------------+\n",
            "| rope        | rope        | NOUN  | NN    | conj         | xxxx    | True          | False        |\n",
            "+-------------+-------------+-------+-------+--------------+---------+---------------+--------------+\n",
            "| ,           | ,           | PUNCT | ,     | punct        | ,       | False         | False        |\n",
            "+-------------+-------------+-------+-------+--------------+---------+---------------+--------------+\n",
            "| or          | or          | CCONJ | CC    | cc           | xx      | True          | True         |\n",
            "+-------------+-------------+-------+-------+--------------+---------+---------------+--------------+\n",
            "| radiant     | radiant     | ADJ   | JJ    | amod         | xxxx    | True          | False        |\n",
            "+-------------+-------------+-------+-------+--------------+---------+---------------+--------------+\n",
            "| insulation  | insulation  | NOUN  | NN    | conj         | xxxx    | True          | False        |\n",
            "+-------------+-------------+-------+-------+--------------+---------+---------------+--------------+\n",
            "| .           | .           | PUNCT | .     | punct        | .       | False         | False        |\n",
            "+-------------+-------------+-------+-------+--------------+---------+---------------+--------------+\n"
          ],
          "name": "stdout"
        }
      ]
    },
    {
      "cell_type": "code",
      "metadata": {
        "id": "aqxbX5JfZm_m",
        "colab_type": "code",
        "colab": {
          "base_uri": "https://localhost:8080/",
          "height": 593
        },
        "outputId": "02cd4800-63dd-4b0c-b5eb-8d45611bd0d8"
      },
      "source": [
        "!python -m spacy download de_core_news_sm\n",
        "import de_core_news_sm\n",
        "nlp_de = de_core_news_sm.load()\n",
        "# nlp_de = spacy.load('de_core_news_sm')\n",
        "doc_de = nlp_de('Hirtennomaden in der Eurasischen Steppe ohne Jurten aus Filz sind schwer vorstellbar, daher wird angenommen, dass die Entwicklung von Filz und Jurten mit Filzeindeckung mit der Entstehung dieser pastoralen Gesellschaften ursächlich zusammen hängen.')"
      ],
      "execution_count": 21,
      "outputs": [
        {
          "output_type": "stream",
          "text": [
            "Collecting de_core_news_sm==2.2.5\n",
            "\u001b[?25l  Downloading https://github.com/explosion/spacy-models/releases/download/de_core_news_sm-2.2.5/de_core_news_sm-2.2.5.tar.gz (14.9MB)\n",
            "\u001b[K     |████████████████████████████████| 14.9MB 3.7MB/s \n",
            "\u001b[?25hRequirement already satisfied: spacy>=2.2.2 in /usr/local/lib/python3.6/dist-packages (from de_core_news_sm==2.2.5) (2.2.4)\n",
            "Requirement already satisfied: murmurhash<1.1.0,>=0.28.0 in /usr/local/lib/python3.6/dist-packages (from spacy>=2.2.2->de_core_news_sm==2.2.5) (1.0.2)\n",
            "Requirement already satisfied: srsly<1.1.0,>=1.0.2 in /usr/local/lib/python3.6/dist-packages (from spacy>=2.2.2->de_core_news_sm==2.2.5) (1.0.2)\n",
            "Requirement already satisfied: tqdm<5.0.0,>=4.38.0 in /usr/local/lib/python3.6/dist-packages (from spacy>=2.2.2->de_core_news_sm==2.2.5) (4.41.1)\n",
            "Requirement already satisfied: thinc==7.4.0 in /usr/local/lib/python3.6/dist-packages (from spacy>=2.2.2->de_core_news_sm==2.2.5) (7.4.0)\n",
            "Requirement already satisfied: preshed<3.1.0,>=3.0.2 in /usr/local/lib/python3.6/dist-packages (from spacy>=2.2.2->de_core_news_sm==2.2.5) (3.0.2)\n",
            "Requirement already satisfied: wasabi<1.1.0,>=0.4.0 in /usr/local/lib/python3.6/dist-packages (from spacy>=2.2.2->de_core_news_sm==2.2.5) (0.7.1)\n",
            "Requirement already satisfied: setuptools in /usr/local/lib/python3.6/dist-packages (from spacy>=2.2.2->de_core_news_sm==2.2.5) (49.6.0)\n",
            "Requirement already satisfied: numpy>=1.15.0 in /usr/local/lib/python3.6/dist-packages (from spacy>=2.2.2->de_core_news_sm==2.2.5) (1.18.5)\n",
            "Requirement already satisfied: requests<3.0.0,>=2.13.0 in /usr/local/lib/python3.6/dist-packages (from spacy>=2.2.2->de_core_news_sm==2.2.5) (2.23.0)\n",
            "Requirement already satisfied: cymem<2.1.0,>=2.0.2 in /usr/local/lib/python3.6/dist-packages (from spacy>=2.2.2->de_core_news_sm==2.2.5) (2.0.3)\n",
            "Requirement already satisfied: plac<1.2.0,>=0.9.6 in /usr/local/lib/python3.6/dist-packages (from spacy>=2.2.2->de_core_news_sm==2.2.5) (1.1.3)\n",
            "Requirement already satisfied: catalogue<1.1.0,>=0.0.7 in /usr/local/lib/python3.6/dist-packages (from spacy>=2.2.2->de_core_news_sm==2.2.5) (1.0.0)\n",
            "Requirement already satisfied: blis<0.5.0,>=0.4.0 in /usr/local/lib/python3.6/dist-packages (from spacy>=2.2.2->de_core_news_sm==2.2.5) (0.4.1)\n",
            "Requirement already satisfied: chardet<4,>=3.0.2 in /usr/local/lib/python3.6/dist-packages (from requests<3.0.0,>=2.13.0->spacy>=2.2.2->de_core_news_sm==2.2.5) (3.0.4)\n",
            "Requirement already satisfied: certifi>=2017.4.17 in /usr/local/lib/python3.6/dist-packages (from requests<3.0.0,>=2.13.0->spacy>=2.2.2->de_core_news_sm==2.2.5) (2020.6.20)\n",
            "Requirement already satisfied: urllib3!=1.25.0,!=1.25.1,<1.26,>=1.21.1 in /usr/local/lib/python3.6/dist-packages (from requests<3.0.0,>=2.13.0->spacy>=2.2.2->de_core_news_sm==2.2.5) (1.24.3)\n",
            "Requirement already satisfied: idna<3,>=2.5 in /usr/local/lib/python3.6/dist-packages (from requests<3.0.0,>=2.13.0->spacy>=2.2.2->de_core_news_sm==2.2.5) (2.10)\n",
            "Requirement already satisfied: importlib-metadata>=0.20; python_version < \"3.8\" in /usr/local/lib/python3.6/dist-packages (from catalogue<1.1.0,>=0.0.7->spacy>=2.2.2->de_core_news_sm==2.2.5) (1.7.0)\n",
            "Requirement already satisfied: zipp>=0.5 in /usr/local/lib/python3.6/dist-packages (from importlib-metadata>=0.20; python_version < \"3.8\"->catalogue<1.1.0,>=0.0.7->spacy>=2.2.2->de_core_news_sm==2.2.5) (3.1.0)\n",
            "Building wheels for collected packages: de-core-news-sm\n",
            "  Building wheel for de-core-news-sm (setup.py) ... \u001b[?25l\u001b[?25hdone\n",
            "  Created wheel for de-core-news-sm: filename=de_core_news_sm-2.2.5-cp36-none-any.whl size=14907056 sha256=874ead6d58328ce8dfc2e79bd0e87602196e46af2e432e2ef82460c6239cc11b\n",
            "  Stored in directory: /tmp/pip-ephem-wheel-cache-k8hhrb68/wheels/ba/3f/ed/d4aa8e45e7191b7f32db4bfad565e7da1edbf05c916ca7a1ca\n",
            "Successfully built de-core-news-sm\n",
            "Installing collected packages: de-core-news-sm\n",
            "Successfully installed de-core-news-sm-2.2.5\n",
            "\u001b[38;5;2m✔ Download and installation successful\u001b[0m\n",
            "You can now load the model via spacy.load('de_core_news_sm')\n"
          ],
          "name": "stdout"
        }
      ]
    },
    {
      "cell_type": "code",
      "metadata": {
        "id": "1_zIr8j2Z0zq",
        "colab_type": "code",
        "colab": {}
      },
      "source": [
        "headers = ['token', 'lemma', 'POS', 'tag', 'dependency', 'shape', 'is it alpha', 'is it stop']\n",
        "list_of_rows_de = [[token.text, token.lemma_, token.pos_, token.tag_, token.dep_, token.shape_, token.is_alpha, token.is_stop] for token in doc_de]"
      ],
      "execution_count": 24,
      "outputs": []
    },
    {
      "cell_type": "code",
      "metadata": {
        "id": "alP7lPF4bBHG",
        "colab_type": "code",
        "colab": {
          "base_uri": "https://localhost:8080/",
          "height": 1000
        },
        "outputId": "0760c423-ba82-47b1-d170-3c5f7eee2686"
      },
      "source": [
        "print(tabulate(list_of_rows_de, headers, tablefmt='grid'))"
      ],
      "execution_count": 25,
      "outputs": [
        {
          "output_type": "stream",
          "text": [
            "+----------------+----------------+-------+-------+--------------+---------+---------------+--------------+\n",
            "| token          | lemma          | POS   | tag   | dependency   | shape   | is it alpha   | is it stop   |\n",
            "+================+================+=======+=======+==============+=========+===============+==============+\n",
            "| Hirtennomaden  | Hirtennomaden  | NOUN  | NN    | sb           | Xxxxx   | True          | False        |\n",
            "+----------------+----------------+-------+-------+--------------+---------+---------------+--------------+\n",
            "| in             | in             | ADP   | APPR  | mnr          | xx      | True          | True         |\n",
            "+----------------+----------------+-------+-------+--------------+---------+---------------+--------------+\n",
            "| der            | der            | DET   | ART   | nk           | xxx     | True          | True         |\n",
            "+----------------+----------------+-------+-------+--------------+---------+---------------+--------------+\n",
            "| Eurasischen    | Eurasische     | ADJ   | ADJA  | nk           | Xxxxx   | True          | False        |\n",
            "+----------------+----------------+-------+-------+--------------+---------+---------------+--------------+\n",
            "| Steppe         | Steppe         | NOUN  | NN    | nk           | Xxxxx   | True          | False        |\n",
            "+----------------+----------------+-------+-------+--------------+---------+---------------+--------------+\n",
            "| ohne           | ohne           | ADP   | APPR  | mnr          | xxxx    | True          | True         |\n",
            "+----------------+----------------+-------+-------+--------------+---------+---------------+--------------+\n",
            "| Jurten         | Jurten         | NOUN  | NN    | nk           | Xxxxx   | True          | False        |\n",
            "+----------------+----------------+-------+-------+--------------+---------+---------------+--------------+\n",
            "| aus            | aus            | ADP   | APPR  | mnr          | xxx     | True          | True         |\n",
            "+----------------+----------------+-------+-------+--------------+---------+---------------+--------------+\n",
            "| Filz           | Filz           | NOUN  | NN    | nk           | Xxxx    | True          | False        |\n",
            "+----------------+----------------+-------+-------+--------------+---------+---------------+--------------+\n",
            "| sind           | sein           | AUX   | VAFIN | ROOT         | xxxx    | True          | True         |\n",
            "+----------------+----------------+-------+-------+--------------+---------+---------------+--------------+\n",
            "| schwer         | schwer         | ADJ   | ADJD  | mo           | xxxx    | True          | False        |\n",
            "+----------------+----------------+-------+-------+--------------+---------+---------------+--------------+\n",
            "| vorstellbar    | vorstellbar    | ADJ   | ADJD  | pd           | xxxx    | True          | False        |\n",
            "+----------------+----------------+-------+-------+--------------+---------+---------------+--------------+\n",
            "| ,              | ,              | PUNCT | $,    | punct        | ,       | False         | False        |\n",
            "+----------------+----------------+-------+-------+--------------+---------+---------------+--------------+\n",
            "| daher          | daher          | ADV   | PROAV | mo           | xxxx    | True          | True         |\n",
            "+----------------+----------------+-------+-------+--------------+---------+---------------+--------------+\n",
            "| wird           | werden         | AUX   | VAFIN | cj           | xxxx    | True          | True         |\n",
            "+----------------+----------------+-------+-------+--------------+---------+---------------+--------------+\n",
            "| angenommen     | annehmen       | VERB  | VVPP  | oc           | xxxx    | True          | False        |\n",
            "+----------------+----------------+-------+-------+--------------+---------+---------------+--------------+\n",
            "| ,              | ,              | PUNCT | $,    | punct        | ,       | False         | False        |\n",
            "+----------------+----------------+-------+-------+--------------+---------+---------------+--------------+\n",
            "| dass           | dass           | SCONJ | KOUS  | cp           | xxxx    | True          | True         |\n",
            "+----------------+----------------+-------+-------+--------------+---------+---------------+--------------+\n",
            "| die            | der            | DET   | ART   | nk           | xxx     | True          | True         |\n",
            "+----------------+----------------+-------+-------+--------------+---------+---------------+--------------+\n",
            "| Entwicklung    | Entwicklung    | NOUN  | NN    | sb           | Xxxxx   | True          | False        |\n",
            "+----------------+----------------+-------+-------+--------------+---------+---------------+--------------+\n",
            "| von            | von            | ADP   | APPR  | pg           | xxx     | True          | True         |\n",
            "+----------------+----------------+-------+-------+--------------+---------+---------------+--------------+\n",
            "| Filz           | Filz           | NOUN  | NN    | nk           | Xxxx    | True          | False        |\n",
            "+----------------+----------------+-------+-------+--------------+---------+---------------+--------------+\n",
            "| und            | und            | CCONJ | KON   | cd           | xxx     | True          | True         |\n",
            "+----------------+----------------+-------+-------+--------------+---------+---------------+--------------+\n",
            "| Jurten         | Jurten         | NOUN  | NN    | cj           | Xxxxx   | True          | False        |\n",
            "+----------------+----------------+-------+-------+--------------+---------+---------------+--------------+\n",
            "| mit            | mit            | ADP   | APPR  | mnr          | xxx     | True          | True         |\n",
            "+----------------+----------------+-------+-------+--------------+---------+---------------+--------------+\n",
            "| Filzeindeckung | Filzeindeckung | NOUN  | NN    | nk           | Xxxxx   | True          | False        |\n",
            "+----------------+----------------+-------+-------+--------------+---------+---------------+--------------+\n",
            "| mit            | mit            | ADP   | APPR  | mnr          | xxx     | True          | True         |\n",
            "+----------------+----------------+-------+-------+--------------+---------+---------------+--------------+\n",
            "| der            | der            | DET   | ART   | nk           | xxx     | True          | True         |\n",
            "+----------------+----------------+-------+-------+--------------+---------+---------------+--------------+\n",
            "| Entstehung     | Entstehung     | NOUN  | NN    | nk           | Xxxxx   | True          | False        |\n",
            "+----------------+----------------+-------+-------+--------------+---------+---------------+--------------+\n",
            "| dieser         | dies           | DET   | PDAT  | nk           | xxxx    | True          | True         |\n",
            "+----------------+----------------+-------+-------+--------------+---------+---------------+--------------+\n",
            "| pastoralen     | pastoral       | ADJ   | ADJA  | nk           | xxxx    | True          | False        |\n",
            "+----------------+----------------+-------+-------+--------------+---------+---------------+--------------+\n",
            "| Gesellschaften | Gesellschaft   | NOUN  | NN    | ag           | Xxxxx   | True          | False        |\n",
            "+----------------+----------------+-------+-------+--------------+---------+---------------+--------------+\n",
            "| ursächlich     | ursächlich     | ADJ   | ADJD  | mo           | xxxx    | True          | False        |\n",
            "+----------------+----------------+-------+-------+--------------+---------+---------------+--------------+\n",
            "| zusammen       | zusammen       | ADV   | ADV   | mo           | xxxx    | True          | True         |\n",
            "+----------------+----------------+-------+-------+--------------+---------+---------------+--------------+\n",
            "| hängen         | hängen         | VERB  | VVINF | sb           | xxxx    | True          | False        |\n",
            "+----------------+----------------+-------+-------+--------------+---------+---------------+--------------+\n",
            "| .              | .              | PUNCT | $.    | punct        | .       | False         | False        |\n",
            "+----------------+----------------+-------+-------+--------------+---------+---------------+--------------+\n"
          ],
          "name": "stdout"
        }
      ]
    },
    {
      "cell_type": "code",
      "metadata": {
        "id": "Lng7VYrvclKW",
        "colab_type": "code",
        "colab": {
          "base_uri": "https://localhost:8080/",
          "height": 34
        },
        "outputId": "7ac63544-4f87-4200-960d-6dbd722d7daf"
      },
      "source": [
        "stops_en = [token.is_stop for token in doc]\n",
        "stop_proportion_en = sum(stops_en) / len(doc)\n",
        "print(f'Proportion of stopwords in the English sentence: {stop_proportion_en:.{4}}')"
      ],
      "execution_count": 41,
      "outputs": [
        {
          "output_type": "stream",
          "text": [
            "Proportion of stopwords in the English sentence: 0.2683\n"
          ],
          "name": "stdout"
        }
      ]
    },
    {
      "cell_type": "code",
      "metadata": {
        "id": "9wrY1JuhdCl7",
        "colab_type": "code",
        "colab": {
          "base_uri": "https://localhost:8080/",
          "height": 34
        },
        "outputId": "fbaf14ef-158b-4117-a3c7-40a5915f65d0"
      },
      "source": [
        "stops_de = [token.is_stop for token in doc_de]\n",
        "stop_proportion_de = sum(stops_de) / len(doc_de)\n",
        "print(f'Proportion of stopwords in the German sentence: {stop_proportion_de:.{4}}')"
      ],
      "execution_count": 42,
      "outputs": [
        {
          "output_type": "stream",
          "text": [
            "Proportion of stopwords in the German sentence: 0.4444\n"
          ],
          "name": "stdout"
        }
      ]
    }
  ]
}