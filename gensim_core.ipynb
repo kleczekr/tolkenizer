{
  "nbformat": 4,
  "nbformat_minor": 0,
  "metadata": {
    "colab": {
      "name": "gensim_core.ipynb",
      "provenance": [],
      "authorship_tag": "ABX9TyM2M5nRu0rE9mkg3MA74oLq",
      "include_colab_link": true
    },
    "kernelspec": {
      "name": "python3",
      "display_name": "Python 3"
    }
  },
  "cells": [
    {
      "cell_type": "markdown",
      "metadata": {
        "id": "view-in-github",
        "colab_type": "text"
      },
      "source": [
        "<a href=\"https://colab.research.google.com/github/kleczekr/tolkenizer/blob/master/gensim_core.ipynb\" target=\"_parent\"><img src=\"https://colab.research.google.com/assets/colab-badge.svg\" alt=\"Open In Colab\"/></a>"
      ]
    },
    {
      "cell_type": "code",
      "metadata": {
        "id": "XEPOaXEO1NVl",
        "colab_type": "code",
        "colab": {}
      },
      "source": [
        "%matplotlib inline\n",
        "import pprint"
      ],
      "execution_count": 1,
      "outputs": []
    },
    {
      "cell_type": "code",
      "metadata": {
        "id": "sl6gfNgM1wWN",
        "colab_type": "code",
        "colab": {}
      },
      "source": [
        "# document: some text\n",
        "document = \"Human machine interface for lab abc computer applications\""
      ],
      "execution_count": 2,
      "outputs": []
    },
    {
      "cell_type": "code",
      "metadata": {
        "id": "NUQUFIls1RFL",
        "colab_type": "code",
        "colab": {}
      },
      "source": [
        "# corpus: a collection of documents\n",
        "text_corpus = [\n",
        "    \"Human machine interface for lab abc computer applications\",\n",
        "    \"A survey of user opinion of computer system response time\",\n",
        "    \"The EPS user interface management system\",\n",
        "    \"System and human system engineering testing of EPS\",\n",
        "    \"Relation of user perceived response time to error measurement\",\n",
        "    \"The generation of random binary unordered trees\",\n",
        "    \"The intersection graph of paths in trees\",\n",
        "    \"Graph minors IV Widths of trees and well quasi ordering\",\n",
        "    \"Graph minors A survey\",\n",
        "]"
      ],
      "execution_count": 3,
      "outputs": []
    },
    {
      "cell_type": "markdown",
      "metadata": {
        "id": "fOEeKsm65Ihw",
        "colab_type": "text"
      },
      "source": [
        "The cell below is basic preprocessing of the data. While the code is extremely straightforward, it is somewhat surprising that the code relies on typing stopwords or requires a loop to remove them, or to transform all characters to lowercase. The trouble is absolutely minimal; I seem to have recollection that this might be automated in NLTK, but not sure."
      ]
    },
    {
      "cell_type": "code",
      "metadata": {
        "id": "A7L1iFhv1sye",
        "colab_type": "code",
        "colab": {}
      },
      "source": [
        "# Create a set of frequent words\n",
        "stoplist = set('for a of the and to in'.split(' '))\n",
        "# Lowercase each document, split it by white space and filter out stopwords\n",
        "texts = [[word for word in document.lower().split() if word not in stoplist]\n",
        "         for document in text_corpus]"
      ],
      "execution_count": 4,
      "outputs": []
    },
    {
      "cell_type": "code",
      "metadata": {
        "id": "dcpDBRkm5HXF",
        "colab_type": "code",
        "colab": {
          "base_uri": "https://localhost:8080/",
          "height": 173
        },
        "outputId": "a3b8ca04-ca8b-483d-d9e9-813afee33806"
      },
      "source": [
        "# Count word frequencies\n",
        "from collections import defaultdict\n",
        "frequency = defaultdict(int)\n",
        "for text in texts:\n",
        "    for token in text:\n",
        "        frequency[token] += 1\n",
        "\n",
        "# Only keep words that appear more than once\n",
        "processed_corpus = [[token for token in text if frequency[token] > 1] for text in texts]\n",
        "pprint.pprint(processed_corpus)"
      ],
      "execution_count": 5,
      "outputs": [
        {
          "output_type": "stream",
          "text": [
            "[['human', 'interface', 'computer'],\n",
            " ['survey', 'user', 'computer', 'system', 'response', 'time'],\n",
            " ['eps', 'user', 'interface', 'system'],\n",
            " ['system', 'human', 'system', 'eps'],\n",
            " ['user', 'response', 'time'],\n",
            " ['trees'],\n",
            " ['graph', 'trees'],\n",
            " ['graph', 'minors', 'trees'],\n",
            " ['graph', 'minors', 'survey']]\n"
          ],
          "name": "stdout"
        }
      ]
    },
    {
      "cell_type": "code",
      "metadata": {
        "id": "RXxMjZ2m1sq3",
        "colab_type": "code",
        "colab": {
          "base_uri": "https://localhost:8080/",
          "height": 34
        },
        "outputId": "edb225a8-7ca9-4c40-8cdb-bd33733efc2f"
      },
      "source": [
        "from gensim import corpora\n",
        "\n",
        "dictionary = corpora.Dictionary(processed_corpus)\n",
        "print(dictionary)"
      ],
      "execution_count": 6,
      "outputs": [
        {
          "output_type": "stream",
          "text": [
            "Dictionary(12 unique tokens: ['computer', 'human', 'interface', 'response', 'survey']...)\n"
          ],
          "name": "stdout"
        }
      ]
    },
    {
      "cell_type": "code",
      "metadata": {
        "id": "zk9QMPim1sVJ",
        "colab_type": "code",
        "colab": {
          "base_uri": "https://localhost:8080/",
          "height": 225
        },
        "outputId": "61d80061-8828-4bc6-b03b-b9c6bf04c230"
      },
      "source": [
        "pprint.pprint(dictionary.token2id)"
      ],
      "execution_count": 7,
      "outputs": [
        {
          "output_type": "stream",
          "text": [
            "{'computer': 0,\n",
            " 'eps': 8,\n",
            " 'graph': 10,\n",
            " 'human': 1,\n",
            " 'interface': 2,\n",
            " 'minors': 11,\n",
            " 'response': 3,\n",
            " 'survey': 4,\n",
            " 'system': 5,\n",
            " 'time': 6,\n",
            " 'trees': 9,\n",
            " 'user': 7}\n"
          ],
          "name": "stdout"
        }
      ]
    },
    {
      "cell_type": "code",
      "metadata": {
        "id": "dFWH4yUY15W9",
        "colab_type": "code",
        "colab": {
          "base_uri": "https://localhost:8080/",
          "height": 34
        },
        "outputId": "43744bbc-ff81-493e-96b6-46b3c1951fc1"
      },
      "source": [
        "# vector: a mathematically convenient representation of a document\n",
        "new_doc = \"Human computer interaction\"\n",
        "new_vec = dictionary.doc2bow(new_doc.lower().split())\n",
        "print(new_vec)"
      ],
      "execution_count": 8,
      "outputs": [
        {
          "output_type": "stream",
          "text": [
            "[(0, 1), (1, 1)]\n"
          ],
          "name": "stdout"
        }
      ]
    },
    {
      "cell_type": "code",
      "metadata": {
        "id": "gy7LmO7915TI",
        "colab_type": "code",
        "colab": {
          "base_uri": "https://localhost:8080/",
          "height": 173
        },
        "outputId": "d7c56370-1520-4fcd-aa33-6ce98ecdb783"
      },
      "source": [
        "bow_corpus = [dictionary.doc2bow(text) for text in processed_corpus]\n",
        "pprint.pprint(bow_corpus)"
      ],
      "execution_count": 9,
      "outputs": [
        {
          "output_type": "stream",
          "text": [
            "[[(0, 1), (1, 1), (2, 1)],\n",
            " [(0, 1), (3, 1), (4, 1), (5, 1), (6, 1), (7, 1)],\n",
            " [(2, 1), (5, 1), (7, 1), (8, 1)],\n",
            " [(1, 1), (5, 2), (8, 1)],\n",
            " [(3, 1), (6, 1), (7, 1)],\n",
            " [(9, 1)],\n",
            " [(9, 1), (10, 1)],\n",
            " [(9, 1), (10, 1), (11, 1)],\n",
            " [(4, 1), (10, 1), (11, 1)]]\n"
          ],
          "name": "stdout"
        }
      ]
    },
    {
      "cell_type": "code",
      "metadata": {
        "id": "CXmsMYGO15QR",
        "colab_type": "code",
        "colab": {
          "base_uri": "https://localhost:8080/",
          "height": 34
        },
        "outputId": "8794fc5b-24d8-4a26-8656-dbd114296670"
      },
      "source": [
        "# model: an algorithm for transforming vectors from one representation to another\n",
        "\n",
        "from gensim import models\n",
        "\n",
        "# train the model\n",
        "tfidf = models.TfidfModel(bow_corpus)\n",
        "\n",
        "# transform the \"system minors\" string\n",
        "words = \"system minors\".lower().split()\n",
        "print(tfidf[dictionary.doc2bow(words)])"
      ],
      "execution_count": 10,
      "outputs": [
        {
          "output_type": "stream",
          "text": [
            "[(5, 0.5898341626740045), (11, 0.8075244024440723)]\n"
          ],
          "name": "stdout"
        }
      ]
    },
    {
      "cell_type": "markdown",
      "metadata": {
        "id": "exbKxRk6A07m",
        "colab_type": "text"
      },
      "source": [
        "The output of the model is a list of tuples. The first element of a tuple is the ID of the token, the second---the tf-idf weight (tf-df standing for 'term frequency-inverse document frequency). Here, the model tests the two words: 'system' and 'minors' against their weight in the corpus defined in the first cell. The word 'minors', occurring in the corpus twice, carries more weight than the word 'system', which occurred four times."
      ]
    },
    {
      "cell_type": "code",
      "metadata": {
        "id": "x8VXdwsl15M1",
        "colab_type": "code",
        "colab": {}
      },
      "source": [
        "from gensim import similarities\n",
        "\n",
        "index = similarities.SparseMatrixSimilarity(tfidf[bow_corpus], num_features=12)"
      ],
      "execution_count": 11,
      "outputs": []
    },
    {
      "cell_type": "code",
      "metadata": {
        "id": "bMSwAVPJ15Ic",
        "colab_type": "code",
        "colab": {
          "base_uri": "https://localhost:8080/",
          "height": 34
        },
        "outputId": "52fd92cf-c1ca-4445-b672-10e9ffde0d70"
      },
      "source": [
        "query_document = 'system engineering'.split()\n",
        "query_bow = dictionary.doc2bow(query_document)\n",
        "sims = index[tfidf[query_bow]]\n",
        "print(list(enumerate(sims)))"
      ],
      "execution_count": 12,
      "outputs": [
        {
          "output_type": "stream",
          "text": [
            "[(0, 0.0), (1, 0.32448703), (2, 0.41707572), (3, 0.7184812), (4, 0.0), (5, 0.0), (6, 0.0), (7, 0.0), (8, 0.0)]\n"
          ],
          "name": "stdout"
        }
      ]
    },
    {
      "cell_type": "code",
      "metadata": {
        "id": "Bagt6RDT14_2",
        "colab_type": "code",
        "colab": {
          "base_uri": "https://localhost:8080/",
          "height": 173
        },
        "outputId": "86b552ef-ebf6-4475-d5ea-42a6b748062a"
      },
      "source": [
        "for document_number, score in sorted(enumerate(sims), key=lambda x: x[1], reverse=True):\n",
        "    print(document_number, score)"
      ],
      "execution_count": 13,
      "outputs": [
        {
          "output_type": "stream",
          "text": [
            "3 0.7184812\n",
            "2 0.41707572\n",
            "1 0.32448703\n",
            "0 0.0\n",
            "4 0.0\n",
            "5 0.0\n",
            "6 0.0\n",
            "7 0.0\n",
            "8 0.0\n"
          ],
          "name": "stdout"
        }
      ]
    }
  ]
}