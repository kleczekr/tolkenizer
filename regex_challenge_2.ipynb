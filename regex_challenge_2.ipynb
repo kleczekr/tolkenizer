{
  "nbformat": 4,
  "nbformat_minor": 0,
  "metadata": {
    "colab": {
      "name": "regex_challenge_2.ipynb",
      "provenance": [],
      "authorship_tag": "ABX9TyO5qk07ic8bGk+pVJsnYscp",
      "include_colab_link": true
    },
    "kernelspec": {
      "name": "python3",
      "display_name": "Python 3"
    }
  },
  "cells": [
    {
      "cell_type": "markdown",
      "metadata": {
        "id": "view-in-github",
        "colab_type": "text"
      },
      "source": [
        "<a href=\"https://colab.research.google.com/github/kleczekr/tolkenizer/blob/master/regex_challenge_2.ipynb\" target=\"_parent\"><img src=\"https://colab.research.google.com/assets/colab-badge.svg\" alt=\"Open In Colab\"/></a>"
      ]
    },
    {
      "cell_type": "code",
      "metadata": {
        "id": "QXdxthyYL6jk",
        "colab_type": "code",
        "colab": {}
      },
      "source": [
        "import re\n",
        "import string"
      ],
      "execution_count": 19,
      "outputs": []
    },
    {
      "cell_type": "code",
      "metadata": {
        "id": "tNIYodqkL-gD",
        "colab_type": "code",
        "colab": {}
      },
      "source": [
        "vw = re.compile(r'[aeiouyAEIOU]')\n",
        "nvw = re.compile(r'[^aeiouyAEIOU]')\n",
        "slb = re.compile(r'[^aeiouyAEIOU]?[aeiouyAEIOU]+')"
      ],
      "execution_count": 10,
      "outputs": []
    },
    {
      "cell_type": "code",
      "metadata": {
        "id": "H8lfNGsgMJMu",
        "colab_type": "code",
        "colab": {}
      },
      "source": [
        "haikus_maybe = ['I pound my flat chest Seeming is not believing And return to hell',\n",
        "'No, legally it\\'s sexual assault. The rape charges were dismissed.',\n",
        "'It\\'s a little weird. I think \"kids these days\" are more needy in general.',\n",
        "'land on campus? plus would you know who the discord character would be',\n",
        "'Its too late. Deli is going to be fucking the nuclear throne.',\n",
        "'But has he learned how to dribble on the drive? That is the true question.',\n",
        "'Your honor, are you actually wearing any pants behind that desk?',\n",
        "'Most teams have some form of this either during games or after the games',\n",
        "'That is the \"class name\". Its literally called super novice, not novice.',\n",
        "'Is this your new shtick now? Following me around like a lost puppy...',\n",
        "'can i just say that about every one of my players that retires?',\n",
        "'He could have drawn the flaming dude with a beer in his hand. So lazy.']"
      ],
      "execution_count": 11,
      "outputs": []
    },
    {
      "cell_type": "code",
      "metadata": {
        "id": "dhEatkI4MLbE",
        "colab_type": "code",
        "colab": {}
      },
      "source": [
        "def haiku_findemizer(potential_find):\n",
        "  count = 0\n",
        "  for word in potential_find.split():\n",
        "    if (re.search('(h|H|b)e$', word) is None) and (word[-1] == 'e'):\n",
        "      syl_word = re.findall(slb, word[:-1])\n",
        "    else:\n",
        "      syl_word = re.findall(slb, word)\n",
        "    count += len(syl_word)\n",
        "  print(count)"
      ],
      "execution_count": 12,
      "outputs": []
    },
    {
      "cell_type": "code",
      "metadata": {
        "id": "f1_6-M7fMNze",
        "colab_type": "code",
        "colab": {
          "base_uri": "https://localhost:8080/",
          "height": 225
        },
        "outputId": "07247d8c-7175-465c-ccfc-3b81bdbcce89"
      },
      "source": [
        "for thing in haikus_maybe:\n",
        "  haiku_findemizer(thing)"
      ],
      "execution_count": 13,
      "outputs": [
        {
          "output_type": "stream",
          "text": [
            "17\n",
            "17\n",
            "17\n",
            "17\n",
            "17\n",
            "18\n",
            "17\n",
            "19\n",
            "22\n",
            "16\n",
            "18\n",
            "17\n"
          ],
          "name": "stdout"
        }
      ]
    },
    {
      "cell_type": "code",
      "metadata": {
        "id": "OoJ9sUL_MPsm",
        "colab_type": "code",
        "colab": {}
      },
      "source": [
        "haikus_missclassified = ['But has he learned how to dribble on the drive? That is the true question.', # 18-additional syllable in: learned\n",
        "'Most teams have some form of this either during games or after the games', # 19-additional syllable in: games, games\n",
        "'That is the \"class name\". Its literally called super novice, not novice.', # 22-additional syllable in: name\"., literally, called, novice,, novice.\n",
        "'Is this your new shtick now? Following me around like a lost puppy...', # 16-missing syllable in: me\n",
        "'can i just say that about every one of my players that retires?'] # 18-additional syllable in: every and retires; missing syllable in players"
      ],
      "execution_count": 14,
      "outputs": []
    },
    {
      "cell_type": "code",
      "metadata": {
        "id": "h1D1r3XQS0ZU",
        "colab_type": "code",
        "colab": {
          "base_uri": "https://localhost:8080/",
          "height": 34
        },
        "outputId": "17f983ee-cf64-4baf-b16b-092d92ba6595"
      },
      "source": [
        "print('That is the \"class name\". Its literally called super novice, not novice.'.split())"
      ],
      "execution_count": 15,
      "outputs": [
        {
          "output_type": "stream",
          "text": [
            "['That', 'is', 'the', '\"class', 'name\".', 'Its', 'literally', 'called', 'super', 'novice,', 'not', 'novice.']\n"
          ],
          "name": "stdout"
        }
      ]
    },
    {
      "cell_type": "code",
      "metadata": {
        "id": "CM55vJpFW9Z8",
        "colab_type": "code",
        "colab": {
          "base_uri": "https://localhost:8080/",
          "height": 34
        },
        "outputId": "f9209fa7-daac-4115-f981-efab40883156"
      },
      "source": [
        "print('can i just say that about every one of my players that retires?'.split())"
      ],
      "execution_count": 16,
      "outputs": [
        {
          "output_type": "stream",
          "text": [
            "['can', 'i', 'just', 'say', 'that', 'about', 'every', 'one', 'of', 'my', 'players', 'that', 'retires?']\n"
          ],
          "name": "stdout"
        }
      ]
    },
    {
      "cell_type": "code",
      "metadata": {
        "id": "jBQL90ZKc7u_",
        "colab_type": "code",
        "colab": {
          "base_uri": "https://localhost:8080/",
          "height": 243
        },
        "outputId": "6251f4f6-282a-4192-b224-1b0b8ddd307e"
      },
      "source": [
        "problem_sent = 'can i just say that about every one of my players that retires?'\n",
        "for word in problem_sent.split():\n",
        "    if (re.search('(h|H|b)e$', word) is None) and (word[-1] == 'e'):\n",
        "      syl_word = re.findall(slb, word[:-1])\n",
        "    else:\n",
        "      syl_word = re.findall(slb, word)\n",
        "    print(word, syl_word, len(syl_word))"
      ],
      "execution_count": 18,
      "outputs": [
        {
          "output_type": "stream",
          "text": [
            "can ['ca'] 1\n",
            "i ['i'] 1\n",
            "just ['ju'] 1\n",
            "say ['say'] 1\n",
            "that ['ha'] 1\n",
            "about ['a', 'bou'] 2\n",
            "every ['e', 've', 'ry'] 3\n",
            "one ['o'] 1\n",
            "of ['o'] 1\n",
            "my ['my'] 1\n",
            "players ['laye'] 1\n",
            "that ['ha'] 1\n",
            "retires? ['re', 'ti', 're'] 3\n"
          ],
          "name": "stdout"
        }
      ]
    },
    {
      "cell_type": "code",
      "metadata": {
        "id": "oo7gii30n3hd",
        "colab_type": "code",
        "colab": {
          "base_uri": "https://localhost:8080/",
          "height": 34
        },
        "outputId": "646a7edc-f4cf-4d91-be7b-e56c1fdbbb7a"
      },
      "source": [
        "print('That is the \"class name\". Its literally called super novice, not novice.'.translate(str.maketrans('', '', string.punctuation)).split())"
      ],
      "execution_count": 25,
      "outputs": [
        {
          "output_type": "stream",
          "text": [
            "['That', 'is', 'the', 'class', 'name', 'Its', 'literally', 'called', 'super', 'novice', 'not', 'novice']\n"
          ],
          "name": "stdout"
        }
      ]
    },
    {
      "cell_type": "code",
      "metadata": {
        "id": "kDHomNO1MfkW",
        "colab_type": "code",
        "colab": {}
      },
      "source": [
        "def haiku_findemizer_updated(potential_find):\n",
        "  count = 0\n",
        "  for word in potential_find.translate(str.maketrans('', '', string.punctuation)).split():\n",
        "\n",
        "    syl_len = 0\n",
        "\n",
        "    if ((re.search('(t|T)he$', word) is None) or (re.search('^\\we$', word) is None)) and (word[-1] == 'e'):\n",
        "      syl_word = re.findall(slb, word[:-1])\n",
        "    else:\n",
        "      syl_word = re.findall(slb, word)\n",
        "    \n",
        "    syl_len = len(syl_word)\n",
        "\n",
        "    if re.search('ed$', word) is not None:\n",
        "      syl_len += 1\n",
        "\n",
        "    if re.search('ayer', word) is not None:\n",
        "      syl_len += 1\n",
        "    \n",
        "    if re.search('eve', word) is not None:\n",
        "      syl_len -= 1\n",
        "\n",
        "    if re.search('ame', word) is not None:\n",
        "      syl_len -= 1\n",
        "\n",
        "    if re.search('ire', word) is not None:\n",
        "      syl_len -= 1\n",
        "\n",
        "    count += syl_len\n",
        "  print(count)"
      ],
      "execution_count": 28,
      "outputs": []
    },
    {
      "cell_type": "code",
      "metadata": {
        "id": "acZNQAe9nYtn",
        "colab_type": "code",
        "colab": {
          "base_uri": "https://localhost:8080/",
          "height": 225
        },
        "outputId": "4a70fa0c-f01e-4411-c252-c8ded350cc18"
      },
      "source": [
        "for thing in haikus_maybe:\n",
        "  haiku_findemizer_updated(thing)"
      ],
      "execution_count": 29,
      "outputs": [
        {
          "output_type": "stream",
          "text": [
            "17\n",
            "17\n",
            "17\n",
            "15\n",
            "13\n",
            "15\n",
            "17\n",
            "16\n",
            "18\n",
            "16\n",
            "17\n",
            "15\n"
          ],
          "name": "stdout"
        }
      ]
    }
  ]
}