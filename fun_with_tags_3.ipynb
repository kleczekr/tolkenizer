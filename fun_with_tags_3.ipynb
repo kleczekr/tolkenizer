{
  "nbformat": 4,
  "nbformat_minor": 0,
  "metadata": {
    "colab": {
      "name": "fun_with_tags_3.ipynb",
      "provenance": [],
      "authorship_tag": "ABX9TyMSUEAm5/HG7UpoYsYuKVLZ",
      "include_colab_link": true
    },
    "kernelspec": {
      "name": "python3",
      "display_name": "Python 3"
    }
  },
  "cells": [
    {
      "cell_type": "markdown",
      "metadata": {
        "id": "view-in-github",
        "colab_type": "text"
      },
      "source": [
        "<a href=\"https://colab.research.google.com/github/kleczekr/tolkenizer/blob/master/fun_with_tags_3.ipynb\" target=\"_parent\"><img src=\"https://colab.research.google.com/assets/colab-badge.svg\" alt=\"Open In Colab\"/></a>"
      ]
    },
    {
      "cell_type": "code",
      "metadata": {
        "id": "9DS1aFOcxBl3",
        "colab_type": "code",
        "colab": {}
      },
      "source": [
        "import xml.etree.ElementTree as ET"
      ],
      "execution_count": 1,
      "outputs": []
    },
    {
      "cell_type": "code",
      "metadata": {
        "id": "8OwNLYVUxDOO",
        "colab_type": "code",
        "colab": {
          "base_uri": "https://localhost:8080/",
          "height": 34
        },
        "outputId": "1071b146-eb12-4a9f-93ed-995833c8778f"
      },
      "source": [
        "# This cell is meant to accommodate the Google Colab way of dealing with reading \n",
        "# files from Google Drive; feel free to ignore it if you are running the notebook\n",
        "# on your local machine\n",
        "from google.colab import drive\n",
        "drive.mount('/content/drive')"
      ],
      "execution_count": 2,
      "outputs": [
        {
          "output_type": "stream",
          "text": [
            "Drive already mounted at /content/drive; to attempt to forcibly remount, call drive.mount(\"/content/drive\", force_remount=True).\n"
          ],
          "name": "stdout"
        }
      ]
    },
    {
      "cell_type": "code",
      "metadata": {
        "id": "Yagm682axFZz",
        "colab_type": "code",
        "colab": {}
      },
      "source": [
        "# import the data by reading from a file:\n",
        "tree = ET.parse('/content/drive/My Drive/elementTree/ToiletmapExport_200702_111356.xml')\n",
        "# the line below establishes the root of the document\n",
        "root = tree.getroot()"
      ],
      "execution_count": 3,
      "outputs": []
    },
    {
      "cell_type": "code",
      "metadata": {
        "id": "CMwNRqgZxKKw",
        "colab_type": "code",
        "colab": {
          "base_uri": "https://localhost:8080/",
          "height": 140
        },
        "outputId": "87b761e3-ca90-4e21-aadc-3910fedcdf31"
      },
      "source": [
        "ET.tostring(root[0], encoding='utf8').decode('utf8')"
      ],
      "execution_count": 4,
      "outputs": [
        {
          "output_type": "execute_result",
          "data": {
            "application/vnd.google.colaboratory.intrinsic+json": {
              "type": "string"
            },
            "text/plain": [
              "'<?xml version=\\'1.0\\' encoding=\\'utf8\\'?>\\n<ns0:ToiletDetails xmlns:ns0=\"http://toiletmap.gov.au/\" xmlns:xsi=\"http://www.w3.org/2001/XMLSchema-instance\" LastUpdateDate=\"2014-02-20Z\" Latitude=\"-31.921836\" Longitude=\"115.95020622\" Status=\"Verified\" ToiletURL=\"https://toiletmap.gov.au/toilet/1\" xsi:schemaLocation=\"https://toiletmap.gov.au/ file:./ToiletDetails-V_1_2.xsd\"><ns0:Name>Sandy Beach Reserve</ns0:Name><ns0:Address1>West Road</ns0:Address1><ns0:Town>Bassendean</ns0:Town><ns0:State>Western Australia</ns0:State><ns0:Postcode>6054</ns0:Postcode><ns0:GeneralDetails><ns0:Male>true</ns0:Male><ns0:Female>true</ns0:Female><ns0:DumpPoint>false</ns0:DumpPoint><ns0:FacilityType>Park or reserve</ns0:FacilityType><ns0:AccessLimited>false</ns0:AccessLimited><ns0:PaymentRequired>false</ns0:PaymentRequired><ns0:KeyRequired>false</ns0:KeyRequired><ns0:Parking>false</ns0:Parking></ns0:GeneralDetails><ns0:AccessibilityDetails><ns0:AccessibleMale>true</ns0:AccessibleMale><ns0:AccessibleFemale>true</ns0:AccessibleFemale><ns0:AccessibleUnisex>false</ns0:AccessibleUnisex><ns0:MLAK>false</ns0:MLAK><ns0:ParkingAccessible>false</ns0:ParkingAccessible><ns0:Ambulant>false</ns0:Ambulant><ns0:LHTransfer>false</ns0:LHTransfer><ns0:RHTransfer>false</ns0:RHTransfer><ns0:AdultChange>false</ns0:AdultChange><ns0:ChangingPlaces>false</ns0:ChangingPlaces></ns0:AccessibilityDetails><ns0:OpeningHours><ns0:IsOpen>AllHours</ns0:IsOpen></ns0:OpeningHours><ns0:Features><ns0:BabyChange>false</ns0:BabyChange><ns0:Showers>true</ns0:Showers><ns0:DrinkingWater>false</ns0:DrinkingWater><ns0:SharpsDisposal>true</ns0:SharpsDisposal><ns0:SanitaryDisposal>false</ns0:SanitaryDisposal></ns0:Features><ns0:Icon IconAltText=\"Male and Female, or Unisex (Accessible)\"><ns0:IconURL>https://toiletmap.gov.au/images/icons/mfa.png</ns0:IconURL></ns0:Icon></ns0:ToiletDetails>'"
            ]
          },
          "metadata": {
            "tags": []
          },
          "execution_count": 4
        }
      ]
    },
    {
      "cell_type": "code",
      "metadata": {
        "id": "C8vUEYxixKHe",
        "colab_type": "code",
        "colab": {}
      },
      "source": [
        "#for child in root:\n",
        "#    print(child.tag, child.attrib)"
      ],
      "execution_count": 5,
      "outputs": []
    },
    {
      "cell_type": "code",
      "metadata": {
        "id": "SF68Tz0XxKEB",
        "colab_type": "code",
        "colab": {}
      },
      "source": [
        "# import numpy for handy list operations\n",
        "import numpy as np \n",
        "# take a list and return unique values\n",
        "def unique(a_list): \n",
        "    x = np.array(a_list) \n",
        "    print(np.unique(x))"
      ],
      "execution_count": 6,
      "outputs": []
    },
    {
      "cell_type": "code",
      "metadata": {
        "id": "NCkDnO0zxJ-J",
        "colab_type": "code",
        "colab": {
          "base_uri": "https://localhost:8080/",
          "height": 729
        },
        "outputId": "2b5e67c8-a944-4db5-a242-69adea9e17c1"
      },
      "source": [
        "unique([elem.tag for elem in root.iter()])"
      ],
      "execution_count": 7,
      "outputs": [
        {
          "output_type": "stream",
          "text": [
            "['{http://toiletmap.gov.au/}AccessLimited'\n",
            " '{http://toiletmap.gov.au/}AccessNote'\n",
            " '{http://toiletmap.gov.au/}AccessibilityDetails'\n",
            " '{http://toiletmap.gov.au/}AccessibleFemale'\n",
            " '{http://toiletmap.gov.au/}AccessibleMale'\n",
            " '{http://toiletmap.gov.au/}AccessibleNote'\n",
            " '{http://toiletmap.gov.au/}AccessibleParkingNote'\n",
            " '{http://toiletmap.gov.au/}AccessibleUnisex'\n",
            " '{http://toiletmap.gov.au/}Address1'\n",
            " '{http://toiletmap.gov.au/}AddressNote'\n",
            " '{http://toiletmap.gov.au/}AdultChange'\n",
            " '{http://toiletmap.gov.au/}Ambulant'\n",
            " '{http://toiletmap.gov.au/}BabyChange'\n",
            " '{http://toiletmap.gov.au/}ChangingPlaces'\n",
            " '{http://toiletmap.gov.au/}DrinkingWater'\n",
            " '{http://toiletmap.gov.au/}DumpPoint'\n",
            " '{http://toiletmap.gov.au/}FacilityType'\n",
            " '{http://toiletmap.gov.au/}Features' '{http://toiletmap.gov.au/}Female'\n",
            " '{http://toiletmap.gov.au/}GeneralDetails'\n",
            " '{http://toiletmap.gov.au/}Icon' '{http://toiletmap.gov.au/}IconURL'\n",
            " '{http://toiletmap.gov.au/}IsOpen'\n",
            " '{http://toiletmap.gov.au/}KeyRequired'\n",
            " '{http://toiletmap.gov.au/}LHTransfer' '{http://toiletmap.gov.au/}MLAK'\n",
            " '{http://toiletmap.gov.au/}Male' '{http://toiletmap.gov.au/}Name'\n",
            " '{http://toiletmap.gov.au/}Notes'\n",
            " '{http://toiletmap.gov.au/}OpeningHours'\n",
            " '{http://toiletmap.gov.au/}OpeningHoursNote'\n",
            " '{http://toiletmap.gov.au/}OpeningHoursSchedule'\n",
            " '{http://toiletmap.gov.au/}Parking'\n",
            " '{http://toiletmap.gov.au/}ParkingAccessible'\n",
            " '{http://toiletmap.gov.au/}ParkingNote'\n",
            " '{http://toiletmap.gov.au/}PaymentRequired'\n",
            " '{http://toiletmap.gov.au/}Postcode'\n",
            " '{http://toiletmap.gov.au/}RHTransfer'\n",
            " '{http://toiletmap.gov.au/}SanitaryDisposal'\n",
            " '{http://toiletmap.gov.au/}SharpsDisposal'\n",
            " '{http://toiletmap.gov.au/}Showers' '{http://toiletmap.gov.au/}State'\n",
            " '{http://toiletmap.gov.au/}ToiletDetails'\n",
            " '{http://toiletmap.gov.au/}ToiletMapExport'\n",
            " '{http://toiletmap.gov.au/}ToiletType' '{http://toiletmap.gov.au/}Town'\n",
            " '{http://toiletmap.gov.au/}Unisex']\n"
          ],
          "name": "stdout"
        }
      ]
    },
    {
      "cell_type": "code",
      "metadata": {
        "id": "fTsZ3LCatEs6",
        "colab_type": "code",
        "colab": {
          "base_uri": "https://localhost:8080/",
          "height": 34
        },
        "outputId": "14c62198-c924-47a2-8f17-cf09e7cd79b6"
      },
      "source": [
        "# count the number of children\n",
        "print(len(root.getchildren()))"
      ],
      "execution_count": 8,
      "outputs": [
        {
          "output_type": "stream",
          "text": [
            "18410\n"
          ],
          "name": "stdout"
        }
      ]
    },
    {
      "cell_type": "code",
      "metadata": {
        "id": "jgsgw7xqtvhe",
        "colab_type": "code",
        "colab": {}
      },
      "source": [
        "import time"
      ],
      "execution_count": 9,
      "outputs": []
    },
    {
      "cell_type": "code",
      "metadata": {
        "id": "NA3iXMmOvSZq",
        "colab_type": "code",
        "colab": {
          "base_uri": "https://localhost:8080/",
          "height": 69
        },
        "outputId": "563f8bdc-5093-4c43-f085-3f2da619a819"
      },
      "source": [
        "# get starting time\n",
        "start = time.time()\n",
        "for toilet in root.iter('{http://toiletmap.gov.au/}ToiletDetails'):\n",
        "  if toilet[0].text == 'Sandy Beach Reserve':\n",
        "    print('Toilet in {}, {} is part of facility: {}.'.format(toilet[1].text, toilet[2].text, toilet[5][3].text))\n",
        "# get time taken to run the for loop code \n",
        "elapsed_time = (time.time() - start)\n",
        "# how long did it take the function to run?\n",
        "print('Time it took the function to run: {}'.format(elapsed_time))"
      ],
      "execution_count": 10,
      "outputs": [
        {
          "output_type": "stream",
          "text": [
            "Toilet in West Road, Bassendean is part of facility: Park or reserve.\n",
            "Toilet in Kullaroo Road, Summerland Point is part of facility: Park or reserve.\n",
            "Time it took the function to run: 0.02381610870361328\n"
          ],
          "name": "stdout"
        }
      ]
    },
    {
      "cell_type": "code",
      "metadata": {
        "id": "kRS6txawvSV0",
        "colab_type": "code",
        "colab": {
          "base_uri": "https://localhost:8080/",
          "height": 69
        },
        "outputId": "868ae99d-e0f0-4697-d63d-7b05add021cc"
      },
      "source": [
        "# get starting time\n",
        "start = time.time()\n",
        "for toilet in root.findall('{http://toiletmap.gov.au/}ToiletDetails'):\n",
        "  name = toilet.find('{http://toiletmap.gov.au/}Name').text\n",
        "  if name == 'Sandy Beach Reserve':\n",
        "    print('Toilet in {}, {} is part of facility: {}.'.format(toilet[1].text, toilet[2].text, toilet[5][3].text))\n",
        "# get time taken to run the for loop code \n",
        "elapsed_time = (time.time() - start)\n",
        "# how long did it take the function to run?\n",
        "print('Time it took the function to run: {}'.format(elapsed_time))"
      ],
      "execution_count": 11,
      "outputs": [
        {
          "output_type": "stream",
          "text": [
            "Toilet in West Road, Bassendean is part of facility: Park or reserve.\n",
            "Toilet in Kullaroo Road, Summerland Point is part of facility: Park or reserve.\n",
            "Time it took the function to run: 0.019489049911499023\n"
          ],
          "name": "stdout"
        }
      ]
    }
  ]
}