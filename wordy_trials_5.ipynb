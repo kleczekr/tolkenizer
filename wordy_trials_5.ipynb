{
  "nbformat": 4,
  "nbformat_minor": 0,
  "metadata": {
    "colab": {
      "name": "wordy_trials_5.ipynb",
      "provenance": [],
      "authorship_tag": "ABX9TyNMwAbIgn4T35nylaChfIMB",
      "include_colab_link": true
    },
    "kernelspec": {
      "name": "python3",
      "display_name": "Python 3"
    }
  },
  "cells": [
    {
      "cell_type": "markdown",
      "metadata": {
        "id": "view-in-github",
        "colab_type": "text"
      },
      "source": [
        "<a href=\"https://colab.research.google.com/github/kleczekr/tolkenizer/blob/master/wordy_trials_5.ipynb\" target=\"_parent\"><img src=\"https://colab.research.google.com/assets/colab-badge.svg\" alt=\"Open In Colab\"/></a>"
      ]
    },
    {
      "cell_type": "code",
      "metadata": {
        "id": "3UQuqITBg0i9",
        "colab_type": "code",
        "colab": {}
      },
      "source": [
        "import spacy\n",
        "from urllib import request\n",
        "from tabulate import tabulate"
      ],
      "execution_count": 1,
      "outputs": []
    },
    {
      "cell_type": "code",
      "metadata": {
        "id": "7yA6DiO7vA0Y",
        "colab_type": "code",
        "colab": {
          "base_uri": "https://localhost:8080/",
          "height": 1000
        },
        "outputId": "f91add79-8b2c-4e36-aa04-3c2d3291f652"
      },
      "source": [
        "# !pip install https://github.com/MartinoMensio/spacy-universal-sentence-encoder/releases/download/v0.3.2/en_use_md-0.3.2.tar.gz#en_use_md-0.3.2"
      ],
      "execution_count": 18,
      "outputs": [
        {
          "output_type": "stream",
          "text": [
            "Collecting https://github.com/MartinoMensio/spacy-universal-sentence-encoder/releases/download/v0.3.2/en_use_md-0.3.2.tar.gz#en_use_md-0.3.2\n",
            "  Downloading https://github.com/MartinoMensio/spacy-universal-sentence-encoder/releases/download/v0.3.2/en_use_md-0.3.2.tar.gz\n",
            "Requirement already satisfied: spacy<2.4,>=2.1 in /usr/local/lib/python3.6/dist-packages (from en-use-md==0.3.2) (2.2.4)\n",
            "Collecting spacy_universal_sentence_encoder==0.3.2\n",
            "  Downloading https://files.pythonhosted.org/packages/2f/36/dbebb4194523299553d656c432e2696aafaa1c378381f79979e08672a1be/spacy_universal_sentence_encoder-0.3.2.tar.gz\n",
            "Requirement already satisfied: numpy>=1.15.0 in /usr/local/lib/python3.6/dist-packages (from spacy<2.4,>=2.1->en-use-md==0.3.2) (1.18.5)\n",
            "Requirement already satisfied: requests<3.0.0,>=2.13.0 in /usr/local/lib/python3.6/dist-packages (from spacy<2.4,>=2.1->en-use-md==0.3.2) (2.23.0)\n",
            "Requirement already satisfied: cymem<2.1.0,>=2.0.2 in /usr/local/lib/python3.6/dist-packages (from spacy<2.4,>=2.1->en-use-md==0.3.2) (2.0.3)\n",
            "Requirement already satisfied: blis<0.5.0,>=0.4.0 in /usr/local/lib/python3.6/dist-packages (from spacy<2.4,>=2.1->en-use-md==0.3.2) (0.4.1)\n",
            "Requirement already satisfied: murmurhash<1.1.0,>=0.28.0 in /usr/local/lib/python3.6/dist-packages (from spacy<2.4,>=2.1->en-use-md==0.3.2) (1.0.2)\n",
            "Requirement already satisfied: plac<1.2.0,>=0.9.6 in /usr/local/lib/python3.6/dist-packages (from spacy<2.4,>=2.1->en-use-md==0.3.2) (1.1.3)\n",
            "Requirement already satisfied: catalogue<1.1.0,>=0.0.7 in /usr/local/lib/python3.6/dist-packages (from spacy<2.4,>=2.1->en-use-md==0.3.2) (1.0.0)\n",
            "Requirement already satisfied: preshed<3.1.0,>=3.0.2 in /usr/local/lib/python3.6/dist-packages (from spacy<2.4,>=2.1->en-use-md==0.3.2) (3.0.2)\n",
            "Requirement already satisfied: srsly<1.1.0,>=1.0.2 in /usr/local/lib/python3.6/dist-packages (from spacy<2.4,>=2.1->en-use-md==0.3.2) (1.0.2)\n",
            "Requirement already satisfied: wasabi<1.1.0,>=0.4.0 in /usr/local/lib/python3.6/dist-packages (from spacy<2.4,>=2.1->en-use-md==0.3.2) (0.8.0)\n",
            "Requirement already satisfied: tqdm<5.0.0,>=4.38.0 in /usr/local/lib/python3.6/dist-packages (from spacy<2.4,>=2.1->en-use-md==0.3.2) (4.41.1)\n",
            "Requirement already satisfied: setuptools in /usr/local/lib/python3.6/dist-packages (from spacy<2.4,>=2.1->en-use-md==0.3.2) (50.3.0)\n",
            "Requirement already satisfied: thinc==7.4.0 in /usr/local/lib/python3.6/dist-packages (from spacy<2.4,>=2.1->en-use-md==0.3.2) (7.4.0)\n",
            "Requirement already satisfied: tensorflow==2.3.0 in /usr/local/lib/python3.6/dist-packages (from spacy_universal_sentence_encoder==0.3.2->en-use-md==0.3.2) (2.3.0)\n",
            "Collecting tensorflow-text<2.4.0,>=2.3.0\n",
            "\u001b[?25l  Downloading https://files.pythonhosted.org/packages/28/b2/2dbd90b93913afd07e6101b8b84327c401c394e60141c1e98590038060b3/tensorflow_text-2.3.0-cp36-cp36m-manylinux1_x86_64.whl (2.6MB)\n",
            "\u001b[K     |████████████████████████████████| 2.6MB 10.1MB/s \n",
            "\u001b[?25hRequirement already satisfied: tensorflow-hub in /usr/local/lib/python3.6/dist-packages (from spacy_universal_sentence_encoder==0.3.2->en-use-md==0.3.2) (0.9.0)\n",
            "Requirement already satisfied: urllib3!=1.25.0,!=1.25.1,<1.26,>=1.21.1 in /usr/local/lib/python3.6/dist-packages (from requests<3.0.0,>=2.13.0->spacy<2.4,>=2.1->en-use-md==0.3.2) (1.24.3)\n",
            "Requirement already satisfied: chardet<4,>=3.0.2 in /usr/local/lib/python3.6/dist-packages (from requests<3.0.0,>=2.13.0->spacy<2.4,>=2.1->en-use-md==0.3.2) (3.0.4)\n",
            "Requirement already satisfied: idna<3,>=2.5 in /usr/local/lib/python3.6/dist-packages (from requests<3.0.0,>=2.13.0->spacy<2.4,>=2.1->en-use-md==0.3.2) (2.10)\n",
            "Requirement already satisfied: certifi>=2017.4.17 in /usr/local/lib/python3.6/dist-packages (from requests<3.0.0,>=2.13.0->spacy<2.4,>=2.1->en-use-md==0.3.2) (2020.6.20)\n",
            "Requirement already satisfied: importlib-metadata>=0.20; python_version < \"3.8\" in /usr/local/lib/python3.6/dist-packages (from catalogue<1.1.0,>=0.0.7->spacy<2.4,>=2.1->en-use-md==0.3.2) (1.7.0)\n",
            "Requirement already satisfied: tensorflow-estimator<2.4.0,>=2.3.0 in /usr/local/lib/python3.6/dist-packages (from tensorflow==2.3.0->spacy_universal_sentence_encoder==0.3.2->en-use-md==0.3.2) (2.3.0)\n",
            "Requirement already satisfied: astunparse==1.6.3 in /usr/local/lib/python3.6/dist-packages (from tensorflow==2.3.0->spacy_universal_sentence_encoder==0.3.2->en-use-md==0.3.2) (1.6.3)\n",
            "Requirement already satisfied: gast==0.3.3 in /usr/local/lib/python3.6/dist-packages (from tensorflow==2.3.0->spacy_universal_sentence_encoder==0.3.2->en-use-md==0.3.2) (0.3.3)\n",
            "Requirement already satisfied: h5py<2.11.0,>=2.10.0 in /usr/local/lib/python3.6/dist-packages (from tensorflow==2.3.0->spacy_universal_sentence_encoder==0.3.2->en-use-md==0.3.2) (2.10.0)\n",
            "Requirement already satisfied: termcolor>=1.1.0 in /usr/local/lib/python3.6/dist-packages (from tensorflow==2.3.0->spacy_universal_sentence_encoder==0.3.2->en-use-md==0.3.2) (1.1.0)\n",
            "Requirement already satisfied: absl-py>=0.7.0 in /usr/local/lib/python3.6/dist-packages (from tensorflow==2.3.0->spacy_universal_sentence_encoder==0.3.2->en-use-md==0.3.2) (0.10.0)\n",
            "Requirement already satisfied: six>=1.12.0 in /usr/local/lib/python3.6/dist-packages (from tensorflow==2.3.0->spacy_universal_sentence_encoder==0.3.2->en-use-md==0.3.2) (1.15.0)\n",
            "Requirement already satisfied: google-pasta>=0.1.8 in /usr/local/lib/python3.6/dist-packages (from tensorflow==2.3.0->spacy_universal_sentence_encoder==0.3.2->en-use-md==0.3.2) (0.2.0)\n",
            "Requirement already satisfied: keras-preprocessing<1.2,>=1.1.1 in /usr/local/lib/python3.6/dist-packages (from tensorflow==2.3.0->spacy_universal_sentence_encoder==0.3.2->en-use-md==0.3.2) (1.1.2)\n",
            "Requirement already satisfied: tensorboard<3,>=2.3.0 in /usr/local/lib/python3.6/dist-packages (from tensorflow==2.3.0->spacy_universal_sentence_encoder==0.3.2->en-use-md==0.3.2) (2.3.0)\n",
            "Requirement already satisfied: protobuf>=3.9.2 in /usr/local/lib/python3.6/dist-packages (from tensorflow==2.3.0->spacy_universal_sentence_encoder==0.3.2->en-use-md==0.3.2) (3.12.4)\n",
            "Requirement already satisfied: scipy==1.4.1 in /usr/local/lib/python3.6/dist-packages (from tensorflow==2.3.0->spacy_universal_sentence_encoder==0.3.2->en-use-md==0.3.2) (1.4.1)\n",
            "Requirement already satisfied: grpcio>=1.8.6 in /usr/local/lib/python3.6/dist-packages (from tensorflow==2.3.0->spacy_universal_sentence_encoder==0.3.2->en-use-md==0.3.2) (1.32.0)\n",
            "Requirement already satisfied: opt-einsum>=2.3.2 in /usr/local/lib/python3.6/dist-packages (from tensorflow==2.3.0->spacy_universal_sentence_encoder==0.3.2->en-use-md==0.3.2) (3.3.0)\n",
            "Requirement already satisfied: wrapt>=1.11.1 in /usr/local/lib/python3.6/dist-packages (from tensorflow==2.3.0->spacy_universal_sentence_encoder==0.3.2->en-use-md==0.3.2) (1.12.1)\n",
            "Requirement already satisfied: wheel>=0.26 in /usr/local/lib/python3.6/dist-packages (from tensorflow==2.3.0->spacy_universal_sentence_encoder==0.3.2->en-use-md==0.3.2) (0.35.1)\n",
            "Requirement already satisfied: zipp>=0.5 in /usr/local/lib/python3.6/dist-packages (from importlib-metadata>=0.20; python_version < \"3.8\"->catalogue<1.1.0,>=0.0.7->spacy<2.4,>=2.1->en-use-md==0.3.2) (3.1.0)\n",
            "Requirement already satisfied: google-auth-oauthlib<0.5,>=0.4.1 in /usr/local/lib/python3.6/dist-packages (from tensorboard<3,>=2.3.0->tensorflow==2.3.0->spacy_universal_sentence_encoder==0.3.2->en-use-md==0.3.2) (0.4.1)\n",
            "Requirement already satisfied: markdown>=2.6.8 in /usr/local/lib/python3.6/dist-packages (from tensorboard<3,>=2.3.0->tensorflow==2.3.0->spacy_universal_sentence_encoder==0.3.2->en-use-md==0.3.2) (3.2.2)\n",
            "Requirement already satisfied: tensorboard-plugin-wit>=1.6.0 in /usr/local/lib/python3.6/dist-packages (from tensorboard<3,>=2.3.0->tensorflow==2.3.0->spacy_universal_sentence_encoder==0.3.2->en-use-md==0.3.2) (1.7.0)\n",
            "Requirement already satisfied: werkzeug>=0.11.15 in /usr/local/lib/python3.6/dist-packages (from tensorboard<3,>=2.3.0->tensorflow==2.3.0->spacy_universal_sentence_encoder==0.3.2->en-use-md==0.3.2) (1.0.1)\n",
            "Requirement already satisfied: google-auth<2,>=1.6.3 in /usr/local/lib/python3.6/dist-packages (from tensorboard<3,>=2.3.0->tensorflow==2.3.0->spacy_universal_sentence_encoder==0.3.2->en-use-md==0.3.2) (1.17.2)\n",
            "Requirement already satisfied: requests-oauthlib>=0.7.0 in /usr/local/lib/python3.6/dist-packages (from google-auth-oauthlib<0.5,>=0.4.1->tensorboard<3,>=2.3.0->tensorflow==2.3.0->spacy_universal_sentence_encoder==0.3.2->en-use-md==0.3.2) (1.3.0)\n",
            "Requirement already satisfied: cachetools<5.0,>=2.0.0 in /usr/local/lib/python3.6/dist-packages (from google-auth<2,>=1.6.3->tensorboard<3,>=2.3.0->tensorflow==2.3.0->spacy_universal_sentence_encoder==0.3.2->en-use-md==0.3.2) (4.1.1)\n",
            "Requirement already satisfied: rsa<5,>=3.1.4; python_version >= \"3\" in /usr/local/lib/python3.6/dist-packages (from google-auth<2,>=1.6.3->tensorboard<3,>=2.3.0->tensorflow==2.3.0->spacy_universal_sentence_encoder==0.3.2->en-use-md==0.3.2) (4.6)\n",
            "Requirement already satisfied: pyasn1-modules>=0.2.1 in /usr/local/lib/python3.6/dist-packages (from google-auth<2,>=1.6.3->tensorboard<3,>=2.3.0->tensorflow==2.3.0->spacy_universal_sentence_encoder==0.3.2->en-use-md==0.3.2) (0.2.8)\n",
            "Requirement already satisfied: oauthlib>=3.0.0 in /usr/local/lib/python3.6/dist-packages (from requests-oauthlib>=0.7.0->google-auth-oauthlib<0.5,>=0.4.1->tensorboard<3,>=2.3.0->tensorflow==2.3.0->spacy_universal_sentence_encoder==0.3.2->en-use-md==0.3.2) (3.1.0)\n",
            "Requirement already satisfied: pyasn1>=0.1.3 in /usr/local/lib/python3.6/dist-packages (from rsa<5,>=3.1.4; python_version >= \"3\"->google-auth<2,>=1.6.3->tensorboard<3,>=2.3.0->tensorflow==2.3.0->spacy_universal_sentence_encoder==0.3.2->en-use-md==0.3.2) (0.4.8)\n",
            "Building wheels for collected packages: en-use-md, spacy-universal-sentence-encoder\n",
            "  Building wheel for en-use-md (setup.py) ... \u001b[?25l\u001b[?25hdone\n",
            "  Created wheel for en-use-md: filename=en_use_md-0.3.2-cp36-none-any.whl size=24148 sha256=c18c490a06f7d1ba673bcf6af949d712e04ea308cf6bc37f542d7d6551b1c860\n",
            "  Stored in directory: /root/.cache/pip/wheels/0c/86/0a/916aa2aaecd029c49724f6dd1c26ad8d958c6a390c3f336b24\n",
            "  Building wheel for spacy-universal-sentence-encoder (setup.py) ... \u001b[?25l\u001b[?25hdone\n",
            "  Created wheel for spacy-universal-sentence-encoder: filename=spacy_universal_sentence_encoder-0.3.2-cp36-none-any.whl size=10539 sha256=ea106c63110351cfc5818b54ba7bba5611e32603481f3ff7a91c6896903f2b7d\n",
            "  Stored in directory: /root/.cache/pip/wheels/94/e3/fc/4acaab6454e523541a34c458e0e241b78b8e04079cdf7399ad\n",
            "Successfully built en-use-md spacy-universal-sentence-encoder\n",
            "Installing collected packages: tensorflow-text, spacy-universal-sentence-encoder, en-use-md\n",
            "Successfully installed en-use-md-0.3.2 spacy-universal-sentence-encoder-0.3.2 tensorflow-text-2.3.0\n"
          ],
          "name": "stdout"
        }
      ]
    },
    {
      "cell_type": "code",
      "metadata": {
        "id": "kUmAxQA2vCNW",
        "colab_type": "code",
        "colab": {}
      },
      "source": [
        "# nlp = spacy.load('en_use_md')\n",
        "import spacy_universal_sentence_encoder\n",
        "nlp = spacy_universal_sentence_encoder.load_model('en_use_md')"
      ],
      "execution_count": 3,
      "outputs": []
    },
    {
      "cell_type": "code",
      "metadata": {
        "id": "jdlcAEhthz5Y",
        "colab_type": "code",
        "colab": {}
      },
      "source": [
        "# !python -m spacy download en_core_web_md\n",
        "# nlp = spacy.load(\"en_core_web_md\")"
      ],
      "execution_count": 2,
      "outputs": []
    },
    {
      "cell_type": "code",
      "metadata": {
        "id": "ppkn7r-FlfZU",
        "colab_type": "code",
        "colab": {
          "base_uri": "https://localhost:8080/",
          "height": 34
        },
        "outputId": "a066358e-3f17-4d9f-b3b7-682de200ecfb"
      },
      "source": [
        "# This cell is meant to accommodate the Google Colab way of dealing with reading \n",
        "# files from Google Drive; feel free to ignore it if you are running the notebook\n",
        "# on your local machine\n",
        "from google.colab import drive\n",
        "drive.mount('/content/drive')"
      ],
      "execution_count": 4,
      "outputs": [
        {
          "output_type": "stream",
          "text": [
            "Drive already mounted at /content/drive; to attempt to forcibly remount, call drive.mount(\"/content/drive\", force_remount=True).\n"
          ],
          "name": "stdout"
        }
      ]
    },
    {
      "cell_type": "code",
      "metadata": {
        "id": "FypcTYV0hC3R",
        "colab_type": "code",
        "colab": {}
      },
      "source": [
        "url_ctsi = 'http://www.gutenberg.org/cache/epub/42991/pg42991.txt'\n",
        "url_ctsi_ii = 'http://www.gutenberg.org/cache/epub/42992/pg42992.txt'\n",
        "url_ctsi_iii = 'http://www.gutenberg.org/cache/epub/42993/pg42993.txt'"
      ],
      "execution_count": 5,
      "outputs": []
    },
    {
      "cell_type": "code",
      "metadata": {
        "id": "Nu5bxElghJY1",
        "colab_type": "code",
        "colab": {}
      },
      "source": [
        "# retrieve the file\n",
        "response_ctsi = request.urlopen(url_ctsi)\n",
        "response_ctsi_ii = request.urlopen(url_ctsi_ii)\n",
        "response_ctsi_iii = request.urlopen(url_ctsi_iii)\n",
        "\n",
        "# open the file and read it\n",
        "ctsi = response_ctsi.read().decode('utf8')\n",
        "ctsi_ii = response_ctsi_ii.read().decode('utf8')\n",
        "ctsi_iii = response_ctsi_iii.read().decode('utf8')\n",
        "\n",
        "with  open('/content/drive/My Drive/book_txt/tbl_gbr.txt', 'r') as f:\n",
        "  jkr = f.read()"
      ],
      "execution_count": 6,
      "outputs": []
    },
    {
      "cell_type": "code",
      "metadata": {
        "id": "qKz7rWIenp12",
        "colab_type": "code",
        "colab": {}
      },
      "source": [
        "nlp.max_length = 2000000"
      ],
      "execution_count": 7,
      "outputs": []
    },
    {
      "cell_type": "code",
      "metadata": {
        "id": "woVQvJo8hkcg",
        "colab_type": "code",
        "colab": {}
      },
      "source": [
        "ctsi_doc = nlp(ctsi)\n",
        "ctsi_ii_doc = nlp(ctsi_ii)\n",
        "ctsi_iii_doc = nlp(ctsi_iii)\n",
        "jkr_doc = nlp(jkr)"
      ],
      "execution_count": 8,
      "outputs": []
    },
    {
      "cell_type": "code",
      "metadata": {
        "id": "zN6qmwuGhssd",
        "colab_type": "code",
        "colab": {}
      },
      "source": [
        "similarity_i_ii = ctsi_doc.similarity(ctsi_ii_doc)\n",
        "similarity_i_iii = ctsi_doc.similarity(ctsi_iii_doc)\n",
        "similarity_ii_iii = ctsi_ii_doc.similarity(ctsi_iii_doc)\n",
        "similarity_i_jkr = ctsi_doc.similarity(jkr_doc)\n",
        "similarity_ii_jkr = ctsi_ii_doc.similarity(jkr_doc)\n",
        "similarity_iii_jkr = ctsi_iii_doc.similarity(jkr_doc)"
      ],
      "execution_count": 9,
      "outputs": []
    },
    {
      "cell_type": "code",
      "metadata": {
        "id": "L5qFan-9iuYT",
        "colab_type": "code",
        "colab": {
          "base_uri": "https://localhost:8080/",
          "height": 121
        },
        "outputId": "980adf69-5d62-44d7-ebab-fe95bcddf270"
      },
      "source": [
        "print(f'Similarity of CTSI vol. I to vol. II: {similarity_i_ii:.4f}\\n'\n",
        "f'Similarity of CTSI vol. I to vol. III: {similarity_i_iii:.4f}\\n'\n",
        "f'Similarity of CTSI vol. II to vol. III: {similarity_ii_iii:.4f}\\n'\n",
        "f'Similarity of CTSI vol. I to Troubled Blood: {similarity_i_jkr:.4f}\\n'\n",
        "f'Similarity of CTSI vol. II to Troubled Blood: {similarity_ii_jkr:.4f}\\n'\n",
        "f'Similarity of CTSI vol. III to Troubled Blood: {similarity_iii_jkr:.4f}')"
      ],
      "execution_count": 10,
      "outputs": [
        {
          "output_type": "stream",
          "text": [
            "Similarity of CTSI vol. I to vol. II: 0.9634\n",
            "Similarity of CTSI vol. I to vol. III: 0.9254\n",
            "Similarity of CTSI vol. II to vol. III: 0.9429\n",
            "Similarity of CTSI vol. I to Troubled Blood: 0.3952\n",
            "Similarity of CTSI vol. II to Troubled Blood: 0.3887\n",
            "Similarity of CTSI vol. III to Troubled Blood: 0.4095\n"
          ],
          "name": "stdout"
        }
      ]
    },
    {
      "cell_type": "code",
      "metadata": {
        "id": "SXr9SuhYjMMq",
        "colab_type": "code",
        "colab": {
          "base_uri": "https://localhost:8080/",
          "height": 34
        },
        "outputId": "5714ae44-6069-437f-fd65-7818a7235485"
      },
      "source": [
        "doc1 = nlp(\"It's a warm summer day\")\n",
        "doc2 = nlp(\"It's sunny outside\")\n",
        "\n",
        "# Get the similarity of doc1 and doc2\n",
        "similarity = doc1.similarity(doc2)\n",
        "print(similarity)"
      ],
      "execution_count": 11,
      "outputs": [
        {
          "output_type": "stream",
          "text": [
            "0.5030171629485762\n"
          ],
          "name": "stdout"
        }
      ]
    }
  ]
}