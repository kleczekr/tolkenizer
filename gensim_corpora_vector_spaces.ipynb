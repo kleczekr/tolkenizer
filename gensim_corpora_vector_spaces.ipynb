{
  "nbformat": 4,
  "nbformat_minor": 0,
  "metadata": {
    "colab": {
      "name": "gensim_corpora_vector_spaces.ipynb",
      "provenance": [],
      "authorship_tag": "ABX9TyNnX1/ulU8eQpHpn4iiFDZC",
      "include_colab_link": true
    },
    "kernelspec": {
      "name": "python3",
      "display_name": "Python 3"
    }
  },
  "cells": [
    {
      "cell_type": "markdown",
      "metadata": {
        "id": "view-in-github",
        "colab_type": "text"
      },
      "source": [
        "<a href=\"https://colab.research.google.com/github/kleczekr/tolkenizer/blob/master/gensim_corpora_vector_spaces.ipynb\" target=\"_parent\"><img src=\"https://colab.research.google.com/assets/colab-badge.svg\" alt=\"Open In Colab\"/></a>"
      ]
    },
    {
      "cell_type": "code",
      "metadata": {
        "id": "3LR5I-menn4S",
        "colab_type": "code",
        "colab": {}
      },
      "source": [
        "%matplotlib inline\n",
        "import logging\n",
        "from pprint import pprint  # pretty-printer\n",
        "from collections import defaultdict\n",
        "from gensim import corpora # mwahaha!\n",
        "from smart_open import open  # for transparently opening remote files\n",
        "from six import iteritems\n",
        "import gensim # why then before we imported gensim?\n",
        "import numpy as np\n",
        "import scipy.sparse"
      ],
      "execution_count": 1,
      "outputs": []
    },
    {
      "cell_type": "code",
      "metadata": {
        "id": "M0qRq7QZn6e3",
        "colab_type": "code",
        "colab": {}
      },
      "source": [
        "logging.basicConfig(format='%(asctime)s : %(levelname)s : %(message)s', \n",
        "                    level=logging.INFO)"
      ],
      "execution_count": 2,
      "outputs": []
    },
    {
      "cell_type": "code",
      "metadata": {
        "id": "9i7VjeQen0T_",
        "colab_type": "code",
        "colab": {}
      },
      "source": [
        "documents = [\n",
        "    \"Human machine interface for lab abc computer applications\",\n",
        "    \"A survey of user opinion of computer system response time\",\n",
        "    \"The EPS user interface management system\",\n",
        "    \"System and human system engineering testing of EPS\",\n",
        "    \"Relation of user perceived response time to error measurement\",\n",
        "    \"The generation of random binary unordered trees\",\n",
        "    \"The intersection graph of paths in trees\",\n",
        "    \"Graph minors IV Widths of trees and well quasi ordering\",\n",
        "    \"Graph minors A survey\",\n",
        "]"
      ],
      "execution_count": 3,
      "outputs": []
    },
    {
      "cell_type": "code",
      "metadata": {
        "id": "a5XfFvH1n-6_",
        "colab_type": "code",
        "colab": {
          "base_uri": "https://localhost:8080/",
          "height": 173
        },
        "outputId": "6982d035-f43c-4a6b-a623-0b3759a7ebd5"
      },
      "source": [
        "# remove common words and tokenize\n",
        "stoplist = set('for a of the and to in'.split())\n",
        "texts = [\n",
        "    [word for word in document.lower().split() if word not in stoplist]\n",
        "    for document in documents\n",
        "]\n",
        "\n",
        "# remove words that appear only once\n",
        "frequency = defaultdict(int)\n",
        "for text in texts:\n",
        "    for token in text:\n",
        "        frequency[token] += 1\n",
        "\n",
        "texts = [\n",
        "    [token for token in text if frequency[token] > 1]\n",
        "    for text in texts\n",
        "]\n",
        "\n",
        "pprint(texts)"
      ],
      "execution_count": 4,
      "outputs": [
        {
          "output_type": "stream",
          "text": [
            "[['human', 'interface', 'computer'],\n",
            " ['survey', 'user', 'computer', 'system', 'response', 'time'],\n",
            " ['eps', 'user', 'interface', 'system'],\n",
            " ['system', 'human', 'system', 'eps'],\n",
            " ['user', 'response', 'time'],\n",
            " ['trees'],\n",
            " ['graph', 'trees'],\n",
            " ['graph', 'minors', 'trees'],\n",
            " ['graph', 'minors', 'survey']]\n"
          ],
          "name": "stdout"
        }
      ]
    },
    {
      "cell_type": "code",
      "metadata": {
        "id": "Oy69W6qFoALw",
        "colab_type": "code",
        "colab": {
          "base_uri": "https://localhost:8080/",
          "height": 159
        },
        "outputId": "f19317dd-cf57-4db1-f6c2-7f7da982632a"
      },
      "source": [
        "dictionary = corpora.Dictionary(texts)\n",
        "dictionary.save('/tmp/deerwester.dict')  # store the dictionary, for future reference\n",
        "print(dictionary)"
      ],
      "execution_count": 5,
      "outputs": [
        {
          "output_type": "stream",
          "text": [
            "2020-07-26 15:49:39,355 : INFO : adding document #0 to Dictionary(0 unique tokens: [])\n",
            "2020-07-26 15:49:39,356 : INFO : built Dictionary(12 unique tokens: ['computer', 'human', 'interface', 'response', 'survey']...) from 9 documents (total 29 corpus positions)\n",
            "2020-07-26 15:49:39,357 : INFO : saving Dictionary object under /tmp/deerwester.dict, separately None\n",
            "/usr/local/lib/python3.6/dist-packages/smart_open/smart_open_lib.py:254: UserWarning: This function is deprecated, use smart_open.open instead. See the migration notes for details: https://github.com/RaRe-Technologies/smart_open/blob/master/README.rst#migrating-to-the-new-open-function\n",
            "  'See the migration notes for details: %s' % _MIGRATION_NOTES_URL\n",
            "2020-07-26 15:49:39,363 : INFO : saved /tmp/deerwester.dict\n"
          ],
          "name": "stderr"
        },
        {
          "output_type": "stream",
          "text": [
            "Dictionary(12 unique tokens: ['computer', 'human', 'interface', 'response', 'survey']...)\n"
          ],
          "name": "stdout"
        }
      ]
    },
    {
      "cell_type": "code",
      "metadata": {
        "id": "04fs6NwHoFos",
        "colab_type": "code",
        "colab": {
          "base_uri": "https://localhost:8080/",
          "height": 34
        },
        "outputId": "9c2a2098-1ed3-4652-ffe6-2577e1596c37"
      },
      "source": [
        "print(dictionary.token2id)"
      ],
      "execution_count": 6,
      "outputs": [
        {
          "output_type": "stream",
          "text": [
            "{'computer': 0, 'human': 1, 'interface': 2, 'response': 3, 'survey': 4, 'system': 5, 'time': 6, 'user': 7, 'eps': 8, 'trees': 9, 'graph': 10, 'minors': 11}\n"
          ],
          "name": "stdout"
        }
      ]
    },
    {
      "cell_type": "code",
      "metadata": {
        "id": "rnCACs6ZoFhW",
        "colab_type": "code",
        "colab": {
          "base_uri": "https://localhost:8080/",
          "height": 34
        },
        "outputId": "b3067ab1-6c59-449d-87c5-92e00f8cf37e"
      },
      "source": [
        "new_doc = \"Human computer interaction\"\n",
        "new_vec = dictionary.doc2bow(new_doc.lower().split())\n",
        "print(new_vec)  # the word \"interaction\" does not appear in the dictionary and is ignored"
      ],
      "execution_count": 7,
      "outputs": [
        {
          "output_type": "stream",
          "text": [
            "[(0, 1), (1, 1)]\n"
          ],
          "name": "stdout"
        }
      ]
    },
    {
      "cell_type": "code",
      "metadata": {
        "id": "UJqZnYFXoN3i",
        "colab_type": "code",
        "colab": {
          "base_uri": "https://localhost:8080/",
          "height": 176
        },
        "outputId": "7bf84701-2105-4f59-a967-483baf67723d"
      },
      "source": [
        "corpus = [dictionary.doc2bow(text) for text in texts]\n",
        "corpora.MmCorpus.serialize('/tmp/deerwester.mm', corpus)  # store to disk, for later use\n",
        "print(corpus)"
      ],
      "execution_count": 8,
      "outputs": [
        {
          "output_type": "stream",
          "text": [
            "2020-07-26 15:49:39,398 : INFO : storing corpus in Matrix Market format to /tmp/deerwester.mm\n",
            "/usr/local/lib/python3.6/dist-packages/smart_open/smart_open_lib.py:254: UserWarning: This function is deprecated, use smart_open.open instead. See the migration notes for details: https://github.com/RaRe-Technologies/smart_open/blob/master/README.rst#migrating-to-the-new-open-function\n",
            "  'See the migration notes for details: %s' % _MIGRATION_NOTES_URL\n",
            "2020-07-26 15:49:39,400 : INFO : saving sparse matrix to /tmp/deerwester.mm\n",
            "2020-07-26 15:49:39,402 : INFO : PROGRESS: saving document #0\n",
            "2020-07-26 15:49:39,405 : INFO : saved 9x12 matrix, density=25.926% (28/108)\n",
            "2020-07-26 15:49:39,406 : INFO : saving MmCorpus index to /tmp/deerwester.mm.index\n"
          ],
          "name": "stderr"
        },
        {
          "output_type": "stream",
          "text": [
            "[[(0, 1), (1, 1), (2, 1)], [(0, 1), (3, 1), (4, 1), (5, 1), (6, 1), (7, 1)], [(2, 1), (5, 1), (7, 1), (8, 1)], [(1, 1), (5, 2), (8, 1)], [(3, 1), (6, 1), (7, 1)], [(9, 1)], [(9, 1), (10, 1)], [(9, 1), (10, 1), (11, 1)], [(4, 1), (10, 1), (11, 1)]]\n"
          ],
          "name": "stdout"
        }
      ]
    },
    {
      "cell_type": "markdown",
      "metadata": {
        "id": "MOGkUW28waXy",
        "colab_type": "text"
      },
      "source": [
        "The code below portrays the way to stream corpora, in a way that does not keep all the documents within RAM memory simultaneously."
      ]
    },
    {
      "cell_type": "code",
      "metadata": {
        "id": "c-qioZXloNy6",
        "colab_type": "code",
        "colab": {}
      },
      "source": [
        "class MyCorpus(object):\n",
        "    def __iter__(self):\n",
        "        for line in open('https://radimrehurek.com/gensim/mycorpus.txt'):\n",
        "            # assume there's one document per line, tokens separated by whitespace\n",
        "            yield dictionary.doc2bow(line.lower().split())"
      ],
      "execution_count": 9,
      "outputs": []
    },
    {
      "cell_type": "markdown",
      "metadata": {
        "id": "RA2MU5xBw8of",
        "colab_type": "text"
      },
      "source": [
        "What is interesting, gensim corpus can be any object that returns documents when it is iterated over---be it Pandas DataFrame, list, array, or other formats."
      ]
    },
    {
      "cell_type": "code",
      "metadata": {
        "id": "4q7w0BxRoNvz",
        "colab_type": "code",
        "colab": {}
      },
      "source": [
        "# This flexibility allows you to create your own corpus classes that stream the\n",
        "# documents directly from disk, network, database, dataframes... The models\n",
        "# in Gensim are implemented such that they don't require all vectors to reside\n",
        "# in RAM at once. You can even create the documents on the fly!"
      ],
      "execution_count": 10,
      "outputs": []
    },
    {
      "cell_type": "markdown",
      "metadata": {
        "id": "i3YdAvLbxSaX",
        "colab_type": "text"
      },
      "source": [
        "This explains the somewhat tricky way of splitting the documents and corpora I complained about yesterday. What I assumed was lack of automatization was, in fact, due to the flexibility of gensim corpus-management functions."
      ]
    },
    {
      "cell_type": "code",
      "metadata": {
        "id": "Oo27qZzOoFQa",
        "colab_type": "code",
        "colab": {
          "base_uri": "https://localhost:8080/",
          "height": 34
        },
        "outputId": "2e08c58f-05c4-43a0-85da-4e3e9996a294"
      },
      "source": [
        "corpus_memory_friendly = MyCorpus()  # doesn't load the corpus into memory!\n",
        "print(corpus_memory_friendly)"
      ],
      "execution_count": 11,
      "outputs": [
        {
          "output_type": "stream",
          "text": [
            "<__main__.MyCorpus object at 0x7fbcff253ac8>\n"
          ],
          "name": "stdout"
        }
      ]
    },
    {
      "cell_type": "code",
      "metadata": {
        "id": "adlFQpHBodfZ",
        "colab_type": "code",
        "colab": {
          "base_uri": "https://localhost:8080/",
          "height": 173
        },
        "outputId": "e2ca3b72-04b6-4fc8-dcd0-8c8365edbf12"
      },
      "source": [
        "for vector in corpus_memory_friendly:  # load one vector into memory at a time\n",
        "    print(vector)"
      ],
      "execution_count": 12,
      "outputs": [
        {
          "output_type": "stream",
          "text": [
            "[(0, 1), (1, 1), (2, 1)]\n",
            "[(0, 1), (3, 1), (4, 1), (5, 1), (6, 1), (7, 1)]\n",
            "[(2, 1), (5, 1), (7, 1), (8, 1)]\n",
            "[(1, 1), (5, 2), (8, 1)]\n",
            "[(3, 1), (6, 1), (7, 1)]\n",
            "[(9, 1)]\n",
            "[(9, 1), (10, 1)]\n",
            "[(9, 1), (10, 1), (11, 1)]\n",
            "[(4, 1), (10, 1), (11, 1)]\n"
          ],
          "name": "stdout"
        }
      ]
    },
    {
      "cell_type": "code",
      "metadata": {
        "id": "Y6GFeCzroddE",
        "colab_type": "code",
        "colab": {
          "base_uri": "https://localhost:8080/",
          "height": 89
        },
        "outputId": "c5134202-5b67-4893-db5a-4e4f02f74ddb"
      },
      "source": [
        "# collect statistics about all tokens\n",
        "dictionary = corpora.Dictionary(line.lower().split() for line in open('https://radimrehurek.com/gensim/mycorpus.txt'))\n",
        "# remove stop words and words that appear only once\n",
        "stop_ids = [\n",
        "    dictionary.token2id[stopword]\n",
        "    # AHA! So gensim has pre-defined list of stopwords!\n",
        "    for stopword in stoplist\n",
        "    if stopword in dictionary.token2id\n",
        "]\n",
        "once_ids = [tokenid for tokenid, docfreq in iteritems(dictionary.dfs) if docfreq == 1] # nice code\n",
        "dictionary.filter_tokens(stop_ids + once_ids)  # remove stop words and words that appear only once\n",
        "dictionary.compactify()  # remove gaps in id sequence after words that were removed\n",
        "print(dictionary)"
      ],
      "execution_count": 13,
      "outputs": [
        {
          "output_type": "stream",
          "text": [
            "2020-07-26 15:49:39,737 : INFO : adding document #0 to Dictionary(0 unique tokens: [])\n",
            "2020-07-26 15:49:39,738 : INFO : built Dictionary(42 unique tokens: ['abc', 'applications', 'computer', 'for', 'human']...) from 9 documents (total 69 corpus positions)\n"
          ],
          "name": "stderr"
        },
        {
          "output_type": "stream",
          "text": [
            "Dictionary(12 unique tokens: ['computer', 'human', 'interface', 'response', 'survey']...)\n"
          ],
          "name": "stdout"
        }
      ]
    },
    {
      "cell_type": "markdown",
      "metadata": {
        "id": "cVHmWdDRzpqS",
        "colab_type": "text"
      },
      "source": [
        "Corpora are saved to disk one file at a time, mirroring the way they are read into memory. Below are several different ways of saving the corpus to the disk. The documentation suggests gensim can be used as an efficient corpus conversion tool, with corpus being read and immediately saved in another format within the simplistic gensim interface."
      ]
    },
    {
      "cell_type": "code",
      "metadata": {
        "id": "TBYDAwS5odY4",
        "colab_type": "code",
        "colab": {
          "base_uri": "https://localhost:8080/",
          "height": 159
        },
        "outputId": "b347fa85-040f-4fd2-9319-3d1b3000bf63"
      },
      "source": [
        "corpus = [[(1, 0.5)], []]  # make one document empty, for the heck of it\n",
        "\n",
        "corpora.MmCorpus.serialize('/tmp/corpus.mm', corpus)"
      ],
      "execution_count": 14,
      "outputs": [
        {
          "output_type": "stream",
          "text": [
            "2020-07-26 15:49:39,747 : INFO : storing corpus in Matrix Market format to /tmp/corpus.mm\n",
            "/usr/local/lib/python3.6/dist-packages/smart_open/smart_open_lib.py:254: UserWarning: This function is deprecated, use smart_open.open instead. See the migration notes for details: https://github.com/RaRe-Technologies/smart_open/blob/master/README.rst#migrating-to-the-new-open-function\n",
            "  'See the migration notes for details: %s' % _MIGRATION_NOTES_URL\n",
            "2020-07-26 15:49:39,749 : INFO : saving sparse matrix to /tmp/corpus.mm\n",
            "2020-07-26 15:49:39,750 : INFO : PROGRESS: saving document #0\n",
            "2020-07-26 15:49:39,752 : INFO : saved 2x2 matrix, density=25.000% (1/4)\n",
            "2020-07-26 15:49:39,753 : INFO : saving MmCorpus index to /tmp/corpus.mm.index\n"
          ],
          "name": "stderr"
        }
      ]
    },
    {
      "cell_type": "code",
      "metadata": {
        "id": "AKRvNqeIodWP",
        "colab_type": "code",
        "colab": {
          "base_uri": "https://localhost:8080/",
          "height": 245
        },
        "outputId": "1ad2a1f8-f09e-4e6a-acb2-74bd8f0bcb8e"
      },
      "source": [
        "corpora.SvmLightCorpus.serialize('/tmp/corpus.svmlight', corpus)\n",
        "corpora.BleiCorpus.serialize('/tmp/corpus.lda-c', corpus)\n",
        "corpora.LowCorpus.serialize('/tmp/corpus.low', corpus)"
      ],
      "execution_count": 15,
      "outputs": [
        {
          "output_type": "stream",
          "text": [
            "2020-07-26 15:49:39,763 : INFO : converting corpus to SVMlight format: /tmp/corpus.svmlight\n",
            "/usr/local/lib/python3.6/dist-packages/smart_open/smart_open_lib.py:254: UserWarning: This function is deprecated, use smart_open.open instead. See the migration notes for details: https://github.com/RaRe-Technologies/smart_open/blob/master/README.rst#migrating-to-the-new-open-function\n",
            "  'See the migration notes for details: %s' % _MIGRATION_NOTES_URL\n",
            "2020-07-26 15:49:39,765 : INFO : saving SvmLightCorpus index to /tmp/corpus.svmlight.index\n",
            "2020-07-26 15:49:39,767 : INFO : no word id mapping provided; initializing from corpus\n",
            "2020-07-26 15:49:39,768 : INFO : storing corpus in Blei's LDA-C format into /tmp/corpus.lda-c\n",
            "2020-07-26 15:49:39,770 : INFO : saving vocabulary of 2 words to /tmp/corpus.lda-c.vocab\n",
            "2020-07-26 15:49:39,772 : INFO : saving BleiCorpus index to /tmp/corpus.lda-c.index\n",
            "2020-07-26 15:49:39,774 : INFO : no word id mapping provided; initializing from corpus\n",
            "2020-07-26 15:49:39,778 : INFO : storing corpus in List-Of-Words format into /tmp/corpus.low\n",
            "2020-07-26 15:49:39,779 : WARNING : List-of-words format can only save vectors with integer elements; 1 float entries were truncated to integer value\n",
            "2020-07-26 15:49:39,781 : INFO : saving LowCorpus index to /tmp/corpus.low.index\n"
          ],
          "name": "stderr"
        }
      ]
    },
    {
      "cell_type": "code",
      "metadata": {
        "id": "9txGxI9uodSE",
        "colab_type": "code",
        "colab": {
          "base_uri": "https://localhost:8080/",
          "height": 124
        },
        "outputId": "14509cdc-a0c1-4d48-cd54-5d37f93851f0"
      },
      "source": [
        "corpus = corpora.MmCorpus('/tmp/corpus.mm')"
      ],
      "execution_count": 16,
      "outputs": [
        {
          "output_type": "stream",
          "text": [
            "/usr/local/lib/python3.6/dist-packages/smart_open/smart_open_lib.py:254: UserWarning: This function is deprecated, use smart_open.open instead. See the migration notes for details: https://github.com/RaRe-Technologies/smart_open/blob/master/README.rst#migrating-to-the-new-open-function\n",
            "  'See the migration notes for details: %s' % _MIGRATION_NOTES_URL\n",
            "2020-07-26 15:49:39,791 : INFO : loaded corpus index from /tmp/corpus.mm.index\n",
            "2020-07-26 15:49:39,793 : INFO : initializing cython corpus reader from /tmp/corpus.mm\n",
            "2020-07-26 15:49:39,794 : INFO : accepted corpus with 2 documents, 2 features, 1 non-zero entries\n"
          ],
          "name": "stderr"
        }
      ]
    },
    {
      "cell_type": "code",
      "metadata": {
        "id": "CxH4QsQiocfA",
        "colab_type": "code",
        "colab": {
          "base_uri": "https://localhost:8080/",
          "height": 34
        },
        "outputId": "1f1a5e48-27ee-4f37-8036-86556bb4f682"
      },
      "source": [
        "print(corpus)"
      ],
      "execution_count": 17,
      "outputs": [
        {
          "output_type": "stream",
          "text": [
            "MmCorpus(2 documents, 2 features, 1 non-zero entries)\n"
          ],
          "name": "stdout"
        }
      ]
    },
    {
      "cell_type": "code",
      "metadata": {
        "id": "Hfb4XkhioyEe",
        "colab_type": "code",
        "colab": {
          "base_uri": "https://localhost:8080/",
          "height": 89
        },
        "outputId": "f44ac3d0-6bab-4ca1-8d7d-2b2bf845b312"
      },
      "source": [
        "# one way of printing a corpus: load it entirely into memory\n",
        "print(list(corpus))  # calling list() will convert any sequence to a plain Python list"
      ],
      "execution_count": 18,
      "outputs": [
        {
          "output_type": "stream",
          "text": [
            "[[(1, 0.5)], []]\n"
          ],
          "name": "stdout"
        },
        {
          "output_type": "stream",
          "text": [
            "/usr/local/lib/python3.6/dist-packages/smart_open/smart_open_lib.py:254: UserWarning: This function is deprecated, use smart_open.open instead. See the migration notes for details: https://github.com/RaRe-Technologies/smart_open/blob/master/README.rst#migrating-to-the-new-open-function\n",
            "  'See the migration notes for details: %s' % _MIGRATION_NOTES_URL\n"
          ],
          "name": "stderr"
        }
      ]
    },
    {
      "cell_type": "code",
      "metadata": {
        "id": "phrW1iVeox_h",
        "colab_type": "code",
        "colab": {
          "base_uri": "https://localhost:8080/",
          "height": 106
        },
        "outputId": "a188ac5a-c765-4072-b0c3-a9093c3b6b89"
      },
      "source": [
        "# another way of doing it: print one document at a time, making use of the streaming interface\n",
        "for doc in corpus:\n",
        "    print(doc)"
      ],
      "execution_count": 19,
      "outputs": [
        {
          "output_type": "stream",
          "text": [
            "[(1, 0.5)]\n",
            "[]\n"
          ],
          "name": "stdout"
        },
        {
          "output_type": "stream",
          "text": [
            "/usr/local/lib/python3.6/dist-packages/smart_open/smart_open_lib.py:254: UserWarning: This function is deprecated, use smart_open.open instead. See the migration notes for details: https://github.com/RaRe-Technologies/smart_open/blob/master/README.rst#migrating-to-the-new-open-function\n",
            "  'See the migration notes for details: %s' % _MIGRATION_NOTES_URL\n"
          ],
          "name": "stderr"
        }
      ]
    },
    {
      "cell_type": "code",
      "metadata": {
        "id": "XuP2ZmWaox8F",
        "colab_type": "code",
        "colab": {
          "base_uri": "https://localhost:8080/",
          "height": 141
        },
        "outputId": "a6f316b7-50ca-4936-a1d3-a28a9af1d5c4"
      },
      "source": [
        "corpora.BleiCorpus.serialize('/tmp/corpus.lda-c', corpus)"
      ],
      "execution_count": 20,
      "outputs": [
        {
          "output_type": "stream",
          "text": [
            "2020-07-26 15:49:39,830 : INFO : no word id mapping provided; initializing from corpus\n",
            "/usr/local/lib/python3.6/dist-packages/smart_open/smart_open_lib.py:254: UserWarning: This function is deprecated, use smart_open.open instead. See the migration notes for details: https://github.com/RaRe-Technologies/smart_open/blob/master/README.rst#migrating-to-the-new-open-function\n",
            "  'See the migration notes for details: %s' % _MIGRATION_NOTES_URL\n",
            "2020-07-26 15:49:39,832 : INFO : storing corpus in Blei's LDA-C format into /tmp/corpus.lda-c\n",
            "2020-07-26 15:49:39,834 : INFO : saving vocabulary of 2 words to /tmp/corpus.lda-c.vocab\n",
            "2020-07-26 15:49:39,836 : INFO : saving BleiCorpus index to /tmp/corpus.lda-c.index\n"
          ],
          "name": "stderr"
        }
      ]
    },
    {
      "cell_type": "code",
      "metadata": {
        "id": "fFRukrLcox5R",
        "colab_type": "code",
        "colab": {}
      },
      "source": [
        "numpy_matrix = np.random.randint(10, size=[5, 2])  # random matrix as an example\n",
        "corpus = gensim.matutils.Dense2Corpus(numpy_matrix)\n",
        "# numpy_matrix = gensim.matutils.corpus2dense(corpus, num_terms=number_of_corpus_features)"
      ],
      "execution_count": 21,
      "outputs": []
    },
    {
      "cell_type": "code",
      "metadata": {
        "id": "4eFzf-ewox2G",
        "colab_type": "code",
        "colab": {}
      },
      "source": [
        "scipy_sparse_matrix = scipy.sparse.random(5, 2)  # random sparse matrix as example\n",
        "corpus = gensim.matutils.Sparse2Corpus(scipy_sparse_matrix)\n",
        "scipy_csc_matrix = gensim.matutils.corpus2csc(corpus)"
      ],
      "execution_count": 22,
      "outputs": []
    }
  ]
}