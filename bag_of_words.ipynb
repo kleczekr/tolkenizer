{
  "nbformat": 4,
  "nbformat_minor": 0,
  "metadata": {
    "colab": {
      "name": "bag_of_words.ipynb",
      "provenance": [],
      "authorship_tag": "ABX9TyMORM3tOh91IL8CLCZmShA7",
      "include_colab_link": true
    },
    "kernelspec": {
      "name": "python3",
      "display_name": "Python 3"
    }
  },
  "cells": [
    {
      "cell_type": "markdown",
      "metadata": {
        "id": "view-in-github",
        "colab_type": "text"
      },
      "source": [
        "<a href=\"https://colab.research.google.com/github/kleczekr/tolkenizer/blob/master/bag_of_words.ipynb\" target=\"_parent\"><img src=\"https://colab.research.google.com/assets/colab-badge.svg\" alt=\"Open In Colab\"/></a>"
      ]
    },
    {
      "cell_type": "code",
      "metadata": {
        "id": "yu6PgydU1szh",
        "colab_type": "code",
        "colab": {}
      },
      "source": [
        "# Feature extraction from text\n",
        "# Method: bag of words \n",
        "# source: https://pythonprogramminglanguage.com\n",
        "\n",
        "from sklearn.feature_extraction.text import CountVectorizer\n",
        "from sklearn.metrics.pairwise import euclidean_distances"
      ],
      "execution_count": 1,
      "outputs": []
    },
    {
      "cell_type": "code",
      "metadata": {
        "id": "Dys8GKau1Z3C",
        "colab_type": "code",
        "colab": {}
      },
      "source": [
        "corpus = [\n",
        "'All my cats in a row',\n",
        "'When my cat sits down, she looks like a Furby toy!',\n",
        "'The cat from outer space',\n",
        "'Sunshine loves to sit like this for some reason.'\n",
        "]"
      ],
      "execution_count": 2,
      "outputs": []
    },
    {
      "cell_type": "code",
      "metadata": {
        "id": "mVUACNsD1ggt",
        "colab_type": "code",
        "colab": {}
      },
      "source": [
        "vectorizer = CountVectorizer()\n",
        "features = vectorizer.fit_transform(corpus).todense() "
      ],
      "execution_count": 3,
      "outputs": []
    },
    {
      "cell_type": "code",
      "metadata": {
        "id": "A5Gj3ukZ1wdh",
        "colab_type": "code",
        "colab": {
          "base_uri": "https://localhost:8080/",
          "height": 54
        },
        "outputId": "d4eefb76-f8a2-469b-a5dc-3552602cb078"
      },
      "source": [
        "print(vectorizer.vocabulary_)"
      ],
      "execution_count": 5,
      "outputs": [
        {
          "output_type": "stream",
          "text": [
            "{'all': 0, 'my': 11, 'cats': 2, 'in': 7, 'row': 14, 'when': 25, 'cat': 1, 'sits': 17, 'down': 3, 'she': 15, 'looks': 9, 'like': 8, 'furby': 6, 'toy': 24, 'the': 21, 'from': 5, 'outer': 12, 'space': 19, 'sunshine': 20, 'loves': 10, 'to': 23, 'sit': 16, 'this': 22, 'for': 4, 'some': 18, 'reason': 13}\n"
          ],
          "name": "stdout"
        }
      ]
    },
    {
      "cell_type": "code",
      "metadata": {
        "id": "gmslLjc51j91",
        "colab_type": "code",
        "colab": {
          "base_uri": "https://localhost:8080/",
          "height": 86
        },
        "outputId": "7aef1a80-eea2-4e1e-a7df-744516aa4c79"
      },
      "source": [
        "for f in features:\n",
        "    print( euclidean_distances(features[0], f) )"
      ],
      "execution_count": 6,
      "outputs": [
        {
          "output_type": "stream",
          "text": [
            "[[0.]]\n",
            "[[3.60555128]]\n",
            "[[3.16227766]]\n",
            "[[3.74165739]]\n"
          ],
          "name": "stdout"
        }
      ]
    }
  ]
}